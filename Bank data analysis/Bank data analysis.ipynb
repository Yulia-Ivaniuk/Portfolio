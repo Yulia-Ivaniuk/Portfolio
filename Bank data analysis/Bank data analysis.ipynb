{
 "cells": [
  {
   "cell_type": "markdown",
   "id": "689fb7c8",
   "metadata": {
    "deletable": false,
    "editable": false,
    "id": "c81daeeb"
   },
   "source": [
    "# Исследование надежности заемщиков\n"
   ]
  },
  {
   "cell_type": "markdown",
   "id": "af6787bf",
   "metadata": {},
   "source": [
    "## 1. Описание проекта и цель исследования"
   ]
  },
  {
   "cell_type": "markdown",
   "id": "570f1986",
   "metadata": {},
   "source": [
    "**Цель исследования:** Заказчик — кредитный отдел банка. Необходимо проанализировать входные данные от банка — статистику о платёжеспособности клиентов для ответа на вопросы:\n",
    "\n",
    "* Есть ли зависимость между количеством детей и возвратом кредита в срок?\n",
    "* Есть ли зависимость между семейным положением и возвратом кредита в срок?\n",
    "* Есть ли зависимость между уровнем дохода и возвратом кредита в срок?\n",
    "* Как разные цели кредита влияют на его возврат в срок?\n",
    "\n",
    "Результаты исследования будут учтены при построении модели кредитного скоринга.\n",
    "\n",
    "**План работы**\n",
    "\n",
    "* Обзор данных для проверки на ошибки\n",
    "* Предобработка данных для устранения найденных проблем\n",
    "* Анализ данных для ответа на поставленные вопросы\n",
    "* Вывод"
   ]
  },
  {
   "cell_type": "markdown",
   "id": "15e691aa",
   "metadata": {
    "id": "744d7639"
   },
   "source": [
    "## 2. Предобработка данных"
   ]
  },
  {
   "cell_type": "code",
   "execution_count": 1,
   "id": "9f536ee3",
   "metadata": {
    "deletable": false,
    "id": "7bcf75c9"
   },
   "outputs": [],
   "source": [
    "#загрузим библиотеки и данные\n",
    "import pandas as pd\n",
    "\n",
    "data = pd.read_csv('C:/Users/Yulia/Desktop/Yandex Practicum/Проекты/2- Предобработка данных (банк)/data.csv')"
   ]
  },
  {
   "cell_type": "code",
   "execution_count": 2,
   "id": "0d077f55",
   "metadata": {
    "deletable": false,
    "id": "2a7cab99",
    "outputId": "1a8f3ef2-d323-4ec2-ddf7-89670b5944c4"
   },
   "outputs": [
    {
     "data": {
      "text/html": [
       "<div>\n",
       "<style scoped>\n",
       "    .dataframe tbody tr th:only-of-type {\n",
       "        vertical-align: middle;\n",
       "    }\n",
       "\n",
       "    .dataframe tbody tr th {\n",
       "        vertical-align: top;\n",
       "    }\n",
       "\n",
       "    .dataframe thead th {\n",
       "        text-align: right;\n",
       "    }\n",
       "</style>\n",
       "<table border=\"1\" class=\"dataframe\">\n",
       "  <thead>\n",
       "    <tr style=\"text-align: right;\">\n",
       "      <th></th>\n",
       "      <th>children</th>\n",
       "      <th>days_employed</th>\n",
       "      <th>dob_years</th>\n",
       "      <th>education</th>\n",
       "      <th>education_id</th>\n",
       "      <th>family_status</th>\n",
       "      <th>family_status_id</th>\n",
       "      <th>gender</th>\n",
       "      <th>income_type</th>\n",
       "      <th>debt</th>\n",
       "      <th>total_income</th>\n",
       "      <th>purpose</th>\n",
       "    </tr>\n",
       "  </thead>\n",
       "  <tbody>\n",
       "    <tr>\n",
       "      <th>0</th>\n",
       "      <td>1</td>\n",
       "      <td>-8437.673028</td>\n",
       "      <td>42</td>\n",
       "      <td>высшее</td>\n",
       "      <td>0</td>\n",
       "      <td>женат / замужем</td>\n",
       "      <td>0</td>\n",
       "      <td>F</td>\n",
       "      <td>сотрудник</td>\n",
       "      <td>0</td>\n",
       "      <td>253875.639453</td>\n",
       "      <td>покупка жилья</td>\n",
       "    </tr>\n",
       "    <tr>\n",
       "      <th>1</th>\n",
       "      <td>1</td>\n",
       "      <td>-4024.803754</td>\n",
       "      <td>36</td>\n",
       "      <td>среднее</td>\n",
       "      <td>1</td>\n",
       "      <td>женат / замужем</td>\n",
       "      <td>0</td>\n",
       "      <td>F</td>\n",
       "      <td>сотрудник</td>\n",
       "      <td>0</td>\n",
       "      <td>112080.014102</td>\n",
       "      <td>приобретение автомобиля</td>\n",
       "    </tr>\n",
       "    <tr>\n",
       "      <th>2</th>\n",
       "      <td>0</td>\n",
       "      <td>-5623.422610</td>\n",
       "      <td>33</td>\n",
       "      <td>Среднее</td>\n",
       "      <td>1</td>\n",
       "      <td>женат / замужем</td>\n",
       "      <td>0</td>\n",
       "      <td>M</td>\n",
       "      <td>сотрудник</td>\n",
       "      <td>0</td>\n",
       "      <td>145885.952297</td>\n",
       "      <td>покупка жилья</td>\n",
       "    </tr>\n",
       "    <tr>\n",
       "      <th>3</th>\n",
       "      <td>3</td>\n",
       "      <td>-4124.747207</td>\n",
       "      <td>32</td>\n",
       "      <td>среднее</td>\n",
       "      <td>1</td>\n",
       "      <td>женат / замужем</td>\n",
       "      <td>0</td>\n",
       "      <td>M</td>\n",
       "      <td>сотрудник</td>\n",
       "      <td>0</td>\n",
       "      <td>267628.550329</td>\n",
       "      <td>дополнительное образование</td>\n",
       "    </tr>\n",
       "    <tr>\n",
       "      <th>4</th>\n",
       "      <td>0</td>\n",
       "      <td>340266.072047</td>\n",
       "      <td>53</td>\n",
       "      <td>среднее</td>\n",
       "      <td>1</td>\n",
       "      <td>гражданский брак</td>\n",
       "      <td>1</td>\n",
       "      <td>F</td>\n",
       "      <td>пенсионер</td>\n",
       "      <td>0</td>\n",
       "      <td>158616.077870</td>\n",
       "      <td>сыграть свадьбу</td>\n",
       "    </tr>\n",
       "    <tr>\n",
       "      <th>5</th>\n",
       "      <td>0</td>\n",
       "      <td>-926.185831</td>\n",
       "      <td>27</td>\n",
       "      <td>высшее</td>\n",
       "      <td>0</td>\n",
       "      <td>гражданский брак</td>\n",
       "      <td>1</td>\n",
       "      <td>M</td>\n",
       "      <td>компаньон</td>\n",
       "      <td>0</td>\n",
       "      <td>255763.565419</td>\n",
       "      <td>покупка жилья</td>\n",
       "    </tr>\n",
       "    <tr>\n",
       "      <th>6</th>\n",
       "      <td>0</td>\n",
       "      <td>-2879.202052</td>\n",
       "      <td>43</td>\n",
       "      <td>высшее</td>\n",
       "      <td>0</td>\n",
       "      <td>женат / замужем</td>\n",
       "      <td>0</td>\n",
       "      <td>F</td>\n",
       "      <td>компаньон</td>\n",
       "      <td>0</td>\n",
       "      <td>240525.971920</td>\n",
       "      <td>операции с жильем</td>\n",
       "    </tr>\n",
       "    <tr>\n",
       "      <th>7</th>\n",
       "      <td>0</td>\n",
       "      <td>-152.779569</td>\n",
       "      <td>50</td>\n",
       "      <td>СРЕДНЕЕ</td>\n",
       "      <td>1</td>\n",
       "      <td>женат / замужем</td>\n",
       "      <td>0</td>\n",
       "      <td>M</td>\n",
       "      <td>сотрудник</td>\n",
       "      <td>0</td>\n",
       "      <td>135823.934197</td>\n",
       "      <td>образование</td>\n",
       "    </tr>\n",
       "    <tr>\n",
       "      <th>8</th>\n",
       "      <td>2</td>\n",
       "      <td>-6929.865299</td>\n",
       "      <td>35</td>\n",
       "      <td>ВЫСШЕЕ</td>\n",
       "      <td>0</td>\n",
       "      <td>гражданский брак</td>\n",
       "      <td>1</td>\n",
       "      <td>F</td>\n",
       "      <td>сотрудник</td>\n",
       "      <td>0</td>\n",
       "      <td>95856.832424</td>\n",
       "      <td>на проведение свадьбы</td>\n",
       "    </tr>\n",
       "    <tr>\n",
       "      <th>9</th>\n",
       "      <td>0</td>\n",
       "      <td>-2188.756445</td>\n",
       "      <td>41</td>\n",
       "      <td>среднее</td>\n",
       "      <td>1</td>\n",
       "      <td>женат / замужем</td>\n",
       "      <td>0</td>\n",
       "      <td>M</td>\n",
       "      <td>сотрудник</td>\n",
       "      <td>0</td>\n",
       "      <td>144425.938277</td>\n",
       "      <td>покупка жилья для семьи</td>\n",
       "    </tr>\n",
       "  </tbody>\n",
       "</table>\n",
       "</div>"
      ],
      "text/plain": [
       "   children  days_employed  dob_years education  education_id  \\\n",
       "0         1   -8437.673028         42    высшее             0   \n",
       "1         1   -4024.803754         36   среднее             1   \n",
       "2         0   -5623.422610         33   Среднее             1   \n",
       "3         3   -4124.747207         32   среднее             1   \n",
       "4         0  340266.072047         53   среднее             1   \n",
       "5         0    -926.185831         27    высшее             0   \n",
       "6         0   -2879.202052         43    высшее             0   \n",
       "7         0    -152.779569         50   СРЕДНЕЕ             1   \n",
       "8         2   -6929.865299         35    ВЫСШЕЕ             0   \n",
       "9         0   -2188.756445         41   среднее             1   \n",
       "\n",
       "      family_status  family_status_id gender income_type  debt   total_income  \\\n",
       "0   женат / замужем                 0      F   сотрудник     0  253875.639453   \n",
       "1   женат / замужем                 0      F   сотрудник     0  112080.014102   \n",
       "2   женат / замужем                 0      M   сотрудник     0  145885.952297   \n",
       "3   женат / замужем                 0      M   сотрудник     0  267628.550329   \n",
       "4  гражданский брак                 1      F   пенсионер     0  158616.077870   \n",
       "5  гражданский брак                 1      M   компаньон     0  255763.565419   \n",
       "6   женат / замужем                 0      F   компаньон     0  240525.971920   \n",
       "7   женат / замужем                 0      M   сотрудник     0  135823.934197   \n",
       "8  гражданский брак                 1      F   сотрудник     0   95856.832424   \n",
       "9   женат / замужем                 0      M   сотрудник     0  144425.938277   \n",
       "\n",
       "                      purpose  \n",
       "0               покупка жилья  \n",
       "1     приобретение автомобиля  \n",
       "2               покупка жилья  \n",
       "3  дополнительное образование  \n",
       "4             сыграть свадьбу  \n",
       "5               покупка жилья  \n",
       "6           операции с жильем  \n",
       "7                 образование  \n",
       "8       на проведение свадьбы  \n",
       "9     покупка жилья для семьи  "
      ]
     },
     "execution_count": 2,
     "metadata": {},
     "output_type": "execute_result"
    }
   ],
   "source": [
    "#ознакомимся с данными\n",
    "data.head(10)"
   ]
  },
  {
   "cell_type": "code",
   "execution_count": 3,
   "id": "20d848c7",
   "metadata": {
    "deletable": false,
    "id": "2b757bca",
    "outputId": "15376089-8dad-46c9-b520-c05248d43158",
    "scrolled": true
   },
   "outputs": [
    {
     "name": "stdout",
     "output_type": "stream",
     "text": [
      "<class 'pandas.core.frame.DataFrame'>\n",
      "RangeIndex: 21525 entries, 0 to 21524\n",
      "Data columns (total 12 columns):\n",
      " #   Column            Non-Null Count  Dtype  \n",
      "---  ------            --------------  -----  \n",
      " 0   children          21525 non-null  int64  \n",
      " 1   days_employed     19351 non-null  float64\n",
      " 2   dob_years         21525 non-null  int64  \n",
      " 3   education         21525 non-null  object \n",
      " 4   education_id      21525 non-null  int64  \n",
      " 5   family_status     21525 non-null  object \n",
      " 6   family_status_id  21525 non-null  int64  \n",
      " 7   gender            21525 non-null  object \n",
      " 8   income_type       21525 non-null  object \n",
      " 9   debt              21525 non-null  int64  \n",
      " 10  total_income      19351 non-null  float64\n",
      " 11  purpose           21525 non-null  object \n",
      "dtypes: float64(2), int64(5), object(5)\n",
      "memory usage: 2.0+ MB\n"
     ]
    }
   ],
   "source": [
    "#изучим информацию о данных\n",
    "data.info()"
   ]
  },
  {
   "cell_type": "code",
   "execution_count": 4,
   "id": "3a755589",
   "metadata": {
    "deletable": false,
    "id": "7f9b2309",
    "outputId": "81f4d817-781c-465c-ed15-91ce4446810d"
   },
   "outputs": [
    {
     "data": {
      "text/plain": [
       "children               0\n",
       "days_employed       2174\n",
       "dob_years              0\n",
       "education              0\n",
       "education_id           0\n",
       "family_status          0\n",
       "family_status_id       0\n",
       "gender                 0\n",
       "income_type            0\n",
       "debt                   0\n",
       "total_income        2174\n",
       "purpose                0\n",
       "dtype: int64"
      ]
     },
     "execution_count": 4,
     "metadata": {},
     "output_type": "execute_result"
    }
   ],
   "source": [
    "#выведем количество пропусков\n",
    "data.isna().sum()"
   ]
  },
  {
   "cell_type": "code",
   "execution_count": 5,
   "id": "1463d56c",
   "metadata": {
    "deletable": false,
    "id": "42006a93"
   },
   "outputs": [],
   "source": [
    "#заполним пропуски в столбце total_income медианным значением по каждому типу из столбца income_type\n",
    "for t in data['income_type'].unique():\n",
    "    data.loc[(data['income_type'] == t) & (data['total_income'].isna()), 'total_income'] = \\\n",
    "    data.loc[(data['income_type'] == t), 'total_income'].median()"
   ]
  },
  {
   "cell_type": "code",
   "execution_count": 6,
   "id": "fad58257",
   "metadata": {
    "deletable": false,
    "id": "f6f055bf"
   },
   "outputs": [],
   "source": [
    "#обработаем аномалии в столбце days_employed\n",
    "data['days_employed'] = data['days_employed'].abs()"
   ]
  },
  {
   "cell_type": "code",
   "execution_count": 30,
   "id": "83448da2",
   "metadata": {
    "deletable": false,
    "id": "85a5faf6",
    "outputId": "801ef80e-522b-4668-f34e-565af7432bcf"
   },
   "outputs": [
    {
     "data": {
      "text/plain": [
       "income_type\n",
       "безработный        366413.65\n",
       "в декрете            3296.76\n",
       "госслужащий          2689.14\n",
       "компаньон            1555.95\n",
       "пенсионер          365286.62\n",
       "предприниматель       520.85\n",
       "сотрудник            1572.33\n",
       "студент               578.75\n",
       "Name: days_employed, dtype: float64"
      ]
     },
     "execution_count": 30,
     "metadata": {},
     "output_type": "execute_result"
    }
   ],
   "source": [
    "#для каждого типа занятости выведем медианное значение трудового стажа days_employed в днях\n",
    "data.groupby('income_type')['days_employed'].agg('median').round(2)"
   ]
  },
  {
   "cell_type": "markdown",
   "id": "db8706a6",
   "metadata": {
    "id": "38d1a030"
   },
   "source": [
    "У двух типов (безработные и пенсионеры) получатся аномально большие значения. Так как для дальнейшего анализа эти данные нам не понадобяться, было принято решение оставить их как есть. "
   ]
  },
  {
   "cell_type": "code",
   "execution_count": 8,
   "id": "92e2547f",
   "metadata": {
    "deletable": false,
    "id": "ef5056eb",
    "outputId": "6975b15c-7f95-4697-d16d-a0c79b657b03"
   },
   "outputs": [
    {
     "data": {
      "text/plain": [
       "array([ 1,  0,  3,  2, -1,  4, 20,  5], dtype=int64)"
      ]
     },
     "execution_count": 8,
     "metadata": {},
     "output_type": "execute_result"
    }
   ],
   "source": [
    "#посмотрим на уникальные значения столбца children\n",
    "data['children'].unique()"
   ]
  },
  {
   "cell_type": "code",
   "execution_count": 9,
   "id": "a0419993",
   "metadata": {
    "deletable": false,
    "id": "3ff9801d"
   },
   "outputs": [],
   "source": [
    "#обработаем аномальные значения \n",
    "data = data[(data['children'] != -1) & (data['children'] != 20)]"
   ]
  },
  {
   "cell_type": "code",
   "execution_count": 10,
   "id": "ef7f7f32",
   "metadata": {
    "deletable": false,
    "id": "ad4fa8b7",
    "outputId": "b2097101-d49d-44d9-901b-32a65c9463d1"
   },
   "outputs": [
    {
     "data": {
      "text/plain": [
       "array([1, 0, 3, 2, 4, 5], dtype=int64)"
      ]
     },
     "execution_count": 10,
     "metadata": {},
     "output_type": "execute_result"
    }
   ],
   "source": [
    "#убедимся, что аномалии удалены\n",
    "data['children'].unique()"
   ]
  },
  {
   "cell_type": "code",
   "execution_count": 11,
   "id": "536c1854",
   "metadata": {
    "deletable": false,
    "id": "af6b1a7e"
   },
   "outputs": [],
   "source": [
    "#заполним пропуски в столбце days_employed медианными значениями по каждому типу занятости income_type\n",
    "for t in data['income_type'].unique():\n",
    "    data.loc[(data['income_type'] == t) & (data['days_employed'].isna()), 'days_employed'] = \\\n",
    "    data.loc[(data['income_type'] == t), 'days_employed'].median()"
   ]
  },
  {
   "cell_type": "code",
   "execution_count": 12,
   "id": "8d223580",
   "metadata": {
    "deletable": false,
    "id": "55f78bc2",
    "outputId": "8da1e4e1-358e-4e87-98c9-f261bce0a7b2"
   },
   "outputs": [
    {
     "data": {
      "text/plain": [
       "children            0\n",
       "days_employed       0\n",
       "dob_years           0\n",
       "education           0\n",
       "education_id        0\n",
       "family_status       0\n",
       "family_status_id    0\n",
       "gender              0\n",
       "income_type         0\n",
       "debt                0\n",
       "total_income        0\n",
       "purpose             0\n",
       "dtype: int64"
      ]
     },
     "execution_count": 12,
     "metadata": {},
     "output_type": "execute_result"
    }
   ],
   "source": [
    "#проверим, что все пропуски заполнены\n",
    "data.isna().sum()"
   ]
  },
  {
   "cell_type": "code",
   "execution_count": 13,
   "id": "48955036",
   "metadata": {
    "deletable": false,
    "id": "920b65ad"
   },
   "outputs": [],
   "source": [
    "#заменим вещественный тип данных в столбце total_income на целочисленный\n",
    "data['total_income'] = data['total_income'].astype(int)"
   ]
  },
  {
   "cell_type": "code",
   "execution_count": 14,
   "id": "16dd42a1",
   "metadata": {
    "deletable": false
   },
   "outputs": [],
   "source": [
    "#обработаем неявные дубликаты в столбце education, приведием их к нижнему регистру\n",
    "data['education'] = data['education'].str.lower()"
   ]
  },
  {
   "cell_type": "code",
   "execution_count": 15,
   "id": "345e2807",
   "metadata": {
    "deletable": false,
    "id": "3ee445e4",
    "outputId": "9684deba-1934-42d1-99e1-cda61740f822"
   },
   "outputs": [
    {
     "data": {
      "text/plain": [
       "71"
      ]
     },
     "execution_count": 15,
     "metadata": {},
     "output_type": "execute_result"
    }
   ],
   "source": [
    "#найдем количество строк-дубликатов в данных\n",
    "data.duplicated().sum()"
   ]
  },
  {
   "cell_type": "code",
   "execution_count": 16,
   "id": "a8de717a",
   "metadata": {
    "deletable": false,
    "id": "8575fe05"
   },
   "outputs": [],
   "source": [
    "#удалим дубликаты\n",
    "data = data.drop_duplicates()"
   ]
  },
  {
   "cell_type": "markdown",
   "id": "1a16736b",
   "metadata": {
    "id": "72fcc8a2"
   },
   "source": [
    "Создадим столбец total_income_category и категорезируем данные по уровню дохода следующим образом:\n",
    "\n",
    "- 0–30000 — `'E'`;\n",
    "- 30001–50000 — `'D'`;\n",
    "- 50001–200000 — `'C'`;\n",
    "- 200001–1000000 — `'B'`;\n",
    "- 1000001 и выше — `'A'`."
   ]
  },
  {
   "cell_type": "code",
   "execution_count": 17,
   "id": "5ea30ef5",
   "metadata": {
    "deletable": false,
    "id": "e1771346"
   },
   "outputs": [],
   "source": [
    "#категоризируем данные\n",
    "def categorize_income(income):\n",
    "    try:\n",
    "        if 0 <= income <= 30000:\n",
    "            return 'E'\n",
    "        elif 30001 <= income <= 50000:\n",
    "            return 'D'\n",
    "        elif 50001 <= income <= 200000:\n",
    "            return 'C'\n",
    "        elif 200001 <= income <= 1000000:\n",
    "            return 'B'\n",
    "        elif income >= 1000001:\n",
    "            return 'A'\n",
    "    except:\n",
    "        pass"
   ]
  },
  {
   "cell_type": "code",
   "execution_count": 18,
   "id": "a9e93e85",
   "metadata": {
    "deletable": false,
    "id": "d5f3586d"
   },
   "outputs": [],
   "source": [
    "#применим функцию\n",
    "data['total_income_category'] = data['total_income'].apply(categorize_income)"
   ]
  },
  {
   "cell_type": "code",
   "execution_count": 19,
   "id": "5804a704",
   "metadata": {
    "deletable": false,
    "id": "f67ce9b3",
    "outputId": "673c12d9-7d7e-4ae0-9812-c622c89dd244"
   },
   "outputs": [
    {
     "data": {
      "text/plain": [
       "array(['покупка жилья', 'приобретение автомобиля',\n",
       "       'дополнительное образование', 'сыграть свадьбу',\n",
       "       'операции с жильем', 'образование', 'на проведение свадьбы',\n",
       "       'покупка жилья для семьи', 'покупка недвижимости',\n",
       "       'покупка коммерческой недвижимости', 'покупка жилой недвижимости',\n",
       "       'строительство собственной недвижимости', 'недвижимость',\n",
       "       'строительство недвижимости', 'на покупку подержанного автомобиля',\n",
       "       'на покупку своего автомобиля',\n",
       "       'операции с коммерческой недвижимостью',\n",
       "       'строительство жилой недвижимости', 'жилье',\n",
       "       'операции со своей недвижимостью', 'автомобили',\n",
       "       'заняться образованием', 'сделка с подержанным автомобилем',\n",
       "       'получение образования', 'автомобиль', 'свадьба',\n",
       "       'получение дополнительного образования', 'покупка своего жилья',\n",
       "       'операции с недвижимостью', 'получение высшего образования',\n",
       "       'свой автомобиль', 'сделка с автомобилем',\n",
       "       'профильное образование', 'высшее образование',\n",
       "       'покупка жилья для сдачи', 'на покупку автомобиля', 'ремонт жилью',\n",
       "       'заняться высшим образованием'], dtype=object)"
      ]
     },
     "execution_count": 19,
     "metadata": {},
     "output_type": "execute_result"
    }
   ],
   "source": [
    "#выведем перечень уникальных целей взятия кредита из столбца purpose\n",
    "data['purpose'].unique()"
   ]
  },
  {
   "cell_type": "markdown",
   "id": "fea5e3e4",
   "metadata": {
    "id": "85d0aef0"
   },
   "source": [
    "Создадим функцию, которая на основании данных из столбца purpose сформирует новый столбец purpose_category, в который войдут следующие категории:\n",
    "\n",
    "- `'операции с автомобилем'`,\n",
    "- `'операции с недвижимостью'`,\n",
    "- `'проведение свадьбы'`,\n",
    "- `'получение образования'`."
   ]
  },
  {
   "cell_type": "code",
   "execution_count": 20,
   "id": "012a6032",
   "metadata": {
    "deletable": false,
    "id": "e149fab4"
   },
   "outputs": [],
   "source": [
    "#создадим функцию \n",
    "def categorize_purpose(row):\n",
    "    try:\n",
    "        if 'автом' in row:\n",
    "            return 'операции с автомобилем'\n",
    "        elif 'жил' in row or 'недвиж' in row:\n",
    "            return 'операции с недвижимостью'\n",
    "        elif 'свад' in row:\n",
    "            return 'проведение свадьбы'\n",
    "        elif 'образов' in row:\n",
    "            return 'получение образования'\n",
    "    except:\n",
    "        return 'нет категории'"
   ]
  },
  {
   "cell_type": "code",
   "execution_count": 21,
   "id": "6be94715",
   "metadata": {
    "deletable": false,
    "id": "bf36e69b"
   },
   "outputs": [],
   "source": [
    "#категоризируем данные\n",
    "data['purpose_category'] = data['purpose'].apply(categorize_purpose)"
   ]
  },
  {
   "cell_type": "markdown",
   "id": "aec8cb70",
   "metadata": {
    "id": "09b242bf"
   },
   "source": [
    "## 3. Исследовательский анализ"
   ]
  },
  {
   "cell_type": "markdown",
   "id": "ebe12298",
   "metadata": {
    "deletable": false,
    "editable": false,
    "id": "c5d66278"
   },
   "source": [
    "#### 3.1 Есть ли зависимость между количеством детей и возвратом кредита в срок?"
   ]
  },
  {
   "cell_type": "code",
   "execution_count": 22,
   "id": "4207f86c",
   "metadata": {
    "deletable": false,
    "id": "2cacfc4a"
   },
   "outputs": [
    {
     "data": {
      "text/plain": [
       "0    14091\n",
       "1     4808\n",
       "2     2052\n",
       "3      330\n",
       "4       41\n",
       "5        9\n",
       "Name: children, dtype: int64"
      ]
     },
     "execution_count": 22,
     "metadata": {},
     "output_type": "execute_result"
    }
   ],
   "source": [
    "#проверяем количество клиентов в каждой категории по количеству детей\n",
    "data['children'].value_counts()"
   ]
  },
  {
   "cell_type": "code",
   "execution_count": 23,
   "id": "39830ead",
   "metadata": {},
   "outputs": [
    {
     "data": {
      "text/plain": [
       "children\n",
       "0    66.058788\n",
       "1    22.539965\n",
       "2     9.619802\n",
       "3     1.547044\n",
       "4     0.192209\n",
       "5     0.042192\n",
       "Name: children, dtype: float64"
      ]
     },
     "execution_count": 23,
     "metadata": {},
     "output_type": "execute_result"
    }
   ],
   "source": [
    "#посмотрим долю каждой категории в процентах\n",
    "data_children = data.groupby('children')['children'].count() #считаем количество клиентов в кажой категории\n",
    "data_children_share = (data_children / data['children'].count()) * 100 #делим на общее количество клиентов для расчета процентного соотношения\n",
    "data_children_share"
   ]
  },
  {
   "cell_type": "markdown",
   "id": "ea571169",
   "metadata": {},
   "source": [
    "**Промежуточный вывод**: доля клиентов с 2-мя детьми и более в сумме составляет около 11%, поэтому для дальнейшего анализа имеет смысл клиентов с 2-мя детьми и более объединить в одну категорию."
   ]
  },
  {
   "cell_type": "code",
   "execution_count": 24,
   "id": "c4601fa9",
   "metadata": {},
   "outputs": [],
   "source": [
    "#создадим функцию для категоризации все клиентов по трем категорям - Нет детей, Один ребенок, Несколько детей\n",
    "def children_category(row):\n",
    "    try:\n",
    "        if row == 0:\n",
    "            return 'Нет детей'\n",
    "        elif row == 1:\n",
    "            return 'Один ребенок'\n",
    "        return 'Несколько детей'\n",
    "    except:\n",
    "        return 'Нет категории'"
   ]
  },
  {
   "cell_type": "code",
   "execution_count": 25,
   "id": "9489dc47",
   "metadata": {},
   "outputs": [
    {
     "data": {
      "text/html": [
       "<div>\n",
       "<style scoped>\n",
       "    .dataframe tbody tr th:only-of-type {\n",
       "        vertical-align: middle;\n",
       "    }\n",
       "\n",
       "    .dataframe tbody tr th {\n",
       "        vertical-align: top;\n",
       "    }\n",
       "\n",
       "    .dataframe thead th {\n",
       "        text-align: right;\n",
       "    }\n",
       "</style>\n",
       "<table border=\"1\" class=\"dataframe\">\n",
       "  <thead>\n",
       "    <tr style=\"text-align: right;\">\n",
       "      <th></th>\n",
       "      <th>children</th>\n",
       "      <th>days_employed</th>\n",
       "      <th>dob_years</th>\n",
       "      <th>education</th>\n",
       "      <th>education_id</th>\n",
       "      <th>family_status</th>\n",
       "      <th>family_status_id</th>\n",
       "      <th>gender</th>\n",
       "      <th>income_type</th>\n",
       "      <th>debt</th>\n",
       "      <th>total_income</th>\n",
       "      <th>purpose</th>\n",
       "      <th>total_income_category</th>\n",
       "      <th>purpose_category</th>\n",
       "      <th>children_category</th>\n",
       "    </tr>\n",
       "  </thead>\n",
       "  <tbody>\n",
       "    <tr>\n",
       "      <th>0</th>\n",
       "      <td>1</td>\n",
       "      <td>8437.673028</td>\n",
       "      <td>42</td>\n",
       "      <td>высшее</td>\n",
       "      <td>0</td>\n",
       "      <td>женат / замужем</td>\n",
       "      <td>0</td>\n",
       "      <td>F</td>\n",
       "      <td>сотрудник</td>\n",
       "      <td>0</td>\n",
       "      <td>253875</td>\n",
       "      <td>покупка жилья</td>\n",
       "      <td>B</td>\n",
       "      <td>операции с недвижимостью</td>\n",
       "      <td>Один ребенок</td>\n",
       "    </tr>\n",
       "    <tr>\n",
       "      <th>1</th>\n",
       "      <td>1</td>\n",
       "      <td>4024.803754</td>\n",
       "      <td>36</td>\n",
       "      <td>среднее</td>\n",
       "      <td>1</td>\n",
       "      <td>женат / замужем</td>\n",
       "      <td>0</td>\n",
       "      <td>F</td>\n",
       "      <td>сотрудник</td>\n",
       "      <td>0</td>\n",
       "      <td>112080</td>\n",
       "      <td>приобретение автомобиля</td>\n",
       "      <td>C</td>\n",
       "      <td>операции с автомобилем</td>\n",
       "      <td>Один ребенок</td>\n",
       "    </tr>\n",
       "    <tr>\n",
       "      <th>2</th>\n",
       "      <td>0</td>\n",
       "      <td>5623.422610</td>\n",
       "      <td>33</td>\n",
       "      <td>среднее</td>\n",
       "      <td>1</td>\n",
       "      <td>женат / замужем</td>\n",
       "      <td>0</td>\n",
       "      <td>M</td>\n",
       "      <td>сотрудник</td>\n",
       "      <td>0</td>\n",
       "      <td>145885</td>\n",
       "      <td>покупка жилья</td>\n",
       "      <td>C</td>\n",
       "      <td>операции с недвижимостью</td>\n",
       "      <td>Нет детей</td>\n",
       "    </tr>\n",
       "    <tr>\n",
       "      <th>3</th>\n",
       "      <td>3</td>\n",
       "      <td>4124.747207</td>\n",
       "      <td>32</td>\n",
       "      <td>среднее</td>\n",
       "      <td>1</td>\n",
       "      <td>женат / замужем</td>\n",
       "      <td>0</td>\n",
       "      <td>M</td>\n",
       "      <td>сотрудник</td>\n",
       "      <td>0</td>\n",
       "      <td>267628</td>\n",
       "      <td>дополнительное образование</td>\n",
       "      <td>B</td>\n",
       "      <td>получение образования</td>\n",
       "      <td>Несколько детей</td>\n",
       "    </tr>\n",
       "    <tr>\n",
       "      <th>4</th>\n",
       "      <td>0</td>\n",
       "      <td>340266.072047</td>\n",
       "      <td>53</td>\n",
       "      <td>среднее</td>\n",
       "      <td>1</td>\n",
       "      <td>гражданский брак</td>\n",
       "      <td>1</td>\n",
       "      <td>F</td>\n",
       "      <td>пенсионер</td>\n",
       "      <td>0</td>\n",
       "      <td>158616</td>\n",
       "      <td>сыграть свадьбу</td>\n",
       "      <td>C</td>\n",
       "      <td>проведение свадьбы</td>\n",
       "      <td>Нет детей</td>\n",
       "    </tr>\n",
       "  </tbody>\n",
       "</table>\n",
       "</div>"
      ],
      "text/plain": [
       "   children  days_employed  dob_years education  education_id  \\\n",
       "0         1    8437.673028         42    высшее             0   \n",
       "1         1    4024.803754         36   среднее             1   \n",
       "2         0    5623.422610         33   среднее             1   \n",
       "3         3    4124.747207         32   среднее             1   \n",
       "4         0  340266.072047         53   среднее             1   \n",
       "\n",
       "      family_status  family_status_id gender income_type  debt  total_income  \\\n",
       "0   женат / замужем                 0      F   сотрудник     0        253875   \n",
       "1   женат / замужем                 0      F   сотрудник     0        112080   \n",
       "2   женат / замужем                 0      M   сотрудник     0        145885   \n",
       "3   женат / замужем                 0      M   сотрудник     0        267628   \n",
       "4  гражданский брак                 1      F   пенсионер     0        158616   \n",
       "\n",
       "                      purpose total_income_category          purpose_category  \\\n",
       "0               покупка жилья                     B  операции с недвижимостью   \n",
       "1     приобретение автомобиля                     C    операции с автомобилем   \n",
       "2               покупка жилья                     C  операции с недвижимостью   \n",
       "3  дополнительное образование                     B     получение образования   \n",
       "4             сыграть свадьбу                     C        проведение свадьбы   \n",
       "\n",
       "  children_category  \n",
       "0      Один ребенок  \n",
       "1      Один ребенок  \n",
       "2         Нет детей  \n",
       "3   Несколько детей  \n",
       "4         Нет детей  "
      ]
     },
     "execution_count": 25,
     "metadata": {},
     "output_type": "execute_result"
    }
   ],
   "source": [
    "#применим функцию к столбцу Children и создадим новый столбец Children_category с категорией\n",
    "data['children_category'] = data['children'].apply(children_category)\n",
    "data.head(5)"
   ]
  },
  {
   "cell_type": "code",
   "execution_count": 26,
   "id": "bfbca527",
   "metadata": {},
   "outputs": [
    {
     "data": {
      "text/html": [
       "<div>\n",
       "<style scoped>\n",
       "    .dataframe tbody tr th:only-of-type {\n",
       "        vertical-align: middle;\n",
       "    }\n",
       "\n",
       "    .dataframe tbody tr th {\n",
       "        vertical-align: top;\n",
       "    }\n",
       "\n",
       "    .dataframe thead tr th {\n",
       "        text-align: left;\n",
       "    }\n",
       "\n",
       "    .dataframe thead tr:last-of-type th {\n",
       "        text-align: right;\n",
       "    }\n",
       "</style>\n",
       "<table border=\"1\" class=\"dataframe\">\n",
       "  <thead>\n",
       "    <tr>\n",
       "      <th></th>\n",
       "      <th colspan=\"3\" halign=\"left\">debt</th>\n",
       "    </tr>\n",
       "    <tr>\n",
       "      <th></th>\n",
       "      <th>number_of_clients_with_debt</th>\n",
       "      <th>total_number_of_clients</th>\n",
       "      <th>percentage(%)</th>\n",
       "    </tr>\n",
       "    <tr>\n",
       "      <th>children_category</th>\n",
       "      <th></th>\n",
       "      <th></th>\n",
       "      <th></th>\n",
       "    </tr>\n",
       "  </thead>\n",
       "  <tbody>\n",
       "    <tr>\n",
       "      <th>Нет детей</th>\n",
       "      <td>1063</td>\n",
       "      <td>14091</td>\n",
       "      <td>7.54%</td>\n",
       "    </tr>\n",
       "    <tr>\n",
       "      <th>Один ребенок</th>\n",
       "      <td>444</td>\n",
       "      <td>4808</td>\n",
       "      <td>9.23%</td>\n",
       "    </tr>\n",
       "    <tr>\n",
       "      <th>Несколько детей</th>\n",
       "      <td>225</td>\n",
       "      <td>2432</td>\n",
       "      <td>9.25%</td>\n",
       "    </tr>\n",
       "  </tbody>\n",
       "</table>\n",
       "</div>"
      ],
      "text/plain": [
       "                                         debt                          \\\n",
       "                  number_of_clients_with_debt total_number_of_clients   \n",
       "children_category                                                       \n",
       "Нет детей                                1063                   14091   \n",
       "Один ребенок                              444                    4808   \n",
       "Несколько детей                           225                    2432   \n",
       "\n",
       "                                 \n",
       "                  percentage(%)  \n",
       "children_category                \n",
       "Нет детей                 7.54%  \n",
       "Один ребенок              9.23%  \n",
       "Несколько детей           9.25%  "
      ]
     },
     "execution_count": 26,
     "metadata": {},
     "output_type": "execute_result"
    }
   ],
   "source": [
    "#рассчитаем долю клиентов с задолженностью по возврату кредита по категорям\n",
    "data_children = data.groupby('children_category').agg({'debt' : ['sum', 'count',lambda x: '{:.2%}'.format(x.mean())]})\n",
    "#переименуем столбцы\n",
    "data_children = data_children.rename(columns = {'sum': 'number_of_clients_with_debt','count': 'total_number_of_clients','<lambda_0>': 'percentage(%)'}) \n",
    "#отсортируем таблицу по возрастанию значений в столбце percentage(%)\n",
    "data_children.sort_values(by=[('debt','percentage(%)')])"
   ]
  },
  {
   "cell_type": "markdown",
   "id": "6c041e32",
   "metadata": {
    "deletable": false,
    "id": "3a6b99ec"
   },
   "source": [
    "**Вывод:** \n",
    "\n",
    "По итогам таблицы, доля клиентов с задолженностью по возврату кредита составляет:\n",
    "* Клиенты без детей - 7,54%\n",
    "* Клиенты с одним ребенком - 9,23%\n",
    "* Клиенты с несколькими детьми - 9,25% \n",
    "\n",
    "Как видно из таблицы выше самая низкая доля задолженности по возврату кредита у клиентов без детей. У клиентов с одним ребеноком или несколькими детьми доля задолженности почти одинаковая и на 1.7% выше, чем у клиетов без детей."
   ]
  },
  {
   "cell_type": "markdown",
   "id": "16300566",
   "metadata": {
    "deletable": false,
    "editable": false,
    "id": "97be82ca"
   },
   "source": [
    "#### 3.2 Есть ли зависимость между семейным положением и возвратом кредита в срок?"
   ]
  },
  {
   "cell_type": "code",
   "execution_count": 31,
   "id": "7e24d447",
   "metadata": {
    "deletable": false,
    "id": "dc3f7ee8",
    "scrolled": true
   },
   "outputs": [
    {
     "data": {
      "text/html": [
       "<div>\n",
       "<style scoped>\n",
       "    .dataframe tbody tr th:only-of-type {\n",
       "        vertical-align: middle;\n",
       "    }\n",
       "\n",
       "    .dataframe tbody tr th {\n",
       "        vertical-align: top;\n",
       "    }\n",
       "\n",
       "    .dataframe thead tr th {\n",
       "        text-align: left;\n",
       "    }\n",
       "\n",
       "    .dataframe thead tr:last-of-type th {\n",
       "        text-align: right;\n",
       "    }\n",
       "</style>\n",
       "<table border=\"1\" class=\"dataframe\">\n",
       "  <thead>\n",
       "    <tr>\n",
       "      <th></th>\n",
       "      <th></th>\n",
       "      <th>number_of_clients_with_debt</th>\n",
       "      <th>total_number_of_clients</th>\n",
       "      <th>percentage(%)</th>\n",
       "    </tr>\n",
       "    <tr>\n",
       "      <th></th>\n",
       "      <th></th>\n",
       "      <th></th>\n",
       "      <th></th>\n",
       "      <th></th>\n",
       "    </tr>\n",
       "    <tr>\n",
       "      <th>family_status_id</th>\n",
       "      <th>family_status</th>\n",
       "      <th></th>\n",
       "      <th></th>\n",
       "      <th></th>\n",
       "    </tr>\n",
       "  </thead>\n",
       "  <tbody>\n",
       "    <tr>\n",
       "      <th>2</th>\n",
       "      <th>вдовец / вдова</th>\n",
       "      <td>63</td>\n",
       "      <td>951</td>\n",
       "      <td>6.62%</td>\n",
       "    </tr>\n",
       "    <tr>\n",
       "      <th>3</th>\n",
       "      <th>в разводе</th>\n",
       "      <td>84</td>\n",
       "      <td>1189</td>\n",
       "      <td>7.06%</td>\n",
       "    </tr>\n",
       "    <tr>\n",
       "      <th>0</th>\n",
       "      <th>женат / замужем</th>\n",
       "      <td>927</td>\n",
       "      <td>12261</td>\n",
       "      <td>7.56%</td>\n",
       "    </tr>\n",
       "    <tr>\n",
       "      <th>1</th>\n",
       "      <th>гражданский брак</th>\n",
       "      <td>385</td>\n",
       "      <td>4134</td>\n",
       "      <td>9.31%</td>\n",
       "    </tr>\n",
       "    <tr>\n",
       "      <th>4</th>\n",
       "      <th>Не женат / не замужем</th>\n",
       "      <td>273</td>\n",
       "      <td>2796</td>\n",
       "      <td>9.76%</td>\n",
       "    </tr>\n",
       "  </tbody>\n",
       "</table>\n",
       "</div>"
      ],
      "text/plain": [
       "                                       number_of_clients_with_debt  \\\n",
       "                                                                     \n",
       "family_status_id family_status                                       \n",
       "2                вдовец / вдова                                 63   \n",
       "3                в разводе                                      84   \n",
       "0                женат / замужем                               927   \n",
       "1                гражданский брак                              385   \n",
       "4                Не женат / не замужем                         273   \n",
       "\n",
       "                                       total_number_of_clients percentage(%)  \n",
       "                                                                              \n",
       "family_status_id family_status                                                \n",
       "2                вдовец / вдова                            951         6.62%  \n",
       "3                в разводе                                1189         7.06%  \n",
       "0                женат / замужем                         12261         7.56%  \n",
       "1                гражданский брак                         4134         9.31%  \n",
       "4                Не женат / не замужем                    2796         9.76%  "
      ]
     },
     "execution_count": 31,
     "metadata": {},
     "output_type": "execute_result"
    }
   ],
   "source": [
    "#построим сводную таблицу по семейному статусу и рассчитаем долю клиентов с задолженностью по возврату кредита\n",
    "data_pivot_family = data.pivot_table(index=['family_status_id', 'family_status'], values='debt', aggfunc=['sum', 'count', lambda x: '{:.2%}'.format(x.mean())])\n",
    "#переименуем столбцы\n",
    "data_pivot_family = data_pivot_family.rename(columns= {'sum': 'number_of_clients_with_debt', 'count': 'total_number_of_clients', '<lambda>': 'percentage(%)', 'debt': ''})\n",
    "#отсортируем таблицу по возрастанию значений в столбце percentage(%)\n",
    "data_pivot_family.sort_values(by='percentage(%)')"
   ]
  },
  {
   "cell_type": "markdown",
   "id": "52865059",
   "metadata": {
    "deletable": false,
    "id": "1cef7837"
   },
   "source": [
    "**Вывод:** \n",
    "\n",
    "По итогам таблицы доля клиентов с задолженностью по возврату кредита составляет:\n",
    "* вдовец / вдова - 6,62%\n",
    "* в разводе - 7,06%\n",
    "* женат / замужем - 7,56%\n",
    "* гражданский брак - 9,31%\n",
    "* Не женат / не замужем - 9,76% \n",
    "\n",
    "Как видно из расчетов выше, самый низкий процент наличия задолженности у клиентов в категории \"вдовец / вдова\" и у клиентов в категории \"в разводе\". Однако, необходимо отметить, что данные клиенты представляют только ~10% от общего количества клиентов. Самая широко представленная категория клиентов - это клиенты состоящие в официальном браке. Процент наличия задолженности таких клиентов ниже процента наличия задолженности у клиентов состоящих в гражданском браке или холостых клиентов. Это позволяет сделать вывод о том, что клиенты состоящие в официальном браке более надежные клиенты для банка."
   ]
  },
  {
   "cell_type": "markdown",
   "id": "83e329f8",
   "metadata": {
    "deletable": false,
    "editable": false,
    "id": "1e8b2fca"
   },
   "source": [
    "#### 3.3 Есть ли зависимость между уровнем дохода и возвратом кредита в срок?"
   ]
  },
  {
   "cell_type": "code",
   "execution_count": 32,
   "id": "7a47cf57",
   "metadata": {
    "deletable": false,
    "id": "cd7e3720",
    "scrolled": true
   },
   "outputs": [
    {
     "data": {
      "text/html": [
       "<div>\n",
       "<style scoped>\n",
       "    .dataframe tbody tr th:only-of-type {\n",
       "        vertical-align: middle;\n",
       "    }\n",
       "\n",
       "    .dataframe tbody tr th {\n",
       "        vertical-align: top;\n",
       "    }\n",
       "\n",
       "    .dataframe thead tr th {\n",
       "        text-align: left;\n",
       "    }\n",
       "\n",
       "    .dataframe thead tr:last-of-type th {\n",
       "        text-align: right;\n",
       "    }\n",
       "</style>\n",
       "<table border=\"1\" class=\"dataframe\">\n",
       "  <thead>\n",
       "    <tr>\n",
       "      <th></th>\n",
       "      <th>range_of_income</th>\n",
       "      <th>number_of_clients_with_debt</th>\n",
       "      <th>total_number_of_clients</th>\n",
       "      <th>percentage(%)</th>\n",
       "    </tr>\n",
       "    <tr>\n",
       "      <th></th>\n",
       "      <th></th>\n",
       "      <th></th>\n",
       "      <th></th>\n",
       "      <th></th>\n",
       "    </tr>\n",
       "    <tr>\n",
       "      <th>total_income_category</th>\n",
       "      <th></th>\n",
       "      <th></th>\n",
       "      <th></th>\n",
       "      <th></th>\n",
       "    </tr>\n",
       "  </thead>\n",
       "  <tbody>\n",
       "    <tr>\n",
       "      <th>A</th>\n",
       "      <td>&gt;1.000.000</td>\n",
       "      <td>2</td>\n",
       "      <td>25</td>\n",
       "      <td>8.00%</td>\n",
       "    </tr>\n",
       "    <tr>\n",
       "      <th>B</th>\n",
       "      <td>200.000-1.000.000</td>\n",
       "      <td>354</td>\n",
       "      <td>5014</td>\n",
       "      <td>7.06%</td>\n",
       "    </tr>\n",
       "    <tr>\n",
       "      <th>C</th>\n",
       "      <td>50.000-200.000</td>\n",
       "      <td>1353</td>\n",
       "      <td>15921</td>\n",
       "      <td>8.50%</td>\n",
       "    </tr>\n",
       "    <tr>\n",
       "      <th>D</th>\n",
       "      <td>30.000-50.000</td>\n",
       "      <td>21</td>\n",
       "      <td>349</td>\n",
       "      <td>6.02%</td>\n",
       "    </tr>\n",
       "    <tr>\n",
       "      <th>E</th>\n",
       "      <td>&lt;30.000</td>\n",
       "      <td>2</td>\n",
       "      <td>22</td>\n",
       "      <td>9.09%</td>\n",
       "    </tr>\n",
       "  </tbody>\n",
       "</table>\n",
       "</div>"
      ],
      "text/plain": [
       "                         range_of_income number_of_clients_with_debt  \\\n",
       "                                                                       \n",
       "total_income_category                                                  \n",
       "A                             >1.000.000                           2   \n",
       "B                      200.000-1.000.000                         354   \n",
       "C                         50.000-200.000                        1353   \n",
       "D                          30.000-50.000                          21   \n",
       "E                                <30.000                           2   \n",
       "\n",
       "                      total_number_of_clients percentage(%)  \n",
       "                                                             \n",
       "total_income_category                                        \n",
       "A                                          25         8.00%  \n",
       "B                                        5014         7.06%  \n",
       "C                                       15921         8.50%  \n",
       "D                                         349         6.02%  \n",
       "E                                          22         9.09%  "
      ]
     },
     "execution_count": 32,
     "metadata": {},
     "output_type": "execute_result"
    }
   ],
   "source": [
    "#построим сводную таблицу по семейному статусу и рассчитаем долю клиентов с задолженностью по возврату кредита\n",
    "data_pivot_income = data.pivot_table(index=['total_income_category'], values='debt', aggfunc= ['sum', 'count', lambda x: '{:.2%}'.format(x.mean())])\n",
    "#переименуем столбцы\n",
    "data_pivot_income = data_pivot_income.rename(columns= {'sum':'number_of_clients_with_debt', 'count':'total_number_of_clients', '<lambda>': 'percentage(%)', 'debt':''})\n",
    "#добавим новый столбец со диапазоном дохода для каждой категории\n",
    "new_col = ['>1.000.000', '200.000-1.000.000', '50.000-200.000','30.000-50.000', '<30.000']\n",
    "data_pivot_income.insert(loc=0, column='range_of_income', value=new_col)\n",
    "data_pivot_income"
   ]
  },
  {
   "cell_type": "markdown",
   "id": "53d28b3a",
   "metadata": {
    "deletable": false,
    "id": "e8593def"
   },
   "source": [
    "**Вывод:** \n",
    "\n",
    "По итогам таблицы доля клиентов с задолженностью по возврату кредита составляет:\n",
    "* Категория D (30.000-50.000) - 6,02%\n",
    "* Категория В (200.000-1.000.000) - 7,06%\n",
    "* Категория A (>1.000.000) - 8,00%\n",
    "* Категория С (50.000-200.000) - 8,50%\n",
    "* Категория Е (<30.000) - 9,09% \n",
    "\n",
    "Как видно из расчетов, клиенты с доходом 30-50 тыс. имеют самый низкий процент наличия задолженности по кредиту. Однако, как и в случае с семейным положеним, мы видим, что эта категория представлена малым количеством людей (~1.5%), поэтому делать выводы по ней мы не можем. Аналогично, клиенты с доходом более 1 млн. и клиенты с доходом менее 30тыс. составляют менее 1% от общего количества клиентов в исходных данных, поэтому эти категории клиентов рассматривать не будем. \n",
    "Клиенты с высоким доходом - более 200 тыс., возвращают кредиты в срок чаще, чем клиенты с доходом менее 200 тыс. "
   ]
  },
  {
   "cell_type": "markdown",
   "id": "6677af1f",
   "metadata": {
    "deletable": false,
    "editable": false,
    "id": "99ecbd1f"
   },
   "source": [
    "#### 3.4 Как разные цели кредита влияют на его возврат в срок?"
   ]
  },
  {
   "cell_type": "code",
   "execution_count": 33,
   "id": "cd469e93",
   "metadata": {
    "deletable": false,
    "id": "2b687290"
   },
   "outputs": [
    {
     "data": {
      "text/html": [
       "<div>\n",
       "<style scoped>\n",
       "    .dataframe tbody tr th:only-of-type {\n",
       "        vertical-align: middle;\n",
       "    }\n",
       "\n",
       "    .dataframe tbody tr th {\n",
       "        vertical-align: top;\n",
       "    }\n",
       "\n",
       "    .dataframe thead tr th {\n",
       "        text-align: left;\n",
       "    }\n",
       "\n",
       "    .dataframe thead tr:last-of-type th {\n",
       "        text-align: right;\n",
       "    }\n",
       "</style>\n",
       "<table border=\"1\" class=\"dataframe\">\n",
       "  <thead>\n",
       "    <tr>\n",
       "      <th></th>\n",
       "      <th>number_of_clients_with_debt</th>\n",
       "      <th>total_number_of_clients</th>\n",
       "      <th>percentage(%)</th>\n",
       "    </tr>\n",
       "    <tr>\n",
       "      <th></th>\n",
       "      <th></th>\n",
       "      <th></th>\n",
       "      <th></th>\n",
       "    </tr>\n",
       "    <tr>\n",
       "      <th>purpose_category</th>\n",
       "      <th></th>\n",
       "      <th></th>\n",
       "      <th></th>\n",
       "    </tr>\n",
       "  </thead>\n",
       "  <tbody>\n",
       "    <tr>\n",
       "      <th>операции с недвижимостью</th>\n",
       "      <td>780</td>\n",
       "      <td>10751</td>\n",
       "      <td>7.26%</td>\n",
       "    </tr>\n",
       "    <tr>\n",
       "      <th>проведение свадьбы</th>\n",
       "      <td>183</td>\n",
       "      <td>2313</td>\n",
       "      <td>7.91%</td>\n",
       "    </tr>\n",
       "    <tr>\n",
       "      <th>получение образования</th>\n",
       "      <td>369</td>\n",
       "      <td>3988</td>\n",
       "      <td>9.25%</td>\n",
       "    </tr>\n",
       "    <tr>\n",
       "      <th>операции с автомобилем</th>\n",
       "      <td>400</td>\n",
       "      <td>4279</td>\n",
       "      <td>9.35%</td>\n",
       "    </tr>\n",
       "  </tbody>\n",
       "</table>\n",
       "</div>"
      ],
      "text/plain": [
       "                         number_of_clients_with_debt total_number_of_clients  \\\n",
       "                                                                               \n",
       "purpose_category                                                               \n",
       "операции с недвижимостью                         780                   10751   \n",
       "проведение свадьбы                               183                    2313   \n",
       "получение образования                            369                    3988   \n",
       "операции с автомобилем                           400                    4279   \n",
       "\n",
       "                         percentage(%)  \n",
       "                                        \n",
       "purpose_category                        \n",
       "операции с недвижимостью         7.26%  \n",
       "проведение свадьбы               7.91%  \n",
       "получение образования            9.25%  \n",
       "операции с автомобилем           9.35%  "
      ]
     },
     "execution_count": 33,
     "metadata": {},
     "output_type": "execute_result"
    }
   ],
   "source": [
    "#построим сводную таблицу по цели кредита и рассчитаем долю клиентов с задолженностью по возврату кредита\n",
    "data_pivot_category = data.pivot_table(index=['purpose_category'], values='debt', aggfunc= ['sum', 'count', lambda x: '{:.2%}'.format(x.mean())])\n",
    "#переименуем столбцы\n",
    "data_pivot_category = data_pivot_category.rename(columns= {'sum':'number_of_clients_with_debt', 'count':'total_number_of_clients', '<lambda>': 'percentage(%)', 'debt':''})\n",
    "#отсортируем таблицу по возрастанию значений в столбце percentage(%)\n",
    "data_pivot_category.sort_values(by='percentage(%)')"
   ]
  },
  {
   "cell_type": "markdown",
   "id": "78b43226",
   "metadata": {
    "deletable": false,
    "id": "b4bb2ce6"
   },
   "source": [
    "**Вывод:** \n",
    "\n",
    "По итогам таблицы доля клиентов с задолженностью по возврату кредита составляет:\n",
    "* Операции с недвижимостью - 7,26%\n",
    "* Проведение свадьбы - 7,91%\n",
    "* Получение образования - 9,25%\n",
    "* Операции с автомобилем - 9,35%\n",
    "\n",
    "Как видно из расчетов, кредиты на операции с недвижимостью и на проведение свадеб возвращают в срок чаще, чем кредиты на получение образования и на операции с автомобилем.\n",
    "\n",
    "Учитывая то, что сумма кредитов на операции с недвижимостью в большинсте случаев превышает сумму кредитов, которые берут на автомобиль и образование, можно предположить, что банк проверяет платежеспособность клиентов с ипотекой более тщательно, чем клиентов с потребительским кредитом, что объясняет, почему клиенты, берущие кредит на недвижимость возвращают его в срок чаще клиентов с потребительским кредитом. В случае с кредитами на проведение свадьбы, можно предположить, что сумма кредита чаще всего не столь высока и поэтому клиенты чаще возвращают такие кредиты в срок. "
   ]
  },
  {
   "cell_type": "markdown",
   "id": "31d52aec",
   "metadata": {
    "id": "6db5255a"
   },
   "source": [
    "## 4. Общий вывод"
   ]
  },
  {
   "cell_type": "markdown",
   "id": "5b5aa9c1",
   "metadata": {
    "deletable": false,
    "id": "bad65432"
   },
   "source": [
    "**1. Цель исследования**\n",
    "\n",
    "Проанализировать входные данные от банка — статистику о платёжеспособности клиентов для ответа на вопросы:\n",
    "* Есть ли зависимость между количеством детей и возвратом кредита в срок?\n",
    "* Есть ли зависимость между семейным положением и возвратом кредита в срок?\n",
    "* Есть ли зависимость между уровнем дохода и возвратом кредита в срок?\n",
    "* Как разные цели кредита влияют на его возврат в срок?\n",
    "\n",
    "**2. Ход исследования**\n",
    "\n",
    "Данные со статистикой о клиентах мы получили из файла /datasets/data.csv. Перед анализом был проведен обзор данных, в ходе которого были выявлены и обработаны следующие ошибки:\n",
    "* Выявили пропуски в столбцах days_employed и total_income и заполнили их медианными значениями по по каждому типу из столбца income_type\n",
    "* Обработали аномальные значения (отрицательные значения) в столбце days_employed\n",
    "* Выявили аномальные значения в столбце children и удалили строки с аномальными значениями для более корректного анализа данных\n",
    "* Заменили вещественный тип данных в столбце total_income на целочисленный \n",
    "* Выявили неявные дубликаты в столбце education и удалили строки-дубликаты\n",
    "* Категоризировали данные в столбце total_income по разным диапазонам дохода, а также данные в столце purpose в зависимости от целей кредита для дальнейшего анализа\n",
    "\n",
    "**3. Итоги исследования**\n",
    "\n",
    "Для анализа данных были применены методы группировок данных и построения свобных таблиц. По итогам анализа были сделаны следующие вывовы:\n",
    "\n",
    "* Есть ли зависимость между количеством детей и возвратом кредита в срок?\n",
    "\n",
    "Клиенты без детей имеют самую низкую долю задолженности по возврату кредита. У клиентов с одним ребеноком или несколькими детьми доля задолженности почти одинаковая.  \n",
    "\n",
    "* Есть ли зависимость между семейным положением и возвратом кредита в срок?\n",
    "\n",
    "Клиенты, состоящие в официальном браке, имеют меньше задолженностей по кредиту, по сравнению с холостыми клиентами. Доля клиентов в категории \"вдовец / вдова\" и у клиентов в категории \"в разводе\" с наличием задолженности по кредиту еще ниже, чем у клиентов состоящих в официальном браке, но так как в исходных данных клиентов в категориях \"вдовец / вдова\" и \"в разводе\" гораздо меньше, чем семейных клиентов (10% против 57%), это не позволяет нам корректно сравнивать эти две категории. \n",
    "\n",
    "* Есть ли зависимость между уровнем дохода и возвратом кредита в срок?\n",
    "\n",
    "Клиенты с высоким доходом - более 200 тыс., возвращают кредиты в срок чаще, чем клиенты с доходом менее 200 тыс. Клиенты с доходом 30-50 тыс. имеют самый низкий процент наличия задолженности по кредиту. Однако, как и в случае с семейным положеним, мы видим, что эта категория представлена малым количеством людей (~1.5%), поэтому делать корректные выводы по ней мы не можем. Аналогично, клиенты с доходом более 1 млн. и клиенты с доходом менее 30тыс. составляют менее 1% от общего количества клиентов в исходных данных, поэтому эти категории клиентов рассмотрены не были. \n",
    "\n",
    "* Как разные цели кредита влияют на его возврат в срок?\n",
    "\n",
    "Кредиты на операции с недвижимостью и на проведение свадеб возвращают в срок чаще, чем кредиты на получение образования и на операции с автомобилем.\n",
    "\n",
    "**Вывод:** Исходя из проведенного анализа самыми надежными клиентами для банка являются клиенты состоящие в официальном браке, не имеющие детей, с высоким доходом (более 200 тыс.) и берущие кредит на операции с недвижимостью. Тогда как клиенты не состоящие в браке, имеющие одного или нескольких детей, с доходом менее 200 тыс. и берущие кредит с целью получения образования или проведения операций с автомобилем имеют больше всего задолженностей по кредиту. \n",
    "\n",
    "Однако, необходимо отметить, что для более точного анализа и корректных выводов исходных данных недостаточно, а именно:\n",
    "* отсутствие данных о доходе у ~10% клиентов и заполнение этих пропусков медианным значением могло повлиять на результаты расчета\n",
    "* отсутстие данных о таких важных категориях, как например общая сумма кредита\n",
    "* количество клиентов в некоторых категориях, как например \"вдовец / вдова\" или клиенты с доходом выше 1млн или ниже 50тыс. настолько мало, что не позволяет нам делать о них корректные выводы. "
   ]
  }
 ],
 "metadata": {
  "ExecuteTimeLog": [
   {
    "duration": 710,
    "start_time": "2022-10-28T10:08:43.418Z"
   },
   {
    "duration": 28,
    "start_time": "2022-10-28T10:08:44.132Z"
   },
   {
    "duration": 15,
    "start_time": "2022-10-28T10:08:44.162Z"
   },
   {
    "duration": 11,
    "start_time": "2022-10-28T10:08:44.179Z"
   },
   {
    "duration": 41,
    "start_time": "2022-10-28T10:08:44.192Z"
   },
   {
    "duration": 4,
    "start_time": "2022-10-28T10:08:44.234Z"
   },
   {
    "duration": 12,
    "start_time": "2022-10-28T10:08:44.239Z"
   },
   {
    "duration": 5,
    "start_time": "2022-10-28T10:08:44.252Z"
   },
   {
    "duration": 8,
    "start_time": "2022-10-28T10:08:44.259Z"
   },
   {
    "duration": 5,
    "start_time": "2022-10-28T10:08:44.270Z"
   },
   {
    "duration": 33,
    "start_time": "2022-10-28T10:08:44.309Z"
   },
   {
    "duration": 10,
    "start_time": "2022-10-28T10:08:44.343Z"
   },
   {
    "duration": 5,
    "start_time": "2022-10-28T10:08:44.354Z"
   },
   {
    "duration": 15,
    "start_time": "2022-10-28T10:08:44.361Z"
   },
   {
    "duration": 45,
    "start_time": "2022-10-28T10:08:44.377Z"
   },
   {
    "duration": 17,
    "start_time": "2022-10-28T10:08:44.423Z"
   },
   {
    "duration": 4,
    "start_time": "2022-10-28T10:08:44.441Z"
   },
   {
    "duration": 13,
    "start_time": "2022-10-28T10:08:44.446Z"
   },
   {
    "duration": 5,
    "start_time": "2022-10-28T10:08:44.461Z"
   },
   {
    "duration": 5,
    "start_time": "2022-10-28T10:08:44.468Z"
   },
   {
    "duration": 35,
    "start_time": "2022-10-28T10:08:44.474Z"
   },
   {
    "duration": 2,
    "start_time": "2022-10-28T10:08:44.511Z"
   },
   {
    "duration": 7,
    "start_time": "2022-10-28T10:08:44.515Z"
   },
   {
    "duration": 5,
    "start_time": "2022-10-28T10:08:44.524Z"
   },
   {
    "duration": 4,
    "start_time": "2022-10-28T10:08:44.531Z"
   },
   {
    "duration": 73,
    "start_time": "2022-10-28T10:14:55.114Z"
   },
   {
    "duration": 7,
    "start_time": "2022-10-28T10:15:25.819Z"
   },
   {
    "duration": 13,
    "start_time": "2022-10-28T10:47:54.507Z"
   },
   {
    "duration": 12,
    "start_time": "2022-10-28T10:48:58.055Z"
   },
   {
    "duration": 24,
    "start_time": "2022-10-28T10:49:10.636Z"
   },
   {
    "duration": 19,
    "start_time": "2022-10-28T10:49:40.887Z"
   },
   {
    "duration": 20,
    "start_time": "2022-10-28T10:50:49.693Z"
   },
   {
    "duration": 17,
    "start_time": "2022-10-28T10:52:16.993Z"
   },
   {
    "duration": 19,
    "start_time": "2022-10-28T10:55:40.172Z"
   },
   {
    "duration": 43,
    "start_time": "2022-10-28T10:56:32.006Z"
   },
   {
    "duration": 48,
    "start_time": "2022-10-28T10:56:39.341Z"
   },
   {
    "duration": 6,
    "start_time": "2022-10-28T10:56:46.155Z"
   },
   {
    "duration": 561,
    "start_time": "2022-10-28T10:58:08.305Z"
   },
   {
    "duration": 7,
    "start_time": "2022-10-28T11:04:33.635Z"
   },
   {
    "duration": 5,
    "start_time": "2022-10-28T11:05:11.727Z"
   },
   {
    "duration": 5,
    "start_time": "2022-10-28T11:05:17.305Z"
   },
   {
    "duration": 5,
    "start_time": "2022-10-28T11:05:26.530Z"
   },
   {
    "duration": 16,
    "start_time": "2022-10-28T11:06:04.200Z"
   },
   {
    "duration": 6,
    "start_time": "2022-10-28T11:06:18.132Z"
   },
   {
    "duration": 6,
    "start_time": "2022-10-28T11:06:54.783Z"
   },
   {
    "duration": 8,
    "start_time": "2022-10-28T11:07:00.788Z"
   },
   {
    "duration": 624,
    "start_time": "2022-10-28T11:07:39.702Z"
   },
   {
    "duration": 8,
    "start_time": "2022-10-28T11:07:49.500Z"
   },
   {
    "duration": 8,
    "start_time": "2022-10-28T11:08:49.913Z"
   },
   {
    "duration": 8,
    "start_time": "2022-10-28T11:08:55.017Z"
   },
   {
    "duration": 7,
    "start_time": "2022-10-28T11:12:10.588Z"
   },
   {
    "duration": 7,
    "start_time": "2022-10-28T11:18:59.837Z"
   },
   {
    "duration": 8,
    "start_time": "2022-10-28T11:28:21.747Z"
   },
   {
    "duration": 6,
    "start_time": "2022-10-28T11:41:20.132Z"
   },
   {
    "duration": 6,
    "start_time": "2022-10-28T11:42:02.994Z"
   },
   {
    "duration": 7,
    "start_time": "2022-10-28T11:42:17.592Z"
   },
   {
    "duration": 11,
    "start_time": "2022-10-28T12:02:32.475Z"
   },
   {
    "duration": 16,
    "start_time": "2022-10-28T12:02:58.219Z"
   },
   {
    "duration": 13,
    "start_time": "2022-10-28T12:03:12.614Z"
   },
   {
    "duration": 12,
    "start_time": "2022-10-28T12:03:52.895Z"
   },
   {
    "duration": 20,
    "start_time": "2022-10-28T12:42:58.254Z"
   },
   {
    "duration": 17,
    "start_time": "2022-10-28T12:43:50.293Z"
   },
   {
    "duration": 18,
    "start_time": "2022-10-28T12:51:52.308Z"
   },
   {
    "duration": 4,
    "start_time": "2022-10-28T12:52:12.805Z"
   },
   {
    "duration": 29,
    "start_time": "2022-10-28T12:52:29.462Z"
   },
   {
    "duration": 4,
    "start_time": "2022-10-28T12:53:11.808Z"
   },
   {
    "duration": 17,
    "start_time": "2022-10-28T12:53:14.487Z"
   },
   {
    "duration": 497,
    "start_time": "2022-10-28T12:53:45.601Z"
   },
   {
    "duration": 23,
    "start_time": "2022-10-28T12:53:46.100Z"
   },
   {
    "duration": 15,
    "start_time": "2022-10-28T12:53:46.124Z"
   },
   {
    "duration": 41,
    "start_time": "2022-10-28T12:53:46.141Z"
   },
   {
    "duration": 46,
    "start_time": "2022-10-28T12:53:46.184Z"
   },
   {
    "duration": 4,
    "start_time": "2022-10-28T12:53:46.231Z"
   },
   {
    "duration": 23,
    "start_time": "2022-10-28T12:53:46.236Z"
   },
   {
    "duration": 19,
    "start_time": "2022-10-28T12:53:46.260Z"
   },
   {
    "duration": 24,
    "start_time": "2022-10-28T12:53:46.281Z"
   },
   {
    "duration": 29,
    "start_time": "2022-10-28T12:53:46.307Z"
   },
   {
    "duration": 61,
    "start_time": "2022-10-28T12:53:46.338Z"
   },
   {
    "duration": 11,
    "start_time": "2022-10-28T12:53:46.401Z"
   },
   {
    "duration": 25,
    "start_time": "2022-10-28T12:53:46.413Z"
   },
   {
    "duration": 30,
    "start_time": "2022-10-28T12:53:46.439Z"
   },
   {
    "duration": 42,
    "start_time": "2022-10-28T12:53:46.470Z"
   },
   {
    "duration": 23,
    "start_time": "2022-10-28T12:53:46.515Z"
   },
   {
    "duration": 4,
    "start_time": "2022-10-28T12:53:46.540Z"
   },
   {
    "duration": 35,
    "start_time": "2022-10-28T12:53:46.546Z"
   },
   {
    "duration": 7,
    "start_time": "2022-10-28T12:53:46.583Z"
   },
   {
    "duration": 23,
    "start_time": "2022-10-28T12:53:46.592Z"
   },
   {
    "duration": 47,
    "start_time": "2022-10-28T12:53:46.616Z"
   },
   {
    "duration": 6,
    "start_time": "2022-10-28T12:53:46.665Z"
   },
   {
    "duration": 24,
    "start_time": "2022-10-28T12:53:46.672Z"
   },
   {
    "duration": 5,
    "start_time": "2022-10-28T12:53:46.698Z"
   },
   {
    "duration": 27,
    "start_time": "2022-10-28T12:53:46.705Z"
   },
   {
    "duration": 26,
    "start_time": "2022-10-28T12:53:46.734Z"
   },
   {
    "duration": 3,
    "start_time": "2022-10-28T12:53:46.761Z"
   },
   {
    "duration": 30,
    "start_time": "2022-10-28T12:53:46.766Z"
   },
   {
    "duration": 23,
    "start_time": "2022-10-28T12:53:46.798Z"
   },
   {
    "duration": 77,
    "start_time": "2022-10-28T12:57:09.723Z"
   },
   {
    "duration": 13,
    "start_time": "2022-10-28T12:57:35.042Z"
   },
   {
    "duration": 56,
    "start_time": "2022-10-28T16:27:33.012Z"
   },
   {
    "duration": 735,
    "start_time": "2022-10-28T16:27:43.508Z"
   },
   {
    "duration": 21,
    "start_time": "2022-10-28T16:27:44.245Z"
   },
   {
    "duration": 20,
    "start_time": "2022-10-28T16:27:44.267Z"
   },
   {
    "duration": 9,
    "start_time": "2022-10-28T16:27:44.289Z"
   },
   {
    "duration": 46,
    "start_time": "2022-10-28T16:27:44.299Z"
   },
   {
    "duration": 4,
    "start_time": "2022-10-28T16:27:44.346Z"
   },
   {
    "duration": 33,
    "start_time": "2022-10-28T16:27:44.351Z"
   },
   {
    "duration": 9,
    "start_time": "2022-10-28T16:27:44.386Z"
   },
   {
    "duration": 16,
    "start_time": "2022-10-28T16:27:44.397Z"
   },
   {
    "duration": 28,
    "start_time": "2022-10-28T16:27:44.416Z"
   },
   {
    "duration": 40,
    "start_time": "2022-10-28T16:27:44.445Z"
   },
   {
    "duration": 9,
    "start_time": "2022-10-28T16:27:44.486Z"
   },
   {
    "duration": 15,
    "start_time": "2022-10-28T16:27:44.496Z"
   },
   {
    "duration": 27,
    "start_time": "2022-10-28T16:27:44.512Z"
   },
   {
    "duration": 20,
    "start_time": "2022-10-28T16:27:44.541Z"
   },
   {
    "duration": 16,
    "start_time": "2022-10-28T16:27:44.562Z"
   },
   {
    "duration": 4,
    "start_time": "2022-10-28T16:27:44.579Z"
   },
   {
    "duration": 14,
    "start_time": "2022-10-28T16:27:44.584Z"
   },
   {
    "duration": 13,
    "start_time": "2022-10-28T16:27:44.599Z"
   },
   {
    "duration": 10,
    "start_time": "2022-10-28T16:27:44.614Z"
   },
   {
    "duration": 43,
    "start_time": "2022-10-28T16:27:44.625Z"
   },
   {
    "duration": 22,
    "start_time": "2022-10-28T16:27:44.670Z"
   },
   {
    "duration": 22,
    "start_time": "2022-10-28T16:27:44.693Z"
   },
   {
    "duration": 26,
    "start_time": "2022-10-28T16:27:44.716Z"
   },
   {
    "duration": 21,
    "start_time": "2022-10-28T16:27:44.743Z"
   },
   {
    "duration": 70,
    "start_time": "2022-10-28T16:27:44.766Z"
   },
   {
    "duration": 0,
    "start_time": "2022-10-28T16:27:44.838Z"
   },
   {
    "duration": 0,
    "start_time": "2022-10-28T16:27:44.839Z"
   },
   {
    "duration": 1,
    "start_time": "2022-10-28T16:27:44.840Z"
   },
   {
    "duration": 15,
    "start_time": "2022-10-28T16:28:07.215Z"
   },
   {
    "duration": 14,
    "start_time": "2022-10-28T16:28:36.335Z"
   },
   {
    "duration": 18,
    "start_time": "2022-10-28T16:29:07.578Z"
   },
   {
    "duration": 16,
    "start_time": "2022-10-28T16:29:14.801Z"
   },
   {
    "duration": 19,
    "start_time": "2022-10-28T16:29:28.505Z"
   },
   {
    "duration": 469,
    "start_time": "2022-10-28T16:30:23.719Z"
   },
   {
    "duration": 21,
    "start_time": "2022-10-28T16:30:24.191Z"
   },
   {
    "duration": 20,
    "start_time": "2022-10-28T16:30:24.213Z"
   },
   {
    "duration": 13,
    "start_time": "2022-10-28T16:30:24.236Z"
   },
   {
    "duration": 32,
    "start_time": "2022-10-28T16:30:24.250Z"
   },
   {
    "duration": 3,
    "start_time": "2022-10-28T16:30:24.284Z"
   },
   {
    "duration": 15,
    "start_time": "2022-10-28T16:30:24.289Z"
   },
   {
    "duration": 5,
    "start_time": "2022-10-28T16:30:24.305Z"
   },
   {
    "duration": 30,
    "start_time": "2022-10-28T16:30:24.311Z"
   },
   {
    "duration": 13,
    "start_time": "2022-10-28T16:30:24.343Z"
   },
   {
    "duration": 33,
    "start_time": "2022-10-28T16:30:24.358Z"
   },
   {
    "duration": 9,
    "start_time": "2022-10-28T16:30:24.392Z"
   },
   {
    "duration": 7,
    "start_time": "2022-10-28T16:30:24.403Z"
   },
   {
    "duration": 21,
    "start_time": "2022-10-28T16:30:24.411Z"
   },
   {
    "duration": 28,
    "start_time": "2022-10-28T16:30:24.434Z"
   },
   {
    "duration": 17,
    "start_time": "2022-10-28T16:30:24.464Z"
   },
   {
    "duration": 4,
    "start_time": "2022-10-28T16:30:24.483Z"
   },
   {
    "duration": 16,
    "start_time": "2022-10-28T16:30:24.489Z"
   },
   {
    "duration": 27,
    "start_time": "2022-10-28T16:30:24.507Z"
   },
   {
    "duration": 12,
    "start_time": "2022-10-28T16:30:24.536Z"
   },
   {
    "duration": 13,
    "start_time": "2022-10-28T16:30:24.549Z"
   },
   {
    "duration": 5,
    "start_time": "2022-10-28T16:30:24.564Z"
   },
   {
    "duration": 12,
    "start_time": "2022-10-28T16:30:24.570Z"
   },
   {
    "duration": 5,
    "start_time": "2022-10-28T16:30:24.584Z"
   },
   {
    "duration": 18,
    "start_time": "2022-10-28T16:30:24.590Z"
   },
   {
    "duration": 29,
    "start_time": "2022-10-28T16:30:24.610Z"
   },
   {
    "duration": 2,
    "start_time": "2022-10-28T16:30:24.641Z"
   },
   {
    "duration": 8,
    "start_time": "2022-10-28T16:30:24.646Z"
   },
   {
    "duration": 10,
    "start_time": "2022-10-28T16:30:24.655Z"
   },
   {
    "duration": 480,
    "start_time": "2022-10-28T16:31:29.860Z"
   },
   {
    "duration": 29,
    "start_time": "2022-10-28T16:31:30.343Z"
   },
   {
    "duration": 56,
    "start_time": "2022-10-28T16:31:30.373Z"
   },
   {
    "duration": 79,
    "start_time": "2022-10-28T16:31:30.430Z"
   },
   {
    "duration": 130,
    "start_time": "2022-10-28T16:31:30.511Z"
   },
   {
    "duration": 51,
    "start_time": "2022-10-28T16:31:30.643Z"
   },
   {
    "duration": 92,
    "start_time": "2022-10-28T16:31:30.696Z"
   },
   {
    "duration": 70,
    "start_time": "2022-10-28T16:31:30.791Z"
   },
   {
    "duration": 76,
    "start_time": "2022-10-28T16:31:30.863Z"
   },
   {
    "duration": 25,
    "start_time": "2022-10-28T16:31:30.940Z"
   },
   {
    "duration": 67,
    "start_time": "2022-10-28T16:31:30.967Z"
   },
   {
    "duration": 11,
    "start_time": "2022-10-28T16:31:31.037Z"
   },
   {
    "duration": 27,
    "start_time": "2022-10-28T16:31:31.050Z"
   },
   {
    "duration": 32,
    "start_time": "2022-10-28T16:31:31.080Z"
   },
   {
    "duration": 43,
    "start_time": "2022-10-28T16:31:31.114Z"
   },
   {
    "duration": 16,
    "start_time": "2022-10-28T16:31:31.159Z"
   },
   {
    "duration": 5,
    "start_time": "2022-10-28T16:31:31.177Z"
   },
   {
    "duration": 19,
    "start_time": "2022-10-28T16:31:31.183Z"
   },
   {
    "duration": 7,
    "start_time": "2022-10-28T16:31:31.204Z"
   },
   {
    "duration": 13,
    "start_time": "2022-10-28T16:31:31.213Z"
   },
   {
    "duration": 17,
    "start_time": "2022-10-28T16:31:31.233Z"
   },
   {
    "duration": 11,
    "start_time": "2022-10-28T16:31:31.252Z"
   },
   {
    "duration": 18,
    "start_time": "2022-10-28T16:31:31.265Z"
   },
   {
    "duration": 21,
    "start_time": "2022-10-28T16:31:31.284Z"
   },
   {
    "duration": 32,
    "start_time": "2022-10-28T16:31:31.306Z"
   },
   {
    "duration": 18,
    "start_time": "2022-10-28T16:31:31.340Z"
   },
   {
    "duration": 2,
    "start_time": "2022-10-28T16:31:31.360Z"
   },
   {
    "duration": 20,
    "start_time": "2022-10-28T16:31:31.364Z"
   },
   {
    "duration": 9,
    "start_time": "2022-10-28T16:31:31.386Z"
   },
   {
    "duration": 17,
    "start_time": "2022-10-28T16:34:00.319Z"
   },
   {
    "duration": 14,
    "start_time": "2022-10-28T16:37:16.143Z"
   },
   {
    "duration": 5,
    "start_time": "2022-10-28T16:44:27.536Z"
   },
   {
    "duration": 8,
    "start_time": "2022-10-28T16:44:35.591Z"
   },
   {
    "duration": 1348,
    "start_time": "2022-10-28T17:01:09.238Z"
   },
   {
    "duration": 869,
    "start_time": "2022-10-28T17:01:26.546Z"
   },
   {
    "duration": 6,
    "start_time": "2022-10-28T17:01:41.254Z"
   },
   {
    "duration": 29,
    "start_time": "2022-10-28T17:12:46.463Z"
   },
   {
    "duration": 15,
    "start_time": "2022-10-28T17:13:54.666Z"
   },
   {
    "duration": 14,
    "start_time": "2022-10-28T17:13:57.581Z"
   },
   {
    "duration": 22,
    "start_time": "2022-10-28T17:14:06.714Z"
   },
   {
    "duration": 30,
    "start_time": "2022-10-28T17:16:13.677Z"
   },
   {
    "duration": 35,
    "start_time": "2022-10-28T17:16:27.138Z"
   },
   {
    "duration": 39,
    "start_time": "2022-10-28T17:23:00.914Z"
   },
   {
    "duration": 14,
    "start_time": "2022-10-28T17:53:23.686Z"
   },
   {
    "duration": 28,
    "start_time": "2022-10-28T17:53:36.936Z"
   },
   {
    "duration": 42,
    "start_time": "2022-10-28T17:54:42.994Z"
   },
   {
    "duration": 26,
    "start_time": "2022-10-28T17:56:12.464Z"
   },
   {
    "duration": 15,
    "start_time": "2022-10-28T17:57:12.093Z"
   },
   {
    "duration": 46,
    "start_time": "2022-10-28T17:58:18.494Z"
   },
   {
    "duration": 22,
    "start_time": "2022-10-28T17:58:24.718Z"
   },
   {
    "duration": 20,
    "start_time": "2022-10-28T17:59:30.987Z"
   },
   {
    "duration": 16,
    "start_time": "2022-10-28T18:05:00.160Z"
   },
   {
    "duration": 5,
    "start_time": "2022-10-28T18:07:33.273Z"
   },
   {
    "duration": 19,
    "start_time": "2022-10-28T18:07:55.208Z"
   },
   {
    "duration": 13,
    "start_time": "2022-10-28T18:09:59.296Z"
   },
   {
    "duration": 35,
    "start_time": "2022-10-28T18:15:02.674Z"
   },
   {
    "duration": 13,
    "start_time": "2022-10-28T18:21:44.262Z"
   },
   {
    "duration": 13,
    "start_time": "2022-10-28T18:21:59.426Z"
   },
   {
    "duration": 13,
    "start_time": "2022-10-28T18:22:03.255Z"
   },
   {
    "duration": 14,
    "start_time": "2022-10-28T18:24:41.135Z"
   },
   {
    "duration": 714,
    "start_time": "2022-10-29T09:12:29.341Z"
   },
   {
    "duration": 23,
    "start_time": "2022-10-29T09:12:30.056Z"
   },
   {
    "duration": 17,
    "start_time": "2022-10-29T09:12:30.081Z"
   },
   {
    "duration": 122,
    "start_time": "2022-10-29T09:12:30.100Z"
   },
   {
    "duration": 86,
    "start_time": "2022-10-29T09:12:30.223Z"
   },
   {
    "duration": 10,
    "start_time": "2022-10-29T09:12:30.311Z"
   },
   {
    "duration": 71,
    "start_time": "2022-10-29T09:12:30.323Z"
   },
   {
    "duration": 29,
    "start_time": "2022-10-29T09:12:30.395Z"
   },
   {
    "duration": 65,
    "start_time": "2022-10-29T09:12:30.425Z"
   },
   {
    "duration": 53,
    "start_time": "2022-10-29T09:12:30.494Z"
   },
   {
    "duration": 66,
    "start_time": "2022-10-29T09:12:30.549Z"
   },
   {
    "duration": 14,
    "start_time": "2022-10-29T09:12:30.616Z"
   },
   {
    "duration": 33,
    "start_time": "2022-10-29T09:12:30.632Z"
   },
   {
    "duration": 47,
    "start_time": "2022-10-29T09:12:30.666Z"
   },
   {
    "duration": 47,
    "start_time": "2022-10-29T09:12:30.715Z"
   },
   {
    "duration": 93,
    "start_time": "2022-10-29T09:12:30.764Z"
   },
   {
    "duration": 10,
    "start_time": "2022-10-29T09:12:30.859Z"
   },
   {
    "duration": 39,
    "start_time": "2022-10-29T09:12:30.870Z"
   },
   {
    "duration": 50,
    "start_time": "2022-10-29T09:12:30.911Z"
   },
   {
    "duration": 43,
    "start_time": "2022-10-29T09:12:30.962Z"
   },
   {
    "duration": 53,
    "start_time": "2022-10-29T09:12:31.007Z"
   },
   {
    "duration": 35,
    "start_time": "2022-10-29T09:12:31.062Z"
   },
   {
    "duration": 65,
    "start_time": "2022-10-29T09:12:31.099Z"
   },
   {
    "duration": 42,
    "start_time": "2022-10-29T09:12:31.165Z"
   },
   {
    "duration": 57,
    "start_time": "2022-10-29T09:12:31.208Z"
   },
   {
    "duration": 24,
    "start_time": "2022-10-29T09:12:31.267Z"
   },
   {
    "duration": 101,
    "start_time": "2022-10-29T09:12:31.293Z"
   },
   {
    "duration": 52,
    "start_time": "2022-10-29T09:12:31.396Z"
   },
   {
    "duration": 34,
    "start_time": "2022-10-29T09:12:31.449Z"
   },
   {
    "duration": 22,
    "start_time": "2022-10-29T09:12:31.485Z"
   },
   {
    "duration": 82,
    "start_time": "2022-10-29T09:18:52.893Z"
   },
   {
    "duration": 14,
    "start_time": "2022-10-29T09:19:11.147Z"
   },
   {
    "duration": 12,
    "start_time": "2022-10-29T09:19:36.927Z"
   },
   {
    "duration": 14,
    "start_time": "2022-10-29T09:19:59.426Z"
   },
   {
    "duration": 56,
    "start_time": "2022-10-29T09:20:58.576Z"
   },
   {
    "duration": 21,
    "start_time": "2022-10-29T09:21:12.015Z"
   },
   {
    "duration": 14,
    "start_time": "2022-10-29T09:22:29.026Z"
   },
   {
    "duration": 17,
    "start_time": "2022-10-29T09:22:45.070Z"
   },
   {
    "duration": 12,
    "start_time": "2022-10-29T09:23:20.483Z"
   },
   {
    "duration": 10,
    "start_time": "2022-10-29T09:24:05.257Z"
   },
   {
    "duration": 16,
    "start_time": "2022-10-29T09:24:10.240Z"
   },
   {
    "duration": 479,
    "start_time": "2022-10-29T09:25:45.877Z"
   },
   {
    "duration": 29,
    "start_time": "2022-10-29T09:25:46.358Z"
   },
   {
    "duration": 38,
    "start_time": "2022-10-29T09:25:46.390Z"
   },
   {
    "duration": 9,
    "start_time": "2022-10-29T09:25:46.430Z"
   },
   {
    "duration": 31,
    "start_time": "2022-10-29T09:25:46.441Z"
   },
   {
    "duration": 3,
    "start_time": "2022-10-29T09:25:46.473Z"
   },
   {
    "duration": 17,
    "start_time": "2022-10-29T09:25:46.478Z"
   },
   {
    "duration": 13,
    "start_time": "2022-10-29T09:25:46.496Z"
   },
   {
    "duration": 8,
    "start_time": "2022-10-29T09:25:46.511Z"
   },
   {
    "duration": 4,
    "start_time": "2022-10-29T09:25:46.521Z"
   },
   {
    "duration": 36,
    "start_time": "2022-10-29T09:25:46.526Z"
   },
   {
    "duration": 9,
    "start_time": "2022-10-29T09:25:46.564Z"
   },
   {
    "duration": 18,
    "start_time": "2022-10-29T09:25:46.574Z"
   },
   {
    "duration": 20,
    "start_time": "2022-10-29T09:25:46.594Z"
   },
   {
    "duration": 19,
    "start_time": "2022-10-29T09:25:46.615Z"
   },
   {
    "duration": 16,
    "start_time": "2022-10-29T09:25:46.636Z"
   },
   {
    "duration": 3,
    "start_time": "2022-10-29T09:25:46.653Z"
   },
   {
    "duration": 11,
    "start_time": "2022-10-29T09:25:46.658Z"
   },
   {
    "duration": 9,
    "start_time": "2022-10-29T09:25:46.670Z"
   },
   {
    "duration": 3,
    "start_time": "2022-10-29T09:25:46.680Z"
   },
   {
    "duration": 7,
    "start_time": "2022-10-29T09:25:46.709Z"
   },
   {
    "duration": 7,
    "start_time": "2022-10-29T09:25:46.718Z"
   },
   {
    "duration": 11,
    "start_time": "2022-10-29T09:25:46.727Z"
   },
   {
    "duration": 3,
    "start_time": "2022-10-29T09:25:46.739Z"
   },
   {
    "duration": 19,
    "start_time": "2022-10-29T09:25:46.743Z"
   },
   {
    "duration": 15,
    "start_time": "2022-10-29T09:25:46.764Z"
   },
   {
    "duration": 69,
    "start_time": "2022-10-29T09:25:46.780Z"
   },
   {
    "duration": 32,
    "start_time": "2022-10-29T09:25:46.852Z"
   },
   {
    "duration": 25,
    "start_time": "2022-10-29T09:25:46.886Z"
   },
   {
    "duration": 2,
    "start_time": "2022-10-29T09:25:46.913Z"
   },
   {
    "duration": 11,
    "start_time": "2022-10-29T09:27:18.018Z"
   },
   {
    "duration": 15,
    "start_time": "2022-10-29T09:27:25.808Z"
   },
   {
    "duration": 12,
    "start_time": "2022-10-29T09:27:36.941Z"
   },
   {
    "duration": 17,
    "start_time": "2022-10-29T09:32:09.955Z"
   },
   {
    "duration": 19,
    "start_time": "2022-10-29T09:32:38.382Z"
   },
   {
    "duration": 78,
    "start_time": "2022-10-29T09:36:59.770Z"
   },
   {
    "duration": 13,
    "start_time": "2022-10-29T09:37:17.114Z"
   },
   {
    "duration": 12,
    "start_time": "2022-10-29T09:37:24.132Z"
   },
   {
    "duration": 12,
    "start_time": "2022-10-29T09:41:07.682Z"
   },
   {
    "duration": 23,
    "start_time": "2022-10-29T09:41:13.669Z"
   },
   {
    "duration": 15,
    "start_time": "2022-10-29T09:42:08.344Z"
   },
   {
    "duration": 15,
    "start_time": "2022-10-29T09:42:44.911Z"
   },
   {
    "duration": 16,
    "start_time": "2022-10-29T09:42:50.808Z"
   },
   {
    "duration": 15,
    "start_time": "2022-10-29T09:43:08.989Z"
   },
   {
    "duration": 733,
    "start_time": "2022-10-29T09:44:10.435Z"
   },
   {
    "duration": 532,
    "start_time": "2022-10-29T09:44:19.516Z"
   },
   {
    "duration": 21,
    "start_time": "2022-10-29T09:44:20.050Z"
   },
   {
    "duration": 40,
    "start_time": "2022-10-29T09:44:20.073Z"
   },
   {
    "duration": 32,
    "start_time": "2022-10-29T09:44:20.115Z"
   },
   {
    "duration": 74,
    "start_time": "2022-10-29T09:44:20.148Z"
   },
   {
    "duration": 27,
    "start_time": "2022-10-29T09:44:20.224Z"
   },
   {
    "duration": 38,
    "start_time": "2022-10-29T09:44:20.253Z"
   },
   {
    "duration": 63,
    "start_time": "2022-10-29T09:44:20.292Z"
   },
   {
    "duration": 82,
    "start_time": "2022-10-29T09:44:20.357Z"
   },
   {
    "duration": 76,
    "start_time": "2022-10-29T09:44:20.442Z"
   },
   {
    "duration": 128,
    "start_time": "2022-10-29T09:44:20.520Z"
   },
   {
    "duration": 32,
    "start_time": "2022-10-29T09:44:20.650Z"
   },
   {
    "duration": 82,
    "start_time": "2022-10-29T09:44:20.684Z"
   },
   {
    "duration": 58,
    "start_time": "2022-10-29T09:44:20.768Z"
   },
   {
    "duration": 63,
    "start_time": "2022-10-29T09:44:20.828Z"
   },
   {
    "duration": 55,
    "start_time": "2022-10-29T09:44:20.893Z"
   },
   {
    "duration": 29,
    "start_time": "2022-10-29T09:44:20.950Z"
   },
   {
    "duration": 78,
    "start_time": "2022-10-29T09:44:20.981Z"
   },
   {
    "duration": 23,
    "start_time": "2022-10-29T09:44:21.061Z"
   },
   {
    "duration": 41,
    "start_time": "2022-10-29T09:44:21.086Z"
   },
   {
    "duration": 35,
    "start_time": "2022-10-29T09:44:21.129Z"
   },
   {
    "duration": 34,
    "start_time": "2022-10-29T09:44:21.165Z"
   },
   {
    "duration": 130,
    "start_time": "2022-10-29T09:44:21.201Z"
   },
   {
    "duration": 55,
    "start_time": "2022-10-29T09:44:21.332Z"
   },
   {
    "duration": 79,
    "start_time": "2022-10-29T09:44:21.388Z"
   },
   {
    "duration": 123,
    "start_time": "2022-10-29T09:44:21.469Z"
   },
   {
    "duration": 0,
    "start_time": "2022-10-29T09:44:21.594Z"
   },
   {
    "duration": 0,
    "start_time": "2022-10-29T09:44:21.595Z"
   },
   {
    "duration": 0,
    "start_time": "2022-10-29T09:44:21.596Z"
   },
   {
    "duration": 0,
    "start_time": "2022-10-29T09:44:21.597Z"
   },
   {
    "duration": 15,
    "start_time": "2022-10-29T09:44:34.007Z"
   },
   {
    "duration": 14,
    "start_time": "2022-10-29T09:45:39.361Z"
   },
   {
    "duration": 15,
    "start_time": "2022-10-29T09:48:49.545Z"
   },
   {
    "duration": 15,
    "start_time": "2022-10-29T09:49:20.141Z"
   },
   {
    "duration": 39,
    "start_time": "2022-10-29T09:51:53.339Z"
   },
   {
    "duration": 39,
    "start_time": "2022-10-29T09:53:48.266Z"
   },
   {
    "duration": 35,
    "start_time": "2022-10-29T09:55:47.325Z"
   },
   {
    "duration": 48,
    "start_time": "2022-10-29T09:56:06.294Z"
   },
   {
    "duration": 47,
    "start_time": "2022-10-29T09:56:16.343Z"
   },
   {
    "duration": 35,
    "start_time": "2022-10-29T09:57:04.995Z"
   },
   {
    "duration": 26,
    "start_time": "2022-10-29T09:58:16.683Z"
   },
   {
    "duration": 13,
    "start_time": "2022-10-29T09:58:20.584Z"
   },
   {
    "duration": 32,
    "start_time": "2022-10-29T10:11:41.856Z"
   },
   {
    "duration": 28,
    "start_time": "2022-10-29T10:12:58.896Z"
   },
   {
    "duration": 27,
    "start_time": "2022-10-29T10:13:09.026Z"
   },
   {
    "duration": 28,
    "start_time": "2022-10-29T10:13:25.821Z"
   },
   {
    "duration": 32,
    "start_time": "2022-10-29T10:13:39.177Z"
   },
   {
    "duration": 510,
    "start_time": "2022-10-29T18:16:02.655Z"
   },
   {
    "duration": 24,
    "start_time": "2022-10-29T18:16:03.167Z"
   },
   {
    "duration": 23,
    "start_time": "2022-10-29T18:16:03.193Z"
   },
   {
    "duration": 15,
    "start_time": "2022-10-29T18:16:03.219Z"
   },
   {
    "duration": 47,
    "start_time": "2022-10-29T18:16:03.237Z"
   },
   {
    "duration": 21,
    "start_time": "2022-10-29T18:16:03.286Z"
   },
   {
    "duration": 18,
    "start_time": "2022-10-29T18:16:03.309Z"
   },
   {
    "duration": 6,
    "start_time": "2022-10-29T18:16:03.329Z"
   },
   {
    "duration": 19,
    "start_time": "2022-10-29T18:16:03.337Z"
   },
   {
    "duration": 7,
    "start_time": "2022-10-29T18:16:03.359Z"
   },
   {
    "duration": 58,
    "start_time": "2022-10-29T18:16:03.368Z"
   },
   {
    "duration": 11,
    "start_time": "2022-10-29T18:16:03.428Z"
   },
   {
    "duration": 5,
    "start_time": "2022-10-29T18:16:03.440Z"
   },
   {
    "duration": 14,
    "start_time": "2022-10-29T18:16:03.447Z"
   },
   {
    "duration": 42,
    "start_time": "2022-10-29T18:16:03.463Z"
   },
   {
    "duration": 18,
    "start_time": "2022-10-29T18:16:03.507Z"
   },
   {
    "duration": 4,
    "start_time": "2022-10-29T18:16:03.527Z"
   },
   {
    "duration": 17,
    "start_time": "2022-10-29T18:16:03.533Z"
   },
   {
    "duration": 7,
    "start_time": "2022-10-29T18:16:03.551Z"
   },
   {
    "duration": 30,
    "start_time": "2022-10-29T18:16:03.559Z"
   },
   {
    "duration": 14,
    "start_time": "2022-10-29T18:16:03.591Z"
   },
   {
    "duration": 8,
    "start_time": "2022-10-29T18:16:03.607Z"
   },
   {
    "duration": 11,
    "start_time": "2022-10-29T18:16:03.617Z"
   },
   {
    "duration": 4,
    "start_time": "2022-10-29T18:16:03.630Z"
   },
   {
    "duration": 21,
    "start_time": "2022-10-29T18:16:03.635Z"
   },
   {
    "duration": 21,
    "start_time": "2022-10-29T18:16:03.657Z"
   },
   {
    "duration": 63,
    "start_time": "2022-10-29T18:16:03.680Z"
   },
   {
    "duration": 31,
    "start_time": "2022-10-29T18:16:03.746Z"
   },
   {
    "duration": 32,
    "start_time": "2022-10-29T18:16:03.779Z"
   },
   {
    "duration": 2,
    "start_time": "2022-10-29T18:16:03.813Z"
   },
   {
    "duration": 15,
    "start_time": "2022-10-29T18:18:59.478Z"
   },
   {
    "duration": 17,
    "start_time": "2022-10-29T18:19:08.452Z"
   },
   {
    "duration": 35,
    "start_time": "2022-10-29T18:20:40.091Z"
   },
   {
    "duration": 37,
    "start_time": "2022-10-29T18:22:06.296Z"
   },
   {
    "duration": 35,
    "start_time": "2022-10-29T18:22:22.256Z"
   },
   {
    "duration": 36,
    "start_time": "2022-10-29T18:23:51.234Z"
   },
   {
    "duration": 16,
    "start_time": "2022-10-29T18:25:52.216Z"
   },
   {
    "duration": 24,
    "start_time": "2022-10-29T18:47:01.134Z"
   },
   {
    "duration": 40,
    "start_time": "2022-10-29T18:47:27.453Z"
   },
   {
    "duration": 1117,
    "start_time": "2022-10-29T18:49:42.390Z"
   },
   {
    "duration": 451,
    "start_time": "2022-10-29T18:50:01.702Z"
   },
   {
    "duration": 20,
    "start_time": "2022-10-29T18:50:02.155Z"
   },
   {
    "duration": 34,
    "start_time": "2022-10-29T18:50:02.177Z"
   },
   {
    "duration": 8,
    "start_time": "2022-10-29T18:50:02.213Z"
   },
   {
    "duration": 38,
    "start_time": "2022-10-29T18:50:02.222Z"
   },
   {
    "duration": 3,
    "start_time": "2022-10-29T18:50:02.262Z"
   },
   {
    "duration": 13,
    "start_time": "2022-10-29T18:50:02.267Z"
   },
   {
    "duration": 6,
    "start_time": "2022-10-29T18:50:02.282Z"
   },
   {
    "duration": 23,
    "start_time": "2022-10-29T18:50:02.289Z"
   },
   {
    "duration": 4,
    "start_time": "2022-10-29T18:50:02.314Z"
   },
   {
    "duration": 31,
    "start_time": "2022-10-29T18:50:02.319Z"
   },
   {
    "duration": 8,
    "start_time": "2022-10-29T18:50:02.351Z"
   },
   {
    "duration": 3,
    "start_time": "2022-10-29T18:50:02.361Z"
   },
   {
    "duration": 12,
    "start_time": "2022-10-29T18:50:02.365Z"
   },
   {
    "duration": 36,
    "start_time": "2022-10-29T18:50:02.378Z"
   },
   {
    "duration": 15,
    "start_time": "2022-10-29T18:50:02.415Z"
   },
   {
    "duration": 3,
    "start_time": "2022-10-29T18:50:02.431Z"
   },
   {
    "duration": 13,
    "start_time": "2022-10-29T18:50:02.435Z"
   },
   {
    "duration": 14,
    "start_time": "2022-10-29T18:50:02.449Z"
   },
   {
    "duration": 6,
    "start_time": "2022-10-29T18:50:02.465Z"
   },
   {
    "duration": 18,
    "start_time": "2022-10-29T18:50:02.472Z"
   },
   {
    "duration": 9,
    "start_time": "2022-10-29T18:50:02.492Z"
   },
   {
    "duration": 6,
    "start_time": "2022-10-29T18:50:02.505Z"
   },
   {
    "duration": 6,
    "start_time": "2022-10-29T18:50:02.513Z"
   },
   {
    "duration": 22,
    "start_time": "2022-10-29T18:50:02.521Z"
   },
   {
    "duration": 14,
    "start_time": "2022-10-29T18:50:02.545Z"
   },
   {
    "duration": 51,
    "start_time": "2022-10-29T18:50:02.560Z"
   },
   {
    "duration": 1172,
    "start_time": "2022-10-29T18:50:02.614Z"
   },
   {
    "duration": 0,
    "start_time": "2022-10-29T18:50:03.788Z"
   },
   {
    "duration": 1,
    "start_time": "2022-10-29T18:50:03.788Z"
   },
   {
    "duration": 25,
    "start_time": "2022-10-29T18:50:37.654Z"
   },
   {
    "duration": 27,
    "start_time": "2022-10-29T18:51:15.051Z"
   },
   {
    "duration": 31,
    "start_time": "2022-10-29T18:51:43.959Z"
   },
   {
    "duration": 28,
    "start_time": "2022-10-29T18:52:45.010Z"
   },
   {
    "duration": 27,
    "start_time": "2022-10-29T18:53:29.565Z"
   },
   {
    "duration": 12,
    "start_time": "2022-10-29T18:53:40.522Z"
   },
   {
    "duration": 74,
    "start_time": "2022-10-29T18:58:33.561Z"
   },
   {
    "duration": 17,
    "start_time": "2022-10-29T18:58:44.161Z"
   },
   {
    "duration": 18,
    "start_time": "2022-10-29T18:59:10.581Z"
   },
   {
    "duration": 21,
    "start_time": "2022-10-29T19:08:06.674Z"
   },
   {
    "duration": 22,
    "start_time": "2022-10-29T19:09:57.544Z"
   },
   {
    "duration": 21,
    "start_time": "2022-10-29T19:17:19.079Z"
   },
   {
    "duration": 3,
    "start_time": "2022-10-29T19:23:12.916Z"
   },
   {
    "duration": 16,
    "start_time": "2022-10-29T19:23:16.082Z"
   },
   {
    "duration": 27,
    "start_time": "2022-10-29T19:25:19.289Z"
   },
   {
    "duration": 29,
    "start_time": "2022-10-29T19:30:40.995Z"
   },
   {
    "duration": 33,
    "start_time": "2022-10-29T19:31:37.421Z"
   },
   {
    "duration": 30,
    "start_time": "2022-10-29T19:32:20.168Z"
   },
   {
    "duration": 20,
    "start_time": "2022-10-29T19:46:17.670Z"
   },
   {
    "duration": 18,
    "start_time": "2022-10-29T20:12:17.657Z"
   },
   {
    "duration": 26,
    "start_time": "2022-10-29T20:12:44.216Z"
   },
   {
    "duration": 14,
    "start_time": "2022-10-29T20:14:58.943Z"
   },
   {
    "duration": 15,
    "start_time": "2022-10-29T20:15:35.357Z"
   },
   {
    "duration": 15,
    "start_time": "2022-10-29T20:16:11.120Z"
   },
   {
    "duration": 14,
    "start_time": "2022-10-29T20:16:34.821Z"
   },
   {
    "duration": 16,
    "start_time": "2022-10-29T20:17:05.500Z"
   },
   {
    "duration": 452,
    "start_time": "2022-10-29T20:18:05.036Z"
   },
   {
    "duration": 20,
    "start_time": "2022-10-29T20:18:05.490Z"
   },
   {
    "duration": 14,
    "start_time": "2022-10-29T20:18:05.511Z"
   },
   {
    "duration": 8,
    "start_time": "2022-10-29T20:18:05.527Z"
   },
   {
    "duration": 30,
    "start_time": "2022-10-29T20:18:05.536Z"
   },
   {
    "duration": 3,
    "start_time": "2022-10-29T20:18:05.567Z"
   },
   {
    "duration": 10,
    "start_time": "2022-10-29T20:18:05.571Z"
   },
   {
    "duration": 4,
    "start_time": "2022-10-29T20:18:05.605Z"
   },
   {
    "duration": 9,
    "start_time": "2022-10-29T20:18:05.610Z"
   },
   {
    "duration": 5,
    "start_time": "2022-10-29T20:18:05.623Z"
   },
   {
    "duration": 33,
    "start_time": "2022-10-29T20:18:05.629Z"
   },
   {
    "duration": 8,
    "start_time": "2022-10-29T20:18:05.664Z"
   },
   {
    "duration": 6,
    "start_time": "2022-10-29T20:18:05.673Z"
   },
   {
    "duration": 30,
    "start_time": "2022-10-29T20:18:05.681Z"
   },
   {
    "duration": 20,
    "start_time": "2022-10-29T20:18:05.712Z"
   },
   {
    "duration": 15,
    "start_time": "2022-10-29T20:18:05.734Z"
   },
   {
    "duration": 3,
    "start_time": "2022-10-29T20:18:05.750Z"
   },
   {
    "duration": 12,
    "start_time": "2022-10-29T20:18:05.755Z"
   },
   {
    "duration": 10,
    "start_time": "2022-10-29T20:18:05.769Z"
   },
   {
    "duration": 7,
    "start_time": "2022-10-29T20:18:05.780Z"
   },
   {
    "duration": 23,
    "start_time": "2022-10-29T20:18:05.789Z"
   },
   {
    "duration": 9,
    "start_time": "2022-10-29T20:18:05.813Z"
   },
   {
    "duration": 10,
    "start_time": "2022-10-29T20:18:05.823Z"
   },
   {
    "duration": 6,
    "start_time": "2022-10-29T20:18:05.835Z"
   },
   {
    "duration": 18,
    "start_time": "2022-10-29T20:18:05.842Z"
   },
   {
    "duration": 16,
    "start_time": "2022-10-29T20:18:05.861Z"
   },
   {
    "duration": 53,
    "start_time": "2022-10-29T20:18:05.878Z"
   },
   {
    "duration": 38,
    "start_time": "2022-10-29T20:18:05.934Z"
   },
   {
    "duration": 47,
    "start_time": "2022-10-29T20:18:05.975Z"
   },
   {
    "duration": 7,
    "start_time": "2022-10-29T20:23:01.919Z"
   },
   {
    "duration": 5,
    "start_time": "2022-10-29T20:26:50.408Z"
   },
   {
    "duration": 540,
    "start_time": "2022-10-30T08:50:35.113Z"
   },
   {
    "duration": 21,
    "start_time": "2022-10-30T08:50:35.655Z"
   },
   {
    "duration": 14,
    "start_time": "2022-10-30T08:50:35.678Z"
   },
   {
    "duration": 9,
    "start_time": "2022-10-30T08:50:35.694Z"
   },
   {
    "duration": 38,
    "start_time": "2022-10-30T08:50:35.704Z"
   },
   {
    "duration": 4,
    "start_time": "2022-10-30T08:50:35.743Z"
   },
   {
    "duration": 13,
    "start_time": "2022-10-30T08:50:35.748Z"
   },
   {
    "duration": 17,
    "start_time": "2022-10-30T08:50:35.762Z"
   },
   {
    "duration": 10,
    "start_time": "2022-10-30T08:50:35.781Z"
   },
   {
    "duration": 4,
    "start_time": "2022-10-30T08:50:35.793Z"
   },
   {
    "duration": 44,
    "start_time": "2022-10-30T08:50:35.799Z"
   },
   {
    "duration": 9,
    "start_time": "2022-10-30T08:50:35.844Z"
   },
   {
    "duration": 10,
    "start_time": "2022-10-30T08:50:35.855Z"
   },
   {
    "duration": 20,
    "start_time": "2022-10-30T08:50:35.867Z"
   },
   {
    "duration": 27,
    "start_time": "2022-10-30T08:50:35.889Z"
   },
   {
    "duration": 18,
    "start_time": "2022-10-30T08:50:35.918Z"
   },
   {
    "duration": 3,
    "start_time": "2022-10-30T08:50:35.937Z"
   },
   {
    "duration": 12,
    "start_time": "2022-10-30T08:50:35.942Z"
   },
   {
    "duration": 12,
    "start_time": "2022-10-30T08:50:35.955Z"
   },
   {
    "duration": 3,
    "start_time": "2022-10-30T08:50:35.969Z"
   },
   {
    "duration": 13,
    "start_time": "2022-10-30T08:50:35.973Z"
   },
   {
    "duration": 8,
    "start_time": "2022-10-30T08:50:35.988Z"
   },
   {
    "duration": 42,
    "start_time": "2022-10-30T08:50:35.998Z"
   },
   {
    "duration": 4,
    "start_time": "2022-10-30T08:50:36.042Z"
   },
   {
    "duration": 26,
    "start_time": "2022-10-30T08:50:36.047Z"
   },
   {
    "duration": 18,
    "start_time": "2022-10-30T08:50:36.075Z"
   },
   {
    "duration": 48,
    "start_time": "2022-10-30T08:50:36.094Z"
   },
   {
    "duration": 28,
    "start_time": "2022-10-30T08:50:36.145Z"
   },
   {
    "duration": 29,
    "start_time": "2022-10-30T08:50:36.175Z"
   },
   {
    "duration": 407,
    "start_time": "2022-10-30T15:03:29.173Z"
   },
   {
    "duration": 20,
    "start_time": "2022-10-30T15:03:29.582Z"
   },
   {
    "duration": 21,
    "start_time": "2022-10-30T15:03:29.604Z"
   },
   {
    "duration": 29,
    "start_time": "2022-10-30T15:03:29.628Z"
   },
   {
    "duration": 32,
    "start_time": "2022-10-30T15:03:29.658Z"
   },
   {
    "duration": 3,
    "start_time": "2022-10-30T15:03:29.692Z"
   },
   {
    "duration": 21,
    "start_time": "2022-10-30T15:03:29.696Z"
   },
   {
    "duration": 15,
    "start_time": "2022-10-30T15:03:29.719Z"
   },
   {
    "duration": 16,
    "start_time": "2022-10-30T15:03:29.735Z"
   },
   {
    "duration": 4,
    "start_time": "2022-10-30T15:03:29.754Z"
   },
   {
    "duration": 39,
    "start_time": "2022-10-30T15:03:29.759Z"
   },
   {
    "duration": 9,
    "start_time": "2022-10-30T15:03:29.800Z"
   },
   {
    "duration": 7,
    "start_time": "2022-10-30T15:03:29.811Z"
   },
   {
    "duration": 22,
    "start_time": "2022-10-30T15:03:29.820Z"
   },
   {
    "duration": 23,
    "start_time": "2022-10-30T15:03:29.843Z"
   },
   {
    "duration": 15,
    "start_time": "2022-10-30T15:03:29.868Z"
   },
   {
    "duration": 3,
    "start_time": "2022-10-30T15:03:29.885Z"
   },
   {
    "duration": 18,
    "start_time": "2022-10-30T15:03:29.889Z"
   },
   {
    "duration": 8,
    "start_time": "2022-10-30T15:03:29.908Z"
   },
   {
    "duration": 7,
    "start_time": "2022-10-30T15:03:29.918Z"
   },
   {
    "duration": 16,
    "start_time": "2022-10-30T15:03:29.927Z"
   },
   {
    "duration": 12,
    "start_time": "2022-10-30T15:03:29.945Z"
   },
   {
    "duration": 11,
    "start_time": "2022-10-30T15:03:29.959Z"
   },
   {
    "duration": 8,
    "start_time": "2022-10-30T15:03:29.971Z"
   },
   {
    "duration": 23,
    "start_time": "2022-10-30T15:03:29.980Z"
   },
   {
    "duration": 34,
    "start_time": "2022-10-30T15:03:30.004Z"
   },
   {
    "duration": 59,
    "start_time": "2022-10-30T15:03:30.040Z"
   },
   {
    "duration": 28,
    "start_time": "2022-10-30T15:03:30.102Z"
   },
   {
    "duration": 29,
    "start_time": "2022-10-30T15:03:30.132Z"
   },
   {
    "duration": 487,
    "start_time": "2022-10-30T15:09:13.198Z"
   },
   {
    "duration": 20,
    "start_time": "2022-10-30T15:09:13.686Z"
   },
   {
    "duration": 22,
    "start_time": "2022-10-30T15:09:13.707Z"
   },
   {
    "duration": 15,
    "start_time": "2022-10-30T15:09:13.730Z"
   },
   {
    "duration": 49,
    "start_time": "2022-10-30T15:09:13.746Z"
   },
   {
    "duration": 3,
    "start_time": "2022-10-30T15:09:13.797Z"
   },
   {
    "duration": 13,
    "start_time": "2022-10-30T15:09:13.801Z"
   },
   {
    "duration": 10,
    "start_time": "2022-10-30T15:09:13.815Z"
   },
   {
    "duration": 33,
    "start_time": "2022-10-30T15:09:13.827Z"
   },
   {
    "duration": 5,
    "start_time": "2022-10-30T15:09:13.862Z"
   },
   {
    "duration": 58,
    "start_time": "2022-10-30T15:09:13.868Z"
   },
   {
    "duration": 10,
    "start_time": "2022-10-30T15:09:13.927Z"
   },
   {
    "duration": 17,
    "start_time": "2022-10-30T15:09:13.938Z"
   },
   {
    "duration": 31,
    "start_time": "2022-10-30T15:09:13.956Z"
   },
   {
    "duration": 26,
    "start_time": "2022-10-30T15:09:13.989Z"
   },
   {
    "duration": 20,
    "start_time": "2022-10-30T15:09:14.017Z"
   },
   {
    "duration": 16,
    "start_time": "2022-10-30T15:09:14.038Z"
   },
   {
    "duration": 22,
    "start_time": "2022-10-30T15:09:14.055Z"
   },
   {
    "duration": 18,
    "start_time": "2022-10-30T15:09:14.078Z"
   },
   {
    "duration": 15,
    "start_time": "2022-10-30T15:09:14.097Z"
   },
   {
    "duration": 22,
    "start_time": "2022-10-30T15:09:14.113Z"
   },
   {
    "duration": 13,
    "start_time": "2022-10-30T15:09:14.137Z"
   },
   {
    "duration": 25,
    "start_time": "2022-10-30T15:09:14.151Z"
   },
   {
    "duration": 18,
    "start_time": "2022-10-30T15:09:14.178Z"
   },
   {
    "duration": 27,
    "start_time": "2022-10-30T15:09:14.197Z"
   },
   {
    "duration": 27,
    "start_time": "2022-10-30T15:09:14.226Z"
   },
   {
    "duration": 51,
    "start_time": "2022-10-30T15:09:14.254Z"
   },
   {
    "duration": 28,
    "start_time": "2022-10-30T15:09:14.308Z"
   },
   {
    "duration": 30,
    "start_time": "2022-10-30T15:09:14.338Z"
   },
   {
    "duration": 45,
    "start_time": "2022-10-30T17:04:40.785Z"
   },
   {
    "duration": 727,
    "start_time": "2022-10-30T17:05:02.688Z"
   },
   {
    "duration": 22,
    "start_time": "2022-10-30T17:05:03.417Z"
   },
   {
    "duration": 13,
    "start_time": "2022-10-30T17:05:03.441Z"
   },
   {
    "duration": 12,
    "start_time": "2022-10-30T17:05:03.456Z"
   },
   {
    "duration": 50,
    "start_time": "2022-10-30T17:05:03.470Z"
   },
   {
    "duration": 5,
    "start_time": "2022-10-30T17:05:03.522Z"
   },
   {
    "duration": 13,
    "start_time": "2022-10-30T17:05:03.528Z"
   },
   {
    "duration": 5,
    "start_time": "2022-10-30T17:05:03.542Z"
   },
   {
    "duration": 9,
    "start_time": "2022-10-30T17:05:03.548Z"
   },
   {
    "duration": 3,
    "start_time": "2022-10-30T17:05:03.560Z"
   },
   {
    "duration": 55,
    "start_time": "2022-10-30T17:05:03.565Z"
   },
   {
    "duration": 10,
    "start_time": "2022-10-30T17:05:03.622Z"
   },
   {
    "duration": 11,
    "start_time": "2022-10-30T17:05:03.633Z"
   },
   {
    "duration": 13,
    "start_time": "2022-10-30T17:05:03.645Z"
   },
   {
    "duration": 18,
    "start_time": "2022-10-30T17:05:03.660Z"
   },
   {
    "duration": 17,
    "start_time": "2022-10-30T17:05:03.680Z"
   },
   {
    "duration": 22,
    "start_time": "2022-10-30T17:05:03.699Z"
   },
   {
    "duration": 24,
    "start_time": "2022-10-30T17:05:03.723Z"
   },
   {
    "duration": 17,
    "start_time": "2022-10-30T17:05:03.748Z"
   },
   {
    "duration": 5,
    "start_time": "2022-10-30T17:05:03.767Z"
   },
   {
    "duration": 26,
    "start_time": "2022-10-30T17:05:03.773Z"
   },
   {
    "duration": 23,
    "start_time": "2022-10-30T17:05:03.800Z"
   },
   {
    "duration": 25,
    "start_time": "2022-10-30T17:05:03.825Z"
   },
   {
    "duration": 3,
    "start_time": "2022-10-30T17:05:03.851Z"
   },
   {
    "duration": 23,
    "start_time": "2022-10-30T17:05:03.856Z"
   },
   {
    "duration": 22,
    "start_time": "2022-10-30T17:05:03.881Z"
   },
   {
    "duration": 46,
    "start_time": "2022-10-30T17:05:03.904Z"
   },
   {
    "duration": 27,
    "start_time": "2022-10-30T17:05:03.953Z"
   },
   {
    "duration": 44,
    "start_time": "2022-10-30T17:05:03.982Z"
   },
   {
    "duration": 49,
    "start_time": "2022-10-30T17:08:34.821Z"
   },
   {
    "duration": 13,
    "start_time": "2022-10-30T17:09:24.838Z"
   },
   {
    "duration": 21,
    "start_time": "2022-10-30T17:09:33.351Z"
   },
   {
    "duration": 83,
    "start_time": "2022-10-30T17:10:04.215Z"
   },
   {
    "duration": 69,
    "start_time": "2022-10-30T17:10:24.508Z"
   },
   {
    "duration": 21,
    "start_time": "2022-10-30T17:15:15.438Z"
   },
   {
    "duration": 22,
    "start_time": "2022-10-30T17:16:02.045Z"
   },
   {
    "duration": 21,
    "start_time": "2022-10-30T17:18:05.286Z"
   },
   {
    "duration": 23,
    "start_time": "2022-10-30T17:18:17.629Z"
   },
   {
    "duration": 21,
    "start_time": "2022-10-30T17:18:35.337Z"
   },
   {
    "duration": 22,
    "start_time": "2022-10-30T17:28:22.401Z"
   },
   {
    "duration": 21,
    "start_time": "2022-10-30T17:28:31.887Z"
   },
   {
    "duration": 21,
    "start_time": "2022-10-30T17:29:36.726Z"
   },
   {
    "duration": 21,
    "start_time": "2022-10-30T17:29:44.565Z"
   },
   {
    "duration": 264,
    "start_time": "2022-10-30T17:36:13.538Z"
   },
   {
    "duration": 48,
    "start_time": "2022-10-30T17:36:38.527Z"
   },
   {
    "duration": 45,
    "start_time": "2022-10-30T17:37:08.054Z"
   },
   {
    "duration": 169,
    "start_time": "2022-10-30T17:37:59.778Z"
   },
   {
    "duration": 45,
    "start_time": "2022-10-30T17:38:10.765Z"
   },
   {
    "duration": 43,
    "start_time": "2022-10-30T17:38:43.359Z"
   },
   {
    "duration": 20,
    "start_time": "2022-10-30T17:39:55.304Z"
   },
   {
    "duration": 23,
    "start_time": "2022-10-30T17:42:06.995Z"
   },
   {
    "duration": 21,
    "start_time": "2022-10-30T17:43:06.264Z"
   },
   {
    "duration": 17,
    "start_time": "2022-10-30T17:43:32.058Z"
   },
   {
    "duration": 18,
    "start_time": "2022-10-30T17:44:07.291Z"
   },
   {
    "duration": 19,
    "start_time": "2022-10-30T17:44:24.612Z"
   },
   {
    "duration": 19,
    "start_time": "2022-10-30T17:44:36.785Z"
   },
   {
    "duration": 18,
    "start_time": "2022-10-30T17:45:11.949Z"
   },
   {
    "duration": 18,
    "start_time": "2022-10-30T17:46:10.458Z"
   },
   {
    "duration": 20,
    "start_time": "2022-10-30T17:46:26.206Z"
   },
   {
    "duration": 43,
    "start_time": "2022-10-30T17:46:44.769Z"
   },
   {
    "duration": 19,
    "start_time": "2022-10-30T17:47:01.806Z"
   },
   {
    "duration": 18,
    "start_time": "2022-10-30T17:48:07.787Z"
   },
   {
    "duration": 21,
    "start_time": "2022-10-30T17:51:34.771Z"
   },
   {
    "duration": 219,
    "start_time": "2022-10-30T17:58:31.644Z"
   },
   {
    "duration": 39,
    "start_time": "2022-10-30T17:59:34.546Z"
   },
   {
    "duration": 44,
    "start_time": "2022-10-30T17:59:44.161Z"
   },
   {
    "duration": 45,
    "start_time": "2022-10-30T18:02:01.639Z"
   },
   {
    "duration": 50,
    "start_time": "2022-10-30T18:02:33.346Z"
   },
   {
    "duration": 43,
    "start_time": "2022-10-30T18:03:13.133Z"
   },
   {
    "duration": 43,
    "start_time": "2022-10-30T18:04:53.722Z"
   },
   {
    "duration": 46,
    "start_time": "2022-10-30T18:06:16.384Z"
   },
   {
    "duration": 44,
    "start_time": "2022-10-30T18:07:58.481Z"
   },
   {
    "duration": 44,
    "start_time": "2022-10-30T18:08:23.080Z"
   },
   {
    "duration": 47,
    "start_time": "2022-10-30T18:08:30.172Z"
   },
   {
    "duration": 41,
    "start_time": "2022-10-30T18:08:41.972Z"
   },
   {
    "duration": 45,
    "start_time": "2022-10-30T18:09:43.833Z"
   },
   {
    "duration": 46,
    "start_time": "2022-10-30T18:11:43.390Z"
   },
   {
    "duration": 47,
    "start_time": "2022-10-30T18:11:54.848Z"
   },
   {
    "duration": 45,
    "start_time": "2022-10-30T18:15:14.601Z"
   },
   {
    "duration": 45,
    "start_time": "2022-10-30T18:15:27.660Z"
   },
   {
    "duration": 44,
    "start_time": "2022-10-30T18:15:59.974Z"
   },
   {
    "duration": 35,
    "start_time": "2022-10-30T18:16:36.803Z"
   },
   {
    "duration": 43,
    "start_time": "2022-10-30T18:17:49.045Z"
   },
   {
    "duration": 36,
    "start_time": "2022-10-30T18:19:00.886Z"
   },
   {
    "duration": 46,
    "start_time": "2022-10-30T18:19:10.429Z"
   },
   {
    "duration": 45,
    "start_time": "2022-10-30T18:20:01.891Z"
   },
   {
    "duration": 63,
    "start_time": "2022-10-30T18:20:18.938Z"
   },
   {
    "duration": 44,
    "start_time": "2022-10-30T18:20:51.164Z"
   },
   {
    "duration": 122,
    "start_time": "2022-10-30T18:24:27.047Z"
   },
   {
    "duration": 46,
    "start_time": "2022-10-30T18:24:41.722Z"
   },
   {
    "duration": 41,
    "start_time": "2022-10-30T18:26:00.859Z"
   },
   {
    "duration": 45,
    "start_time": "2022-10-30T18:26:12.307Z"
   },
   {
    "duration": 43,
    "start_time": "2022-10-30T18:26:34.099Z"
   },
   {
    "duration": 46,
    "start_time": "2022-10-30T18:26:41.507Z"
   },
   {
    "duration": 59,
    "start_time": "2022-10-30T18:26:51.455Z"
   },
   {
    "duration": 48,
    "start_time": "2022-10-30T18:27:47.308Z"
   },
   {
    "duration": 19,
    "start_time": "2022-10-30T18:28:02.692Z"
   },
   {
    "duration": 17,
    "start_time": "2022-10-30T18:28:34.790Z"
   },
   {
    "duration": 19,
    "start_time": "2022-10-30T18:29:20.672Z"
   },
   {
    "duration": 17,
    "start_time": "2022-10-30T18:29:39.241Z"
   },
   {
    "duration": 40,
    "start_time": "2022-10-30T18:30:13.234Z"
   },
   {
    "duration": 55,
    "start_time": "2022-10-30T18:30:24.442Z"
   },
   {
    "duration": 17,
    "start_time": "2022-10-30T18:30:53.046Z"
   },
   {
    "duration": 16,
    "start_time": "2022-10-30T18:31:13.688Z"
   },
   {
    "duration": 19,
    "start_time": "2022-10-30T18:31:56.346Z"
   },
   {
    "duration": 18,
    "start_time": "2022-10-30T18:32:03.370Z"
   },
   {
    "duration": 37,
    "start_time": "2022-10-30T18:40:16.155Z"
   },
   {
    "duration": 4,
    "start_time": "2022-10-30T18:41:54.626Z"
   },
   {
    "duration": 37,
    "start_time": "2022-10-30T18:42:04.217Z"
   },
   {
    "duration": 42,
    "start_time": "2022-10-30T18:42:09.503Z"
   },
   {
    "duration": 37,
    "start_time": "2022-10-30T18:42:21.654Z"
   },
   {
    "duration": 31,
    "start_time": "2022-10-30T18:43:49.221Z"
   },
   {
    "duration": 52,
    "start_time": "2022-10-30T18:45:11.180Z"
   },
   {
    "duration": 35,
    "start_time": "2022-10-30T18:45:23.995Z"
   },
   {
    "duration": 37,
    "start_time": "2022-10-30T18:45:31.672Z"
   },
   {
    "duration": 43,
    "start_time": "2022-10-30T18:45:56.340Z"
   },
   {
    "duration": 449,
    "start_time": "2022-10-31T11:19:20.735Z"
   },
   {
    "duration": 20,
    "start_time": "2022-10-31T11:19:21.186Z"
   },
   {
    "duration": 45,
    "start_time": "2022-10-31T11:19:21.207Z"
   },
   {
    "duration": 22,
    "start_time": "2022-10-31T11:19:21.253Z"
   },
   {
    "duration": 56,
    "start_time": "2022-10-31T11:19:21.276Z"
   },
   {
    "duration": 2,
    "start_time": "2022-10-31T11:19:21.334Z"
   },
   {
    "duration": 29,
    "start_time": "2022-10-31T11:19:21.338Z"
   },
   {
    "duration": 18,
    "start_time": "2022-10-31T11:19:21.368Z"
   },
   {
    "duration": 41,
    "start_time": "2022-10-31T11:19:21.387Z"
   },
   {
    "duration": 11,
    "start_time": "2022-10-31T11:19:21.430Z"
   },
   {
    "duration": 44,
    "start_time": "2022-10-31T11:19:21.443Z"
   },
   {
    "duration": 11,
    "start_time": "2022-10-31T11:19:21.489Z"
   },
   {
    "duration": 13,
    "start_time": "2022-10-31T11:19:21.502Z"
   },
   {
    "duration": 30,
    "start_time": "2022-10-31T11:19:21.517Z"
   },
   {
    "duration": 37,
    "start_time": "2022-10-31T11:19:21.549Z"
   },
   {
    "duration": 20,
    "start_time": "2022-10-31T11:19:21.588Z"
   },
   {
    "duration": 44,
    "start_time": "2022-10-31T11:19:21.610Z"
   },
   {
    "duration": 41,
    "start_time": "2022-10-31T11:19:21.655Z"
   },
   {
    "duration": 19,
    "start_time": "2022-10-31T11:19:21.698Z"
   },
   {
    "duration": 36,
    "start_time": "2022-10-31T11:19:21.718Z"
   },
   {
    "duration": 25,
    "start_time": "2022-10-31T11:19:21.755Z"
   },
   {
    "duration": 34,
    "start_time": "2022-10-31T11:19:21.781Z"
   },
   {
    "duration": 29,
    "start_time": "2022-10-31T11:19:21.817Z"
   },
   {
    "duration": 23,
    "start_time": "2022-10-31T11:19:21.848Z"
   },
   {
    "duration": 56,
    "start_time": "2022-10-31T11:19:21.873Z"
   },
   {
    "duration": 56,
    "start_time": "2022-10-31T11:19:21.930Z"
   },
   {
    "duration": 73,
    "start_time": "2022-10-31T11:19:21.988Z"
   },
   {
    "duration": 37,
    "start_time": "2022-10-31T11:19:22.064Z"
   },
   {
    "duration": 52,
    "start_time": "2022-10-31T11:19:22.103Z"
   }
  ],
  "celltoolbar": "Необработанный формат ячейки",
  "colab": {
   "name": "dpp_template_part2.ipynb",
   "provenance": []
  },
  "kernelspec": {
   "display_name": "Python 3 (ipykernel)",
   "language": "python",
   "name": "python3"
  },
  "language_info": {
   "codemirror_mode": {
    "name": "ipython",
    "version": 3
   },
   "file_extension": ".py",
   "mimetype": "text/x-python",
   "name": "python",
   "nbconvert_exporter": "python",
   "pygments_lexer": "ipython3",
   "version": "3.9.13"
  },
  "toc": {
   "base_numbering": 1,
   "nav_menu": {},
   "number_sections": true,
   "sideBar": true,
   "skip_h1_title": true,
   "title_cell": "Table of Contents",
   "title_sidebar": "Contents",
   "toc_cell": false,
   "toc_position": {},
   "toc_section_display": true,
   "toc_window_display": false
  }
 },
 "nbformat": 4,
 "nbformat_minor": 5
}
