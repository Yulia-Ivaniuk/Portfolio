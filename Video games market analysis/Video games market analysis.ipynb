{
 "cells": [
  {
   "cell_type": "markdown",
   "metadata": {},
   "source": [
    "# Исследование компьютерных игр и факторов, влияющих на их успешность"
   ]
  },
  {
   "cell_type": "markdown",
   "metadata": {},
   "source": [
    "## 1 Описание проекта\n",
    "\n",
    "**Датафрейм:** исторические данные до 2016г. о продажах игр, оценки пользователей и экспертов, жанров и платформ\n",
    "\n",
    "**Задача:** изучить данные с целью выявления определяющих успешность игры закономерностей, что позволит определить потенциально популярный продукт и спланировать рекламные кампании.\n",
    "\n",
    "**Описание данных:**\n",
    "\n",
    "* Name — название игры\n",
    "* Platform — платформа\n",
    "* Year_of_Release — год выпуска\n",
    "* Genre — жанр игры\n",
    "* NA_sales — продажи в Северной Америке (миллионы проданных копий)\n",
    "* EU_sales — продажи в Европе (миллионы проданных копий)\n",
    "* JP_sales — продажи в Японии (миллионы проданных копий)\n",
    "* Other_sales — продажи в других странах (миллионы проданных копий)\n",
    "* Critic_Score — оценка критиков (максимум 100)\n",
    "* User_Score — оценка пользователей (максимум 10)\n",
    "* Rating — рейтинг от организации ESRB (Entertainment Software Rating Board). Эта ассоциация определяет рейтинг компьютерных игр и присваивает им подходящую возрастную категорию.\n",
    "\n",
    "**План работы:**\n",
    "* Обзор данных\n",
    "* Предобработка данных\n",
    "* Анализ данных для ответа на поставленные вопросы\n",
    "* Портрет пользователя трех регионов\n",
    "* Проверка гипотез\n",
    "* Выводы"
   ]
  },
  {
   "cell_type": "markdown",
   "metadata": {},
   "source": [
    "## 2 Изучение общей информации"
   ]
  },
  {
   "cell_type": "code",
   "execution_count": 1,
   "metadata": {},
   "outputs": [
    {
     "data": {
      "text/html": [
       "<div>\n",
       "<style scoped>\n",
       "    .dataframe tbody tr th:only-of-type {\n",
       "        vertical-align: middle;\n",
       "    }\n",
       "\n",
       "    .dataframe tbody tr th {\n",
       "        vertical-align: top;\n",
       "    }\n",
       "\n",
       "    .dataframe thead th {\n",
       "        text-align: right;\n",
       "    }\n",
       "</style>\n",
       "<table border=\"1\" class=\"dataframe\">\n",
       "  <thead>\n",
       "    <tr style=\"text-align: right;\">\n",
       "      <th></th>\n",
       "      <th>Name</th>\n",
       "      <th>Platform</th>\n",
       "      <th>Year_of_Release</th>\n",
       "      <th>Genre</th>\n",
       "      <th>NA_sales</th>\n",
       "      <th>EU_sales</th>\n",
       "      <th>JP_sales</th>\n",
       "      <th>Other_sales</th>\n",
       "      <th>Critic_Score</th>\n",
       "      <th>User_Score</th>\n",
       "      <th>Rating</th>\n",
       "    </tr>\n",
       "  </thead>\n",
       "  <tbody>\n",
       "    <tr>\n",
       "      <th>0</th>\n",
       "      <td>Wii Sports</td>\n",
       "      <td>Wii</td>\n",
       "      <td>2006.0</td>\n",
       "      <td>Sports</td>\n",
       "      <td>41.36</td>\n",
       "      <td>28.96</td>\n",
       "      <td>3.77</td>\n",
       "      <td>8.45</td>\n",
       "      <td>76.0</td>\n",
       "      <td>8</td>\n",
       "      <td>E</td>\n",
       "    </tr>\n",
       "    <tr>\n",
       "      <th>1</th>\n",
       "      <td>Super Mario Bros.</td>\n",
       "      <td>NES</td>\n",
       "      <td>1985.0</td>\n",
       "      <td>Platform</td>\n",
       "      <td>29.08</td>\n",
       "      <td>3.58</td>\n",
       "      <td>6.81</td>\n",
       "      <td>0.77</td>\n",
       "      <td>NaN</td>\n",
       "      <td>NaN</td>\n",
       "      <td>NaN</td>\n",
       "    </tr>\n",
       "    <tr>\n",
       "      <th>2</th>\n",
       "      <td>Mario Kart Wii</td>\n",
       "      <td>Wii</td>\n",
       "      <td>2008.0</td>\n",
       "      <td>Racing</td>\n",
       "      <td>15.68</td>\n",
       "      <td>12.76</td>\n",
       "      <td>3.79</td>\n",
       "      <td>3.29</td>\n",
       "      <td>82.0</td>\n",
       "      <td>8.3</td>\n",
       "      <td>E</td>\n",
       "    </tr>\n",
       "    <tr>\n",
       "      <th>3</th>\n",
       "      <td>Wii Sports Resort</td>\n",
       "      <td>Wii</td>\n",
       "      <td>2009.0</td>\n",
       "      <td>Sports</td>\n",
       "      <td>15.61</td>\n",
       "      <td>10.93</td>\n",
       "      <td>3.28</td>\n",
       "      <td>2.95</td>\n",
       "      <td>80.0</td>\n",
       "      <td>8</td>\n",
       "      <td>E</td>\n",
       "    </tr>\n",
       "    <tr>\n",
       "      <th>4</th>\n",
       "      <td>Pokemon Red/Pokemon Blue</td>\n",
       "      <td>GB</td>\n",
       "      <td>1996.0</td>\n",
       "      <td>Role-Playing</td>\n",
       "      <td>11.27</td>\n",
       "      <td>8.89</td>\n",
       "      <td>10.22</td>\n",
       "      <td>1.00</td>\n",
       "      <td>NaN</td>\n",
       "      <td>NaN</td>\n",
       "      <td>NaN</td>\n",
       "    </tr>\n",
       "    <tr>\n",
       "      <th>5</th>\n",
       "      <td>Tetris</td>\n",
       "      <td>GB</td>\n",
       "      <td>1989.0</td>\n",
       "      <td>Puzzle</td>\n",
       "      <td>23.20</td>\n",
       "      <td>2.26</td>\n",
       "      <td>4.22</td>\n",
       "      <td>0.58</td>\n",
       "      <td>NaN</td>\n",
       "      <td>NaN</td>\n",
       "      <td>NaN</td>\n",
       "    </tr>\n",
       "    <tr>\n",
       "      <th>6</th>\n",
       "      <td>New Super Mario Bros.</td>\n",
       "      <td>DS</td>\n",
       "      <td>2006.0</td>\n",
       "      <td>Platform</td>\n",
       "      <td>11.28</td>\n",
       "      <td>9.14</td>\n",
       "      <td>6.50</td>\n",
       "      <td>2.88</td>\n",
       "      <td>89.0</td>\n",
       "      <td>8.5</td>\n",
       "      <td>E</td>\n",
       "    </tr>\n",
       "    <tr>\n",
       "      <th>7</th>\n",
       "      <td>Wii Play</td>\n",
       "      <td>Wii</td>\n",
       "      <td>2006.0</td>\n",
       "      <td>Misc</td>\n",
       "      <td>13.96</td>\n",
       "      <td>9.18</td>\n",
       "      <td>2.93</td>\n",
       "      <td>2.84</td>\n",
       "      <td>58.0</td>\n",
       "      <td>6.6</td>\n",
       "      <td>E</td>\n",
       "    </tr>\n",
       "    <tr>\n",
       "      <th>8</th>\n",
       "      <td>New Super Mario Bros. Wii</td>\n",
       "      <td>Wii</td>\n",
       "      <td>2009.0</td>\n",
       "      <td>Platform</td>\n",
       "      <td>14.44</td>\n",
       "      <td>6.94</td>\n",
       "      <td>4.70</td>\n",
       "      <td>2.24</td>\n",
       "      <td>87.0</td>\n",
       "      <td>8.4</td>\n",
       "      <td>E</td>\n",
       "    </tr>\n",
       "    <tr>\n",
       "      <th>9</th>\n",
       "      <td>Duck Hunt</td>\n",
       "      <td>NES</td>\n",
       "      <td>1984.0</td>\n",
       "      <td>Shooter</td>\n",
       "      <td>26.93</td>\n",
       "      <td>0.63</td>\n",
       "      <td>0.28</td>\n",
       "      <td>0.47</td>\n",
       "      <td>NaN</td>\n",
       "      <td>NaN</td>\n",
       "      <td>NaN</td>\n",
       "    </tr>\n",
       "  </tbody>\n",
       "</table>\n",
       "</div>"
      ],
      "text/plain": [
       "                        Name Platform  Year_of_Release         Genre  \\\n",
       "0                 Wii Sports      Wii           2006.0        Sports   \n",
       "1          Super Mario Bros.      NES           1985.0      Platform   \n",
       "2             Mario Kart Wii      Wii           2008.0        Racing   \n",
       "3          Wii Sports Resort      Wii           2009.0        Sports   \n",
       "4   Pokemon Red/Pokemon Blue       GB           1996.0  Role-Playing   \n",
       "5                     Tetris       GB           1989.0        Puzzle   \n",
       "6      New Super Mario Bros.       DS           2006.0      Platform   \n",
       "7                   Wii Play      Wii           2006.0          Misc   \n",
       "8  New Super Mario Bros. Wii      Wii           2009.0      Platform   \n",
       "9                  Duck Hunt      NES           1984.0       Shooter   \n",
       "\n",
       "   NA_sales  EU_sales  JP_sales  Other_sales  Critic_Score User_Score Rating  \n",
       "0     41.36     28.96      3.77         8.45          76.0          8      E  \n",
       "1     29.08      3.58      6.81         0.77           NaN        NaN    NaN  \n",
       "2     15.68     12.76      3.79         3.29          82.0        8.3      E  \n",
       "3     15.61     10.93      3.28         2.95          80.0          8      E  \n",
       "4     11.27      8.89     10.22         1.00           NaN        NaN    NaN  \n",
       "5     23.20      2.26      4.22         0.58           NaN        NaN    NaN  \n",
       "6     11.28      9.14      6.50         2.88          89.0        8.5      E  \n",
       "7     13.96      9.18      2.93         2.84          58.0        6.6      E  \n",
       "8     14.44      6.94      4.70         2.24          87.0        8.4      E  \n",
       "9     26.93      0.63      0.28         0.47           NaN        NaN    NaN  "
      ]
     },
     "execution_count": 1,
     "metadata": {},
     "output_type": "execute_result"
    }
   ],
   "source": [
    "import pandas as pd\n",
    "import matplotlib.pyplot as plt\n",
    "import seaborn as sns\n",
    "import numpy as np\n",
    "from scipy import stats as st\n",
    "\n",
    "#откроем файл и выведем на экран первые 20 строк, чтобы ознакомится с данными\n",
    "data = pd.read_csv('C:/Users/Yulia/Desktop/Yandex Practicum/Проекты/5- Сборный 1 (комп игры)/games.csv')\n",
    "data.head(10)"
   ]
  },
  {
   "cell_type": "code",
   "execution_count": 2,
   "metadata": {
    "scrolled": true
   },
   "outputs": [
    {
     "name": "stdout",
     "output_type": "stream",
     "text": [
      "<class 'pandas.core.frame.DataFrame'>\n",
      "RangeIndex: 16715 entries, 0 to 16714\n",
      "Data columns (total 11 columns):\n",
      " #   Column           Non-Null Count  Dtype  \n",
      "---  ------           --------------  -----  \n",
      " 0   Name             16713 non-null  object \n",
      " 1   Platform         16715 non-null  object \n",
      " 2   Year_of_Release  16446 non-null  float64\n",
      " 3   Genre            16713 non-null  object \n",
      " 4   NA_sales         16715 non-null  float64\n",
      " 5   EU_sales         16715 non-null  float64\n",
      " 6   JP_sales         16715 non-null  float64\n",
      " 7   Other_sales      16715 non-null  float64\n",
      " 8   Critic_Score     8137 non-null   float64\n",
      " 9   User_Score       10014 non-null  object \n",
      " 10  Rating           9949 non-null   object \n",
      "dtypes: float64(6), object(5)\n",
      "memory usage: 1.4+ MB\n"
     ]
    }
   ],
   "source": [
    "#ознакомимся с общей информацией по файлу\n",
    "data.info()"
   ]
  },
  {
   "cell_type": "markdown",
   "metadata": {},
   "source": [
    "**Вывод:** в полученном датасете 11 столбцов и 16715 строк. В столбцах Name, Year_of_Release, Genre, Critic_score, User_Score, Rating есть пропуски в данных, посмотрим на это на этапе предобработки данных. Также типы данных в Year_of_Release и User_Score некорректы, исправим это на этапе предобработки данных. "
   ]
  },
  {
   "cell_type": "markdown",
   "metadata": {},
   "source": [
    "## 3 Предобработка данных"
   ]
  },
  {
   "cell_type": "code",
   "execution_count": 3,
   "metadata": {
    "scrolled": true
   },
   "outputs": [],
   "source": [
    "#приведем названия столбцов к нижнему регистру\n",
    "data.columns = data.columns.str.lower()"
   ]
  },
  {
   "cell_type": "markdown",
   "metadata": {},
   "source": [
    "Приведем столбец 'year_of_release' к типу данных Int, так как года это целые числа."
   ]
  },
  {
   "cell_type": "code",
   "execution_count": 4,
   "metadata": {
    "scrolled": true
   },
   "outputs": [],
   "source": [
    "#заменим тип данных\n",
    "data['year_of_release'] = data['year_of_release'].astype('Int64')"
   ]
  },
  {
   "cell_type": "code",
   "execution_count": 5,
   "metadata": {
    "scrolled": true
   },
   "outputs": [
    {
     "data": {
      "text/plain": [
       "array(['0', '0.2', '0.3', '0.5', '0.6', '0.7', '0.9', '1', '1.1', '1.2',\n",
       "       '1.3', '1.4', '1.5', '1.6', '1.7', '1.8', '1.9', '2', '2.1', '2.2',\n",
       "       '2.3', '2.4', '2.5', '2.6', '2.7', '2.8', '2.9', '3', '3.1', '3.2',\n",
       "       '3.3', '3.4', '3.5', '3.6', '3.7', '3.8', '3.9', '4', '4.1', '4.2',\n",
       "       '4.3', '4.4', '4.5', '4.6', '4.7', '4.8', '4.9', '5', '5.1', '5.2',\n",
       "       '5.3', '5.4', '5.5', '5.6', '5.7', '5.8', '5.9', '6', '6.1', '6.2',\n",
       "       '6.3', '6.4', '6.5', '6.6', '6.7', '6.8', '6.9', '7', '7.1', '7.2',\n",
       "       '7.3', '7.4', '7.5', '7.6', '7.7', '7.8', '7.9', '8', '8.1', '8.2',\n",
       "       '8.3', '8.4', '8.5', '8.6', '8.7', '8.8', '8.9', '9', '9.1', '9.2',\n",
       "       '9.3', '9.4', '9.5', '9.6', '9.7', 'tbd', nan], dtype=object)"
      ]
     },
     "execution_count": 5,
     "metadata": {},
     "output_type": "execute_result"
    }
   ],
   "source": [
    "#посмотрим на уникальные значения столбца 'user_score'\n",
    "data['user_score'].sort_values().unique()"
   ]
  },
  {
   "cell_type": "code",
   "execution_count": 6,
   "metadata": {},
   "outputs": [
    {
     "data": {
      "text/plain": [
       "2424"
      ]
     },
     "execution_count": 6,
     "metadata": {},
     "output_type": "execute_result"
    }
   ],
   "source": [
    "#найдем количество строк со значением 'tbd'\n",
    "len(data[data['user_score'] == 'tbd'])"
   ]
  },
  {
   "cell_type": "markdown",
   "metadata": {},
   "source": [
    "Значение 'tbd' - to be decided означает, что рейтинг для этой игры еще не выставлен. Логично заменить такие значения на пропуски. Приведем столбец 'user_score' к числовому типу данных float с заменой 'tbd' на NaN."
   ]
  },
  {
   "cell_type": "code",
   "execution_count": 7,
   "metadata": {},
   "outputs": [],
   "source": [
    "#заменим тип данных\n",
    "data['user_score'] = pd.to_numeric(data['user_score'], errors='coerce')"
   ]
  },
  {
   "cell_type": "code",
   "execution_count": 8,
   "metadata": {
    "scrolled": false
   },
   "outputs": [
    {
     "data": {
      "text/plain": [
       "name                  2\n",
       "platform              0\n",
       "year_of_release     269\n",
       "genre                 2\n",
       "na_sales              0\n",
       "eu_sales              0\n",
       "jp_sales              0\n",
       "other_sales           0\n",
       "critic_score       8578\n",
       "user_score         9125\n",
       "rating             6766\n",
       "dtype: int64"
      ]
     },
     "execution_count": 8,
     "metadata": {},
     "output_type": "execute_result"
    }
   ],
   "source": [
    "#посмотрим на пропуски в данных\n",
    "data.isna().sum()"
   ]
  },
  {
   "cell_type": "code",
   "execution_count": 9,
   "metadata": {},
   "outputs": [
    {
     "data": {
      "text/plain": [
       "0.016212982351181574"
      ]
     },
     "execution_count": 9,
     "metadata": {},
     "output_type": "execute_result"
    }
   ],
   "source": [
    "#посмотрим на долю пропусков в столбцах 'name', 'year_of_release' и 'genre'\n",
    "len(data[(data['name'].isna()) | (data['year_of_release'].isna()) | (data['genre'].isna())]) / len(data['name'])"
   ]
  },
  {
   "cell_type": "markdown",
   "metadata": {},
   "source": [
    "Логичной замены для пропусков в столбцах 'name', 'year_of_release' и 'genre' нет. Так как строки с пропусками в этих столбцах представляют собой всего 1,6% данных, было принято решение эти строки удалить."
   ]
  },
  {
   "cell_type": "code",
   "execution_count": 10,
   "metadata": {},
   "outputs": [],
   "source": [
    "#удалим строки с пропусками в 'name', 'year_of_release' и 'genre'\n",
    "data = data.dropna(subset=['name', 'year_of_release', 'genre'])"
   ]
  },
  {
   "cell_type": "markdown",
   "metadata": {},
   "source": [
    "Проверим, как количество пропусков в столбцах 'user_score', 'critic_score' и 'rating' распределено по годам, чтобы понять, есть ли между ними какая-нибудь зависимость."
   ]
  },
  {
   "cell_type": "code",
   "execution_count": 11,
   "metadata": {
    "scrolled": false
   },
   "outputs": [
    {
     "data": {
      "image/png": "[encoded data removed]",
      "text/plain": [
       "<Figure size 640x480 with 1 Axes>"
      ]
     },
     "metadata": {},
     "output_type": "display_data"
    },
    {
     "data": {
      "image/png": "[encoded data removed]",
      "text/plain": [
       "<Figure size 640x480 with 1 Axes>"
      ]
     },
     "metadata": {},
     "output_type": "display_data"
    }
   ],
   "source": [
    "#создадим функцию создающую списки с количеством пропусков  по годам в 'user_score', 'critic_score' и 'rating'\n",
    "def nan_count(list, column):\n",
    "    for y in data['year_of_release'].sort_values().unique():\n",
    "        list.append(len(data[(data['year_of_release'] == y) & (data[column].isna())]))\n",
    "    return list\n",
    "\n",
    "years = data['year_of_release'].sort_values().unique()\n",
    "user_count = []\n",
    "critic_count = []\n",
    "rating_count = []\n",
    "nan_count(user_count, 'user_score')\n",
    "nan_count(critic_count, 'critic_score')\n",
    "nan_count(rating_count, 'rating')\n",
    "\n",
    "#соберем датафрейм с количеством пропусков\n",
    "dict = {'years_of_release': years, 'users_score': user_count, 'critics_score': critic_count, 'rating': rating_count}\n",
    "df = pd.DataFrame(dict)\n",
    "\n",
    "#посторим график количества пропусков в рейтингах по годам\n",
    "df.plot(x='years_of_release', linewidth = 3, grid = True, title = 'Количество пропусков в рейтингах по годам', ylabel='Количество пропусков', xlabel='Год')\n",
    "plt.show()\n",
    "#построим график количества выпускаемых игр по годам\n",
    "data.pivot_table(index='year_of_release', values='name', aggfunc='count').plot(linewidth = 3, grid = True, title ='Количество выпускаемых игр по годам', ylabel = 'Количество игр', xlabel='Год', legend=False)\n",
    "plt.show()"
   ]
  },
  {
   "cell_type": "markdown",
   "metadata": {},
   "source": [
    "Как видно на первом графике, количество пропусков в рейтингах от юзеров, критиков и ESRB полностью совпадает до 1998 года. Далее данные немного разнятся, но при этом распределение графиков совпадает. Распределение пропусков в рейтингах также совпадает и с распределением количества выпускаемых игр, что видно из второго графика. Это позволяет сделать вывод о том, что пропуски в данных не являются ошибкой и их наличее скорее всего связано с тем, что определенное количество игр с 1980 по 2016гг не получило рейтингов - возможно игра оказалась не достаточно популярной, не получила широкой огласки, либо производитель не позаботился о рейтингах, ведь, например, ESRB это организация, за членство в которой нужно платить взносы, для того, чтобы у производителя была возможность запросить рейтинг на свою игру. В связи с этим, было принято решение пропуски в столбцах 'user_score', 'critic_score' и 'rating' оставить. \n",
    "\n"
   ]
  },
  {
   "cell_type": "code",
   "execution_count": 12,
   "metadata": {},
   "outputs": [
    {
     "data": {
      "text/plain": [
       "0"
      ]
     },
     "execution_count": 12,
     "metadata": {},
     "output_type": "execute_result"
    }
   ],
   "source": [
    "#проверим данные на явные дубликаты\n",
    "data.duplicated().sum()"
   ]
  },
  {
   "cell_type": "code",
   "execution_count": 13,
   "metadata": {},
   "outputs": [
    {
     "data": {
      "text/plain": [
       "array(['Action', 'Adventure', 'Fighting', 'Misc', 'Platform', 'Puzzle',\n",
       "       'Racing', 'Role-Playing', 'Shooter', 'Simulation', 'Sports',\n",
       "       'Strategy'], dtype=object)"
      ]
     },
     "execution_count": 13,
     "metadata": {},
     "output_type": "execute_result"
    }
   ],
   "source": [
    "#проверим столбец 'genre' на наличие неявных дубликатов\n",
    "data['genre'].sort_values().unique()"
   ]
  },
  {
   "cell_type": "code",
   "execution_count": 14,
   "metadata": {},
   "outputs": [
    {
     "data": {
      "text/plain": [
       "array(['2600', '3DO', '3DS', 'DC', 'DS', 'GB', 'GBA', 'GC', 'GEN', 'GG',\n",
       "       'N64', 'NES', 'NG', 'PC', 'PCFX', 'PS', 'PS2', 'PS3', 'PS4', 'PSP',\n",
       "       'PSV', 'SAT', 'SCD', 'SNES', 'TG16', 'WS', 'Wii', 'WiiU', 'X360',\n",
       "       'XB', 'XOne'], dtype=object)"
      ]
     },
     "execution_count": 14,
     "metadata": {},
     "output_type": "execute_result"
    }
   ],
   "source": [
    "#проверим столбец 'platform' на наличие неявных дубликатов\n",
    "data['platform'].sort_values().unique()"
   ]
  },
  {
   "cell_type": "code",
   "execution_count": 15,
   "metadata": {},
   "outputs": [
    {
     "data": {
      "text/plain": [
       "E       3921\n",
       "T       2905\n",
       "M       1536\n",
       "E10+    1393\n",
       "EC         8\n",
       "K-A        3\n",
       "AO         1\n",
       "RP         1\n",
       "Name: rating, dtype: int64"
      ]
     },
     "execution_count": 15,
     "metadata": {},
     "output_type": "execute_result"
    }
   ],
   "source": [
    "#посморим на значения столбца 'rating'\n",
    "data['rating'].value_counts()"
   ]
  },
  {
   "cell_type": "markdown",
   "metadata": {},
   "source": [
    "В данных представлены следующие категории: \n",
    "- **E** - Подходит для всех возрастных категорий.\n",
    "- **T** - Подходит для лиц старше 13 лет.\n",
    "- **M** - Подходит для лиц старше 17 лет.\n",
    "- **E10+** - Подходит для лиц старше 10 лет. \n",
    "- **EC** - Для детей младшего возраста. \n",
    "- **K-A** - Для детей. В 1998 году был переименован в Е – для всех возрастов, а также чуть позже был добавлен рейтинг Е10+.\n",
    "- **AO** - Подходит для взрослых старше 18 лет. \n",
    "- **RP** - Категория ещё не присвоена.\n",
    "\n",
    "В целях дальнейшего анализа данных было решено категорию K-A переименовать в E10+ (в соответствии с более новой системой рейтингов), а данные с категориями ЕС, АО, RP удалить, так как они нерепрезантативны."
   ]
  },
  {
   "cell_type": "code",
   "execution_count": 16,
   "metadata": {},
   "outputs": [],
   "source": [
    "#переименуем категорию K-A в E10+\n",
    "data['rating'] = data['rating'].replace('K-A', 'E10+')"
   ]
  },
  {
   "cell_type": "code",
   "execution_count": 17,
   "metadata": {},
   "outputs": [],
   "source": [
    "#удалим строки с рейтингами ЕС, АО, RP\n",
    "data = data.query('rating != [\"EC\", \"AO\", \"RP\"]')"
   ]
  },
  {
   "cell_type": "markdown",
   "metadata": {},
   "source": [
    "Посмотрим на числовое описание для числовых столбцов таблицы - 'na_sales', 'eu_sales', 'jp_sales', 'other_sales':"
   ]
  },
  {
   "cell_type": "code",
   "execution_count": 18,
   "metadata": {},
   "outputs": [
    {
     "data": {
      "text/plain": [
       "count    16434.000000\n",
       "mean         0.264003\n",
       "std          0.818581\n",
       "min          0.000000\n",
       "25%          0.000000\n",
       "50%          0.080000\n",
       "75%          0.240000\n",
       "max         41.360000\n",
       "Name: na_sales, dtype: float64"
      ]
     },
     "execution_count": 18,
     "metadata": {},
     "output_type": "execute_result"
    }
   ],
   "source": [
    "data['na_sales'].describe()"
   ]
  },
  {
   "cell_type": "code",
   "execution_count": 19,
   "metadata": {},
   "outputs": [
    {
     "data": {
      "text/plain": [
       "count    16434.000000\n",
       "mean         0.145974\n",
       "std          0.506848\n",
       "min          0.000000\n",
       "25%          0.000000\n",
       "50%          0.020000\n",
       "75%          0.110000\n",
       "max         28.960000\n",
       "Name: eu_sales, dtype: float64"
      ]
     },
     "execution_count": 19,
     "metadata": {},
     "output_type": "execute_result"
    }
   ],
   "source": [
    "data['eu_sales'].describe()"
   ]
  },
  {
   "cell_type": "code",
   "execution_count": 20,
   "metadata": {},
   "outputs": [
    {
     "data": {
      "text/plain": [
       "count    16434.000000\n",
       "mean         0.078535\n",
       "std          0.311189\n",
       "min          0.000000\n",
       "25%          0.000000\n",
       "50%          0.000000\n",
       "75%          0.040000\n",
       "max         10.220000\n",
       "Name: jp_sales, dtype: float64"
      ]
     },
     "execution_count": 20,
     "metadata": {},
     "output_type": "execute_result"
    }
   ],
   "source": [
    "data['jp_sales'].describe()"
   ]
  },
  {
   "cell_type": "code",
   "execution_count": 21,
   "metadata": {},
   "outputs": [
    {
     "data": {
      "text/plain": [
       "count    16434.00000\n",
       "mean         0.04761\n",
       "std          0.18806\n",
       "min          0.00000\n",
       "25%          0.00000\n",
       "50%          0.01000\n",
       "75%          0.03000\n",
       "max         10.57000\n",
       "Name: other_sales, dtype: float64"
      ]
     },
     "execution_count": 21,
     "metadata": {},
     "output_type": "execute_result"
    }
   ],
   "source": [
    "data['other_sales'].describe()"
   ]
  },
  {
   "cell_type": "code",
   "execution_count": 22,
   "metadata": {
    "scrolled": false
   },
   "outputs": [
    {
     "data": {
      "image/png": "[encoded data removed]",
      "text/plain": [
       "<Figure size 500x400 with 1 Axes>"
      ]
     },
     "metadata": {},
     "output_type": "display_data"
    }
   ],
   "source": [
    "#посторим диаграмму размаха для этих столбцов\n",
    "data.boxplot(column=['na_sales', 'eu_sales', 'jp_sales', 'other_sales'], figsize=(5,4))\n",
    "plt.ylim(0,1)\n",
    "plt.ylabel('Объем продаж')\n",
    "plt.title('Диаграмма размаха числа продаж по регионам')\n",
    "plt.show()"
   ]
  },
  {
   "cell_type": "markdown",
   "metadata": {},
   "source": [
    "Как видно из числового описания и диаграммы размаха, разброс данных для числовых столбцов очень большой: na_sales от 0 до 41.36млн, eu_sales от 0 до 28,96млн, jp_sales от 0 до 10,22млн, other_sales от 0 до 10,57млн. При этом большая часть значений попадает в диапазон: na_sales до 0,6млн, eu_sales до 0,275млн, jp_sales до 0,1млн, other_sales до 0,075. "
   ]
  },
  {
   "cell_type": "code",
   "execution_count": 23,
   "metadata": {},
   "outputs": [],
   "source": [
    "#посчитайем суммарные продажи во всех регионах и запишим их в 'total_sales'\n",
    "data['total_sales'] = data[['na_sales','eu_sales','jp_sales', 'other_sales']].sum(axis = 1)"
   ]
  },
  {
   "cell_type": "markdown",
   "metadata": {},
   "source": [
    "**Вывод:**\n",
    "\n",
    "В ходе работы над подготовкой данных были выполнены следующие шаги:\n",
    "- привели названия столбцов к нижнему регистру\n",
    "- изменили тип данных int на для year_of_release и float для user_score\n",
    "- заменили значения tbd в user_score на NaN\n",
    "- удалили пропуски в столбцах 'name', 'year_of_release' и 'genre'\n",
    "- проанализировали пропуски в столбцах 'user_score', 'critic_score' и 'rating'\n",
    "- проверили данные на явные и неявные дубликаты. Дубликатов выявлено не было\n",
    "- проверили значения столбца 'rating' и избавились от нерепрезантативных категорий\n",
    "- посмотрели на числовые столбцы таблицы\n",
    "- добавили столбец 'total_sales' с суммарными продажами во всех регионах"
   ]
  },
  {
   "cell_type": "markdown",
   "metadata": {},
   "source": [
    "## 4 Исследовательский анализ данных"
   ]
  },
  {
   "cell_type": "markdown",
   "metadata": {},
   "source": [
    "### Анализ количества выпускаемых игр "
   ]
  },
  {
   "cell_type": "code",
   "execution_count": 24,
   "metadata": {},
   "outputs": [
    {
     "data": {
      "image/png": "[encoded data removed]",
      "text/plain": [
       "<Figure size 1100x400 with 1 Axes>"
      ]
     },
     "metadata": {},
     "output_type": "display_data"
    }
   ],
   "source": [
    "#построим график количества выпускаемых игр по годам\n",
    "(data.pivot_table(index='year_of_release', values='name', aggfunc='count').\n",
    "plot(grid=True, style='o-', figsize=(11, 4), ylabel='Количество игр', xlabel='Год выпуска', legend=False, title='Количество выпускаемых игр по годам')\n",
    ")\n",
    "plt.show()"
   ]
  },
  {
   "cell_type": "markdown",
   "metadata": {},
   "source": [
    "**Вывод:** Как видно на графике, до 1995г выпускалось менее 200 игр в год. С 1995 количество игр постепенно начинает расти, самое большое количество выпущеных игр приходится на 2008 и 2009гг, с 2010г. число выпускаемых игр снова начинает уменьшаться.\n",
    "\n",
    "Развитие рынка компьютерных игр идет в ногу с развитием технологий: 1996г - переход на 3D, 1997г - рассвет сетевых и онлайн-игр, 2000г - выход приставки PlayStation 2(на сегодняшний день эта приставка остаётся самой популярной на свете), 2003г - появление Facebook и развитие рынка игр в социальных сетях, 2005г - выпуск консолей 7-ого поколения, 2008г - появляются крупные сервисы по продаже мобильных игр: App Store и Android Market, что в разы увеличило продажи и подстегнуло развитие мобильных видеоигр. Спад рынка с 2010г. скорее всего связан с финансовым кризисом - многие компании закрылись, акции издательств упали в цене, в связи с финансовыми потерями компаниям пришлось сокращать расходы на разработку. Кризис надолго повлиял на игровую индуструю, 2012г назвали самым тяжёлым для розничных продаж.\n",
    "\n",
    "В связи с тем, что рынок игр начал активно развиваться с 1995г, для дальнейшего анализа будут взяты данные только за 1995-2016гг. "
   ]
  },
  {
   "cell_type": "markdown",
   "metadata": {},
   "source": [
    "### Анализ игровых платформ"
   ]
  },
  {
   "cell_type": "code",
   "execution_count": 25,
   "metadata": {
    "scrolled": false
   },
   "outputs": [
    {
     "data": {
      "text/html": [
       "<div>\n",
       "<style scoped>\n",
       "    .dataframe tbody tr th:only-of-type {\n",
       "        vertical-align: middle;\n",
       "    }\n",
       "\n",
       "    .dataframe tbody tr th {\n",
       "        vertical-align: top;\n",
       "    }\n",
       "\n",
       "    .dataframe thead th {\n",
       "        text-align: right;\n",
       "    }\n",
       "</style>\n",
       "<table border=\"1\" class=\"dataframe\">\n",
       "  <thead>\n",
       "    <tr style=\"text-align: right;\">\n",
       "      <th></th>\n",
       "      <th>platform</th>\n",
       "      <th>total_sales</th>\n",
       "    </tr>\n",
       "  </thead>\n",
       "  <tbody>\n",
       "    <tr>\n",
       "      <th>0</th>\n",
       "      <td>PS2</td>\n",
       "      <td>1233.32</td>\n",
       "    </tr>\n",
       "    <tr>\n",
       "      <th>1</th>\n",
       "      <td>X360</td>\n",
       "      <td>961.24</td>\n",
       "    </tr>\n",
       "    <tr>\n",
       "      <th>2</th>\n",
       "      <td>PS3</td>\n",
       "      <td>931.34</td>\n",
       "    </tr>\n",
       "    <tr>\n",
       "      <th>3</th>\n",
       "      <td>Wii</td>\n",
       "      <td>890.52</td>\n",
       "    </tr>\n",
       "    <tr>\n",
       "      <th>4</th>\n",
       "      <td>DS</td>\n",
       "      <td>802.11</td>\n",
       "    </tr>\n",
       "    <tr>\n",
       "      <th>5</th>\n",
       "      <td>PS</td>\n",
       "      <td>721.55</td>\n",
       "    </tr>\n",
       "    <tr>\n",
       "      <th>6</th>\n",
       "      <td>PS4</td>\n",
       "      <td>314.14</td>\n",
       "    </tr>\n",
       "    <tr>\n",
       "      <th>7</th>\n",
       "      <td>GBA</td>\n",
       "      <td>312.88</td>\n",
       "    </tr>\n",
       "    <tr>\n",
       "      <th>8</th>\n",
       "      <td>PSP</td>\n",
       "      <td>289.53</td>\n",
       "    </tr>\n",
       "    <tr>\n",
       "      <th>9</th>\n",
       "      <td>3DS</td>\n",
       "      <td>257.81</td>\n",
       "    </tr>\n",
       "  </tbody>\n",
       "</table>\n",
       "</div>"
      ],
      "text/plain": [
       "  platform  total_sales\n",
       "0      PS2      1233.32\n",
       "1     X360       961.24\n",
       "2      PS3       931.34\n",
       "3      Wii       890.52\n",
       "4       DS       802.11\n",
       "5       PS       721.55\n",
       "6      PS4       314.14\n",
       "7      GBA       312.88\n",
       "8      PSP       289.53\n",
       "9      3DS       257.81"
      ]
     },
     "execution_count": 25,
     "metadata": {},
     "output_type": "execute_result"
    }
   ],
   "source": [
    "#найдем платформы с наибольшими суммарными продажами\n",
    "(data[data['year_of_release'] >= 1995]\n",
    ".pivot_table(index='platform', values='total_sales', aggfunc='sum')\n",
    ".sort_values(by='total_sales', ascending=False)\n",
    ".reset_index()\n",
    ".head(10)\n",
    ")"
   ]
  },
  {
   "cell_type": "code",
   "execution_count": 26,
   "metadata": {},
   "outputs": [
    {
     "data": {
      "image/png": "[encoded data removed]",
      "text/plain": [
       "<Figure size 1000x400 with 1 Axes>"
      ]
     },
     "metadata": {},
     "output_type": "display_data"
    }
   ],
   "source": [
    "#построим график распределения продаж по топ-5 платформам по годам\n",
    "(data[(data['platform'].isin(['PS2', 'X360', 'PS3', 'Wii', 'DS'])) & (data['year_of_release'] >= 1995)]\n",
    " .pivot_table(index='year_of_release', columns='platform', values='total_sales', aggfunc='sum')\n",
    " .plot(figsize=(10,4), style='o-', grid=True, xlabel='Год', ylabel='Сумма продаж', title='Распределение продаж по топ-5 платформам по годам')\n",
    ")\n",
    "plt.show()"
   ]
  },
  {
   "cell_type": "markdown",
   "metadata": {},
   "source": [
    "**Вывод:** В период за 1995-2016гг самыми прибыльными оказались платформы - \"PS2\", \"X360\", \"PS3\", \"Wii\", \"DS\". Как видно из графика распределения продаж по годам, платформа существует на рынке в среднем 10 лет.\n",
    "\n",
    "В связи с тем, что рынок компьютерных игр очень динамично развивающийся рынок, новые консоли выходят каждые 2-3 года, для дальнейшего анализа выберем актуальным периодом для исследования данные за 2014-2016г."
   ]
  },
  {
   "cell_type": "code",
   "execution_count": 27,
   "metadata": {},
   "outputs": [
    {
     "data": {
      "text/html": [
       "<div>\n",
       "<style scoped>\n",
       "    .dataframe tbody tr th:only-of-type {\n",
       "        vertical-align: middle;\n",
       "    }\n",
       "\n",
       "    .dataframe tbody tr th {\n",
       "        vertical-align: top;\n",
       "    }\n",
       "\n",
       "    .dataframe thead th {\n",
       "        text-align: right;\n",
       "    }\n",
       "</style>\n",
       "<table border=\"1\" class=\"dataframe\">\n",
       "  <thead>\n",
       "    <tr style=\"text-align: right;\">\n",
       "      <th>platform</th>\n",
       "      <th>3DS</th>\n",
       "      <th>PC</th>\n",
       "      <th>PS3</th>\n",
       "      <th>PS4</th>\n",
       "      <th>PSP</th>\n",
       "      <th>PSV</th>\n",
       "      <th>Wii</th>\n",
       "      <th>WiiU</th>\n",
       "      <th>X360</th>\n",
       "      <th>XOne</th>\n",
       "    </tr>\n",
       "    <tr>\n",
       "      <th>year_of_release</th>\n",
       "      <th></th>\n",
       "      <th></th>\n",
       "      <th></th>\n",
       "      <th></th>\n",
       "      <th></th>\n",
       "      <th></th>\n",
       "      <th></th>\n",
       "      <th></th>\n",
       "      <th></th>\n",
       "      <th></th>\n",
       "    </tr>\n",
       "  </thead>\n",
       "  <tbody>\n",
       "    <tr>\n",
       "      <th>2014</th>\n",
       "      <td>43.76</td>\n",
       "      <td>13.28</td>\n",
       "      <td>47.76</td>\n",
       "      <td>100.00</td>\n",
       "      <td>0.24</td>\n",
       "      <td>11.90</td>\n",
       "      <td>3.75</td>\n",
       "      <td>22.03</td>\n",
       "      <td>34.74</td>\n",
       "      <td>54.07</td>\n",
       "    </tr>\n",
       "    <tr>\n",
       "      <th>2015</th>\n",
       "      <td>27.78</td>\n",
       "      <td>8.52</td>\n",
       "      <td>16.82</td>\n",
       "      <td>118.90</td>\n",
       "      <td>0.12</td>\n",
       "      <td>6.25</td>\n",
       "      <td>1.14</td>\n",
       "      <td>16.35</td>\n",
       "      <td>11.96</td>\n",
       "      <td>60.14</td>\n",
       "    </tr>\n",
       "    <tr>\n",
       "      <th>2016</th>\n",
       "      <td>15.14</td>\n",
       "      <td>5.25</td>\n",
       "      <td>3.60</td>\n",
       "      <td>69.25</td>\n",
       "      <td>NaN</td>\n",
       "      <td>4.25</td>\n",
       "      <td>0.18</td>\n",
       "      <td>4.60</td>\n",
       "      <td>1.52</td>\n",
       "      <td>26.15</td>\n",
       "    </tr>\n",
       "  </tbody>\n",
       "</table>\n",
       "</div>"
      ],
      "text/plain": [
       "platform           3DS     PC    PS3     PS4   PSP    PSV   Wii   WiiU   X360  \\\n",
       "year_of_release                                                                 \n",
       "2014             43.76  13.28  47.76  100.00  0.24  11.90  3.75  22.03  34.74   \n",
       "2015             27.78   8.52  16.82  118.90  0.12   6.25  1.14  16.35  11.96   \n",
       "2016             15.14   5.25   3.60   69.25   NaN   4.25  0.18   4.60   1.52   \n",
       "\n",
       "platform          XOne  \n",
       "year_of_release         \n",
       "2014             54.07  \n",
       "2015             60.14  \n",
       "2016             26.15  "
      ]
     },
     "execution_count": 27,
     "metadata": {},
     "output_type": "execute_result"
    }
   ],
   "source": [
    "#посмотрим на продажи разных платформ за 2014-2016г\n",
    "(data[data['year_of_release'] >= 2014]\n",
    " .pivot_table(index='year_of_release', columns='platform', values='total_sales', aggfunc='sum')\n",
    " )"
   ]
  },
  {
   "cell_type": "code",
   "execution_count": 28,
   "metadata": {},
   "outputs": [
    {
     "data": {
      "image/png": "[encoded data removed]",
      "text/plain": [
       "<Figure size 800x400 with 1 Axes>"
      ]
     },
     "metadata": {},
     "output_type": "display_data"
    }
   ],
   "source": [
    "#построим график продаж по платформам за 2014-2016гг\n",
    "(data[data['year_of_release'] >= 2014]\n",
    " .pivot_table(index='year_of_release', columns='platform', values='total_sales', aggfunc='sum')\n",
    " .plot(kind='bar', figsize=(8,4), grid=True, xlabel='Год', ylabel='Сумма продаж', title='Общая сумма продаж разных платформ за 2014-2016г')\n",
    ")\n",
    "plt.legend(fontsize=10)\n",
    "plt.show()"
   ]
  },
  {
   "cell_type": "markdown",
   "metadata": {},
   "source": [
    "**Вывод:** Как видно на графике лидерами продаж за 2014-2016г являются PS4, XOne и 3DS. Платформа 3DS вышла в 2011г, а PS4 и XOne в 2013г, значит в соответствии со средним циклом жизни платформ они останутся на рынке до 2021-2023г. Однако, необходимо отметить, что в 2016г продажи по всем трем платформам падают, при этом нужно брать в расчет то, что данные за 2016г могут быть неполными. Спад может быть связан также с тем, что в 2016г было выпущено меньше игр, чем в 2015г. "
   ]
  },
  {
   "cell_type": "code",
   "execution_count": 29,
   "metadata": {},
   "outputs": [
    {
     "data": {
      "image/png": "[encoded data removed]",
      "text/plain": [
       "<Figure size 800x500 with 1 Axes>"
      ]
     },
     "metadata": {},
     "output_type": "display_data"
    }
   ],
   "source": [
    "#построим диаграмму размаха по глобальным продажам игр в разбивке по платформам\n",
    "data_boxplot = data[(data['platform'] == 'PS4') | (data['platform'] == 'XOne') | (data['platform'] == '3DS') & (data['year_of_release'] >= 2014)]\n",
    "fig, ax = plt.subplots(1, figsize=(8, 5))\n",
    "sns.boxplot(x=data_boxplot['total_sales'], y=data_boxplot['platform'])\n",
    "plt.xlim(0,3)\n",
    "plt.title('Диаграмма размаха по глобальным продажам игр в разбивке по платформам')\n",
    "plt.xlabel('Сумма продаж')\n",
    "plt.ylabel('Платформа')\n",
    "plt.show()"
   ]
  },
  {
   "cell_type": "markdown",
   "metadata": {},
   "source": [
    "**Вывод:** На графике видно, что 3DS отстает по продажам от PS4 и XOne. К тому же разброс значений для 3DS меньше, чем разброс у PS4 и XOne, то есть в среднем игры для 3DS продаются более менее одинаково и на рынке не появлялось большого количество популярных игр для этой платформы. Интересно отметить, что в среднем игры на PS4 и XOne продаются в почти одинаковых количествах, однако как мы считали ранее, объем продаж игр на PS4 за 2014-2016г в 2 раза выше продаж на XOne. Это означает, что у PS4 есть несколько очень успешных или эксклюзивных игр, которые сильно повлияли на общий объем продаж."
   ]
  },
  {
   "cell_type": "code",
   "execution_count": 30,
   "metadata": {
    "scrolled": true
   },
   "outputs": [
    {
     "data": {
      "text/html": [
       "<div>\n",
       "<style scoped>\n",
       "    .dataframe tbody tr th:only-of-type {\n",
       "        vertical-align: middle;\n",
       "    }\n",
       "\n",
       "    .dataframe tbody tr th {\n",
       "        vertical-align: top;\n",
       "    }\n",
       "\n",
       "    .dataframe thead th {\n",
       "        text-align: right;\n",
       "    }\n",
       "</style>\n",
       "<table border=\"1\" class=\"dataframe\">\n",
       "  <thead>\n",
       "    <tr style=\"text-align: right;\">\n",
       "      <th></th>\n",
       "      <th>name</th>\n",
       "      <th>platform</th>\n",
       "      <th>year_of_release</th>\n",
       "      <th>genre</th>\n",
       "      <th>na_sales</th>\n",
       "      <th>eu_sales</th>\n",
       "      <th>jp_sales</th>\n",
       "      <th>other_sales</th>\n",
       "      <th>critic_score</th>\n",
       "      <th>user_score</th>\n",
       "      <th>rating</th>\n",
       "      <th>total_sales</th>\n",
       "    </tr>\n",
       "  </thead>\n",
       "  <tbody>\n",
       "    <tr>\n",
       "      <th>31</th>\n",
       "      <td>Call of Duty: Black Ops 3</td>\n",
       "      <td>PS4</td>\n",
       "      <td>2015</td>\n",
       "      <td>Shooter</td>\n",
       "      <td>6.03</td>\n",
       "      <td>5.86</td>\n",
       "      <td>0.36</td>\n",
       "      <td>2.38</td>\n",
       "      <td>NaN</td>\n",
       "      <td>NaN</td>\n",
       "      <td>NaN</td>\n",
       "      <td>14.63</td>\n",
       "    </tr>\n",
       "    <tr>\n",
       "      <th>42</th>\n",
       "      <td>Grand Theft Auto V</td>\n",
       "      <td>PS4</td>\n",
       "      <td>2014</td>\n",
       "      <td>Action</td>\n",
       "      <td>3.96</td>\n",
       "      <td>6.31</td>\n",
       "      <td>0.38</td>\n",
       "      <td>1.97</td>\n",
       "      <td>97.0</td>\n",
       "      <td>8.3</td>\n",
       "      <td>M</td>\n",
       "      <td>12.62</td>\n",
       "    </tr>\n",
       "    <tr>\n",
       "      <th>77</th>\n",
       "      <td>FIFA 16</td>\n",
       "      <td>PS4</td>\n",
       "      <td>2015</td>\n",
       "      <td>Sports</td>\n",
       "      <td>1.12</td>\n",
       "      <td>6.12</td>\n",
       "      <td>0.06</td>\n",
       "      <td>1.28</td>\n",
       "      <td>82.0</td>\n",
       "      <td>4.3</td>\n",
       "      <td>E</td>\n",
       "      <td>8.58</td>\n",
       "    </tr>\n",
       "  </tbody>\n",
       "</table>\n",
       "</div>"
      ],
      "text/plain": [
       "                         name platform  year_of_release    genre  na_sales  \\\n",
       "31  Call of Duty: Black Ops 3      PS4             2015  Shooter      6.03   \n",
       "42         Grand Theft Auto V      PS4             2014   Action      3.96   \n",
       "77                    FIFA 16      PS4             2015   Sports      1.12   \n",
       "\n",
       "    eu_sales  jp_sales  other_sales  critic_score  user_score rating  \\\n",
       "31      5.86      0.36         2.38           NaN         NaN    NaN   \n",
       "42      6.31      0.38         1.97          97.0         8.3      M   \n",
       "77      6.12      0.06         1.28          82.0         4.3      E   \n",
       "\n",
       "    total_sales  \n",
       "31        14.63  \n",
       "42        12.62  \n",
       "77         8.58  "
      ]
     },
     "execution_count": 30,
     "metadata": {},
     "output_type": "execute_result"
    }
   ],
   "source": [
    "#посмотрим на топ-3 игры для PS4\n",
    "data[(data['platform'] == 'PS4') & (data['year_of_release'] >= 2014)].sort_values(by='total_sales', ascending=False).head(3)"
   ]
  },
  {
   "cell_type": "code",
   "execution_count": 31,
   "metadata": {
    "scrolled": true
   },
   "outputs": [
    {
     "data": {
      "text/html": [
       "<div>\n",
       "<style scoped>\n",
       "    .dataframe tbody tr th:only-of-type {\n",
       "        vertical-align: middle;\n",
       "    }\n",
       "\n",
       "    .dataframe tbody tr th {\n",
       "        vertical-align: top;\n",
       "    }\n",
       "\n",
       "    .dataframe thead th {\n",
       "        text-align: right;\n",
       "    }\n",
       "</style>\n",
       "<table border=\"1\" class=\"dataframe\">\n",
       "  <thead>\n",
       "    <tr style=\"text-align: right;\">\n",
       "      <th></th>\n",
       "      <th>name</th>\n",
       "      <th>platform</th>\n",
       "      <th>year_of_release</th>\n",
       "      <th>genre</th>\n",
       "      <th>na_sales</th>\n",
       "      <th>eu_sales</th>\n",
       "      <th>jp_sales</th>\n",
       "      <th>other_sales</th>\n",
       "      <th>critic_score</th>\n",
       "      <th>user_score</th>\n",
       "      <th>rating</th>\n",
       "      <th>total_sales</th>\n",
       "    </tr>\n",
       "  </thead>\n",
       "  <tbody>\n",
       "    <tr>\n",
       "      <th>99</th>\n",
       "      <td>Call of Duty: Black Ops 3</td>\n",
       "      <td>XOne</td>\n",
       "      <td>2015</td>\n",
       "      <td>Shooter</td>\n",
       "      <td>4.59</td>\n",
       "      <td>2.11</td>\n",
       "      <td>0.01</td>\n",
       "      <td>0.68</td>\n",
       "      <td>NaN</td>\n",
       "      <td>NaN</td>\n",
       "      <td>NaN</td>\n",
       "      <td>7.39</td>\n",
       "    </tr>\n",
       "    <tr>\n",
       "      <th>165</th>\n",
       "      <td>Grand Theft Auto V</td>\n",
       "      <td>XOne</td>\n",
       "      <td>2014</td>\n",
       "      <td>Action</td>\n",
       "      <td>2.81</td>\n",
       "      <td>2.19</td>\n",
       "      <td>0.00</td>\n",
       "      <td>0.47</td>\n",
       "      <td>97.0</td>\n",
       "      <td>7.9</td>\n",
       "      <td>M</td>\n",
       "      <td>5.47</td>\n",
       "    </tr>\n",
       "    <tr>\n",
       "      <th>417</th>\n",
       "      <td>FIFA 16</td>\n",
       "      <td>XOne</td>\n",
       "      <td>2015</td>\n",
       "      <td>Sports</td>\n",
       "      <td>0.89</td>\n",
       "      <td>2.12</td>\n",
       "      <td>0.00</td>\n",
       "      <td>0.24</td>\n",
       "      <td>84.0</td>\n",
       "      <td>4.4</td>\n",
       "      <td>E</td>\n",
       "      <td>3.25</td>\n",
       "    </tr>\n",
       "  </tbody>\n",
       "</table>\n",
       "</div>"
      ],
      "text/plain": [
       "                          name platform  year_of_release    genre  na_sales  \\\n",
       "99   Call of Duty: Black Ops 3     XOne             2015  Shooter      4.59   \n",
       "165         Grand Theft Auto V     XOne             2014   Action      2.81   \n",
       "417                    FIFA 16     XOne             2015   Sports      0.89   \n",
       "\n",
       "     eu_sales  jp_sales  other_sales  critic_score  user_score rating  \\\n",
       "99       2.11      0.01         0.68           NaN         NaN    NaN   \n",
       "165      2.19      0.00         0.47          97.0         7.9      M   \n",
       "417      2.12      0.00         0.24          84.0         4.4      E   \n",
       "\n",
       "     total_sales  \n",
       "99          7.39  \n",
       "165         5.47  \n",
       "417         3.25  "
      ]
     },
     "execution_count": 31,
     "metadata": {},
     "output_type": "execute_result"
    }
   ],
   "source": [
    "#посмотрим как эти игры продавались для XOne\n",
    "data.query('name == [\"Call of Duty: Black Ops 3\", \"Grand Theft Auto V\", \"FIFA 16\"] and platform ==\"XOne\"')"
   ]
  },
  {
   "cell_type": "markdown",
   "metadata": {},
   "source": [
    "**Вывод:** Если посмотреть на топ-3 игры для PS4, можно увидеть, что объем их продаж в 2 раза превышает объем продаж тех же игр для платформы XOne, что позволяет сделать вывод о том, что PS4 более популярная платформа в сравнении с XOne."
   ]
  },
  {
   "cell_type": "markdown",
   "metadata": {},
   "source": [
    "### Анализ влияния оценок пользователей и критиков на продажи игр"
   ]
  },
  {
   "cell_type": "code",
   "execution_count": 32,
   "metadata": {},
   "outputs": [
    {
     "data": {
      "image/png": "[encoded data removed]",
      "text/plain": [
       "<Figure size 640x480 with 1 Axes>"
      ]
     },
     "metadata": {},
     "output_type": "display_data"
    }
   ],
   "source": [
    "#построим диаграмму рассеяния для PS4 для выявления зависимости между оценкой пользователей и суммой продаж\n",
    "(data[(data['platform'] == 'PS4') & (data['year_of_release'] >= 2014)]\n",
    ".plot(x='user_score', y='total_sales', kind='scatter', title='График зависимости продаж от оценки пользователей для PS4', xlabel='Оценка пользователей', ylabel='Сумма продаж')\n",
    ")\n",
    "plt.show()"
   ]
  },
  {
   "cell_type": "code",
   "execution_count": 33,
   "metadata": {},
   "outputs": [
    {
     "data": {
      "text/plain": [
       "-0.040131589472697314"
      ]
     },
     "execution_count": 33,
     "metadata": {},
     "output_type": "execute_result"
    }
   ],
   "source": [
    "#посчитаем коэффициент корреляции\n",
    "data[(data['platform'] == 'PS4') & (data['year_of_release'] >= 2014)]['total_sales'].corr(data['user_score'])"
   ]
  },
  {
   "cell_type": "markdown",
   "metadata": {},
   "source": [
    "Исходя из диаграммы рассеяния и расчета коэффициента корреляции, зависимости между продажами и оценкой пользователей нет."
   ]
  },
  {
   "cell_type": "code",
   "execution_count": 34,
   "metadata": {},
   "outputs": [
    {
     "data": {
      "image/png": "[encoded data removed]",
      "text/plain": [
       "<Figure size 640x480 with 1 Axes>"
      ]
     },
     "metadata": {},
     "output_type": "display_data"
    }
   ],
   "source": [
    "#построим диаграмму рассеяния для PS4 для выявления зависимости между оценкой критиков и суммой продаж\n",
    "(data[(data['platform'] == 'PS4') & (data['year_of_release'] >= 2014)]\n",
    " .plot(x='critic_score', y='total_sales', kind='scatter', title='График зависимости продаж от оценки критиков для PS4', xlabel='Оценка критиков', ylabel='Сумма продаж')\n",
    ")\n",
    "plt.show()"
   ]
  },
  {
   "cell_type": "code",
   "execution_count": 35,
   "metadata": {},
   "outputs": [
    {
     "data": {
      "text/plain": [
       "0.402661410681041"
      ]
     },
     "execution_count": 35,
     "metadata": {},
     "output_type": "execute_result"
    }
   ],
   "source": [
    "#посчитаем коэффициент корреляции\n",
    "data[(data['platform'] == 'PS4') & (data['year_of_release'] >= 2014)]['total_sales'].corr(data['critic_score'])"
   ]
  },
  {
   "cell_type": "markdown",
   "metadata": {},
   "source": [
    "Исходя из диаграммы рассеяния и расчета коэффициента корреляции, определенная взяаимосвязь между оценкой критиков и продажами есть. Оценка критиков оказалась весомее оценки пользователей.\n",
    "\n",
    "Посмотрим на ситуацию с другими платформами:"
   ]
  },
  {
   "cell_type": "code",
   "execution_count": 36,
   "metadata": {},
   "outputs": [
    {
     "data": {
      "text/plain": [
       "-0.07038392806475816"
      ]
     },
     "execution_count": 36,
     "metadata": {},
     "output_type": "execute_result"
    }
   ],
   "source": [
    "#посчитаем коэффициент корреляции (оценка пользователей) для XOne\n",
    "data[(data['platform'] == 'XOne') & (data['year_of_release'] >= 2014)]['total_sales'].corr(data['user_score'])"
   ]
  },
  {
   "cell_type": "code",
   "execution_count": 37,
   "metadata": {},
   "outputs": [
    {
     "data": {
      "text/plain": [
       "0.4286769437033319"
      ]
     },
     "execution_count": 37,
     "metadata": {},
     "output_type": "execute_result"
    }
   ],
   "source": [
    "#посчитаем коэффициент корреляции (оценка критиков) для XOne\n",
    "data[(data['platform'] == 'XOne') & (data['year_of_release'] >= 2014)]['total_sales'].corr(data['critic_score'])"
   ]
  },
  {
   "cell_type": "code",
   "execution_count": 38,
   "metadata": {},
   "outputs": [
    {
     "data": {
      "text/plain": [
       "0.2151932718527028"
      ]
     },
     "execution_count": 38,
     "metadata": {},
     "output_type": "execute_result"
    }
   ],
   "source": [
    "#посчитаем коэффициент корреляции (оценка пользователей) для 3DS\n",
    "data[(data['platform'] == '3DS') & (data['year_of_release'] >= 2014)]['total_sales'].corr(data['user_score'])"
   ]
  },
  {
   "cell_type": "code",
   "execution_count": 39,
   "metadata": {},
   "outputs": [
    {
     "data": {
      "text/plain": [
       "0.31411749286905094"
      ]
     },
     "execution_count": 39,
     "metadata": {},
     "output_type": "execute_result"
    }
   ],
   "source": [
    "#посчитаем коэффициент корреляции (оценка критиков) для 3DS\n",
    "data[(data['platform'] == '3DS') & (data['year_of_release'] >= 2014)]['total_sales'].corr(data['critic_score'])"
   ]
  },
  {
   "cell_type": "markdown",
   "metadata": {},
   "source": [
    "**Вывод:** Из расчетов коэффициента корреляции для XOne и 3DS можно сделать аналогичные выводы - явной связи между оценками пользователей/критиков и продажами нет. При этом оценка критиков имеет большее значение, чем пользовательская оценка. Бывает, что игра имеет высокий рейтинг, но не оказывается популярной, потому что она оказывается слишком сложной для широкого круга пользователей или рассчитана на клиентов с определенными интересами."
   ]
  },
  {
   "cell_type": "markdown",
   "metadata": {},
   "source": [
    "### Анализ распределения игр по жанрам"
   ]
  },
  {
   "cell_type": "code",
   "execution_count": 40,
   "metadata": {},
   "outputs": [
    {
     "data": {
      "image/png": "[encoded data removed]",
      "text/plain": [
       "<Figure size 640x480 with 1 Axes>"
      ]
     },
     "metadata": {},
     "output_type": "display_data"
    },
    {
     "data": {
      "image/png": "[encoded data removed]",
      "text/plain": [
       "<Figure size 640x480 with 1 Axes>"
      ]
     },
     "metadata": {},
     "output_type": "display_data"
    }
   ],
   "source": [
    "#посмотрим на распределение игр по жанрам\n",
    "(data[data['year_of_release'] >= 2014]\n",
    " .pivot_table(index='genre', values='total_sales', aggfunc='median')\n",
    " .sort_values(by='total_sales', ascending=False)\n",
    " .plot(kind='bar', title='Распределение игр по жанрам (медианные продажи)', xlabel='Жанры', ylabel='Сумма медианных продаж', legend=False )\n",
    ")\n",
    "plt.show()\n",
    "\n",
    "(data[data['year_of_release'] >= 2014]\n",
    " .pivot_table(index='genre', values='total_sales', aggfunc='sum')\n",
    " .sort_values(by='total_sales', ascending=False)\n",
    " .plot(kind='bar', title='Распределение игр по жанрам (общие продажи)', xlabel='Жанры', ylabel='Сумма общих продаж', legend=False )\n",
    ")\n",
    "plt.show()"
   ]
  },
  {
   "cell_type": "markdown",
   "metadata": {},
   "source": [
    "**Вывод:** самыми прибыльными являются жанры с наибольшими медианными продажами - Shooter, Sports, Platforms, а жанрами с самыми низкими продажами являются Strategy, Puzzle и Adventure, что неудивительно, ведь последние три жанра рассчитаны на игроков, любящих размышлять и решать головоломки, тогда как первые три жанра носят чисто развлекательный характер и поэтому более популярны среди широких масс населения. "
   ]
  },
  {
   "cell_type": "markdown",
   "metadata": {},
   "source": [
    "## 5 Портрет пользователя каждого региона"
   ]
  },
  {
   "cell_type": "markdown",
   "metadata": {},
   "source": [
    "### Выявление самых популярных платформ (топ-5) по региону"
   ]
  },
  {
   "cell_type": "code",
   "execution_count": 41,
   "metadata": {},
   "outputs": [
    {
     "data": {
      "text/plain": [
       "platform\n",
       "PS4     98.61\n",
       "XOne    81.27\n",
       "X360    28.30\n",
       "3DS     22.64\n",
       "PS3     22.05\n",
       "Name: na_sales, dtype: float64"
      ]
     },
     "execution_count": 41,
     "metadata": {},
     "output_type": "execute_result"
    }
   ],
   "source": [
    "#найдем топ-5 платформ для региона NA\n",
    "(data[data['year_of_release'] >= 2014]\n",
    " .groupby('platform')['na_sales'].agg('sum')\n",
    " .sort_values(ascending=False)\n",
    " .head(5)\n",
    ")"
   ]
  },
  {
   "cell_type": "code",
   "execution_count": 42,
   "metadata": {},
   "outputs": [],
   "source": [
    "#создадим функцию для категоризации данных \n",
    "def top_values(value, list):\n",
    "    if value in list:\n",
    "        return value\n",
    "    return 'others'\n",
    "\n",
    "#применим функцию для объединения платформ не попавших в топ-5 NA в категорию 'others'\n",
    "top_na_platforms = ['PS4', 'XOne', 'X360', '3DS', 'PS3']\n",
    "data['na_top_platforms'] = data['platform'].apply(top_values, list=top_na_platforms)\n"
   ]
  },
  {
   "cell_type": "code",
   "execution_count": 43,
   "metadata": {},
   "outputs": [
    {
     "data": {
      "text/plain": [
       "platform\n",
       "PS4     130.04\n",
       "XOne     46.25\n",
       "PS3      25.54\n",
       "PC       17.97\n",
       "3DS      16.12\n",
       "Name: eu_sales, dtype: float64"
      ]
     },
     "execution_count": 43,
     "metadata": {},
     "output_type": "execute_result"
    }
   ],
   "source": [
    "#найдем топ-5 платформ для региона EU\n",
    "(data[data['year_of_release'] >= 2014]\n",
    " .groupby('platform')['eu_sales'].agg('sum')\n",
    " .sort_values(ascending=False)\n",
    " .head(5)\n",
    ")"
   ]
  },
  {
   "cell_type": "code",
   "execution_count": 44,
   "metadata": {},
   "outputs": [],
   "source": [
    "#применим функцию для объединения платформ не попавших в топ-5 EU в категорию 'others'\n",
    "top_eu_platforms = ['PS4', 'XOne', 'PS3', 'PC', '3DS']\n",
    "data['eu_top_platforms'] = data['platform'].apply(top_values, list=top_eu_platforms)"
   ]
  },
  {
   "cell_type": "code",
   "execution_count": 45,
   "metadata": {},
   "outputs": [
    {
     "data": {
      "text/plain": [
       "platform\n",
       "3DS     44.24\n",
       "PS4     15.02\n",
       "PSV     14.54\n",
       "PS3     11.22\n",
       "WiiU     7.31\n",
       "Name: jp_sales, dtype: float64"
      ]
     },
     "execution_count": 45,
     "metadata": {},
     "output_type": "execute_result"
    }
   ],
   "source": [
    "#найдем топ-5 платформ для региона JP\n",
    "(data[data['year_of_release'] >= 2014]\n",
    " .groupby('platform')['jp_sales'].agg('sum')\n",
    " .sort_values(ascending=False)\n",
    " .head(5)\n",
    ")"
   ]
  },
  {
   "cell_type": "code",
   "execution_count": 46,
   "metadata": {},
   "outputs": [],
   "source": [
    "#применим функцию для объединения платформ не попавших в топ-5 JP в категорию 'others'\n",
    "top_jp_platforms = ['3DS','PS4', 'PSV', 'PS3', 'WiiU']\n",
    "data['jp_top_platforms'] = data['platform'].apply(top_values, list=top_jp_platforms)"
   ]
  },
  {
   "cell_type": "code",
   "execution_count": 50,
   "metadata": {},
   "outputs": [
    {
     "data": {
      "image/png": "[encoded data removed]",
      "text/plain": [
       "<Figure size 1500x1000 with 3 Axes>"
      ]
     },
     "metadata": {},
     "output_type": "display_data"
    }
   ],
   "source": [
    "#созададим график с долями продаж топ-5 платформ\n",
    "fig, (ax1, ax2, ax3) = plt.subplots(1, 3, figsize=(15,10))\n",
    "fig.suptitle('Доли продаж за 2014-2016г топ-5 платформ', y=0.75, fontsize=15)\n",
    "\n",
    "#для NA\n",
    "data_na_platform = (data[data['year_of_release'] >= 2014]\n",
    " .groupby('na_top_platforms')['na_sales'].agg('sum')\n",
    " .sort_values(ascending=False)\n",
    "          )\n",
    "ax1.pie(data_na_platform, autopct='%1.0f%%', labels=data_na_platform.reset_index()['na_top_platforms'])  \n",
    "ax1.set_title('Регион NA')\n",
    "\n",
    "#для EU\n",
    "data_eu_platform = (data[data['year_of_release'] >= 2014]\n",
    " .groupby('eu_top_platforms')['eu_sales'].agg('sum')\n",
    " .sort_values(ascending=False)\n",
    "          )\n",
    "ax2.pie(data_eu_platform, autopct='%1.0f%%', labels=data_eu_platform.reset_index()['eu_top_platforms'])\n",
    "ax2.set_title('Регион EU')\n",
    "\n",
    "#для JP\n",
    "data_jp_platform = (data[data['year_of_release'] >= 2014]\n",
    " .groupby('jp_top_platforms')['jp_sales'].agg('sum')\n",
    " .sort_values(ascending=False)\n",
    "          )\n",
    "ax3.pie(data_jp_platform, autopct='%1.0f%%', labels=data_jp_platform.reset_index()['jp_top_platforms'])\n",
    "ax3.set_title('Регион JP')\n",
    "\n",
    "plt.show()"
   ]
  },
  {
   "cell_type": "markdown",
   "metadata": {},
   "source": [
    "**Вывод:** Топ-5 платформ по регионам:\n",
    "- NA: 'PS4', 'XOne', 'X360', '3DS', 'PS3'\n",
    "- EU: 'PS4', 'XOne', 'PS3', 'PC', '3DS'\n",
    "- JP: '3DS','PS4', 'PSV', 'PS3', 'WiiU'\n",
    "\n",
    "Как видим из графиков, PS4 является абсолютным лидером на рынках NA и EU, беря на себя 35% и 48% продаж в этих регионах. Ее главным конкурентом является консоль XOne, на которую приходятся 29% и 17% продаж в регионах NA и EU. XOne имеет более сильную позицию в регионе NA, что неудивительно, так как консоль создана американской компанией Microsoft. Однако на рынке EU XOne сильно отстает от PS4, что означает, что у XOne есть определенные перспективы роста на рынке EU. Оставшиеся консоли, попавшие в список топ-5, на обоих рынках занимают не более 10% продаж каждая. Также необходимо отметить, что на рынках NA и EU представлен широкий ассортимент консолей -  на продажи игр для консолей, не попавших в список топ-5, приходится 11% и 13% доли соответствующих рынков. Рынок JP сильно отличается от рынков NA и EU. Лидером продаж является платформа 3DS, занимающая 48% рынка. 44% рынка приходятся на PS4, PS3 и PSV, что логично, ведь Nintendo и Sony являются японскими компаниями. Оставшиеся 8% занимает консоль WiiU, тоже созданая компанией Nintendo. К тому же, Nintendo 3DS и PSV обладают преимуществом  мобильности, что важно в Японии, где многие играют по дороге на работу и обратно.  Другие платформы почти не представлены в регионе JP.  "
   ]
  },
  {
   "cell_type": "markdown",
   "metadata": {},
   "source": [
    "### Выявление самых популярных жанров (топ-5) по регионам "
   ]
  },
  {
   "cell_type": "code",
   "execution_count": 52,
   "metadata": {},
   "outputs": [
    {
     "data": {
      "text/plain": [
       "genre\n",
       "Shooter         79.02\n",
       "Action          72.53\n",
       "Sports          46.13\n",
       "Role-Playing    33.47\n",
       "Misc            15.05\n",
       "Name: na_sales, dtype: float64"
      ]
     },
     "execution_count": 52,
     "metadata": {},
     "output_type": "execute_result"
    }
   ],
   "source": [
    "#найдем топ-5 популярных жанров в регионе NA\n",
    "(data[data['year_of_release'] >= 2014]\n",
    " .groupby('genre')['na_sales'].agg('sum')\n",
    " .sort_values(ascending=False)\n",
    " .head(5)\n",
    ")"
   ]
  },
  {
   "cell_type": "code",
   "execution_count": 53,
   "metadata": {},
   "outputs": [
    {
     "data": {
      "text/plain": [
       "genre\n",
       "Action          74.68\n",
       "Shooter         65.52\n",
       "Sports          45.73\n",
       "Role-Playing    28.17\n",
       "Racing          14.13\n",
       "Name: eu_sales, dtype: float64"
      ]
     },
     "execution_count": 53,
     "metadata": {},
     "output_type": "execute_result"
    }
   ],
   "source": [
    "#найдем топ-5 популярных жанров в регионе EU\n",
    "(data[data['year_of_release'] >= 2014]\n",
    " .groupby('genre')['eu_sales'].agg('sum')\n",
    " .sort_values(ascending=False)\n",
    " .head(5)\n",
    ")"
   ]
  },
  {
   "cell_type": "code",
   "execution_count": 54,
   "metadata": {},
   "outputs": [
    {
     "data": {
      "text/plain": [
       "genre\n",
       "Role-Playing    31.16\n",
       "Action          29.58\n",
       "Fighting         6.37\n",
       "Misc             5.61\n",
       "Shooter          4.87\n",
       "Name: jp_sales, dtype: float64"
      ]
     },
     "execution_count": 54,
     "metadata": {},
     "output_type": "execute_result"
    }
   ],
   "source": [
    "#найдем топ-5 популярных жанров в регионе JP\n",
    "(data[data['year_of_release'] >= 2014]\n",
    " .groupby('genre')['jp_sales'].agg('sum')\n",
    " .sort_values(ascending=False)\n",
    " .head(5)\n",
    ")"
   ]
  },
  {
   "cell_type": "code",
   "execution_count": 55,
   "metadata": {},
   "outputs": [],
   "source": [
    "#применим функцию для объединения жанров не попавших в топ-5 в категорию 'others'\n",
    "top_na_genre = ['Shooter', 'Action', 'Sports', 'Role-Playing', 'Misc']\n",
    "top_eu_genre = ['Action', 'Shooter', 'Sports', 'Role-Playing', 'Racing']\n",
    "top_jp_genre = ['Role-Playing', 'Action', 'Fighting', 'Misc', 'Shooter' ]\n",
    "data['na_top_genre'] = data['genre'].apply(top_values, list=top_na_genre)\n",
    "data['eu_top_genre'] = data['genre'].apply(top_values, list=top_eu_genre)\n",
    "data['jp_top_genre'] = data['genre'].apply(top_values, list=top_jp_genre)"
   ]
  },
  {
   "cell_type": "code",
   "execution_count": 56,
   "metadata": {
    "scrolled": false
   },
   "outputs": [
    {
     "data": {
      "image/png": "[encoded data removed]",
      "text/plain": [
       "<Figure size 1500x1000 with 3 Axes>"
      ]
     },
     "metadata": {},
     "output_type": "display_data"
    }
   ],
   "source": [
    "#созададим график с долями продаж топ-5 жанров\n",
    "fig, (ax4, ax5, ax6) = plt.subplots(1, 3, figsize=(15,10))\n",
    "fig.suptitle('Доли продаж за 2014-2016г топ-5 жанров', y=0.75, fontsize=15)\n",
    "\n",
    "#для NA\n",
    "data_na_genre = (data[data['year_of_release'] >= 2014]\n",
    " .groupby('na_top_genre')['na_sales'].agg('sum')\n",
    " .sort_values(ascending=False)\n",
    " )\n",
    "\n",
    "ax4.pie(data_na_genre, autopct='%1.0f%%', labels=data_na_genre.reset_index()['na_top_genre'] )\n",
    "ax4.set_title('Регион NA')\n",
    "\n",
    "#созададим график с долями продаж топ-5 жанров для EU\n",
    "data_eu_genre = (data[data['year_of_release'] >= 2014]\n",
    " .groupby('eu_top_genre')['eu_sales'].agg('sum')\n",
    " .sort_values(ascending=False)\n",
    " )\n",
    "ax5.pie(data_eu_genre, autopct='%1.0f%%', labels=data_eu_genre.reset_index()['eu_top_genre'] )\n",
    "ax5.set_title('Регион EU')\n",
    "\n",
    "#созададим график с долями продаж топ-5 жанров для JP\n",
    "data_jp_genre = (data[data['year_of_release'] >= 2014]\n",
    " .groupby('jp_top_genre')['jp_sales'].agg('sum')\n",
    " .sort_values(ascending=False)\n",
    ")\n",
    "ax6.pie(data_jp_genre, autopct='%1.0f%%', labels=data_jp_genre.reset_index()['jp_top_genre'] )\n",
    "ax6.set_title('Регион JP')\n",
    "\n",
    "plt.show()"
   ]
  },
  {
   "cell_type": "markdown",
   "metadata": {},
   "source": [
    "**Вывод:** Как видно из графиков, пользователи NA и EU предпочитают одинаковые жанры - в топе жанры Action, Shooter и Sports. Это быстрые, несложные, динамичные, развлекательные игры, соответствующие западной культуре и вполне логично, что они занимают большую часть рынка. В топ-5 жанров NA и EU также попали Role-Playing, Racing и Misc. Рынок JP опять же довольно сильно отличается от NA и EU. В лидерах находится жанр Role-Playing, так как японцы предпочитают более сложные и медленные игры с историей и сюжетом. Большую часть рынка занимают также и игры Action, которые оказались популярны во всех регионах. В топ-5 на регионе JP также попали Fighting, Misc и Shooter. "
   ]
  },
  {
   "cell_type": "markdown",
   "metadata": {},
   "source": [
    "### Влияние рейтинга ESRB на продажи по регионам"
   ]
  },
  {
   "cell_type": "code",
   "execution_count": 57,
   "metadata": {},
   "outputs": [],
   "source": [
    "#заполним пропуски в столбцах 'rating' значением 'no rating'\n",
    "data['rating'] = data['rating'].fillna('no rating')"
   ]
  },
  {
   "cell_type": "code",
   "execution_count": 59,
   "metadata": {
    "scrolled": false
   },
   "outputs": [
    {
     "data": {
      "image/png": "[encoded data removed]",
      "text/plain": [
       "<Figure size 1500x1000 with 3 Axes>"
      ]
     },
     "metadata": {},
     "output_type": "display_data"
    }
   ],
   "source": [
    "#посмотрим на распределение продаж по рейтигу \n",
    "fig, (ax7, ax8, ax9) = plt.subplots(1, 3, figsize=(15,10))\n",
    "fig.suptitle('Распределение продаж за 2014-2016г по рейтингам ESRB', y=0.75, fontsize=15)\n",
    "\n",
    "#в регионе NA\n",
    "data_na_esrb = (data[data['year_of_release'] >= 2014]\n",
    " .groupby('rating')['na_sales'].agg('sum')\n",
    " .sort_values(ascending=False)\n",
    ")\n",
    "\n",
    "ax7.pie(data_na_esrb, autopct='%1.0f%%', labels=data_na_esrb.reset_index()['rating'] )\n",
    "ax7.set_title('Регион NA')\n",
    "\n",
    "#в регионе EU\n",
    "data_eu_esrb = (data[data['year_of_release'] >= 2014]\n",
    " .groupby('rating')['eu_sales'].agg('sum')\n",
    " .sort_values(ascending=False)\n",
    " )\n",
    "\n",
    "ax8.pie(data_eu_esrb, autopct='%1.0f%%', labels=data_eu_esrb.reset_index()['rating'] )\n",
    "ax8.set_title('Регион EU')\n",
    "\n",
    "#в регионе JP\n",
    "data_jp_esrb = (data[data['year_of_release'] >= 2014]\n",
    " .groupby('rating')['jp_sales'].agg('sum')\n",
    " .sort_values(ascending=False)\n",
    ")\n",
    "\n",
    "ax9.pie(data_jp_esrb, autopct='%1.0f%%', labels=data_jp_esrb.reset_index()['rating'] )\n",
    "ax9.set_title('Регион JP')\n",
    "\n",
    "plt.show()"
   ]
  },
  {
   "cell_type": "markdown",
   "metadata": {},
   "source": [
    "**Вывод:**  Регионы NA и EU снова показывают похоже результаты - распределение продаж по рейтингам почти идентично. В регионе JP большая часть продаж приходится на игры без рейтинга. Это объясняется тем, что организвация ESRB занимается рейтингами игр для Амеркики, Канады и Мексики, в Европе и Японии есть свои аналогичные организации, занимающиеся рейтингами игр. График распределения продаж по рейтингам в JP позволяет сделать вывод, что на рынке большое количество специфических и популярных исключительно в Японии игр, которые не получили распространения в Америке и соответственно не получили рейтинг ESRB. Соответственно, можно сказать, что рейтинг ESRB не влияет на продажи в регионе JP. Рейтинг имеет значение в NA и EU, рынки и пользователи которых очень похожи, однако нельзя сказать, что продажи зависят от отпределенной категории рейтинга или наличия рейтинга в целом, так как это больше вопрос количества пользователей в каждой категории, их покупательской способности, количества игр в каждой категории и т.п. \n",
    "\n",
    "Таким образом, говоря о портрете пользователя в каждом регионе, можно сказать следущее:\n",
    "- Пользователи NA и EU предпочитают консоли PlayStation и XBox и чаще всего играют в быстрые, несложные, развлекательные игры жанров Action, Shooter и Sports\n",
    "- Пользователи JP предпочитают мобильную консоль 3DS и консоли PlayStation и чаще предпочитают играть в более сложные и долгие игры с сюжетом, как в жанре Role-Playing, но также любят и игры Action. Также в регионе распространены уникальные для него игры, которые не получили популярности в других регионах. "
   ]
  },
  {
   "cell_type": "markdown",
   "metadata": {},
   "source": [
    "## 6 Проверка гипотез"
   ]
  },
  {
   "cell_type": "markdown",
   "metadata": {},
   "source": [
    "### Проверка гипотезы о равенстве среднего пользовательского рейтинга платформ Xbox One и PC \n",
    "\n",
    "Нулевая гипотеза - это гипотеза об отсутствии различий, а альтернативная гипотеза - это гипотеза о значимости различий. В соответствии с этим сформулируем следующие гипотезы : \n",
    "\n",
    "Нулевая гипотеза: пользовательский рейтинг (user_score) платформы Xbox One равен пользовательскому рейтингу (user_score) платформы PC.\n",
    "\n",
    "Альтернативная гипотеза : пользовательский рейтинг (user_score) платформы Xbox One не равен пользовательскому рейтингу (user_score) платформы PC.\n",
    "\n",
    "Критерием уровня значимости выберем значение 5%, так как в большинстве случаев такой вероятности достаточно, чтобы отвергнуть нулевую гипотезу.  \n"
   ]
  },
  {
   "cell_type": "code",
   "execution_count": 60,
   "metadata": {
    "scrolled": true
   },
   "outputs": [
    {
     "name": "stdout",
     "output_type": "stream",
     "text": [
      "165\n",
      "122\n"
     ]
    }
   ],
   "source": [
    "#найдем выборки и их размеры\n",
    "array_xbox = data[(data['year_of_release'] >= 2014) & (data['platform'] == 'XOne')]['user_score']\n",
    "array_pc = data[(data['year_of_release'] >= 2014) & (data['platform'] == 'PC')]['user_score']\n",
    "\n",
    "print(array_xbox.count())\n",
    "print(array_pc.count())"
   ]
  },
  {
   "cell_type": "code",
   "execution_count": 61,
   "metadata": {},
   "outputs": [
    {
     "name": "stdout",
     "output_type": "stream",
     "text": [
      "p-значение: 0.11601398086668943\n",
      "Не получилось отвергнуть нулевую гипотезу\n"
     ]
    }
   ],
   "source": [
    "#проведем ttest для проверки гипотезы\n",
    "alpha = 0.05\n",
    "result = st.ttest_ind(array_xbox, array_pc, equal_var=False, nan_policy='omit')\n",
    "print('p-значение:', result.pvalue)\n",
    "\n",
    "if result.pvalue < alpha:\n",
    "    print('Отвергаем нулевую гипотезу')\n",
    "else:\n",
    "    print ('Не получилось отвергнуть нулевую гипотезу')"
   ]
  },
  {
   "cell_type": "markdown",
   "metadata": {},
   "source": [
    "### Проверка гипотезы о равенстве средних пользовательских рейтингов жанров Action и Sports \n",
    "\n",
    "Нулевая гипотеза: пользовательский рейтинг (user_score) жанра Action равен пользовательскому рейтингу (user_score) жанра Sports.\n",
    "\n",
    "Альтернативная гипотеза : пользовательский рейтинг (user_score) жанра Action не равен пользовательскому рейтингу (user_score) жанра Sports.\n",
    "\n",
    "Критерием уровня значимости выберем значение 5%"
   ]
  },
  {
   "cell_type": "code",
   "execution_count": 62,
   "metadata": {},
   "outputs": [
    {
     "name": "stdout",
     "output_type": "stream",
     "text": [
      "297\n",
      "127\n"
     ]
    }
   ],
   "source": [
    "#найдем выборки и их размеры\n",
    "array_action = data[(data['year_of_release'] >= 2014) & (data['genre'] == 'Action')]['user_score']\n",
    "array_sports = data[(data['year_of_release'] >= 2014) & (data['genre'] == 'Sports')]['user_score']\n",
    "\n",
    "print(array_action.count())\n",
    "print(array_sports.count())"
   ]
  },
  {
   "cell_type": "code",
   "execution_count": 63,
   "metadata": {},
   "outputs": [
    {
     "name": "stdout",
     "output_type": "stream",
     "text": [
      "p-значение: 1.182555038264477e-14\n",
      "Отвергаем нулевую гипотезу\n"
     ]
    }
   ],
   "source": [
    "#проведем ttest для проверки гипотезы\n",
    "alpha = 0.05\n",
    "result = st.ttest_ind(array_action, array_sports, equal_var=False, nan_policy='omit')\n",
    "print('p-значение:', result.pvalue)\n",
    "\n",
    "if result.pvalue < alpha:\n",
    "    print('Отвергаем нулевую гипотезу')\n",
    "else:\n",
    "    print ('Не получилось отвергнуть нулевую гипотезу')"
   ]
  },
  {
   "cell_type": "markdown",
   "metadata": {},
   "source": [
    "**Вывод:** \n",
    "\n",
    "Нулевая гипотеза - это гипотеза об отсутствии различий, а альтернативная гипотеза - это гипотеза о значимости различий. В соответствии с этим были сформулированы гипотезы.  \n",
    "\n",
    "Критерием уровня значимости выберем значение 5%, так как в большинстве случаев такой вероятности достаточно, чтобы отвергнуть нулевую гипотезу.\n",
    "\n",
    "Используем метод ttest_ind, так как необходимо проверить гипотезы о равенстве среднего двух независимых генеральных совокупностей по взятым из них выборкам. \n",
    "\n",
    "1. Гипотезу о равенстве среднего пользовательского рейтинга платформ Xbox One и PC отвергнуть не получилось. С 95% доверительной вероятностью можно констатировать, что различия между пользовательскими рейтингами для Xbox One и PC не являются статистически значимыми.\n",
    "\n",
    "2. Гипотезу о равенстве средних пользовательских рейтингов жанров Action и Sports отвергли. С 95% доверительной вероятностью можно констатировать, что пользовательский рейтинг жанра Action отличается от рейтинга жанра Sports."
   ]
  },
  {
   "cell_type": "markdown",
   "metadata": {},
   "source": [
    "## 7 Общий вывод\n",
    "\n",
    "**Цель исследования:** изучить исторические данные о продажах игр, оценки пользователей и экспертов, жанров и платформ с целью выявления определяющих успешность игры закономерностей, что позволит определить потенциально популярный продукт и спланировать рекламные кампании. \n",
    "\n",
    "**Ход исследования:** Исторические данные о продажах игр были получены из файла /datasets/games.csv. Перед анализом была проведена предобработка данных, в ходе котрой были сделаны следующие шаги:\n",
    " * привели названия столбцов к нижнему регистру\n",
    " * изменили тип данных int на для year_of_release и float для user_score\n",
    " * заменили значения tbd в user_score на NaN\n",
    " * удалили пропуски в столбцах 'name', 'year_of_release' и 'genre'\n",
    " * проанализировали пропуски в столбцах 'user_score', 'critic_score' и 'rating'\n",
    " * проверили данные на явные и неявные дубликаты. Дубликатов выявлено не было\n",
    " * проверили значения столбца 'rating' и избавились от нерепрезантативных категорий\n",
    " * посмотрели на числовые столбцы таблицы\n",
    " * добавили столбец 'total_sales' с суммарными продажами во всех регионах\n",
    " \n",
    "**Итоги исследования:** \n",
    "\n",
    "В результате исследования распределения игр по годам было выявлено, что рынок игр начал активно развиваться с 1995г, максимальные продажи приходятся на 2008 и 2009г, с 2010г. число выпускаемых игр снова начинает уменьшаться. Рост игровой индустрии связан с развитием технологий, индустрии игровых платформ и консолей, появления социальных сетей и сервисов продаж мобильных игр, а падение рынка скорее всего связано с финансовым кризисом 2008г. \n",
    "\n",
    "По итогам исследования игровых платформ было определено, что средний жизненый цикл игровой платформы составляет 10 лет. В период 2014-2016г. абсолютными лидерами являются консоли PS4 и XOne. В среднем игры для этих консолей продаются в почти одинаковых количествах, однако общий объем продаж игр на PS4 за 2014-2016г в 2 раза выше продаж на XOne. Это означает, что у PS4 более популярная платформа и у нее есть несколько очень успешных или эксклюзивных игр, которые сильно повлияли на общий объем продаж. В тройку лидеров также входит платформа 3DS.\n",
    "\n",
    "Анализ зависимости продаж от оценки пользователей и критиков показал, что явной связи между этими оценками и продажами нет. При этом оценка критиков имеет большее значение, чем пользовательская оценка.\n",
    "\n",
    "Анализ распределения игр по жанрам выявил, что самыми популярными оказались жанры Shooter, Sports, Platforms, а самыми непопулярными жанрами являются Strategy, Puzzle и Adventure. Это говорит о том, что в среднем пользователи предпочтают несложные и развлекательные игры. При этом самыми прибыльными жанрами оказались Action, Shooter, Sports, что говорит о том, что в жанре Action есть несколько очень успешных игр, сильно повлиявщих на общие продажи игр этого жанра. Жанры с самыми низкими продажами - Simulation, Strategy, Puzzle.\n",
    "\n",
    "Исследование портрета пользователя в разных регионах показал, что рынки и пользователи NA и EU очень похожи, а регион JP имеет много отличий. Пользователи NA и EU предпочитают консоли PlayStation и XBox и чаще всего играют в быстрые, несложные, развлекательные игры жанров Action, Shooter и Sports.\n",
    "Пользователи JP предпочитают мобильную консоль 3DS и консоли PlayStation и чаще предпочитают играть в более сложные и долгие игры с сюжетом, как в жанре Role-Playing, но также любят и игры Action. Также в регионе распространены уникальные для него игры, которые не получили популярности в других регионах. Рейтинг ESRB имеет значение для регионов NA и EU, но не влияет на рынок JP.\n",
    "\n",
    "\n",
    "Также были проверены следующие гипотезы: \n",
    "1. Средние пользовательские рейтинги платформ Xbox One и PC одинаковые. Гипотезу отвергнуть не получилось.\n",
    "2. Средние пользовательские рейтинги жанров Action и Sports разные. Гипотеза подтвердилась. \n",
    "\n",
    "\n"
   ]
  }
 ],
 "metadata": {
  "ExecuteTimeLog": [
   {
    "duration": 1526,
    "start_time": "2022-11-28T11:14:55.865Z"
   },
   {
    "duration": 26,
    "start_time": "2022-11-28T12:03:24.963Z"
   },
   {
    "duration": 787,
    "start_time": "2022-11-28T12:07:09.308Z"
   },
   {
    "duration": 713,
    "start_time": "2022-11-28T12:07:35.873Z"
   },
   {
    "duration": 644,
    "start_time": "2022-11-28T12:07:47.880Z"
   },
   {
    "duration": 751,
    "start_time": "2022-11-28T12:08:12.582Z"
   },
   {
    "duration": 811,
    "start_time": "2022-11-28T12:09:01.893Z"
   },
   {
    "duration": 101,
    "start_time": "2022-11-28T12:21:52.913Z"
   },
   {
    "duration": 155,
    "start_time": "2022-11-28T12:22:15.611Z"
   },
   {
    "duration": 6,
    "start_time": "2022-11-28T12:23:52.021Z"
   },
   {
    "duration": 1459,
    "start_time": "2022-11-28T13:03:21.405Z"
   },
   {
    "duration": 1228,
    "start_time": "2022-11-28T13:03:46.088Z"
   },
   {
    "duration": 15,
    "start_time": "2022-11-28T13:03:47.318Z"
   },
   {
    "duration": 5,
    "start_time": "2022-11-28T13:03:47.336Z"
   },
   {
    "duration": 1288,
    "start_time": "2022-11-28T13:03:47.343Z"
   },
   {
    "duration": 0,
    "start_time": "2022-11-28T13:03:48.632Z"
   },
   {
    "duration": 1530,
    "start_time": "2022-11-28T13:04:45.454Z"
   },
   {
    "duration": 1276,
    "start_time": "2022-11-28T13:05:03.090Z"
   },
   {
    "duration": 1180,
    "start_time": "2022-11-28T13:09:03.834Z"
   },
   {
    "duration": 4,
    "start_time": "2022-11-28T13:10:24.803Z"
   },
   {
    "duration": 12,
    "start_time": "2022-11-28T13:10:40.347Z"
   },
   {
    "duration": 1248,
    "start_time": "2022-11-28T13:11:38.670Z"
   },
   {
    "duration": 1307,
    "start_time": "2022-11-28T13:12:22.987Z"
   },
   {
    "duration": 9,
    "start_time": "2022-11-28T13:14:57.475Z"
   },
   {
    "duration": 3,
    "start_time": "2022-11-28T13:20:43.232Z"
   },
   {
    "duration": 4,
    "start_time": "2022-11-28T13:20:47.037Z"
   },
   {
    "duration": 8,
    "start_time": "2022-11-28T13:21:17.584Z"
   },
   {
    "duration": 13,
    "start_time": "2022-11-28T13:36:29.385Z"
   },
   {
    "duration": 12,
    "start_time": "2022-11-28T13:36:42.972Z"
   },
   {
    "duration": 13,
    "start_time": "2022-11-28T13:37:20.332Z"
   },
   {
    "duration": 1477,
    "start_time": "2022-11-28T13:37:40.671Z"
   },
   {
    "duration": 19,
    "start_time": "2022-11-28T13:37:42.151Z"
   },
   {
    "duration": 4,
    "start_time": "2022-11-28T13:37:42.179Z"
   },
   {
    "duration": 25,
    "start_time": "2022-11-28T13:37:42.186Z"
   },
   {
    "duration": 71,
    "start_time": "2022-11-28T13:37:42.214Z"
   },
   {
    "duration": 0,
    "start_time": "2022-11-28T13:37:42.287Z"
   },
   {
    "duration": 0,
    "start_time": "2022-11-28T13:37:42.289Z"
   },
   {
    "duration": 4,
    "start_time": "2022-11-28T13:37:47.672Z"
   },
   {
    "duration": 20,
    "start_time": "2022-11-28T13:37:55.458Z"
   },
   {
    "duration": 3,
    "start_time": "2022-11-28T13:38:15.188Z"
   },
   {
    "duration": 12,
    "start_time": "2022-11-28T13:38:17.702Z"
   },
   {
    "duration": 11,
    "start_time": "2022-11-28T13:38:43.538Z"
   },
   {
    "duration": 111,
    "start_time": "2022-11-28T13:44:56.144Z"
   },
   {
    "duration": 15,
    "start_time": "2022-11-28T13:45:03.560Z"
   },
   {
    "duration": 95,
    "start_time": "2022-11-28T13:45:18.896Z"
   },
   {
    "duration": 70,
    "start_time": "2022-11-28T14:03:53.012Z"
   },
   {
    "duration": 657,
    "start_time": "2022-11-28T14:04:31.132Z"
   },
   {
    "duration": 6,
    "start_time": "2022-11-28T14:26:47.513Z"
   },
   {
    "duration": 49,
    "start_time": "2022-11-28T14:33:45.222Z"
   },
   {
    "duration": 109,
    "start_time": "2022-11-28T14:34:23.597Z"
   },
   {
    "duration": 154,
    "start_time": "2022-11-28T14:35:05.568Z"
   },
   {
    "duration": 321,
    "start_time": "2022-11-28T14:35:54.097Z"
   },
   {
    "duration": 7,
    "start_time": "2022-11-28T14:42:40.869Z"
   },
   {
    "duration": 15,
    "start_time": "2022-11-28T14:43:02.427Z"
   },
   {
    "duration": 13,
    "start_time": "2022-11-28T14:43:40.412Z"
   },
   {
    "duration": 6,
    "start_time": "2022-11-28T14:44:21.415Z"
   },
   {
    "duration": 633,
    "start_time": "2022-11-28T14:47:53.254Z"
   },
   {
    "duration": 4,
    "start_time": "2022-11-28T14:49:01.352Z"
   },
   {
    "duration": 5,
    "start_time": "2022-11-28T14:49:28.656Z"
   },
   {
    "duration": 15,
    "start_time": "2022-11-28T14:49:46.795Z"
   },
   {
    "duration": 26,
    "start_time": "2022-11-28T14:52:12.784Z"
   },
   {
    "duration": 8,
    "start_time": "2022-11-28T14:52:21.970Z"
   },
   {
    "duration": 8,
    "start_time": "2022-11-28T14:52:35.256Z"
   },
   {
    "duration": 6,
    "start_time": "2022-11-28T14:53:43.171Z"
   },
   {
    "duration": 1378,
    "start_time": "2022-11-28T14:53:55.185Z"
   },
   {
    "duration": 18,
    "start_time": "2022-11-28T14:53:56.566Z"
   },
   {
    "duration": 16,
    "start_time": "2022-11-28T14:53:56.587Z"
   },
   {
    "duration": 18,
    "start_time": "2022-11-28T14:53:56.604Z"
   },
   {
    "duration": 11,
    "start_time": "2022-11-28T14:53:56.625Z"
   },
   {
    "duration": 276,
    "start_time": "2022-11-28T14:53:56.638Z"
   },
   {
    "duration": 17,
    "start_time": "2022-11-28T14:53:56.917Z"
   },
   {
    "duration": 23,
    "start_time": "2022-11-28T14:53:56.936Z"
   },
   {
    "duration": 39,
    "start_time": "2022-11-28T14:53:56.962Z"
   },
   {
    "duration": 882,
    "start_time": "2022-11-28T14:53:57.003Z"
   },
   {
    "duration": 5,
    "start_time": "2022-11-28T14:55:00.267Z"
   },
   {
    "duration": 38896,
    "start_time": "2022-11-28T15:05:55.356Z"
   },
   {
    "duration": 50,
    "start_time": "2022-11-28T15:07:24.547Z"
   },
   {
    "duration": 100,
    "start_time": "2022-11-28T15:08:02.061Z"
   },
   {
    "duration": 15,
    "start_time": "2022-11-28T15:10:50.635Z"
   },
   {
    "duration": 27,
    "start_time": "2022-11-28T15:11:25.848Z"
   },
   {
    "duration": 17,
    "start_time": "2022-11-28T15:27:54.697Z"
   },
   {
    "duration": 8,
    "start_time": "2022-11-28T15:39:39.532Z"
   },
   {
    "duration": 24,
    "start_time": "2022-11-28T15:43:02.920Z"
   },
   {
    "duration": 31,
    "start_time": "2022-11-28T15:43:42.969Z"
   },
   {
    "duration": 8,
    "start_time": "2022-11-28T15:47:32.692Z"
   },
   {
    "duration": 95,
    "start_time": "2022-11-28T15:49:11.710Z"
   },
   {
    "duration": 97,
    "start_time": "2022-11-28T15:50:29.783Z"
   },
   {
    "duration": 101,
    "start_time": "2022-11-28T15:50:37.468Z"
   },
   {
    "duration": 167,
    "start_time": "2022-11-28T15:50:50.184Z"
   },
   {
    "duration": 66,
    "start_time": "2022-11-28T15:52:37.707Z"
   },
   {
    "duration": 69,
    "start_time": "2022-11-28T15:52:55.297Z"
   },
   {
    "duration": 70,
    "start_time": "2022-11-28T15:55:21.977Z"
   },
   {
    "duration": 70,
    "start_time": "2022-11-28T15:56:26.389Z"
   },
   {
    "duration": 1235,
    "start_time": "2022-11-28T15:57:31.678Z"
   },
   {
    "duration": 1163,
    "start_time": "2022-11-28T16:06:50.046Z"
   },
   {
    "duration": 1126,
    "start_time": "2022-11-28T16:07:45.428Z"
   },
   {
    "duration": 14,
    "start_time": "2022-11-28T16:07:46.556Z"
   },
   {
    "duration": 3,
    "start_time": "2022-11-28T16:07:46.571Z"
   },
   {
    "duration": 15,
    "start_time": "2022-11-28T16:07:46.576Z"
   },
   {
    "duration": 12,
    "start_time": "2022-11-28T16:07:46.593Z"
   },
   {
    "duration": 72,
    "start_time": "2022-11-28T16:07:46.607Z"
   },
   {
    "duration": 11,
    "start_time": "2022-11-28T16:07:46.680Z"
   },
   {
    "duration": 7,
    "start_time": "2022-11-28T16:07:46.693Z"
   },
   {
    "duration": 15,
    "start_time": "2022-11-28T16:07:46.702Z"
   },
   {
    "duration": 834,
    "start_time": "2022-11-28T16:07:46.719Z"
   },
   {
    "duration": 6,
    "start_time": "2022-11-28T16:07:47.555Z"
   },
   {
    "duration": 25,
    "start_time": "2022-11-28T16:07:47.563Z"
   },
   {
    "duration": 122,
    "start_time": "2022-11-28T16:07:47.590Z"
   },
   {
    "duration": 6,
    "start_time": "2022-11-28T16:07:47.714Z"
   },
   {
    "duration": 4,
    "start_time": "2022-11-28T16:07:53.664Z"
   },
   {
    "duration": 17,
    "start_time": "2022-11-28T16:08:09.339Z"
   },
   {
    "duration": 16,
    "start_time": "2022-11-28T16:08:23.700Z"
   },
   {
    "duration": 5,
    "start_time": "2022-11-28T16:08:45.018Z"
   },
   {
    "duration": 7,
    "start_time": "2022-11-28T16:09:06.258Z"
   },
   {
    "duration": 28,
    "start_time": "2022-11-28T16:22:18.376Z"
   },
   {
    "duration": 9,
    "start_time": "2022-11-28T16:22:43.277Z"
   },
   {
    "duration": 22,
    "start_time": "2022-11-28T16:22:50.754Z"
   },
   {
    "duration": 20,
    "start_time": "2022-11-28T16:22:55.691Z"
   },
   {
    "duration": 10,
    "start_time": "2022-11-28T16:23:25.008Z"
   },
   {
    "duration": 92,
    "start_time": "2022-11-28T16:27:15.087Z"
   },
   {
    "duration": 74,
    "start_time": "2022-11-28T16:29:01.121Z"
   },
   {
    "duration": 77,
    "start_time": "2022-11-28T16:29:10.942Z"
   },
   {
    "duration": 9,
    "start_time": "2022-11-28T16:29:35.034Z"
   },
   {
    "duration": 1461,
    "start_time": "2022-11-30T10:23:11.187Z"
   },
   {
    "duration": 15,
    "start_time": "2022-11-30T10:23:12.651Z"
   },
   {
    "duration": 3,
    "start_time": "2022-11-30T10:23:12.667Z"
   },
   {
    "duration": 12,
    "start_time": "2022-11-30T10:23:12.672Z"
   },
   {
    "duration": 11,
    "start_time": "2022-11-30T10:23:12.686Z"
   },
   {
    "duration": 6,
    "start_time": "2022-11-30T10:23:12.699Z"
   },
   {
    "duration": 88,
    "start_time": "2022-11-30T10:23:12.707Z"
   },
   {
    "duration": 11,
    "start_time": "2022-11-30T10:23:12.796Z"
   },
   {
    "duration": 6,
    "start_time": "2022-11-30T10:23:12.808Z"
   },
   {
    "duration": 14,
    "start_time": "2022-11-30T10:23:12.816Z"
   },
   {
    "duration": 760,
    "start_time": "2022-11-30T10:23:12.851Z"
   },
   {
    "duration": 6,
    "start_time": "2022-11-30T10:23:13.612Z"
   },
   {
    "duration": 9,
    "start_time": "2022-11-30T10:23:13.619Z"
   },
   {
    "duration": 123,
    "start_time": "2022-11-30T10:23:13.630Z"
   },
   {
    "duration": 6,
    "start_time": "2022-11-30T10:23:13.755Z"
   },
   {
    "duration": 9,
    "start_time": "2022-11-30T10:23:13.762Z"
   },
   {
    "duration": 4,
    "start_time": "2022-11-30T10:25:33.972Z"
   },
   {
    "duration": 5,
    "start_time": "2022-11-30T10:28:51.515Z"
   },
   {
    "duration": 9,
    "start_time": "2022-11-30T10:29:42.019Z"
   },
   {
    "duration": 1175,
    "start_time": "2022-11-30T10:30:14.727Z"
   },
   {
    "duration": 13,
    "start_time": "2022-11-30T10:30:15.904Z"
   },
   {
    "duration": 2,
    "start_time": "2022-11-30T10:30:15.919Z"
   },
   {
    "duration": 103,
    "start_time": "2022-11-30T10:30:15.923Z"
   },
   {
    "duration": 0,
    "start_time": "2022-11-30T10:30:16.028Z"
   },
   {
    "duration": 0,
    "start_time": "2022-11-30T10:30:16.029Z"
   },
   {
    "duration": 0,
    "start_time": "2022-11-30T10:30:16.030Z"
   },
   {
    "duration": 0,
    "start_time": "2022-11-30T10:30:16.031Z"
   },
   {
    "duration": 0,
    "start_time": "2022-11-30T10:30:16.032Z"
   },
   {
    "duration": 0,
    "start_time": "2022-11-30T10:30:16.033Z"
   },
   {
    "duration": 0,
    "start_time": "2022-11-30T10:30:16.034Z"
   },
   {
    "duration": 0,
    "start_time": "2022-11-30T10:30:16.052Z"
   },
   {
    "duration": 0,
    "start_time": "2022-11-30T10:30:16.054Z"
   },
   {
    "duration": 0,
    "start_time": "2022-11-30T10:30:16.056Z"
   },
   {
    "duration": 0,
    "start_time": "2022-11-30T10:30:16.057Z"
   },
   {
    "duration": 0,
    "start_time": "2022-11-30T10:30:16.058Z"
   },
   {
    "duration": 16,
    "start_time": "2022-11-30T10:31:06.775Z"
   },
   {
    "duration": 13,
    "start_time": "2022-11-30T10:32:22.972Z"
   },
   {
    "duration": 5,
    "start_time": "2022-11-30T10:33:36.506Z"
   },
   {
    "duration": 9,
    "start_time": "2022-11-30T10:33:49.758Z"
   },
   {
    "duration": 13,
    "start_time": "2022-11-30T10:34:02.859Z"
   },
   {
    "duration": 3,
    "start_time": "2022-11-30T10:35:38.631Z"
   },
   {
    "duration": 10,
    "start_time": "2022-11-30T10:36:33.974Z"
   },
   {
    "duration": 11,
    "start_time": "2022-11-30T10:37:37.271Z"
   },
   {
    "duration": 7,
    "start_time": "2022-11-30T10:37:51.120Z"
   },
   {
    "duration": 7,
    "start_time": "2022-11-30T10:45:05.290Z"
   },
   {
    "duration": 13,
    "start_time": "2022-11-30T10:45:16.208Z"
   },
   {
    "duration": 6,
    "start_time": "2022-11-30T10:45:35.380Z"
   },
   {
    "duration": 8,
    "start_time": "2022-11-30T10:45:46.099Z"
   },
   {
    "duration": 3,
    "start_time": "2022-11-30T10:46:00.426Z"
   },
   {
    "duration": 8,
    "start_time": "2022-11-30T10:46:31.352Z"
   },
   {
    "duration": 8,
    "start_time": "2022-11-30T10:49:28.185Z"
   },
   {
    "duration": 7,
    "start_time": "2022-11-30T10:50:04.537Z"
   },
   {
    "duration": 9,
    "start_time": "2022-11-30T10:54:45.860Z"
   },
   {
    "duration": 70,
    "start_time": "2022-11-30T10:56:18.572Z"
   },
   {
    "duration": 789,
    "start_time": "2022-11-30T10:57:53.508Z"
   },
   {
    "duration": 53,
    "start_time": "2022-11-30T10:59:21.671Z"
   },
   {
    "duration": 56,
    "start_time": "2022-11-30T11:00:14.279Z"
   },
   {
    "duration": 16,
    "start_time": "2022-11-30T11:06:21.999Z"
   },
   {
    "duration": 38,
    "start_time": "2022-11-30T11:07:57.520Z"
   },
   {
    "duration": 50,
    "start_time": "2022-11-30T11:11:08.687Z"
   },
   {
    "duration": 341,
    "start_time": "2022-11-30T11:11:30.437Z"
   },
   {
    "duration": 522,
    "start_time": "2022-11-30T11:12:46.721Z"
   },
   {
    "duration": 508,
    "start_time": "2022-11-30T11:13:11.484Z"
   },
   {
    "duration": 684,
    "start_time": "2022-11-30T11:13:40.616Z"
   },
   {
    "duration": 871,
    "start_time": "2022-11-30T11:14:45.399Z"
   },
   {
    "duration": 1148,
    "start_time": "2022-11-30T11:16:12.088Z"
   },
   {
    "duration": 131,
    "start_time": "2022-11-30T11:27:49.888Z"
   },
   {
    "duration": 120,
    "start_time": "2022-11-30T11:28:40.573Z"
   },
   {
    "duration": 126,
    "start_time": "2022-11-30T11:28:51.853Z"
   },
   {
    "duration": 129,
    "start_time": "2022-11-30T11:29:21.067Z"
   },
   {
    "duration": 130,
    "start_time": "2022-11-30T11:30:03.154Z"
   },
   {
    "duration": 123,
    "start_time": "2022-11-30T11:31:02.878Z"
   },
   {
    "duration": 122,
    "start_time": "2022-11-30T11:31:23.585Z"
   },
   {
    "duration": 123,
    "start_time": "2022-11-30T11:32:33.172Z"
   },
   {
    "duration": 117,
    "start_time": "2022-11-30T11:33:45.774Z"
   },
   {
    "duration": 122,
    "start_time": "2022-11-30T11:33:57.771Z"
   },
   {
    "duration": 120,
    "start_time": "2022-11-30T11:34:06.612Z"
   },
   {
    "duration": 118,
    "start_time": "2022-11-30T11:34:12.702Z"
   },
   {
    "duration": 147,
    "start_time": "2022-11-30T11:41:12.478Z"
   },
   {
    "duration": 285,
    "start_time": "2022-11-30T11:42:28.054Z"
   },
   {
    "duration": 342,
    "start_time": "2022-11-30T11:43:37.259Z"
   },
   {
    "duration": 133,
    "start_time": "2022-11-30T11:47:03.379Z"
   },
   {
    "duration": 156,
    "start_time": "2022-11-30T11:48:22.371Z"
   },
   {
    "duration": 132,
    "start_time": "2022-11-30T11:48:45.401Z"
   },
   {
    "duration": 141,
    "start_time": "2022-11-30T11:55:51.815Z"
   },
   {
    "duration": 121,
    "start_time": "2022-11-30T11:56:07.097Z"
   },
   {
    "duration": 80,
    "start_time": "2022-11-30T12:03:11.666Z"
   },
   {
    "duration": 72,
    "start_time": "2022-11-30T12:05:06.282Z"
   },
   {
    "duration": 71,
    "start_time": "2022-11-30T12:08:42.132Z"
   },
   {
    "duration": 72,
    "start_time": "2022-11-30T12:08:59.064Z"
   },
   {
    "duration": 75,
    "start_time": "2022-11-30T12:11:03.671Z"
   },
   {
    "duration": 19,
    "start_time": "2022-11-30T12:11:44.806Z"
   },
   {
    "duration": 22,
    "start_time": "2022-11-30T12:12:20.379Z"
   },
   {
    "duration": 83,
    "start_time": "2022-11-30T12:12:47.134Z"
   },
   {
    "duration": 19,
    "start_time": "2022-11-30T12:13:56.501Z"
   },
   {
    "duration": 20,
    "start_time": "2022-11-30T12:14:14.619Z"
   },
   {
    "duration": 29,
    "start_time": "2022-11-30T12:14:35.748Z"
   },
   {
    "duration": 18,
    "start_time": "2022-11-30T12:16:33.621Z"
   },
   {
    "duration": 19,
    "start_time": "2022-11-30T12:16:42.223Z"
   },
   {
    "duration": 1117,
    "start_time": "2022-11-30T12:18:39.422Z"
   },
   {
    "duration": 685,
    "start_time": "2022-11-30T12:18:57.426Z"
   },
   {
    "duration": 418,
    "start_time": "2022-11-30T12:19:15.295Z"
   },
   {
    "duration": 24,
    "start_time": "2022-11-30T12:19:24.101Z"
   },
   {
    "duration": 1211,
    "start_time": "2022-11-30T12:20:50.498Z"
   },
   {
    "duration": 1098,
    "start_time": "2022-11-30T12:24:18.652Z"
   },
   {
    "duration": 155,
    "start_time": "2022-11-30T12:24:42.836Z"
   },
   {
    "duration": 162,
    "start_time": "2022-11-30T12:25:39.695Z"
   },
   {
    "duration": 256,
    "start_time": "2022-11-30T12:33:12.746Z"
   },
   {
    "duration": 304,
    "start_time": "2022-11-30T12:35:22.462Z"
   },
   {
    "duration": 21,
    "start_time": "2022-11-30T12:39:05.364Z"
   },
   {
    "duration": 22,
    "start_time": "2022-11-30T12:39:33.350Z"
   },
   {
    "duration": 19,
    "start_time": "2022-11-30T12:41:02.878Z"
   },
   {
    "duration": 17,
    "start_time": "2022-11-30T12:41:28.127Z"
   },
   {
    "duration": 16,
    "start_time": "2022-11-30T12:42:22.237Z"
   },
   {
    "duration": 65,
    "start_time": "2022-11-30T12:45:03.586Z"
   },
   {
    "duration": 3,
    "start_time": "2022-11-30T12:59:20.447Z"
   },
   {
    "duration": 73,
    "start_time": "2022-11-30T13:01:16.000Z"
   },
   {
    "duration": 9,
    "start_time": "2022-11-30T13:02:03.799Z"
   },
   {
    "duration": 27,
    "start_time": "2022-11-30T13:03:03.832Z"
   },
   {
    "duration": 1120,
    "start_time": "2022-11-30T13:03:57.067Z"
   },
   {
    "duration": 973,
    "start_time": "2022-11-30T13:04:17.406Z"
   },
   {
    "duration": 8,
    "start_time": "2022-11-30T13:04:50.187Z"
   },
   {
    "duration": 9,
    "start_time": "2022-11-30T13:05:07.045Z"
   },
   {
    "duration": 68,
    "start_time": "2022-11-30T13:05:24.370Z"
   },
   {
    "duration": 41,
    "start_time": "2022-11-30T13:06:14.028Z"
   },
   {
    "duration": 122,
    "start_time": "2022-11-30T13:06:40.875Z"
   },
   {
    "duration": 283,
    "start_time": "2022-11-30T13:07:47.074Z"
   },
   {
    "duration": 1272,
    "start_time": "2022-11-30T13:10:57.985Z"
   },
   {
    "duration": 542,
    "start_time": "2022-11-30T13:11:10.328Z"
   },
   {
    "duration": 710,
    "start_time": "2022-11-30T13:11:51.171Z"
   },
   {
    "duration": 316,
    "start_time": "2022-11-30T13:12:15.939Z"
   },
   {
    "duration": 78,
    "start_time": "2022-11-30T13:13:07.258Z"
   },
   {
    "duration": 277,
    "start_time": "2022-11-30T13:13:12.739Z"
   },
   {
    "duration": 291,
    "start_time": "2022-11-30T13:13:28.189Z"
   },
   {
    "duration": 279,
    "start_time": "2022-11-30T13:13:33.568Z"
   },
   {
    "duration": 303,
    "start_time": "2022-11-30T13:13:39.977Z"
   },
   {
    "duration": 290,
    "start_time": "2022-11-30T13:14:10.550Z"
   },
   {
    "duration": 276,
    "start_time": "2022-11-30T13:14:15.798Z"
   },
   {
    "duration": 281,
    "start_time": "2022-11-30T13:14:29.838Z"
   },
   {
    "duration": 295,
    "start_time": "2022-11-30T13:16:09.935Z"
   },
   {
    "duration": 462,
    "start_time": "2022-11-30T13:16:48.198Z"
   },
   {
    "duration": 296,
    "start_time": "2022-11-30T13:18:31.532Z"
   },
   {
    "duration": 325,
    "start_time": "2022-11-30T13:19:05.779Z"
   },
   {
    "duration": 299,
    "start_time": "2022-11-30T13:19:29.817Z"
   },
   {
    "duration": 562,
    "start_time": "2022-11-30T13:20:06.150Z"
   },
   {
    "duration": 571,
    "start_time": "2022-11-30T13:20:17.840Z"
   },
   {
    "duration": 312,
    "start_time": "2022-11-30T13:20:44.643Z"
   },
   {
    "duration": 417,
    "start_time": "2022-11-30T13:20:55.576Z"
   },
   {
    "duration": 284,
    "start_time": "2022-11-30T13:22:33.338Z"
   },
   {
    "duration": 289,
    "start_time": "2022-11-30T13:22:41.808Z"
   },
   {
    "duration": 447,
    "start_time": "2022-11-30T13:22:53.081Z"
   },
   {
    "duration": 479,
    "start_time": "2022-11-30T13:25:39.779Z"
   },
   {
    "duration": 526,
    "start_time": "2022-11-30T13:26:22.186Z"
   },
   {
    "duration": 652,
    "start_time": "2022-11-30T13:26:46.432Z"
   },
   {
    "duration": 441,
    "start_time": "2022-11-30T13:27:15.495Z"
   },
   {
    "duration": 439,
    "start_time": "2022-11-30T13:27:44.197Z"
   },
   {
    "duration": 449,
    "start_time": "2022-11-30T13:28:01.130Z"
   },
   {
    "duration": 457,
    "start_time": "2022-11-30T13:28:23.167Z"
   },
   {
    "duration": 448,
    "start_time": "2022-11-30T13:28:40.981Z"
   },
   {
    "duration": 457,
    "start_time": "2022-11-30T13:29:10.730Z"
   },
   {
    "duration": 440,
    "start_time": "2022-11-30T13:29:53.960Z"
   },
   {
    "duration": 35,
    "start_time": "2022-11-30T13:43:17.265Z"
   },
   {
    "duration": 21795,
    "start_time": "2022-11-30T13:44:09.886Z"
   },
   {
    "duration": 67,
    "start_time": "2022-11-30T13:44:37.890Z"
   },
   {
    "duration": 13,
    "start_time": "2022-11-30T14:11:17.102Z"
   },
   {
    "duration": 7,
    "start_time": "2022-11-30T14:12:19.115Z"
   },
   {
    "duration": 15,
    "start_time": "2022-11-30T14:14:36.589Z"
   },
   {
    "duration": 11,
    "start_time": "2022-11-30T14:15:11.202Z"
   },
   {
    "duration": 11,
    "start_time": "2022-11-30T14:17:02.222Z"
   },
   {
    "duration": 5,
    "start_time": "2022-11-30T14:35:28.057Z"
   },
   {
    "duration": 1153,
    "start_time": "2022-11-30T14:35:49.688Z"
   },
   {
    "duration": 16,
    "start_time": "2022-11-30T14:35:50.843Z"
   },
   {
    "duration": 4,
    "start_time": "2022-11-30T14:35:50.860Z"
   },
   {
    "duration": 10,
    "start_time": "2022-11-30T14:35:50.866Z"
   },
   {
    "duration": 12,
    "start_time": "2022-11-30T14:35:50.878Z"
   },
   {
    "duration": 8,
    "start_time": "2022-11-30T14:35:50.892Z"
   },
   {
    "duration": 13,
    "start_time": "2022-11-30T14:35:50.901Z"
   },
   {
    "duration": 13,
    "start_time": "2022-11-30T14:35:50.915Z"
   },
   {
    "duration": 29,
    "start_time": "2022-11-30T14:35:50.929Z"
   },
   {
    "duration": 10,
    "start_time": "2022-11-30T14:35:50.961Z"
   },
   {
    "duration": 480,
    "start_time": "2022-11-30T14:35:50.972Z"
   },
   {
    "duration": 17,
    "start_time": "2022-11-30T14:35:51.454Z"
   },
   {
    "duration": 13,
    "start_time": "2022-11-30T14:35:51.473Z"
   },
   {
    "duration": 13,
    "start_time": "2022-11-30T14:35:51.488Z"
   },
   {
    "duration": 5,
    "start_time": "2022-11-30T14:35:51.503Z"
   },
   {
    "duration": 44,
    "start_time": "2022-11-30T14:35:51.510Z"
   },
   {
    "duration": 45,
    "start_time": "2022-11-30T17:41:41.861Z"
   },
   {
    "duration": 1500,
    "start_time": "2022-11-30T17:41:50.487Z"
   },
   {
    "duration": 14,
    "start_time": "2022-11-30T17:41:51.989Z"
   },
   {
    "duration": 3,
    "start_time": "2022-11-30T17:41:52.005Z"
   },
   {
    "duration": 9,
    "start_time": "2022-11-30T17:41:52.010Z"
   },
   {
    "duration": 13,
    "start_time": "2022-11-30T17:41:52.020Z"
   },
   {
    "duration": 18,
    "start_time": "2022-11-30T17:41:52.035Z"
   },
   {
    "duration": 7,
    "start_time": "2022-11-30T17:41:52.054Z"
   },
   {
    "duration": 11,
    "start_time": "2022-11-30T17:41:52.063Z"
   },
   {
    "duration": 8,
    "start_time": "2022-11-30T17:41:52.076Z"
   },
   {
    "duration": 9,
    "start_time": "2022-11-30T17:41:52.086Z"
   },
   {
    "duration": 532,
    "start_time": "2022-11-30T17:41:52.096Z"
   },
   {
    "duration": 24,
    "start_time": "2022-11-30T17:41:52.630Z"
   },
   {
    "duration": 10,
    "start_time": "2022-11-30T17:41:52.656Z"
   },
   {
    "duration": 13,
    "start_time": "2022-11-30T17:41:52.668Z"
   },
   {
    "duration": 4,
    "start_time": "2022-11-30T17:41:52.683Z"
   },
   {
    "duration": 176,
    "start_time": "2022-11-30T17:41:52.689Z"
   },
   {
    "duration": 136,
    "start_time": "2022-11-30T17:42:30.359Z"
   },
   {
    "duration": 93,
    "start_time": "2022-11-30T17:44:49.301Z"
   },
   {
    "duration": 14,
    "start_time": "2022-11-30T17:44:56.699Z"
   },
   {
    "duration": 147,
    "start_time": "2022-11-30T17:45:10.264Z"
   },
   {
    "duration": 329,
    "start_time": "2022-11-30T17:45:19.446Z"
   },
   {
    "duration": 421,
    "start_time": "2022-11-30T17:45:43.938Z"
   },
   {
    "duration": 381,
    "start_time": "2022-11-30T17:45:53.801Z"
   },
   {
    "duration": 337,
    "start_time": "2022-11-30T17:46:05.066Z"
   },
   {
    "duration": 315,
    "start_time": "2022-11-30T17:46:10.428Z"
   },
   {
    "duration": 309,
    "start_time": "2022-11-30T17:46:27.975Z"
   },
   {
    "duration": 138,
    "start_time": "2022-11-30T17:48:19.653Z"
   },
   {
    "duration": 414,
    "start_time": "2022-11-30T17:48:38.344Z"
   },
   {
    "duration": 331,
    "start_time": "2022-11-30T17:49:07.603Z"
   },
   {
    "duration": 338,
    "start_time": "2022-11-30T17:49:20.765Z"
   },
   {
    "duration": 340,
    "start_time": "2022-11-30T17:49:28.564Z"
   },
   {
    "duration": 16,
    "start_time": "2022-11-30T17:51:39.545Z"
   },
   {
    "duration": 333,
    "start_time": "2022-11-30T18:00:33.065Z"
   },
   {
    "duration": 318,
    "start_time": "2022-11-30T18:00:49.194Z"
   },
   {
    "duration": 31,
    "start_time": "2022-11-30T18:19:59.213Z"
   },
   {
    "duration": 31,
    "start_time": "2022-11-30T18:20:31.673Z"
   },
   {
    "duration": 229,
    "start_time": "2022-11-30T18:21:22.351Z"
   },
   {
    "duration": 149,
    "start_time": "2022-11-30T18:21:43.040Z"
   },
   {
    "duration": 31,
    "start_time": "2022-11-30T18:21:50.344Z"
   },
   {
    "duration": 22,
    "start_time": "2022-11-30T18:23:22.410Z"
   },
   {
    "duration": 183,
    "start_time": "2022-11-30T18:28:53.765Z"
   },
   {
    "duration": 22,
    "start_time": "2022-11-30T18:29:41.532Z"
   },
   {
    "duration": 20,
    "start_time": "2022-11-30T18:29:55.388Z"
   },
   {
    "duration": 1012,
    "start_time": "2022-11-30T18:30:02.772Z"
   },
   {
    "duration": 26,
    "start_time": "2022-11-30T18:33:27.493Z"
   },
   {
    "duration": 27,
    "start_time": "2022-11-30T18:33:36.319Z"
   },
   {
    "duration": 32,
    "start_time": "2022-11-30T18:33:44.421Z"
   },
   {
    "duration": 167,
    "start_time": "2022-11-30T18:34:52.872Z"
   },
   {
    "duration": 993,
    "start_time": "2022-11-30T18:36:35.585Z"
   },
   {
    "duration": 37,
    "start_time": "2022-11-30T18:40:52.448Z"
   },
   {
    "duration": 30,
    "start_time": "2022-11-30T18:41:00.739Z"
   },
   {
    "duration": 24,
    "start_time": "2022-11-30T18:46:13.939Z"
   },
   {
    "duration": 1098,
    "start_time": "2022-11-30T18:47:43.898Z"
   },
   {
    "duration": 1098,
    "start_time": "2022-11-30T18:48:10.360Z"
   },
   {
    "duration": 1193,
    "start_time": "2022-11-30T18:48:24.396Z"
   },
   {
    "duration": 121,
    "start_time": "2022-11-30T18:49:22.873Z"
   },
   {
    "duration": 107,
    "start_time": "2022-11-30T18:49:32.110Z"
   },
   {
    "duration": 34,
    "start_time": "2022-11-30T18:49:57.496Z"
   },
   {
    "duration": 36,
    "start_time": "2022-11-30T18:50:18.595Z"
   },
   {
    "duration": 920,
    "start_time": "2022-11-30T18:50:36.670Z"
   },
   {
    "duration": 899,
    "start_time": "2022-11-30T18:50:58.531Z"
   },
   {
    "duration": 1286,
    "start_time": "2022-11-30T18:51:42.133Z"
   },
   {
    "duration": 246,
    "start_time": "2022-11-30T18:51:58.675Z"
   },
   {
    "duration": 151,
    "start_time": "2022-11-30T18:52:23.198Z"
   },
   {
    "duration": 31,
    "start_time": "2022-11-30T18:52:46.535Z"
   },
   {
    "duration": 35,
    "start_time": "2022-11-30T18:56:39.077Z"
   },
   {
    "duration": 46,
    "start_time": "2022-11-30T18:58:46.335Z"
   },
   {
    "duration": 903,
    "start_time": "2022-11-30T19:01:19.330Z"
   },
   {
    "duration": 904,
    "start_time": "2022-11-30T19:01:42.367Z"
   },
   {
    "duration": 976,
    "start_time": "2022-11-30T19:02:13.895Z"
   },
   {
    "duration": 26,
    "start_time": "2022-11-30T19:02:37.375Z"
   },
   {
    "duration": 187,
    "start_time": "2022-11-30T19:02:49.242Z"
   },
   {
    "duration": 1258,
    "start_time": "2022-11-30T19:03:14.341Z"
   },
   {
    "duration": 1080,
    "start_time": "2022-11-30T19:03:33.929Z"
   },
   {
    "duration": 1428,
    "start_time": "2022-11-30T21:16:58.035Z"
   },
   {
    "duration": 15,
    "start_time": "2022-11-30T21:16:59.465Z"
   },
   {
    "duration": 14,
    "start_time": "2022-11-30T21:16:59.481Z"
   },
   {
    "duration": 7,
    "start_time": "2022-11-30T21:16:59.498Z"
   },
   {
    "duration": 12,
    "start_time": "2022-11-30T21:16:59.506Z"
   },
   {
    "duration": 6,
    "start_time": "2022-11-30T21:16:59.520Z"
   },
   {
    "duration": 8,
    "start_time": "2022-11-30T21:16:59.528Z"
   },
   {
    "duration": 14,
    "start_time": "2022-11-30T21:16:59.538Z"
   },
   {
    "duration": 8,
    "start_time": "2022-11-30T21:16:59.554Z"
   },
   {
    "duration": 8,
    "start_time": "2022-11-30T21:16:59.564Z"
   },
   {
    "duration": 498,
    "start_time": "2022-11-30T21:16:59.574Z"
   },
   {
    "duration": 16,
    "start_time": "2022-11-30T21:17:00.074Z"
   },
   {
    "duration": 27,
    "start_time": "2022-11-30T21:17:00.093Z"
   },
   {
    "duration": 33,
    "start_time": "2022-11-30T21:17:00.121Z"
   },
   {
    "duration": 27,
    "start_time": "2022-11-30T21:17:00.155Z"
   },
   {
    "duration": 333,
    "start_time": "2022-11-30T21:17:00.184Z"
   },
   {
    "duration": 17,
    "start_time": "2022-11-30T21:17:00.519Z"
   },
   {
    "duration": 985,
    "start_time": "2022-11-30T21:17:00.538Z"
   },
   {
    "duration": 16,
    "start_time": "2022-11-30T21:17:20.549Z"
   },
   {
    "duration": 19,
    "start_time": "2022-11-30T21:17:44.913Z"
   },
   {
    "duration": 16,
    "start_time": "2022-11-30T21:18:00.339Z"
   },
   {
    "duration": 21,
    "start_time": "2022-11-30T21:18:16.377Z"
   },
   {
    "duration": 28,
    "start_time": "2022-11-30T21:21:38.899Z"
   },
   {
    "duration": 28,
    "start_time": "2022-11-30T21:22:07.130Z"
   },
   {
    "duration": 123,
    "start_time": "2022-11-30T21:23:36.828Z"
   },
   {
    "duration": 24,
    "start_time": "2022-11-30T21:24:12.563Z"
   },
   {
    "duration": 180,
    "start_time": "2022-11-30T21:25:27.893Z"
   },
   {
    "duration": 20,
    "start_time": "2022-11-30T21:27:32.613Z"
   },
   {
    "duration": 17,
    "start_time": "2022-11-30T21:27:39.141Z"
   },
   {
    "duration": 27,
    "start_time": "2022-11-30T21:27:47.618Z"
   },
   {
    "duration": 1006,
    "start_time": "2022-11-30T21:31:38.296Z"
   },
   {
    "duration": 971,
    "start_time": "2022-11-30T21:31:55.125Z"
   },
   {
    "duration": 29,
    "start_time": "2022-11-30T21:35:13.020Z"
   },
   {
    "duration": 958,
    "start_time": "2022-11-30T21:35:48.276Z"
   },
   {
    "duration": 127,
    "start_time": "2022-11-30T21:38:33.260Z"
   },
   {
    "duration": 936,
    "start_time": "2022-11-30T21:38:51.587Z"
   },
   {
    "duration": 48,
    "start_time": "2022-11-30T21:39:55.880Z"
   },
   {
    "duration": 847,
    "start_time": "2022-11-30T21:39:59.884Z"
   },
   {
    "duration": 893,
    "start_time": "2022-11-30T21:40:25.949Z"
   },
   {
    "duration": 1186,
    "start_time": "2022-11-30T21:55:00.795Z"
   },
   {
    "duration": 27,
    "start_time": "2022-11-30T21:55:10.768Z"
   },
   {
    "duration": 26,
    "start_time": "2022-11-30T21:55:25.757Z"
   },
   {
    "duration": 25,
    "start_time": "2022-11-30T21:55:46.887Z"
   },
   {
    "duration": 28,
    "start_time": "2022-11-30T21:55:57.091Z"
   },
   {
    "duration": 30,
    "start_time": "2022-11-30T21:56:09.880Z"
   },
   {
    "duration": 31,
    "start_time": "2022-11-30T22:04:22.642Z"
   },
   {
    "duration": 27,
    "start_time": "2022-11-30T22:04:47.280Z"
   },
   {
    "duration": 22,
    "start_time": "2022-11-30T22:06:20.680Z"
   },
   {
    "duration": 52,
    "start_time": "2022-11-30T22:06:56.518Z"
   },
   {
    "duration": 73,
    "start_time": "2022-11-30T22:07:19.196Z"
   },
   {
    "duration": 44,
    "start_time": "2022-11-30T22:08:27.099Z"
   },
   {
    "duration": 57,
    "start_time": "2022-11-30T22:09:24.943Z"
   },
   {
    "duration": 46,
    "start_time": "2022-11-30T22:09:53.332Z"
   },
   {
    "duration": 29,
    "start_time": "2022-11-30T22:10:07.746Z"
   },
   {
    "duration": 184,
    "start_time": "2022-11-30T22:10:14.905Z"
   },
   {
    "duration": 180,
    "start_time": "2022-11-30T22:10:46.472Z"
   },
   {
    "duration": 28,
    "start_time": "2022-11-30T22:10:57.377Z"
   },
   {
    "duration": 234,
    "start_time": "2022-11-30T22:11:28.029Z"
   },
   {
    "duration": 195,
    "start_time": "2022-11-30T22:11:40.901Z"
   },
   {
    "duration": 389,
    "start_time": "2022-11-30T22:12:04.747Z"
   },
   {
    "duration": 374,
    "start_time": "2022-11-30T22:12:41.718Z"
   },
   {
    "duration": 458,
    "start_time": "2022-11-30T22:12:49.654Z"
   },
   {
    "duration": 298,
    "start_time": "2022-11-30T22:13:30.991Z"
   },
   {
    "duration": 254,
    "start_time": "2022-11-30T22:15:20.006Z"
   },
   {
    "duration": 229,
    "start_time": "2022-11-30T22:15:39.566Z"
   },
   {
    "duration": 268,
    "start_time": "2022-11-30T22:16:31.219Z"
   },
   {
    "duration": 266,
    "start_time": "2022-11-30T22:16:56.909Z"
   },
   {
    "duration": 250,
    "start_time": "2022-11-30T22:17:09.791Z"
   },
   {
    "duration": 266,
    "start_time": "2022-11-30T22:17:25.978Z"
   },
   {
    "duration": 39,
    "start_time": "2022-11-30T22:19:54.502Z"
   },
   {
    "duration": 42,
    "start_time": "2022-11-30T22:23:53.329Z"
   },
   {
    "duration": 214,
    "start_time": "2022-11-30T22:24:29.766Z"
   },
   {
    "duration": 36,
    "start_time": "2022-11-30T22:25:23.523Z"
   },
   {
    "duration": 142,
    "start_time": "2022-11-30T22:26:07.064Z"
   },
   {
    "duration": 274,
    "start_time": "2022-11-30T22:28:13.142Z"
   },
   {
    "duration": 389,
    "start_time": "2022-11-30T22:32:29.687Z"
   },
   {
    "duration": 271,
    "start_time": "2022-11-30T22:32:45.972Z"
   },
   {
    "duration": 259,
    "start_time": "2022-11-30T22:33:38.261Z"
   },
   {
    "duration": 226,
    "start_time": "2022-11-30T22:34:01.111Z"
   },
   {
    "duration": 268,
    "start_time": "2022-11-30T22:34:12.095Z"
   },
   {
    "duration": 32,
    "start_time": "2022-11-30T23:03:40.472Z"
   },
   {
    "duration": 396,
    "start_time": "2022-11-30T23:04:03.503Z"
   },
   {
    "duration": 352,
    "start_time": "2022-11-30T23:04:20.063Z"
   },
   {
    "duration": 201,
    "start_time": "2022-11-30T23:05:44.033Z"
   },
   {
    "duration": 370,
    "start_time": "2022-11-30T23:06:27.836Z"
   },
   {
    "duration": 488,
    "start_time": "2022-11-30T23:06:51.239Z"
   },
   {
    "duration": 216,
    "start_time": "2022-11-30T23:08:37.370Z"
   },
   {
    "duration": 220,
    "start_time": "2022-11-30T23:09:01.231Z"
   },
   {
    "duration": 265,
    "start_time": "2022-11-30T23:09:36.421Z"
   },
   {
    "duration": 257,
    "start_time": "2022-11-30T23:09:43.860Z"
   },
   {
    "duration": 263,
    "start_time": "2022-11-30T23:09:52.928Z"
   },
   {
    "duration": 270,
    "start_time": "2022-11-30T23:10:15.014Z"
   },
   {
    "duration": 224,
    "start_time": "2022-11-30T23:13:57.800Z"
   },
   {
    "duration": 37,
    "start_time": "2022-11-30T23:18:51.061Z"
   },
   {
    "duration": 37,
    "start_time": "2022-11-30T23:19:18.655Z"
   },
   {
    "duration": 39,
    "start_time": "2022-11-30T23:19:34.606Z"
   },
   {
    "duration": 57,
    "start_time": "2022-11-30T23:20:11.616Z"
   },
   {
    "duration": 49,
    "start_time": "2022-11-30T23:21:17.898Z"
   },
   {
    "duration": 1489,
    "start_time": "2022-12-01T12:08:38.503Z"
   },
   {
    "duration": 14,
    "start_time": "2022-12-01T12:08:39.993Z"
   },
   {
    "duration": 18,
    "start_time": "2022-12-01T12:08:40.009Z"
   },
   {
    "duration": 22,
    "start_time": "2022-12-01T12:08:40.030Z"
   },
   {
    "duration": 32,
    "start_time": "2022-12-01T12:08:40.054Z"
   },
   {
    "duration": 14,
    "start_time": "2022-12-01T12:08:40.088Z"
   },
   {
    "duration": 30,
    "start_time": "2022-12-01T12:08:40.104Z"
   },
   {
    "duration": 26,
    "start_time": "2022-12-01T12:08:40.136Z"
   },
   {
    "duration": 12,
    "start_time": "2022-12-01T12:08:40.164Z"
   },
   {
    "duration": 22,
    "start_time": "2022-12-01T12:08:40.178Z"
   },
   {
    "duration": 478,
    "start_time": "2022-12-01T12:08:40.202Z"
   },
   {
    "duration": 15,
    "start_time": "2022-12-01T12:08:40.682Z"
   },
   {
    "duration": 13,
    "start_time": "2022-12-01T12:08:40.699Z"
   },
   {
    "duration": 36,
    "start_time": "2022-12-01T12:08:40.714Z"
   },
   {
    "duration": 40,
    "start_time": "2022-12-01T12:08:40.752Z"
   },
   {
    "duration": 366,
    "start_time": "2022-12-01T12:08:40.794Z"
   },
   {
    "duration": 30,
    "start_time": "2022-12-01T12:08:41.162Z"
   },
   {
    "duration": 74,
    "start_time": "2022-12-01T12:08:41.194Z"
   },
   {
    "duration": 0,
    "start_time": "2022-12-01T12:08:41.270Z"
   },
   {
    "duration": 6,
    "start_time": "2022-12-01T12:10:25.806Z"
   },
   {
    "duration": 4,
    "start_time": "2022-12-01T12:26:04.391Z"
   },
   {
    "duration": 10,
    "start_time": "2022-12-01T12:28:50.934Z"
   },
   {
    "duration": 11,
    "start_time": "2022-12-01T12:29:13.227Z"
   },
   {
    "duration": 20,
    "start_time": "2022-12-01T12:29:30.020Z"
   },
   {
    "duration": 8,
    "start_time": "2022-12-01T12:30:53.239Z"
   },
   {
    "duration": 72,
    "start_time": "2022-12-01T12:33:53.933Z"
   },
   {
    "duration": 207,
    "start_time": "2022-12-01T12:34:25.105Z"
   },
   {
    "duration": 176,
    "start_time": "2022-12-01T12:34:33.302Z"
   },
   {
    "duration": 169,
    "start_time": "2022-12-01T12:35:32.809Z"
   },
   {
    "duration": 187,
    "start_time": "2022-12-01T12:35:41.108Z"
   },
   {
    "duration": 250,
    "start_time": "2022-12-01T12:35:52.349Z"
   },
   {
    "duration": 187,
    "start_time": "2022-12-01T12:35:58.334Z"
   },
   {
    "duration": 162,
    "start_time": "2022-12-01T12:36:21.432Z"
   },
   {
    "duration": 169,
    "start_time": "2022-12-01T12:36:44.803Z"
   },
   {
    "duration": 207,
    "start_time": "2022-12-01T12:40:58.423Z"
   },
   {
    "duration": 9,
    "start_time": "2022-12-01T12:41:57.193Z"
   },
   {
    "duration": 7,
    "start_time": "2022-12-01T12:42:32.509Z"
   },
   {
    "duration": 9,
    "start_time": "2022-12-01T12:42:44.257Z"
   },
   {
    "duration": 7,
    "start_time": "2022-12-01T12:43:23.546Z"
   },
   {
    "duration": 70,
    "start_time": "2022-12-01T13:02:10.785Z"
   },
   {
    "duration": 286,
    "start_time": "2022-12-01T13:02:18.716Z"
   },
   {
    "duration": 15,
    "start_time": "2022-12-01T13:45:20.567Z"
   },
   {
    "duration": 46,
    "start_time": "2022-12-01T14:57:46.525Z"
   },
   {
    "duration": 1507,
    "start_time": "2022-12-01T14:57:58.682Z"
   },
   {
    "duration": 15,
    "start_time": "2022-12-01T14:58:00.191Z"
   },
   {
    "duration": 42,
    "start_time": "2022-12-01T14:58:00.207Z"
   },
   {
    "duration": 34,
    "start_time": "2022-12-01T14:58:00.251Z"
   },
   {
    "duration": 32,
    "start_time": "2022-12-01T14:58:00.287Z"
   },
   {
    "duration": 22,
    "start_time": "2022-12-01T14:58:00.320Z"
   },
   {
    "duration": 34,
    "start_time": "2022-12-01T14:58:00.344Z"
   },
   {
    "duration": 54,
    "start_time": "2022-12-01T14:58:00.380Z"
   },
   {
    "duration": 49,
    "start_time": "2022-12-01T14:58:00.436Z"
   },
   {
    "duration": 45,
    "start_time": "2022-12-01T14:58:00.487Z"
   },
   {
    "duration": 512,
    "start_time": "2022-12-01T14:58:00.534Z"
   },
   {
    "duration": 15,
    "start_time": "2022-12-01T14:58:01.048Z"
   },
   {
    "duration": 24,
    "start_time": "2022-12-01T14:58:01.065Z"
   },
   {
    "duration": 18,
    "start_time": "2022-12-01T14:58:01.091Z"
   },
   {
    "duration": 18,
    "start_time": "2022-12-01T14:58:01.110Z"
   },
   {
    "duration": 26,
    "start_time": "2022-12-01T14:58:01.129Z"
   },
   {
    "duration": 20,
    "start_time": "2022-12-01T14:58:01.156Z"
   },
   {
    "duration": 28,
    "start_time": "2022-12-01T14:58:01.177Z"
   },
   {
    "duration": 24,
    "start_time": "2022-12-01T14:58:01.206Z"
   },
   {
    "duration": 16,
    "start_time": "2022-12-01T14:58:01.232Z"
   },
   {
    "duration": 11,
    "start_time": "2022-12-01T14:58:01.250Z"
   },
   {
    "duration": 159,
    "start_time": "2022-12-01T14:58:01.263Z"
   },
   {
    "duration": 4,
    "start_time": "2022-12-01T14:58:01.423Z"
   },
   {
    "duration": 296,
    "start_time": "2022-12-01T14:58:01.429Z"
   },
   {
    "duration": 16,
    "start_time": "2022-12-01T14:58:01.727Z"
   },
   {
    "duration": 228,
    "start_time": "2022-12-01T14:58:01.745Z"
   },
   {
    "duration": 23,
    "start_time": "2022-12-01T14:58:37.540Z"
   },
   {
    "duration": 72,
    "start_time": "2022-12-01T15:57:37.655Z"
   },
   {
    "duration": 1878,
    "start_time": "2022-12-01T15:57:52.650Z"
   },
   {
    "duration": 16,
    "start_time": "2022-12-01T15:57:54.530Z"
   },
   {
    "duration": 3,
    "start_time": "2022-12-01T15:57:54.548Z"
   },
   {
    "duration": 9,
    "start_time": "2022-12-01T15:57:54.553Z"
   },
   {
    "duration": 13,
    "start_time": "2022-12-01T15:57:54.564Z"
   },
   {
    "duration": 12,
    "start_time": "2022-12-01T15:57:54.595Z"
   },
   {
    "duration": 10,
    "start_time": "2022-12-01T15:57:54.609Z"
   },
   {
    "duration": 18,
    "start_time": "2022-12-01T15:57:54.621Z"
   },
   {
    "duration": 11,
    "start_time": "2022-12-01T15:57:54.641Z"
   },
   {
    "duration": 12,
    "start_time": "2022-12-01T15:57:54.654Z"
   },
   {
    "duration": 740,
    "start_time": "2022-12-01T15:57:54.669Z"
   },
   {
    "duration": 16,
    "start_time": "2022-12-01T15:57:55.413Z"
   },
   {
    "duration": 15,
    "start_time": "2022-12-01T15:57:55.431Z"
   },
   {
    "duration": 23,
    "start_time": "2022-12-01T15:57:55.449Z"
   },
   {
    "duration": 12,
    "start_time": "2022-12-01T15:57:55.498Z"
   },
   {
    "duration": 11,
    "start_time": "2022-12-01T15:57:55.512Z"
   },
   {
    "duration": 14,
    "start_time": "2022-12-01T15:57:55.525Z"
   },
   {
    "duration": 32,
    "start_time": "2022-12-01T15:57:55.542Z"
   },
   {
    "duration": 10,
    "start_time": "2022-12-01T15:57:55.576Z"
   },
   {
    "duration": 13,
    "start_time": "2022-12-01T15:57:55.596Z"
   },
   {
    "duration": 10,
    "start_time": "2022-12-01T15:57:55.612Z"
   },
   {
    "duration": 248,
    "start_time": "2022-12-01T15:57:55.624Z"
   },
   {
    "duration": 7,
    "start_time": "2022-12-01T15:57:55.875Z"
   },
   {
    "duration": 514,
    "start_time": "2022-12-01T15:57:55.885Z"
   },
   {
    "duration": 22,
    "start_time": "2022-12-01T15:57:56.401Z"
   },
   {
    "duration": 271,
    "start_time": "2022-12-01T15:57:56.425Z"
   },
   {
    "duration": 295,
    "start_time": "2022-12-01T15:57:56.699Z"
   },
   {
    "duration": 517,
    "start_time": "2022-12-01T15:58:07.653Z"
   },
   {
    "duration": 397,
    "start_time": "2022-12-01T15:58:27.401Z"
   },
   {
    "duration": 8,
    "start_time": "2022-12-01T15:59:51.120Z"
   },
   {
    "duration": 7,
    "start_time": "2022-12-01T16:00:00.455Z"
   },
   {
    "duration": 8,
    "start_time": "2022-12-01T16:00:06.643Z"
   },
   {
    "duration": 6,
    "start_time": "2022-12-01T16:00:22.187Z"
   },
   {
    "duration": 28,
    "start_time": "2022-12-01T16:58:31.781Z"
   },
   {
    "duration": 11,
    "start_time": "2022-12-01T17:10:06.507Z"
   },
   {
    "duration": 8,
    "start_time": "2022-12-01T17:10:39.666Z"
   },
   {
    "duration": 134,
    "start_time": "2022-12-01T17:20:47.914Z"
   },
   {
    "duration": 130,
    "start_time": "2022-12-01T17:21:23.960Z"
   },
   {
    "duration": 125,
    "start_time": "2022-12-01T17:21:35.009Z"
   },
   {
    "duration": 128,
    "start_time": "2022-12-01T17:21:41.427Z"
   },
   {
    "duration": 175,
    "start_time": "2022-12-01T17:27:01.556Z"
   },
   {
    "duration": 147,
    "start_time": "2022-12-01T17:27:41.905Z"
   },
   {
    "duration": 148,
    "start_time": "2022-12-01T17:27:55.274Z"
   },
   {
    "duration": 82,
    "start_time": "2022-12-01T17:30:14.988Z"
   },
   {
    "duration": 166,
    "start_time": "2022-12-01T17:30:32.841Z"
   },
   {
    "duration": 332,
    "start_time": "2022-12-01T17:31:29.254Z"
   },
   {
    "duration": 198,
    "start_time": "2022-12-01T17:31:42.098Z"
   },
   {
    "duration": 160,
    "start_time": "2022-12-01T17:31:52.693Z"
   },
   {
    "duration": 157,
    "start_time": "2022-12-01T17:32:56.280Z"
   },
   {
    "duration": 57,
    "start_time": "2022-12-01T17:54:16.082Z"
   },
   {
    "duration": 35,
    "start_time": "2022-12-01T17:54:21.534Z"
   },
   {
    "duration": 174,
    "start_time": "2022-12-01T17:54:40.892Z"
   },
   {
    "duration": 147,
    "start_time": "2022-12-01T17:56:54.518Z"
   },
   {
    "duration": 152,
    "start_time": "2022-12-01T17:57:24.151Z"
   },
   {
    "duration": 154,
    "start_time": "2022-12-01T17:57:48.289Z"
   },
   {
    "duration": 9,
    "start_time": "2022-12-01T18:02:08.205Z"
   },
   {
    "duration": 11,
    "start_time": "2022-12-01T18:02:22.177Z"
   },
   {
    "duration": 12,
    "start_time": "2022-12-01T18:02:45.575Z"
   },
   {
    "duration": 8,
    "start_time": "2022-12-01T18:02:52.574Z"
   },
   {
    "duration": 154,
    "start_time": "2022-12-01T18:06:36.876Z"
   },
   {
    "duration": 9,
    "start_time": "2022-12-01T18:07:14.090Z"
   },
   {
    "duration": 157,
    "start_time": "2022-12-01T18:13:00.004Z"
   },
   {
    "duration": 160,
    "start_time": "2022-12-01T18:13:39.938Z"
   },
   {
    "duration": 149,
    "start_time": "2022-12-01T18:13:52.609Z"
   },
   {
    "duration": 264,
    "start_time": "2022-12-01T18:15:01.077Z"
   },
   {
    "duration": 42,
    "start_time": "2022-12-01T18:15:21.852Z"
   },
   {
    "duration": 153,
    "start_time": "2022-12-01T18:15:41.143Z"
   },
   {
    "duration": 75,
    "start_time": "2022-12-01T18:18:40.950Z"
   },
   {
    "duration": 165,
    "start_time": "2022-12-01T18:47:44.048Z"
   },
   {
    "duration": 155,
    "start_time": "2022-12-01T18:47:52.694Z"
   },
   {
    "duration": 12,
    "start_time": "2022-12-01T18:54:41.300Z"
   },
   {
    "duration": 11,
    "start_time": "2022-12-01T18:55:00.658Z"
   },
   {
    "duration": 11,
    "start_time": "2022-12-01T18:55:30.323Z"
   },
   {
    "duration": 10,
    "start_time": "2022-12-01T18:55:53.493Z"
   },
   {
    "duration": 151,
    "start_time": "2022-12-01T19:14:59.156Z"
   },
   {
    "duration": 158,
    "start_time": "2022-12-01T19:15:51.416Z"
   },
   {
    "duration": 674,
    "start_time": "2022-12-01T19:17:50.053Z"
   },
   {
    "duration": 158,
    "start_time": "2022-12-01T19:18:04.300Z"
   },
   {
    "duration": 252,
    "start_time": "2022-12-01T19:18:22.407Z"
   },
   {
    "duration": 24,
    "start_time": "2022-12-01T19:34:54.940Z"
   },
   {
    "duration": 147,
    "start_time": "2022-12-01T19:37:54.500Z"
   },
   {
    "duration": 155,
    "start_time": "2022-12-01T19:38:15.531Z"
   },
   {
    "duration": 20,
    "start_time": "2022-12-01T19:38:22.081Z"
   },
   {
    "duration": 20,
    "start_time": "2022-12-01T19:38:30.699Z"
   },
   {
    "duration": 21,
    "start_time": "2022-12-01T19:58:19.295Z"
   },
   {
    "duration": 158,
    "start_time": "2022-12-01T20:00:39.254Z"
   },
   {
    "duration": 20,
    "start_time": "2022-12-01T20:07:26.706Z"
   },
   {
    "duration": 19,
    "start_time": "2022-12-01T20:07:50.910Z"
   },
   {
    "duration": 20,
    "start_time": "2022-12-01T20:09:03.775Z"
   },
   {
    "duration": 17,
    "start_time": "2022-12-01T20:09:29.265Z"
   },
   {
    "duration": 18,
    "start_time": "2022-12-01T20:18:39.637Z"
   },
   {
    "duration": 28,
    "start_time": "2022-12-01T20:18:57.917Z"
   },
   {
    "duration": 161,
    "start_time": "2022-12-01T20:49:20.150Z"
   },
   {
    "duration": 237,
    "start_time": "2022-12-01T20:49:33.702Z"
   },
   {
    "duration": 241,
    "start_time": "2022-12-01T20:50:05.936Z"
   },
   {
    "duration": 210,
    "start_time": "2022-12-01T20:59:43.934Z"
   },
   {
    "duration": 178,
    "start_time": "2022-12-01T20:59:58.893Z"
   },
   {
    "duration": 1460,
    "start_time": "2022-12-02T12:10:23.893Z"
   },
   {
    "duration": 14,
    "start_time": "2022-12-02T12:10:25.355Z"
   },
   {
    "duration": 3,
    "start_time": "2022-12-02T12:10:25.371Z"
   },
   {
    "duration": 12,
    "start_time": "2022-12-02T12:10:25.375Z"
   },
   {
    "duration": 14,
    "start_time": "2022-12-02T12:10:25.389Z"
   },
   {
    "duration": 8,
    "start_time": "2022-12-02T12:10:25.404Z"
   },
   {
    "duration": 13,
    "start_time": "2022-12-02T12:10:25.413Z"
   },
   {
    "duration": 12,
    "start_time": "2022-12-02T12:10:25.427Z"
   },
   {
    "duration": 10,
    "start_time": "2022-12-02T12:10:25.440Z"
   },
   {
    "duration": 9,
    "start_time": "2022-12-02T12:10:25.453Z"
   },
   {
    "duration": 527,
    "start_time": "2022-12-02T12:10:25.463Z"
   },
   {
    "duration": 16,
    "start_time": "2022-12-02T12:10:25.997Z"
   },
   {
    "duration": 12,
    "start_time": "2022-12-02T12:10:26.015Z"
   },
   {
    "duration": 13,
    "start_time": "2022-12-02T12:10:26.029Z"
   },
   {
    "duration": 7,
    "start_time": "2022-12-02T12:10:26.044Z"
   },
   {
    "duration": 7,
    "start_time": "2022-12-02T12:10:26.052Z"
   },
   {
    "duration": 38,
    "start_time": "2022-12-02T12:10:26.060Z"
   },
   {
    "duration": 10,
    "start_time": "2022-12-02T12:10:26.100Z"
   },
   {
    "duration": 9,
    "start_time": "2022-12-02T12:10:26.111Z"
   },
   {
    "duration": 8,
    "start_time": "2022-12-02T12:10:26.122Z"
   },
   {
    "duration": 9,
    "start_time": "2022-12-02T12:10:26.132Z"
   },
   {
    "duration": 212,
    "start_time": "2022-12-02T12:10:26.143Z"
   },
   {
    "duration": 4,
    "start_time": "2022-12-02T12:10:26.357Z"
   },
   {
    "duration": 282,
    "start_time": "2022-12-02T12:10:26.363Z"
   },
   {
    "duration": 15,
    "start_time": "2022-12-02T12:10:26.647Z"
   },
   {
    "duration": 207,
    "start_time": "2022-12-02T12:10:26.663Z"
   },
   {
    "duration": 29,
    "start_time": "2022-12-02T12:10:26.871Z"
   },
   {
    "duration": 234,
    "start_time": "2022-12-02T12:10:26.903Z"
   },
   {
    "duration": 192,
    "start_time": "2022-12-02T12:10:27.139Z"
   },
   {
    "duration": 15,
    "start_time": "2022-12-02T12:10:27.333Z"
   },
   {
    "duration": 16,
    "start_time": "2022-12-02T12:10:27.349Z"
   },
   {
    "duration": 152,
    "start_time": "2022-12-02T12:10:27.367Z"
   },
   {
    "duration": 9,
    "start_time": "2022-12-02T12:10:27.520Z"
   },
   {
    "duration": 147,
    "start_time": "2022-12-02T12:10:27.530Z"
   },
   {
    "duration": 8,
    "start_time": "2022-12-02T12:10:27.679Z"
   },
   {
    "duration": 15,
    "start_time": "2022-12-02T12:10:27.688Z"
   },
   {
    "duration": 8,
    "start_time": "2022-12-02T12:10:27.705Z"
   },
   {
    "duration": 8,
    "start_time": "2022-12-02T12:10:27.714Z"
   },
   {
    "duration": 13,
    "start_time": "2022-12-02T12:10:27.723Z"
   },
   {
    "duration": 194,
    "start_time": "2022-12-02T12:10:27.737Z"
   },
   {
    "duration": 15,
    "start_time": "2022-12-02T12:13:25.003Z"
   },
   {
    "duration": 14,
    "start_time": "2022-12-02T12:13:45.419Z"
   },
   {
    "duration": 168,
    "start_time": "2022-12-02T12:13:51.063Z"
   },
   {
    "duration": 186,
    "start_time": "2022-12-02T12:14:52.335Z"
   },
   {
    "duration": 156,
    "start_time": "2022-12-02T12:15:03.167Z"
   },
   {
    "duration": 19,
    "start_time": "2022-12-02T12:25:16.338Z"
   },
   {
    "duration": 18,
    "start_time": "2022-12-02T12:27:08.130Z"
   },
   {
    "duration": 220,
    "start_time": "2022-12-02T12:27:15.482Z"
   },
   {
    "duration": 232,
    "start_time": "2022-12-02T12:29:05.175Z"
   },
   {
    "duration": 7,
    "start_time": "2022-12-02T13:00:33.729Z"
   },
   {
    "duration": 8,
    "start_time": "2022-12-02T13:00:52.494Z"
   },
   {
    "duration": 8,
    "start_time": "2022-12-02T13:01:19.272Z"
   },
   {
    "duration": 10,
    "start_time": "2022-12-02T13:02:59.074Z"
   },
   {
    "duration": 58,
    "start_time": "2022-12-02T13:23:46.901Z"
   },
   {
    "duration": 3,
    "start_time": "2022-12-02T13:23:51.399Z"
   },
   {
    "duration": 48,
    "start_time": "2022-12-02T13:23:59.585Z"
   },
   {
    "duration": 58,
    "start_time": "2022-12-02T13:43:27.264Z"
   },
   {
    "duration": 298,
    "start_time": "2022-12-02T13:43:55.528Z"
   },
   {
    "duration": 11,
    "start_time": "2022-12-02T13:46:45.465Z"
   },
   {
    "duration": 23,
    "start_time": "2022-12-02T13:46:55.179Z"
   },
   {
    "duration": 27,
    "start_time": "2022-12-02T13:47:25.854Z"
   },
   {
    "duration": 11,
    "start_time": "2022-12-02T13:47:57.680Z"
   },
   {
    "duration": 12,
    "start_time": "2022-12-02T13:50:01.679Z"
   },
   {
    "duration": 9,
    "start_time": "2022-12-02T13:50:22.520Z"
   },
   {
    "duration": 9,
    "start_time": "2022-12-02T13:50:59.263Z"
   },
   {
    "duration": 10,
    "start_time": "2022-12-02T13:51:08.047Z"
   },
   {
    "duration": 93,
    "start_time": "2022-12-02T13:51:25.662Z"
   },
   {
    "duration": 162,
    "start_time": "2022-12-02T14:04:21.501Z"
   },
   {
    "duration": 98,
    "start_time": "2022-12-02T14:06:08.281Z"
   },
   {
    "duration": 95,
    "start_time": "2022-12-02T14:06:21.726Z"
   },
   {
    "duration": 96,
    "start_time": "2022-12-02T14:06:47.718Z"
   },
   {
    "duration": 104,
    "start_time": "2022-12-02T14:06:56.850Z"
   },
   {
    "duration": 9,
    "start_time": "2022-12-02T14:13:01.379Z"
   },
   {
    "duration": 11,
    "start_time": "2022-12-02T14:14:37.831Z"
   },
   {
    "duration": 101,
    "start_time": "2022-12-02T14:15:21.313Z"
   },
   {
    "duration": 12,
    "start_time": "2022-12-02T14:16:09.519Z"
   },
   {
    "duration": 10,
    "start_time": "2022-12-02T14:20:15.543Z"
   },
   {
    "duration": 11,
    "start_time": "2022-12-02T14:20:24.529Z"
   },
   {
    "duration": 12,
    "start_time": "2022-12-02T14:20:36.868Z"
   },
   {
    "duration": 101,
    "start_time": "2022-12-02T14:21:11.051Z"
   },
   {
    "duration": 305,
    "start_time": "2022-12-02T14:23:11.272Z"
   },
   {
    "duration": 329,
    "start_time": "2022-12-02T14:24:30.592Z"
   },
   {
    "duration": 13,
    "start_time": "2022-12-02T16:08:20.363Z"
   },
   {
    "duration": 13,
    "start_time": "2022-12-02T16:11:10.569Z"
   },
   {
    "duration": 12,
    "start_time": "2022-12-02T16:11:20.691Z"
   },
   {
    "duration": 13,
    "start_time": "2022-12-02T16:12:16.703Z"
   },
   {
    "duration": 11,
    "start_time": "2022-12-02T16:13:01.923Z"
   },
   {
    "duration": 15,
    "start_time": "2022-12-02T16:13:34.866Z"
   },
   {
    "duration": 13,
    "start_time": "2022-12-02T16:16:06.936Z"
   },
   {
    "duration": 13,
    "start_time": "2022-12-02T16:16:22.916Z"
   },
   {
    "duration": 13,
    "start_time": "2022-12-02T16:21:37.759Z"
   },
   {
    "duration": 14,
    "start_time": "2022-12-02T16:21:49.570Z"
   },
   {
    "duration": 10,
    "start_time": "2022-12-02T16:22:25.594Z"
   },
   {
    "duration": 387,
    "start_time": "2022-12-02T16:24:58.670Z"
   },
   {
    "duration": 306,
    "start_time": "2022-12-02T16:26:49.156Z"
   },
   {
    "duration": 44,
    "start_time": "2022-12-02T16:46:10.317Z"
   },
   {
    "duration": 10,
    "start_time": "2022-12-02T16:46:28.972Z"
   },
   {
    "duration": 12,
    "start_time": "2022-12-02T16:46:35.792Z"
   },
   {
    "duration": 10,
    "start_time": "2022-12-02T16:46:45.926Z"
   },
   {
    "duration": 9,
    "start_time": "2022-12-02T16:47:09.098Z"
   },
   {
    "duration": 14,
    "start_time": "2022-12-02T16:47:17.353Z"
   },
   {
    "duration": 9,
    "start_time": "2022-12-02T16:48:02.744Z"
   },
   {
    "duration": 10,
    "start_time": "2022-12-02T18:22:50.012Z"
   },
   {
    "duration": 20,
    "start_time": "2022-12-02T18:23:02.718Z"
   },
   {
    "duration": 11,
    "start_time": "2022-12-02T18:23:07.883Z"
   },
   {
    "duration": 14,
    "start_time": "2022-12-02T18:23:14.466Z"
   },
   {
    "duration": 335,
    "start_time": "2022-12-02T18:23:25.465Z"
   },
   {
    "duration": 10,
    "start_time": "2022-12-02T18:24:26.300Z"
   },
   {
    "duration": 10,
    "start_time": "2022-12-02T18:24:31.986Z"
   },
   {
    "duration": 13,
    "start_time": "2022-12-02T18:24:38.590Z"
   },
   {
    "duration": 10,
    "start_time": "2022-12-02T18:25:19.168Z"
   },
   {
    "duration": 8,
    "start_time": "2022-12-02T18:38:25.022Z"
   },
   {
    "duration": 10,
    "start_time": "2022-12-02T18:38:45.281Z"
   },
   {
    "duration": 26,
    "start_time": "2022-12-02T18:41:27.461Z"
   },
   {
    "duration": 323,
    "start_time": "2022-12-02T18:45:41.983Z"
   },
   {
    "duration": 7,
    "start_time": "2022-12-02T18:57:44.300Z"
   },
   {
    "duration": 8,
    "start_time": "2022-12-02T18:58:17.293Z"
   },
   {
    "duration": 7,
    "start_time": "2022-12-02T18:59:08.263Z"
   },
   {
    "duration": 7,
    "start_time": "2022-12-02T19:01:04.806Z"
   },
   {
    "duration": 7,
    "start_time": "2022-12-02T19:01:23.490Z"
   },
   {
    "duration": 44,
    "start_time": "2022-12-02T19:03:37.720Z"
   },
   {
    "duration": 7,
    "start_time": "2022-12-02T19:04:16.550Z"
   },
   {
    "duration": 7,
    "start_time": "2022-12-02T19:04:27.773Z"
   },
   {
    "duration": 7,
    "start_time": "2022-12-02T19:04:37.605Z"
   },
   {
    "duration": 30,
    "start_time": "2022-12-02T19:58:18.276Z"
   },
   {
    "duration": 114,
    "start_time": "2022-12-02T19:58:35.765Z"
   },
   {
    "duration": 9,
    "start_time": "2022-12-02T20:12:41.272Z"
   },
   {
    "duration": 4,
    "start_time": "2022-12-02T20:16:18.093Z"
   },
   {
    "duration": 1166,
    "start_time": "2022-12-02T20:17:19.691Z"
   },
   {
    "duration": 13,
    "start_time": "2022-12-02T20:17:20.859Z"
   },
   {
    "duration": 3,
    "start_time": "2022-12-02T20:17:20.873Z"
   },
   {
    "duration": 7,
    "start_time": "2022-12-02T20:17:20.877Z"
   },
   {
    "duration": 12,
    "start_time": "2022-12-02T20:17:20.885Z"
   },
   {
    "duration": 5,
    "start_time": "2022-12-02T20:17:20.898Z"
   },
   {
    "duration": 13,
    "start_time": "2022-12-02T20:17:20.905Z"
   },
   {
    "duration": 11,
    "start_time": "2022-12-02T20:17:20.919Z"
   },
   {
    "duration": 8,
    "start_time": "2022-12-02T20:17:20.931Z"
   },
   {
    "duration": 8,
    "start_time": "2022-12-02T20:17:20.941Z"
   },
   {
    "duration": 453,
    "start_time": "2022-12-02T20:17:20.950Z"
   },
   {
    "duration": 6,
    "start_time": "2022-12-02T20:17:21.405Z"
   },
   {
    "duration": 19,
    "start_time": "2022-12-02T20:17:21.413Z"
   },
   {
    "duration": 12,
    "start_time": "2022-12-02T20:17:21.433Z"
   },
   {
    "duration": 20,
    "start_time": "2022-12-02T20:17:21.446Z"
   },
   {
    "duration": 11,
    "start_time": "2022-12-02T20:17:21.467Z"
   },
   {
    "duration": 18,
    "start_time": "2022-12-02T20:17:21.479Z"
   },
   {
    "duration": 16,
    "start_time": "2022-12-02T20:17:21.499Z"
   },
   {
    "duration": 13,
    "start_time": "2022-12-02T20:17:21.517Z"
   },
   {
    "duration": 7,
    "start_time": "2022-12-02T20:17:21.531Z"
   },
   {
    "duration": 33,
    "start_time": "2022-12-02T20:17:21.539Z"
   },
   {
    "duration": 31,
    "start_time": "2022-12-02T20:17:21.574Z"
   },
   {
    "duration": 156,
    "start_time": "2022-12-02T20:17:21.606Z"
   },
   {
    "duration": 4,
    "start_time": "2022-12-02T20:17:21.763Z"
   },
   {
    "duration": 276,
    "start_time": "2022-12-02T20:17:21.768Z"
   },
   {
    "duration": 17,
    "start_time": "2022-12-02T20:17:22.045Z"
   },
   {
    "duration": 196,
    "start_time": "2022-12-02T20:17:22.063Z"
   },
   {
    "duration": 22,
    "start_time": "2022-12-02T20:17:22.263Z"
   },
   {
    "duration": 224,
    "start_time": "2022-12-02T20:17:22.297Z"
   },
   {
    "duration": 202,
    "start_time": "2022-12-02T20:17:22.523Z"
   },
   {
    "duration": 23,
    "start_time": "2022-12-02T20:17:22.726Z"
   },
   {
    "duration": 21,
    "start_time": "2022-12-02T20:17:22.751Z"
   },
   {
    "duration": 209,
    "start_time": "2022-12-02T20:17:22.774Z"
   },
   {
    "duration": 0,
    "start_time": "2022-12-02T20:17:22.985Z"
   },
   {
    "duration": 0,
    "start_time": "2022-12-02T20:17:22.998Z"
   },
   {
    "duration": 0,
    "start_time": "2022-12-02T20:17:22.999Z"
   },
   {
    "duration": 0,
    "start_time": "2022-12-02T20:17:23.000Z"
   },
   {
    "duration": 0,
    "start_time": "2022-12-02T20:17:23.001Z"
   },
   {
    "duration": 0,
    "start_time": "2022-12-02T20:17:23.002Z"
   },
   {
    "duration": 0,
    "start_time": "2022-12-02T20:17:23.004Z"
   },
   {
    "duration": 0,
    "start_time": "2022-12-02T20:17:23.006Z"
   },
   {
    "duration": 0,
    "start_time": "2022-12-02T20:17:23.007Z"
   },
   {
    "duration": 0,
    "start_time": "2022-12-02T20:17:23.009Z"
   },
   {
    "duration": 0,
    "start_time": "2022-12-02T20:17:23.010Z"
   },
   {
    "duration": 0,
    "start_time": "2022-12-02T20:17:23.011Z"
   },
   {
    "duration": 0,
    "start_time": "2022-12-02T20:17:23.013Z"
   },
   {
    "duration": 0,
    "start_time": "2022-12-02T20:17:23.014Z"
   },
   {
    "duration": 0,
    "start_time": "2022-12-02T20:17:23.015Z"
   },
   {
    "duration": 0,
    "start_time": "2022-12-02T20:17:23.017Z"
   },
   {
    "duration": 0,
    "start_time": "2022-12-02T20:17:23.018Z"
   },
   {
    "duration": 0,
    "start_time": "2022-12-02T20:17:23.019Z"
   },
   {
    "duration": 0,
    "start_time": "2022-12-02T20:17:23.020Z"
   },
   {
    "duration": 0,
    "start_time": "2022-12-02T20:17:23.021Z"
   },
   {
    "duration": 0,
    "start_time": "2022-12-02T20:17:23.022Z"
   },
   {
    "duration": 0,
    "start_time": "2022-12-02T20:17:23.023Z"
   },
   {
    "duration": 143,
    "start_time": "2022-12-02T20:18:30.348Z"
   },
   {
    "duration": 1093,
    "start_time": "2022-12-02T20:25:40.558Z"
   },
   {
    "duration": 13,
    "start_time": "2022-12-02T20:25:41.653Z"
   },
   {
    "duration": 3,
    "start_time": "2022-12-02T20:25:41.667Z"
   },
   {
    "duration": 6,
    "start_time": "2022-12-02T20:25:41.672Z"
   },
   {
    "duration": 19,
    "start_time": "2022-12-02T20:25:41.679Z"
   },
   {
    "duration": 6,
    "start_time": "2022-12-02T20:25:41.699Z"
   },
   {
    "duration": 10,
    "start_time": "2022-12-02T20:25:41.707Z"
   },
   {
    "duration": 10,
    "start_time": "2022-12-02T20:25:41.718Z"
   },
   {
    "duration": 15,
    "start_time": "2022-12-02T20:25:41.729Z"
   },
   {
    "duration": 9,
    "start_time": "2022-12-02T20:25:41.746Z"
   },
   {
    "duration": 449,
    "start_time": "2022-12-02T20:25:41.756Z"
   },
   {
    "duration": 14,
    "start_time": "2022-12-02T20:25:42.207Z"
   },
   {
    "duration": 11,
    "start_time": "2022-12-02T20:25:42.222Z"
   },
   {
    "duration": 14,
    "start_time": "2022-12-02T20:25:42.235Z"
   },
   {
    "duration": 6,
    "start_time": "2022-12-02T20:25:42.250Z"
   },
   {
    "duration": 7,
    "start_time": "2022-12-02T20:25:42.257Z"
   },
   {
    "duration": 34,
    "start_time": "2022-12-02T20:25:42.265Z"
   },
   {
    "duration": 8,
    "start_time": "2022-12-02T20:25:42.301Z"
   },
   {
    "duration": 8,
    "start_time": "2022-12-02T20:25:42.310Z"
   },
   {
    "duration": 7,
    "start_time": "2022-12-02T20:25:42.319Z"
   },
   {
    "duration": 7,
    "start_time": "2022-12-02T20:25:42.328Z"
   },
   {
    "duration": 184,
    "start_time": "2022-12-02T20:25:42.336Z"
   },
   {
    "duration": 5,
    "start_time": "2022-12-02T20:25:42.521Z"
   },
   {
    "duration": 294,
    "start_time": "2022-12-02T20:25:42.528Z"
   },
   {
    "duration": 18,
    "start_time": "2022-12-02T20:25:42.824Z"
   },
   {
    "duration": 205,
    "start_time": "2022-12-02T20:25:42.843Z"
   },
   {
    "duration": 23,
    "start_time": "2022-12-02T20:25:43.050Z"
   },
   {
    "duration": 234,
    "start_time": "2022-12-02T20:25:43.075Z"
   },
   {
    "duration": 192,
    "start_time": "2022-12-02T20:25:43.311Z"
   },
   {
    "duration": 16,
    "start_time": "2022-12-02T20:25:43.504Z"
   },
   {
    "duration": 19,
    "start_time": "2022-12-02T20:25:43.521Z"
   },
   {
    "duration": 157,
    "start_time": "2022-12-02T20:25:43.542Z"
   },
   {
    "duration": 8,
    "start_time": "2022-12-02T20:25:43.701Z"
   },
   {
    "duration": 138,
    "start_time": "2022-12-02T20:25:43.711Z"
   },
   {
    "duration": 8,
    "start_time": "2022-12-02T20:25:43.850Z"
   },
   {
    "duration": 7,
    "start_time": "2022-12-02T20:25:43.860Z"
   },
   {
    "duration": 10,
    "start_time": "2022-12-02T20:25:43.868Z"
   },
   {
    "duration": 23,
    "start_time": "2022-12-02T20:25:43.879Z"
   },
   {
    "duration": 15,
    "start_time": "2022-12-02T20:25:43.904Z"
   },
   {
    "duration": 321,
    "start_time": "2022-12-02T20:25:43.920Z"
   },
   {
    "duration": 8,
    "start_time": "2022-12-02T20:25:44.243Z"
   },
   {
    "duration": 11,
    "start_time": "2022-12-02T20:25:44.253Z"
   },
   {
    "duration": 9,
    "start_time": "2022-12-02T20:25:44.265Z"
   },
   {
    "duration": 28,
    "start_time": "2022-12-02T20:25:44.275Z"
   },
   {
    "duration": 16,
    "start_time": "2022-12-02T20:25:44.305Z"
   },
   {
    "duration": 12,
    "start_time": "2022-12-02T20:25:44.323Z"
   },
   {
    "duration": 356,
    "start_time": "2022-12-02T20:25:44.337Z"
   },
   {
    "duration": 11,
    "start_time": "2022-12-02T20:25:44.698Z"
   },
   {
    "duration": 8,
    "start_time": "2022-12-02T20:25:44.710Z"
   },
   {
    "duration": 7,
    "start_time": "2022-12-02T20:25:44.720Z"
   },
   {
    "duration": 24,
    "start_time": "2022-12-02T20:25:44.729Z"
   },
   {
    "duration": 344,
    "start_time": "2022-12-02T20:25:44.755Z"
   },
   {
    "duration": 4,
    "start_time": "2022-12-02T20:25:45.100Z"
   },
   {
    "duration": 18,
    "start_time": "2022-12-02T20:25:45.106Z"
   },
   {
    "duration": 9,
    "start_time": "2022-12-02T20:26:53.056Z"
   },
   {
    "duration": 9,
    "start_time": "2022-12-02T20:27:17.070Z"
   },
   {
    "duration": 10,
    "start_time": "2022-12-02T20:27:24.673Z"
   },
   {
    "duration": 10,
    "start_time": "2022-12-02T20:27:49.049Z"
   },
   {
    "duration": 47,
    "start_time": "2022-12-02T20:29:39.248Z"
   },
   {
    "duration": 174,
    "start_time": "2022-12-02T20:29:53.570Z"
   },
   {
    "duration": 95,
    "start_time": "2022-12-02T20:30:28.447Z"
   },
   {
    "duration": 106,
    "start_time": "2022-12-02T20:30:57.795Z"
   },
   {
    "duration": 1638,
    "start_time": "2022-12-03T11:09:38.836Z"
   },
   {
    "duration": 16,
    "start_time": "2022-12-03T11:09:40.475Z"
   },
   {
    "duration": 3,
    "start_time": "2022-12-03T11:09:40.493Z"
   },
   {
    "duration": 8,
    "start_time": "2022-12-03T11:09:40.498Z"
   },
   {
    "duration": 14,
    "start_time": "2022-12-03T11:09:40.508Z"
   },
   {
    "duration": 17,
    "start_time": "2022-12-03T11:09:40.523Z"
   },
   {
    "duration": 11,
    "start_time": "2022-12-03T11:09:40.542Z"
   },
   {
    "duration": 12,
    "start_time": "2022-12-03T11:09:40.554Z"
   },
   {
    "duration": 9,
    "start_time": "2022-12-03T11:09:40.568Z"
   },
   {
    "duration": 9,
    "start_time": "2022-12-03T11:09:40.580Z"
   },
   {
    "duration": 519,
    "start_time": "2022-12-03T11:09:40.591Z"
   },
   {
    "duration": 25,
    "start_time": "2022-12-03T11:09:41.112Z"
   },
   {
    "duration": 14,
    "start_time": "2022-12-03T11:09:41.139Z"
   },
   {
    "duration": 13,
    "start_time": "2022-12-03T11:09:41.155Z"
   },
   {
    "duration": 6,
    "start_time": "2022-12-03T11:09:41.170Z"
   },
   {
    "duration": 7,
    "start_time": "2022-12-03T11:09:41.177Z"
   },
   {
    "duration": 12,
    "start_time": "2022-12-03T11:09:41.185Z"
   },
   {
    "duration": 11,
    "start_time": "2022-12-03T11:09:41.199Z"
   },
   {
    "duration": 9,
    "start_time": "2022-12-03T11:09:41.237Z"
   },
   {
    "duration": 8,
    "start_time": "2022-12-03T11:09:41.248Z"
   },
   {
    "duration": 8,
    "start_time": "2022-12-03T11:09:41.258Z"
   },
   {
    "duration": 206,
    "start_time": "2022-12-03T11:09:41.268Z"
   },
   {
    "duration": 4,
    "start_time": "2022-12-03T11:09:41.476Z"
   },
   {
    "duration": 340,
    "start_time": "2022-12-03T11:09:41.482Z"
   },
   {
    "duration": 31,
    "start_time": "2022-12-03T11:09:41.825Z"
   },
   {
    "duration": 229,
    "start_time": "2022-12-03T11:09:41.857Z"
   },
   {
    "duration": 25,
    "start_time": "2022-12-03T11:09:42.088Z"
   },
   {
    "duration": 288,
    "start_time": "2022-12-03T11:09:42.117Z"
   },
   {
    "duration": 237,
    "start_time": "2022-12-03T11:09:42.407Z"
   },
   {
    "duration": 18,
    "start_time": "2022-12-03T11:09:42.646Z"
   },
   {
    "duration": 19,
    "start_time": "2022-12-03T11:09:42.666Z"
   },
   {
    "duration": 181,
    "start_time": "2022-12-03T11:09:42.687Z"
   },
   {
    "duration": 10,
    "start_time": "2022-12-03T11:09:42.870Z"
   },
   {
    "duration": 174,
    "start_time": "2022-12-03T11:09:42.882Z"
   },
   {
    "duration": 8,
    "start_time": "2022-12-03T11:09:43.058Z"
   },
   {
    "duration": 23,
    "start_time": "2022-12-03T11:09:43.068Z"
   },
   {
    "duration": 16,
    "start_time": "2022-12-03T11:09:43.093Z"
   },
   {
    "duration": 15,
    "start_time": "2022-12-03T11:09:43.111Z"
   },
   {
    "duration": 24,
    "start_time": "2022-12-03T11:09:43.127Z"
   },
   {
    "duration": 379,
    "start_time": "2022-12-03T11:09:43.152Z"
   },
   {
    "duration": 11,
    "start_time": "2022-12-03T11:09:43.533Z"
   },
   {
    "duration": 15,
    "start_time": "2022-12-03T11:09:43.546Z"
   },
   {
    "duration": 24,
    "start_time": "2022-12-03T11:09:43.563Z"
   },
   {
    "duration": 15,
    "start_time": "2022-12-03T11:09:43.589Z"
   },
   {
    "duration": 35,
    "start_time": "2022-12-03T11:09:43.606Z"
   },
   {
    "duration": 12,
    "start_time": "2022-12-03T11:09:43.643Z"
   },
   {
    "duration": 373,
    "start_time": "2022-12-03T11:09:43.657Z"
   },
   {
    "duration": 10,
    "start_time": "2022-12-03T11:09:44.037Z"
   },
   {
    "duration": 25,
    "start_time": "2022-12-03T11:09:44.048Z"
   },
   {
    "duration": 23,
    "start_time": "2022-12-03T11:09:44.074Z"
   },
   {
    "duration": 27,
    "start_time": "2022-12-03T11:09:44.099Z"
   },
   {
    "duration": 381,
    "start_time": "2022-12-03T11:09:44.127Z"
   },
   {
    "duration": 5,
    "start_time": "2022-12-03T11:09:44.510Z"
   },
   {
    "duration": 203,
    "start_time": "2022-12-03T11:09:44.516Z"
   },
   {
    "duration": 126,
    "start_time": "2022-12-03T11:09:44.720Z"
   },
   {
    "duration": 126,
    "start_time": "2022-12-03T11:09:44.848Z"
   },
   {
    "duration": 12,
    "start_time": "2022-12-03T12:40:39.666Z"
   },
   {
    "duration": 11,
    "start_time": "2022-12-03T12:40:59.480Z"
   },
   {
    "duration": 103,
    "start_time": "2022-12-03T12:46:38.312Z"
   },
   {
    "duration": 20,
    "start_time": "2022-12-03T12:47:05.023Z"
   },
   {
    "duration": 15,
    "start_time": "2022-12-03T12:49:18.500Z"
   },
   {
    "duration": 11,
    "start_time": "2022-12-03T12:49:43.369Z"
   },
   {
    "duration": 853,
    "start_time": "2022-12-03T12:50:42.968Z"
   },
   {
    "duration": 914,
    "start_time": "2022-12-03T12:55:59.313Z"
   },
   {
    "duration": 9,
    "start_time": "2022-12-03T12:56:27.120Z"
   },
   {
    "duration": 12,
    "start_time": "2022-12-03T12:56:52.945Z"
   },
   {
    "duration": 10,
    "start_time": "2022-12-03T12:57:06.879Z"
   },
   {
    "duration": 7,
    "start_time": "2022-12-03T12:57:17.223Z"
   },
   {
    "duration": 5,
    "start_time": "2022-12-03T12:59:07.285Z"
   },
   {
    "duration": 5,
    "start_time": "2022-12-03T13:02:15.600Z"
   },
   {
    "duration": 6,
    "start_time": "2022-12-03T13:02:30.311Z"
   },
   {
    "duration": 6,
    "start_time": "2022-12-03T13:02:35.538Z"
   },
   {
    "duration": 6,
    "start_time": "2022-12-03T13:02:49.610Z"
   },
   {
    "duration": 7,
    "start_time": "2022-12-03T13:02:58.153Z"
   },
   {
    "duration": 11,
    "start_time": "2022-12-03T13:13:32.770Z"
   },
   {
    "duration": 8,
    "start_time": "2022-12-03T13:14:23.683Z"
   },
   {
    "duration": 4,
    "start_time": "2022-12-03T13:15:07.029Z"
   },
   {
    "duration": 164,
    "start_time": "2022-12-03T14:51:57.927Z"
   },
   {
    "duration": 54,
    "start_time": "2022-12-03T15:09:24.549Z"
   },
   {
    "duration": 45,
    "start_time": "2022-12-03T15:18:38.401Z"
   },
   {
    "duration": 44,
    "start_time": "2022-12-03T15:18:41.207Z"
   },
   {
    "duration": 1498,
    "start_time": "2022-12-05T20:02:21.758Z"
   },
   {
    "duration": 15,
    "start_time": "2022-12-05T20:02:23.259Z"
   },
   {
    "duration": 3,
    "start_time": "2022-12-05T20:02:23.276Z"
   },
   {
    "duration": 18,
    "start_time": "2022-12-05T20:02:23.282Z"
   },
   {
    "duration": 21,
    "start_time": "2022-12-05T20:02:23.301Z"
   },
   {
    "duration": 14,
    "start_time": "2022-12-05T20:02:23.324Z"
   },
   {
    "duration": 17,
    "start_time": "2022-12-05T20:02:23.340Z"
   },
   {
    "duration": 14,
    "start_time": "2022-12-05T20:02:23.359Z"
   },
   {
    "duration": 8,
    "start_time": "2022-12-05T20:02:23.374Z"
   },
   {
    "duration": 12,
    "start_time": "2022-12-05T20:02:23.385Z"
   },
   {
    "duration": 481,
    "start_time": "2022-12-05T20:02:23.398Z"
   },
   {
    "duration": 15,
    "start_time": "2022-12-05T20:02:23.881Z"
   },
   {
    "duration": 13,
    "start_time": "2022-12-05T20:02:23.898Z"
   },
   {
    "duration": 44,
    "start_time": "2022-12-05T20:02:23.913Z"
   },
   {
    "duration": 7,
    "start_time": "2022-12-05T20:02:23.958Z"
   },
   {
    "duration": 5,
    "start_time": "2022-12-05T20:02:23.967Z"
   },
   {
    "duration": 12,
    "start_time": "2022-12-05T20:02:23.973Z"
   },
   {
    "duration": 12,
    "start_time": "2022-12-05T20:02:23.987Z"
   },
   {
    "duration": 15,
    "start_time": "2022-12-05T20:02:24.001Z"
   },
   {
    "duration": 13,
    "start_time": "2022-12-05T20:02:24.035Z"
   },
   {
    "duration": 10,
    "start_time": "2022-12-05T20:02:24.050Z"
   },
   {
    "duration": 174,
    "start_time": "2022-12-05T20:02:24.061Z"
   },
   {
    "duration": 4,
    "start_time": "2022-12-05T20:02:24.237Z"
   },
   {
    "duration": 299,
    "start_time": "2022-12-05T20:02:24.243Z"
   },
   {
    "duration": 18,
    "start_time": "2022-12-05T20:02:24.545Z"
   },
   {
    "duration": 231,
    "start_time": "2022-12-05T20:02:24.564Z"
   },
   {
    "duration": 25,
    "start_time": "2022-12-05T20:02:24.797Z"
   },
   {
    "duration": 254,
    "start_time": "2022-12-05T20:02:24.834Z"
   },
   {
    "duration": 228,
    "start_time": "2022-12-05T20:02:25.090Z"
   },
   {
    "duration": 21,
    "start_time": "2022-12-05T20:02:25.320Z"
   },
   {
    "duration": 17,
    "start_time": "2022-12-05T20:02:25.343Z"
   },
   {
    "duration": 160,
    "start_time": "2022-12-05T20:02:25.361Z"
   },
   {
    "duration": 16,
    "start_time": "2022-12-05T20:02:25.523Z"
   },
   {
    "duration": 168,
    "start_time": "2022-12-05T20:02:25.541Z"
   },
   {
    "duration": 9,
    "start_time": "2022-12-05T20:02:25.710Z"
   },
   {
    "duration": 24,
    "start_time": "2022-12-05T20:02:25.721Z"
   },
   {
    "duration": 13,
    "start_time": "2022-12-05T20:02:25.747Z"
   },
   {
    "duration": 8,
    "start_time": "2022-12-05T20:02:25.762Z"
   },
   {
    "duration": 17,
    "start_time": "2022-12-05T20:02:25.772Z"
   },
   {
    "duration": 361,
    "start_time": "2022-12-05T20:02:25.790Z"
   },
   {
    "duration": 10,
    "start_time": "2022-12-05T20:02:26.153Z"
   },
   {
    "duration": 16,
    "start_time": "2022-12-05T20:02:26.164Z"
   },
   {
    "duration": 11,
    "start_time": "2022-12-05T20:02:26.182Z"
   },
   {
    "duration": 15,
    "start_time": "2022-12-05T20:02:26.194Z"
   },
   {
    "duration": 40,
    "start_time": "2022-12-05T20:02:26.211Z"
   },
   {
    "duration": 11,
    "start_time": "2022-12-05T20:02:26.253Z"
   },
   {
    "duration": 367,
    "start_time": "2022-12-05T20:02:26.265Z"
   },
   {
    "duration": 10,
    "start_time": "2022-12-05T20:02:26.635Z"
   },
   {
    "duration": 14,
    "start_time": "2022-12-05T20:02:26.646Z"
   },
   {
    "duration": 16,
    "start_time": "2022-12-05T20:02:26.661Z"
   },
   {
    "duration": 31,
    "start_time": "2022-12-05T20:02:26.679Z"
   },
   {
    "duration": 416,
    "start_time": "2022-12-05T20:02:26.711Z"
   },
   {
    "duration": 8,
    "start_time": "2022-12-05T20:02:27.129Z"
   },
   {
    "duration": 196,
    "start_time": "2022-12-05T20:02:27.139Z"
   },
   {
    "duration": 115,
    "start_time": "2022-12-05T20:02:27.336Z"
   },
   {
    "duration": 113,
    "start_time": "2022-12-05T20:02:27.453Z"
   },
   {
    "duration": 8,
    "start_time": "2022-12-05T20:02:27.568Z"
   },
   {
    "duration": 8,
    "start_time": "2022-12-05T20:02:27.578Z"
   },
   {
    "duration": 24,
    "start_time": "2022-12-05T20:02:27.587Z"
   },
   {
    "duration": 26,
    "start_time": "2022-12-05T20:02:27.613Z"
   },
   {
    "duration": 46,
    "start_time": "2022-12-05T20:05:10.326Z"
   },
   {
    "duration": 47,
    "start_time": "2022-12-05T20:05:16.758Z"
   },
   {
    "duration": 45,
    "start_time": "2022-12-05T20:05:31.634Z"
   },
   {
    "duration": 47,
    "start_time": "2022-12-05T20:05:47.010Z"
   },
   {
    "duration": 47,
    "start_time": "2022-12-05T20:06:29.915Z"
   },
   {
    "duration": 5,
    "start_time": "2022-12-05T20:07:23.223Z"
   },
   {
    "duration": 149,
    "start_time": "2022-12-05T20:08:45.025Z"
   },
   {
    "duration": 172,
    "start_time": "2022-12-05T20:08:57.931Z"
   },
   {
    "duration": 149,
    "start_time": "2022-12-05T20:09:41.581Z"
   },
   {
    "duration": 157,
    "start_time": "2022-12-05T20:09:50.014Z"
   },
   {
    "duration": 78,
    "start_time": "2022-12-05T20:14:00.000Z"
   },
   {
    "duration": 108,
    "start_time": "2022-12-05T20:14:11.920Z"
   },
   {
    "duration": 28,
    "start_time": "2022-12-05T20:15:16.274Z"
   },
   {
    "duration": 211,
    "start_time": "2022-12-05T20:16:51.726Z"
   },
   {
    "duration": 18,
    "start_time": "2022-12-05T20:18:43.382Z"
   },
   {
    "duration": 21,
    "start_time": "2022-12-05T20:19:02.010Z"
   },
   {
    "duration": 597,
    "start_time": "2022-12-05T20:23:18.577Z"
   },
   {
    "duration": 486,
    "start_time": "2022-12-05T20:23:40.899Z"
   },
   {
    "duration": 503,
    "start_time": "2022-12-05T20:24:45.021Z"
   },
   {
    "duration": 16,
    "start_time": "2022-12-05T20:27:06.012Z"
   },
   {
    "duration": 15,
    "start_time": "2022-12-05T20:27:24.977Z"
   },
   {
    "duration": 518,
    "start_time": "2022-12-05T20:27:38.210Z"
   },
   {
    "duration": 563,
    "start_time": "2022-12-05T20:31:43.443Z"
   },
   {
    "duration": 493,
    "start_time": "2022-12-05T20:32:18.294Z"
   },
   {
    "duration": 108,
    "start_time": "2022-12-05T20:33:12.063Z"
   },
   {
    "duration": 13,
    "start_time": "2022-12-05T20:34:14.869Z"
   },
   {
    "duration": 12,
    "start_time": "2022-12-05T20:34:26.247Z"
   },
   {
    "duration": 12,
    "start_time": "2022-12-05T20:36:05.477Z"
   },
   {
    "duration": 13,
    "start_time": "2022-12-05T20:42:47.011Z"
   },
   {
    "duration": 124,
    "start_time": "2022-12-05T20:46:49.813Z"
   },
   {
    "duration": 129,
    "start_time": "2022-12-05T20:46:58.395Z"
   },
   {
    "duration": 144,
    "start_time": "2022-12-05T20:51:11.615Z"
   },
   {
    "duration": 248,
    "start_time": "2022-12-05T20:52:48.252Z"
   },
   {
    "duration": 120,
    "start_time": "2022-12-05T20:54:24.680Z"
   },
   {
    "duration": 130,
    "start_time": "2022-12-05T20:54:47.886Z"
   },
   {
    "duration": 121,
    "start_time": "2022-12-05T20:55:03.959Z"
   },
   {
    "duration": 126,
    "start_time": "2022-12-05T20:55:17.901Z"
   },
   {
    "duration": 131,
    "start_time": "2022-12-05T20:55:40.643Z"
   },
   {
    "duration": 145,
    "start_time": "2022-12-05T20:56:53.021Z"
   },
   {
    "duration": 151,
    "start_time": "2022-12-05T20:57:04.246Z"
   },
   {
    "duration": 162,
    "start_time": "2022-12-05T20:57:15.975Z"
   },
   {
    "duration": 154,
    "start_time": "2022-12-05T20:57:27.046Z"
   },
   {
    "duration": 600,
    "start_time": "2022-12-05T21:00:49.502Z"
   },
   {
    "duration": 150,
    "start_time": "2022-12-05T21:01:42.052Z"
   },
   {
    "duration": 272,
    "start_time": "2022-12-05T21:17:32.557Z"
   },
   {
    "duration": 172,
    "start_time": "2022-12-05T21:20:05.866Z"
   },
   {
    "duration": 18,
    "start_time": "2022-12-05T21:20:27.415Z"
   },
   {
    "duration": 19,
    "start_time": "2022-12-05T21:22:46.080Z"
   },
   {
    "duration": 366,
    "start_time": "2022-12-05T21:27:21.904Z"
   },
   {
    "duration": 212,
    "start_time": "2022-12-05T21:29:06.159Z"
   },
   {
    "duration": 5,
    "start_time": "2022-12-05T21:29:44.036Z"
   },
   {
    "duration": 228,
    "start_time": "2022-12-05T21:34:04.071Z"
   },
   {
    "duration": 255,
    "start_time": "2022-12-05T21:34:32.696Z"
   },
   {
    "duration": 260,
    "start_time": "2022-12-05T21:34:58.762Z"
   },
   {
    "duration": 272,
    "start_time": "2022-12-05T21:37:50.745Z"
   },
   {
    "duration": 272,
    "start_time": "2022-12-05T21:38:36.022Z"
   },
   {
    "duration": 6,
    "start_time": "2022-12-05T21:42:03.061Z"
   },
   {
    "duration": 975,
    "start_time": "2022-12-05T21:43:30.431Z"
   },
   {
    "duration": 997,
    "start_time": "2022-12-05T21:43:38.435Z"
   },
   {
    "duration": 639,
    "start_time": "2022-12-05T21:44:43.780Z"
   },
   {
    "duration": 6,
    "start_time": "2022-12-05T21:44:56.039Z"
   },
   {
    "duration": 4,
    "start_time": "2022-12-05T21:45:03.557Z"
   },
   {
    "duration": 4,
    "start_time": "2022-12-05T21:45:14.600Z"
   },
   {
    "duration": 4,
    "start_time": "2022-12-05T21:45:30.945Z"
   },
   {
    "duration": 5,
    "start_time": "2022-12-05T21:45:34.898Z"
   },
   {
    "duration": 5,
    "start_time": "2022-12-05T21:46:02.358Z"
   },
   {
    "duration": 716,
    "start_time": "2022-12-05T21:46:13.508Z"
   },
   {
    "duration": 9,
    "start_time": "2022-12-05T21:46:41.615Z"
   },
   {
    "duration": 672,
    "start_time": "2022-12-05T21:46:59.205Z"
   },
   {
    "duration": 653,
    "start_time": "2022-12-05T21:47:39.697Z"
   },
   {
    "duration": 16,
    "start_time": "2022-12-05T21:47:54.313Z"
   },
   {
    "duration": 14,
    "start_time": "2022-12-05T21:48:19.119Z"
   },
   {
    "duration": 13,
    "start_time": "2022-12-05T21:48:23.323Z"
   },
   {
    "duration": 7,
    "start_time": "2022-12-05T21:50:09.267Z"
   },
   {
    "duration": 45,
    "start_time": "2022-12-05T21:50:42.277Z"
   },
   {
    "duration": 6,
    "start_time": "2022-12-05T21:50:46.351Z"
   },
   {
    "duration": 424,
    "start_time": "2022-12-05T21:51:13.933Z"
   },
   {
    "duration": 311,
    "start_time": "2022-12-05T21:52:08.493Z"
   },
   {
    "duration": 302,
    "start_time": "2022-12-05T21:52:35.220Z"
   },
   {
    "duration": 20,
    "start_time": "2022-12-05T21:52:46.153Z"
   },
   {
    "duration": 18,
    "start_time": "2022-12-05T21:53:00.951Z"
   },
   {
    "duration": 317,
    "start_time": "2022-12-05T21:53:06.120Z"
   },
   {
    "duration": 292,
    "start_time": "2022-12-05T21:54:26.043Z"
   },
   {
    "duration": 299,
    "start_time": "2022-12-05T21:55:22.672Z"
   },
   {
    "duration": 282,
    "start_time": "2022-12-05T21:55:31.120Z"
   },
   {
    "duration": 314,
    "start_time": "2022-12-05T21:55:36.637Z"
   },
   {
    "duration": 431,
    "start_time": "2022-12-05T21:55:41.619Z"
   },
   {
    "duration": 292,
    "start_time": "2022-12-05T21:56:38.919Z"
   },
   {
    "duration": 293,
    "start_time": "2022-12-05T21:56:44.438Z"
   },
   {
    "duration": 313,
    "start_time": "2022-12-05T21:59:02.130Z"
   },
   {
    "duration": 305,
    "start_time": "2022-12-05T21:59:13.080Z"
   },
   {
    "duration": 44,
    "start_time": "2022-12-05T21:59:41.121Z"
   },
   {
    "duration": 300,
    "start_time": "2022-12-05T22:03:26.617Z"
   },
   {
    "duration": 317,
    "start_time": "2022-12-05T22:09:09.023Z"
   },
   {
    "duration": 305,
    "start_time": "2022-12-05T22:14:38.132Z"
   },
   {
    "duration": 287,
    "start_time": "2022-12-05T22:14:49.010Z"
   }
  ],
  "kernelspec": {
   "display_name": "Python 3 (ipykernel)",
   "language": "python",
   "name": "python3"
  },
  "language_info": {
   "codemirror_mode": {
    "name": "ipython",
    "version": 3
   },
   "file_extension": ".py",
   "mimetype": "text/x-python",
   "name": "python",
   "nbconvert_exporter": "python",
   "pygments_lexer": "ipython3",
   "version": "3.9.13"
  },
  "toc": {
   "base_numbering": 1,
   "nav_menu": {},
   "number_sections": true,
   "sideBar": true,
   "skip_h1_title": true,
   "title_cell": "Table of Contents",
   "title_sidebar": "Contents",
   "toc_cell": false,
   "toc_position": {},
   "toc_section_display": true,
   "toc_window_display": false
  }
 },
 "nbformat": 4,
 "nbformat_minor": 2
}
