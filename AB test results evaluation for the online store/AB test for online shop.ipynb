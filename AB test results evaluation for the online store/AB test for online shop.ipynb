{
 "cells": [
  {
   "cell_type": "markdown",
   "metadata": {},
   "source": [
    "# Проведение и анализ результатов А/В теста"
   ]
  },
  {
   "cell_type": "markdown",
   "metadata": {},
   "source": [
    "## 1. Описание проекта"
   ]
  },
  {
   "cell_type": "markdown",
   "metadata": {},
   "source": [
    "**Цель проекта:** анализ и приоритизация списка 9ти гипотез, разработанных с целью увеличения выручки интернет магазина, запуск А/В теста и анализ его результатов\n",
    "\n",
    "**План работы:**\n",
    " - Изучение и предобработка данных\n",
    " - Изучение списка гипотез и его приоритезация с помощью фреймворков ICE и RICE\n",
    " - Анализ результатов А/В теста\n",
    " - Выводы и рекоммендации "
   ]
  },
  {
   "cell_type": "markdown",
   "metadata": {},
   "source": [
    "## 2. Приоритизация гипотез"
   ]
  },
  {
   "cell_type": "markdown",
   "metadata": {},
   "source": [
    "### 2.1 Изучение и предобработка данных"
   ]
  },
  {
   "cell_type": "code",
   "execution_count": 1,
   "metadata": {},
   "outputs": [],
   "source": [
    "#загрузим данные\n",
    "import pandas as pd\n",
    "import matplotlib.pyplot as plt\n",
    "import datetime as dt\n",
    "import numpy as np\n",
    "import scipy.stats as stats\n",
    "\n",
    "try:\n",
    "    hypothesis = pd.read_csv('C:/Users/Yulia/Desktop/Yandex Practicum/Проекты/7 - АВ тест/hypothesis.csv')\n",
    "\n",
    "except:\n",
    "    print('Ошибка при загрузке файла')"
   ]
  },
  {
   "cell_type": "code",
   "execution_count": 2,
   "metadata": {},
   "outputs": [
    {
     "data": {
      "text/html": [
       "<div>\n",
       "<style scoped>\n",
       "    .dataframe tbody tr th:only-of-type {\n",
       "        vertical-align: middle;\n",
       "    }\n",
       "\n",
       "    .dataframe tbody tr th {\n",
       "        vertical-align: top;\n",
       "    }\n",
       "\n",
       "    .dataframe thead th {\n",
       "        text-align: right;\n",
       "    }\n",
       "</style>\n",
       "<table border=\"1\" class=\"dataframe\">\n",
       "  <thead>\n",
       "    <tr style=\"text-align: right;\">\n",
       "      <th></th>\n",
       "      <th>Hypothesis</th>\n",
       "      <th>Reach</th>\n",
       "      <th>Impact</th>\n",
       "      <th>Confidence</th>\n",
       "      <th>Efforts</th>\n",
       "    </tr>\n",
       "  </thead>\n",
       "  <tbody>\n",
       "    <tr>\n",
       "      <th>0</th>\n",
       "      <td>Добавить два новых канала привлечения трафика, что позволит привлекать на 30% больше пользователей</td>\n",
       "      <td>3</td>\n",
       "      <td>10</td>\n",
       "      <td>8</td>\n",
       "      <td>6</td>\n",
       "    </tr>\n",
       "    <tr>\n",
       "      <th>1</th>\n",
       "      <td>Запустить собственную службу доставки, что сократит срок доставки заказов</td>\n",
       "      <td>2</td>\n",
       "      <td>5</td>\n",
       "      <td>4</td>\n",
       "      <td>10</td>\n",
       "    </tr>\n",
       "    <tr>\n",
       "      <th>2</th>\n",
       "      <td>Добавить блоки рекомендаций товаров на сайт интернет магазина, чтобы повысить конверсию и средний чек заказа</td>\n",
       "      <td>8</td>\n",
       "      <td>3</td>\n",
       "      <td>7</td>\n",
       "      <td>3</td>\n",
       "    </tr>\n",
       "    <tr>\n",
       "      <th>3</th>\n",
       "      <td>Изменить структура категорий, что увеличит конверсию, т.к. пользователи быстрее найдут нужный товар</td>\n",
       "      <td>8</td>\n",
       "      <td>3</td>\n",
       "      <td>3</td>\n",
       "      <td>8</td>\n",
       "    </tr>\n",
       "    <tr>\n",
       "      <th>4</th>\n",
       "      <td>Изменить цвет фона главной страницы, чтобы увеличить вовлеченность пользователей</td>\n",
       "      <td>3</td>\n",
       "      <td>1</td>\n",
       "      <td>1</td>\n",
       "      <td>1</td>\n",
       "    </tr>\n",
       "    <tr>\n",
       "      <th>5</th>\n",
       "      <td>Добавить страницу отзывов клиентов о магазине, что позволит увеличить количество заказов</td>\n",
       "      <td>3</td>\n",
       "      <td>2</td>\n",
       "      <td>2</td>\n",
       "      <td>3</td>\n",
       "    </tr>\n",
       "    <tr>\n",
       "      <th>6</th>\n",
       "      <td>Показать на главной странице баннеры с актуальными акциями и распродажами, чтобы увеличить конверсию</td>\n",
       "      <td>5</td>\n",
       "      <td>3</td>\n",
       "      <td>8</td>\n",
       "      <td>3</td>\n",
       "    </tr>\n",
       "    <tr>\n",
       "      <th>7</th>\n",
       "      <td>Добавить форму подписки на все основные страницы, чтобы собрать базу клиентов для email-рассылок</td>\n",
       "      <td>10</td>\n",
       "      <td>7</td>\n",
       "      <td>8</td>\n",
       "      <td>5</td>\n",
       "    </tr>\n",
       "    <tr>\n",
       "      <th>8</th>\n",
       "      <td>Запустить акцию, дающую скидку на товар в день рождения</td>\n",
       "      <td>1</td>\n",
       "      <td>9</td>\n",
       "      <td>9</td>\n",
       "      <td>5</td>\n",
       "    </tr>\n",
       "  </tbody>\n",
       "</table>\n",
       "</div>"
      ],
      "text/plain": [
       "                                                                                                     Hypothesis  \\\n",
       "0            Добавить два новых канала привлечения трафика, что позволит привлекать на 30% больше пользователей   \n",
       "1                                     Запустить собственную службу доставки, что сократит срок доставки заказов   \n",
       "2  Добавить блоки рекомендаций товаров на сайт интернет магазина, чтобы повысить конверсию и средний чек заказа   \n",
       "3           Изменить структура категорий, что увеличит конверсию, т.к. пользователи быстрее найдут нужный товар   \n",
       "4                              Изменить цвет фона главной страницы, чтобы увеличить вовлеченность пользователей   \n",
       "5                      Добавить страницу отзывов клиентов о магазине, что позволит увеличить количество заказов   \n",
       "6          Показать на главной странице баннеры с актуальными акциями и распродажами, чтобы увеличить конверсию   \n",
       "7              Добавить форму подписки на все основные страницы, чтобы собрать базу клиентов для email-рассылок   \n",
       "8                                                       Запустить акцию, дающую скидку на товар в день рождения   \n",
       "\n",
       "   Reach  Impact  Confidence  Efforts  \n",
       "0      3      10           8        6  \n",
       "1      2       5           4       10  \n",
       "2      8       3           7        3  \n",
       "3      8       3           3        8  \n",
       "4      3       1           1        1  \n",
       "5      3       2           2        3  \n",
       "6      5       3           8        3  \n",
       "7     10       7           8        5  \n",
       "8      1       9           9        5  "
      ]
     },
     "execution_count": 2,
     "metadata": {},
     "output_type": "execute_result"
    }
   ],
   "source": [
    "#изучим данные\n",
    "pd.set_option('max_colwidth', None)\n",
    "hypothesis"
   ]
  },
  {
   "cell_type": "code",
   "execution_count": 3,
   "metadata": {
    "scrolled": false
   },
   "outputs": [
    {
     "name": "stdout",
     "output_type": "stream",
     "text": [
      "<class 'pandas.core.frame.DataFrame'>\n",
      "RangeIndex: 9 entries, 0 to 8\n",
      "Data columns (total 5 columns):\n",
      " #   Column      Non-Null Count  Dtype \n",
      "---  ------      --------------  ----- \n",
      " 0   Hypothesis  9 non-null      object\n",
      " 1   Reach       9 non-null      int64 \n",
      " 2   Impact      9 non-null      int64 \n",
      " 3   Confidence  9 non-null      int64 \n",
      " 4   Efforts     9 non-null      int64 \n",
      "dtypes: int64(4), object(1)\n",
      "memory usage: 488.0+ bytes\n"
     ]
    }
   ],
   "source": [
    "#посмотрим общую информацию по датафрейму\n",
    "hypothesis.info()"
   ]
  },
  {
   "cell_type": "code",
   "execution_count": 4,
   "metadata": {},
   "outputs": [],
   "source": [
    "#переименуем столбцы\n",
    "hypothesis.columns = hypothesis.columns.str.lower()"
   ]
  },
  {
   "cell_type": "markdown",
   "metadata": {},
   "source": [
    "### 2.2 Приоритизация гипотез с помощью фреймворка ICE"
   ]
  },
  {
   "cell_type": "code",
   "execution_count": 5,
   "metadata": {},
   "outputs": [
    {
     "data": {
      "text/html": [
       "<div>\n",
       "<style scoped>\n",
       "    .dataframe tbody tr th:only-of-type {\n",
       "        vertical-align: middle;\n",
       "    }\n",
       "\n",
       "    .dataframe tbody tr th {\n",
       "        vertical-align: top;\n",
       "    }\n",
       "\n",
       "    .dataframe thead th {\n",
       "        text-align: right;\n",
       "    }\n",
       "</style>\n",
       "<table border=\"1\" class=\"dataframe\">\n",
       "  <thead>\n",
       "    <tr style=\"text-align: right;\">\n",
       "      <th></th>\n",
       "      <th>hypothesis</th>\n",
       "      <th>ICE</th>\n",
       "    </tr>\n",
       "  </thead>\n",
       "  <tbody>\n",
       "    <tr>\n",
       "      <th>8</th>\n",
       "      <td>Запустить акцию, дающую скидку на товар в день рождения</td>\n",
       "      <td>16.20</td>\n",
       "    </tr>\n",
       "    <tr>\n",
       "      <th>0</th>\n",
       "      <td>Добавить два новых канала привлечения трафика, что позволит привлекать на 30% больше пользователей</td>\n",
       "      <td>13.33</td>\n",
       "    </tr>\n",
       "    <tr>\n",
       "      <th>7</th>\n",
       "      <td>Добавить форму подписки на все основные страницы, чтобы собрать базу клиентов для email-рассылок</td>\n",
       "      <td>11.20</td>\n",
       "    </tr>\n",
       "    <tr>\n",
       "      <th>6</th>\n",
       "      <td>Показать на главной странице баннеры с актуальными акциями и распродажами, чтобы увеличить конверсию</td>\n",
       "      <td>8.00</td>\n",
       "    </tr>\n",
       "    <tr>\n",
       "      <th>2</th>\n",
       "      <td>Добавить блоки рекомендаций товаров на сайт интернет магазина, чтобы повысить конверсию и средний чек заказа</td>\n",
       "      <td>7.00</td>\n",
       "    </tr>\n",
       "    <tr>\n",
       "      <th>1</th>\n",
       "      <td>Запустить собственную службу доставки, что сократит срок доставки заказов</td>\n",
       "      <td>2.00</td>\n",
       "    </tr>\n",
       "    <tr>\n",
       "      <th>5</th>\n",
       "      <td>Добавить страницу отзывов клиентов о магазине, что позволит увеличить количество заказов</td>\n",
       "      <td>1.33</td>\n",
       "    </tr>\n",
       "    <tr>\n",
       "      <th>3</th>\n",
       "      <td>Изменить структура категорий, что увеличит конверсию, т.к. пользователи быстрее найдут нужный товар</td>\n",
       "      <td>1.12</td>\n",
       "    </tr>\n",
       "    <tr>\n",
       "      <th>4</th>\n",
       "      <td>Изменить цвет фона главной страницы, чтобы увеличить вовлеченность пользователей</td>\n",
       "      <td>1.00</td>\n",
       "    </tr>\n",
       "  </tbody>\n",
       "</table>\n",
       "</div>"
      ],
      "text/plain": [
       "                                                                                                     hypothesis  \\\n",
       "8                                                       Запустить акцию, дающую скидку на товар в день рождения   \n",
       "0            Добавить два новых канала привлечения трафика, что позволит привлекать на 30% больше пользователей   \n",
       "7              Добавить форму подписки на все основные страницы, чтобы собрать базу клиентов для email-рассылок   \n",
       "6          Показать на главной странице баннеры с актуальными акциями и распродажами, чтобы увеличить конверсию   \n",
       "2  Добавить блоки рекомендаций товаров на сайт интернет магазина, чтобы повысить конверсию и средний чек заказа   \n",
       "1                                     Запустить собственную службу доставки, что сократит срок доставки заказов   \n",
       "5                      Добавить страницу отзывов клиентов о магазине, что позволит увеличить количество заказов   \n",
       "3           Изменить структура категорий, что увеличит конверсию, т.к. пользователи быстрее найдут нужный товар   \n",
       "4                              Изменить цвет фона главной страницы, чтобы увеличить вовлеченность пользователей   \n",
       "\n",
       "     ICE  \n",
       "8  16.20  \n",
       "0  13.33  \n",
       "7  11.20  \n",
       "6   8.00  \n",
       "2   7.00  \n",
       "1   2.00  \n",
       "5   1.33  \n",
       "3   1.12  \n",
       "4   1.00  "
      ]
     },
     "execution_count": 5,
     "metadata": {},
     "output_type": "execute_result"
    }
   ],
   "source": [
    "#применим фреймворк ICE\n",
    "hypothesis['ICE'] = (hypothesis['impact'] * hypothesis['confidence']) / hypothesis['efforts']\n",
    "hypothesis[['hypothesis', 'ICE']].sort_values(by='ICE', ascending=False).round(2)"
   ]
  },
  {
   "cell_type": "markdown",
   "metadata": {},
   "source": [
    "**Вывод**: Топ-3 самых перспективных гипотез по фреймворку ICE:\n",
    " - Номер 8: Запустить акцию, дающую скидку на товар в день рождения\n",
    " - Номер 0: Добавить два новых канала привлечения трафика, что позволит привлекать на 30% больше пользователей\n",
    " - Номер 7: Добавить форму подписки на все основные страницы, чтобы собрать базу клиентов для email-рассылок"
   ]
  },
  {
   "cell_type": "markdown",
   "metadata": {},
   "source": [
    "### 2.3 Приоритизация гипотез с помощью фреймворка RICE"
   ]
  },
  {
   "cell_type": "code",
   "execution_count": 6,
   "metadata": {},
   "outputs": [
    {
     "data": {
      "text/html": [
       "<div>\n",
       "<style scoped>\n",
       "    .dataframe tbody tr th:only-of-type {\n",
       "        vertical-align: middle;\n",
       "    }\n",
       "\n",
       "    .dataframe tbody tr th {\n",
       "        vertical-align: top;\n",
       "    }\n",
       "\n",
       "    .dataframe thead th {\n",
       "        text-align: right;\n",
       "    }\n",
       "</style>\n",
       "<table border=\"1\" class=\"dataframe\">\n",
       "  <thead>\n",
       "    <tr style=\"text-align: right;\">\n",
       "      <th></th>\n",
       "      <th>hypothesis</th>\n",
       "      <th>RICE</th>\n",
       "    </tr>\n",
       "  </thead>\n",
       "  <tbody>\n",
       "    <tr>\n",
       "      <th>7</th>\n",
       "      <td>Добавить форму подписки на все основные страницы, чтобы собрать базу клиентов для email-рассылок</td>\n",
       "      <td>112.0</td>\n",
       "    </tr>\n",
       "    <tr>\n",
       "      <th>2</th>\n",
       "      <td>Добавить блоки рекомендаций товаров на сайт интернет магазина, чтобы повысить конверсию и средний чек заказа</td>\n",
       "      <td>56.0</td>\n",
       "    </tr>\n",
       "    <tr>\n",
       "      <th>0</th>\n",
       "      <td>Добавить два новых канала привлечения трафика, что позволит привлекать на 30% больше пользователей</td>\n",
       "      <td>40.0</td>\n",
       "    </tr>\n",
       "    <tr>\n",
       "      <th>6</th>\n",
       "      <td>Показать на главной странице баннеры с актуальными акциями и распродажами, чтобы увеличить конверсию</td>\n",
       "      <td>40.0</td>\n",
       "    </tr>\n",
       "    <tr>\n",
       "      <th>8</th>\n",
       "      <td>Запустить акцию, дающую скидку на товар в день рождения</td>\n",
       "      <td>16.2</td>\n",
       "    </tr>\n",
       "    <tr>\n",
       "      <th>3</th>\n",
       "      <td>Изменить структура категорий, что увеличит конверсию, т.к. пользователи быстрее найдут нужный товар</td>\n",
       "      <td>9.0</td>\n",
       "    </tr>\n",
       "    <tr>\n",
       "      <th>1</th>\n",
       "      <td>Запустить собственную службу доставки, что сократит срок доставки заказов</td>\n",
       "      <td>4.0</td>\n",
       "    </tr>\n",
       "    <tr>\n",
       "      <th>5</th>\n",
       "      <td>Добавить страницу отзывов клиентов о магазине, что позволит увеличить количество заказов</td>\n",
       "      <td>4.0</td>\n",
       "    </tr>\n",
       "    <tr>\n",
       "      <th>4</th>\n",
       "      <td>Изменить цвет фона главной страницы, чтобы увеличить вовлеченность пользователей</td>\n",
       "      <td>3.0</td>\n",
       "    </tr>\n",
       "  </tbody>\n",
       "</table>\n",
       "</div>"
      ],
      "text/plain": [
       "                                                                                                     hypothesis  \\\n",
       "7              Добавить форму подписки на все основные страницы, чтобы собрать базу клиентов для email-рассылок   \n",
       "2  Добавить блоки рекомендаций товаров на сайт интернет магазина, чтобы повысить конверсию и средний чек заказа   \n",
       "0            Добавить два новых канала привлечения трафика, что позволит привлекать на 30% больше пользователей   \n",
       "6          Показать на главной странице баннеры с актуальными акциями и распродажами, чтобы увеличить конверсию   \n",
       "8                                                       Запустить акцию, дающую скидку на товар в день рождения   \n",
       "3           Изменить структура категорий, что увеличит конверсию, т.к. пользователи быстрее найдут нужный товар   \n",
       "1                                     Запустить собственную службу доставки, что сократит срок доставки заказов   \n",
       "5                      Добавить страницу отзывов клиентов о магазине, что позволит увеличить количество заказов   \n",
       "4                              Изменить цвет фона главной страницы, чтобы увеличить вовлеченность пользователей   \n",
       "\n",
       "    RICE  \n",
       "7  112.0  \n",
       "2   56.0  \n",
       "0   40.0  \n",
       "6   40.0  \n",
       "8   16.2  \n",
       "3    9.0  \n",
       "1    4.0  \n",
       "5    4.0  \n",
       "4    3.0  "
      ]
     },
     "execution_count": 6,
     "metadata": {},
     "output_type": "execute_result"
    }
   ],
   "source": [
    "#применим фреймворк RICE\n",
    "hypothesis['RICE'] = (hypothesis['reach'] * hypothesis['impact'] * hypothesis['confidence']) / hypothesis['efforts']\n",
    "hypothesis[['hypothesis','RICE']].sort_values(by='RICE', ascending=False).round(2)"
   ]
  },
  {
   "cell_type": "markdown",
   "metadata": {},
   "source": [
    "**Вывод:** Топ-4 самых перспективных гипотез по фреймворку RICE:\n",
    " - Номер 7: Добавить форму подписки на все основные страницы, чтобы собрать базу клиентов для email-рассылок\n",
    " - Номер 2: Добавить блоки рекомендаций товаров на сайт интернет магазина, чтобы повысить конверсию и средний чек заказа\t\n",
    " - Номер 0: Добавить два новых канала привлечения трафика, что позволит привлекать на 30% больше пользователей\n",
    " - Номер 6: Показать на главной странице баннеры с актуальными акциями и распродажами, чтобы увеличить конверсию\n",
    " \n",
    "Как видим, 7ая и нулевая гипотезы являются наиболее перспективными и по методу ICE, и по методу RICE. 8ая гипотеза не попала в список перспективных по методу RICE, так как у нее очень низкий показатель охвата Reach - всего 1 балл. 7ая гипотеза вышла в лидеры по методу RICE, так как у нее максимальный балл по охвату пользователей, тогда как у нулевой гипотезы оценка параметра Reach гораздо ниже - 3 балла. Также по методу RICE вышли в лидеры гипотезы под номером 2 и 6, которые также попали в топ-5 фреймворка ICE, благодаря высокому охвату пользователей - 8 и 5 баллов соответственно. \n",
    "\n",
    "По результатам анализа первой к проверке можно рекомендовать гипотезу номер 7 - добавить форму подписки на все основные страницы, чтобы собрать базу клиентов для email-рассылок."
   ]
  },
  {
   "cell_type": "markdown",
   "metadata": {},
   "source": [
    "## 3. Анализ A/B-теста"
   ]
  },
  {
   "cell_type": "markdown",
   "metadata": {},
   "source": [
    "### 3.1 Изучение и предобработка данных"
   ]
  },
  {
   "cell_type": "markdown",
   "metadata": {},
   "source": [
    "#### Данные о заказах"
   ]
  },
  {
   "cell_type": "code",
   "execution_count": 7,
   "metadata": {},
   "outputs": [],
   "source": [
    "#загрузим данные о заказах\n",
    "try:\n",
    "    orders = pd.read_csv('C:/Users/Yulia/Desktop/Yandex Practicum/Проекты/7 - АВ тест/orders.csv')\n",
    "except:\n",
    "    print('Ошибка при загрузке данных')"
   ]
  },
  {
   "cell_type": "code",
   "execution_count": 8,
   "metadata": {},
   "outputs": [
    {
     "data": {
      "text/html": [
       "<div>\n",
       "<style scoped>\n",
       "    .dataframe tbody tr th:only-of-type {\n",
       "        vertical-align: middle;\n",
       "    }\n",
       "\n",
       "    .dataframe tbody tr th {\n",
       "        vertical-align: top;\n",
       "    }\n",
       "\n",
       "    .dataframe thead th {\n",
       "        text-align: right;\n",
       "    }\n",
       "</style>\n",
       "<table border=\"1\" class=\"dataframe\">\n",
       "  <thead>\n",
       "    <tr style=\"text-align: right;\">\n",
       "      <th></th>\n",
       "      <th>transactionId</th>\n",
       "      <th>visitorId</th>\n",
       "      <th>date</th>\n",
       "      <th>revenue</th>\n",
       "      <th>group</th>\n",
       "    </tr>\n",
       "  </thead>\n",
       "  <tbody>\n",
       "    <tr>\n",
       "      <th>0</th>\n",
       "      <td>3667963787</td>\n",
       "      <td>3312258926</td>\n",
       "      <td>2019-08-15</td>\n",
       "      <td>1650</td>\n",
       "      <td>B</td>\n",
       "    </tr>\n",
       "    <tr>\n",
       "      <th>1</th>\n",
       "      <td>2804400009</td>\n",
       "      <td>3642806036</td>\n",
       "      <td>2019-08-15</td>\n",
       "      <td>730</td>\n",
       "      <td>B</td>\n",
       "    </tr>\n",
       "    <tr>\n",
       "      <th>2</th>\n",
       "      <td>2961555356</td>\n",
       "      <td>4069496402</td>\n",
       "      <td>2019-08-15</td>\n",
       "      <td>400</td>\n",
       "      <td>A</td>\n",
       "    </tr>\n",
       "    <tr>\n",
       "      <th>3</th>\n",
       "      <td>3797467345</td>\n",
       "      <td>1196621759</td>\n",
       "      <td>2019-08-15</td>\n",
       "      <td>9759</td>\n",
       "      <td>B</td>\n",
       "    </tr>\n",
       "    <tr>\n",
       "      <th>4</th>\n",
       "      <td>2282983706</td>\n",
       "      <td>2322279887</td>\n",
       "      <td>2019-08-15</td>\n",
       "      <td>2308</td>\n",
       "      <td>B</td>\n",
       "    </tr>\n",
       "    <tr>\n",
       "      <th>5</th>\n",
       "      <td>182168103</td>\n",
       "      <td>935554773</td>\n",
       "      <td>2019-08-15</td>\n",
       "      <td>2210</td>\n",
       "      <td>B</td>\n",
       "    </tr>\n",
       "    <tr>\n",
       "      <th>6</th>\n",
       "      <td>398296753</td>\n",
       "      <td>2900797465</td>\n",
       "      <td>2019-08-15</td>\n",
       "      <td>1860</td>\n",
       "      <td>B</td>\n",
       "    </tr>\n",
       "    <tr>\n",
       "      <th>7</th>\n",
       "      <td>2626614568</td>\n",
       "      <td>78758296</td>\n",
       "      <td>2019-08-15</td>\n",
       "      <td>1044</td>\n",
       "      <td>A</td>\n",
       "    </tr>\n",
       "    <tr>\n",
       "      <th>8</th>\n",
       "      <td>1576988021</td>\n",
       "      <td>295230930</td>\n",
       "      <td>2019-08-15</td>\n",
       "      <td>13710</td>\n",
       "      <td>A</td>\n",
       "    </tr>\n",
       "    <tr>\n",
       "      <th>9</th>\n",
       "      <td>1506739906</td>\n",
       "      <td>1882260405</td>\n",
       "      <td>2019-08-15</td>\n",
       "      <td>1855</td>\n",
       "      <td>B</td>\n",
       "    </tr>\n",
       "  </tbody>\n",
       "</table>\n",
       "</div>"
      ],
      "text/plain": [
       "   transactionId   visitorId        date  revenue group\n",
       "0     3667963787  3312258926  2019-08-15     1650     B\n",
       "1     2804400009  3642806036  2019-08-15      730     B\n",
       "2     2961555356  4069496402  2019-08-15      400     A\n",
       "3     3797467345  1196621759  2019-08-15     9759     B\n",
       "4     2282983706  2322279887  2019-08-15     2308     B\n",
       "5      182168103   935554773  2019-08-15     2210     B\n",
       "6      398296753  2900797465  2019-08-15     1860     B\n",
       "7     2626614568    78758296  2019-08-15     1044     A\n",
       "8     1576988021   295230930  2019-08-15    13710     A\n",
       "9     1506739906  1882260405  2019-08-15     1855     B"
      ]
     },
     "execution_count": 8,
     "metadata": {},
     "output_type": "execute_result"
    }
   ],
   "source": [
    "#изучим данные\n",
    "orders.head(10)"
   ]
  },
  {
   "cell_type": "code",
   "execution_count": 9,
   "metadata": {},
   "outputs": [
    {
     "name": "stdout",
     "output_type": "stream",
     "text": [
      "<class 'pandas.core.frame.DataFrame'>\n",
      "RangeIndex: 1197 entries, 0 to 1196\n",
      "Data columns (total 5 columns):\n",
      " #   Column         Non-Null Count  Dtype \n",
      "---  ------         --------------  ----- \n",
      " 0   transactionId  1197 non-null   int64 \n",
      " 1   visitorId      1197 non-null   int64 \n",
      " 2   date           1197 non-null   object\n",
      " 3   revenue        1197 non-null   int64 \n",
      " 4   group          1197 non-null   object\n",
      "dtypes: int64(3), object(2)\n",
      "memory usage: 46.9+ KB\n"
     ]
    }
   ],
   "source": [
    "#посмотрим общую информацию по данным\n",
    "orders.info()"
   ]
  },
  {
   "cell_type": "code",
   "execution_count": 10,
   "metadata": {},
   "outputs": [],
   "source": [
    "#переименуем столбцы\n",
    "orders = orders.rename(columns={'transactionId': 'order_id', 'visitorId': 'user_id'})"
   ]
  },
  {
   "cell_type": "code",
   "execution_count": 11,
   "metadata": {},
   "outputs": [],
   "source": [
    "#переведем столбец 'date' в формат datetime\n",
    "orders['date'] = orders['date'].map(lambda x: dt.datetime.strptime(x, '%Y-%m-%d'))"
   ]
  },
  {
   "cell_type": "code",
   "execution_count": 12,
   "metadata": {},
   "outputs": [
    {
     "data": {
      "text/html": [
       "<div>\n",
       "<style scoped>\n",
       "    .dataframe tbody tr th:only-of-type {\n",
       "        vertical-align: middle;\n",
       "    }\n",
       "\n",
       "    .dataframe tbody tr th {\n",
       "        vertical-align: top;\n",
       "    }\n",
       "\n",
       "    .dataframe thead tr th {\n",
       "        text-align: left;\n",
       "    }\n",
       "\n",
       "    .dataframe thead tr:last-of-type th {\n",
       "        text-align: right;\n",
       "    }\n",
       "</style>\n",
       "<table border=\"1\" class=\"dataframe\">\n",
       "  <thead>\n",
       "    <tr>\n",
       "      <th></th>\n",
       "      <th colspan=\"2\" halign=\"left\">date</th>\n",
       "    </tr>\n",
       "    <tr>\n",
       "      <th></th>\n",
       "      <th>min</th>\n",
       "      <th>max</th>\n",
       "    </tr>\n",
       "    <tr>\n",
       "      <th>group</th>\n",
       "      <th></th>\n",
       "      <th></th>\n",
       "    </tr>\n",
       "  </thead>\n",
       "  <tbody>\n",
       "    <tr>\n",
       "      <th>A</th>\n",
       "      <td>2019-08-01</td>\n",
       "      <td>2019-08-31</td>\n",
       "    </tr>\n",
       "    <tr>\n",
       "      <th>B</th>\n",
       "      <td>2019-08-01</td>\n",
       "      <td>2019-08-31</td>\n",
       "    </tr>\n",
       "  </tbody>\n",
       "</table>\n",
       "</div>"
      ],
      "text/plain": [
       "            date           \n",
       "             min        max\n",
       "group                      \n",
       "A     2019-08-01 2019-08-31\n",
       "B     2019-08-01 2019-08-31"
      ]
     },
     "execution_count": 12,
     "metadata": {},
     "output_type": "execute_result"
    }
   ],
   "source": [
    "#проверим даты эксперимента\n",
    "orders.groupby('group').agg({'date': ['min', 'max']})"
   ]
  },
  {
   "cell_type": "code",
   "execution_count": 13,
   "metadata": {},
   "outputs": [
    {
     "data": {
      "text/plain": [
       "0"
      ]
     },
     "execution_count": 13,
     "metadata": {},
     "output_type": "execute_result"
    }
   ],
   "source": [
    "#проверим данные на дубликаты\n",
    "orders.duplicated().sum()"
   ]
  },
  {
   "cell_type": "code",
   "execution_count": 14,
   "metadata": {},
   "outputs": [
    {
     "data": {
      "text/html": [
       "<div>\n",
       "<style scoped>\n",
       "    .dataframe tbody tr th:only-of-type {\n",
       "        vertical-align: middle;\n",
       "    }\n",
       "\n",
       "    .dataframe tbody tr th {\n",
       "        vertical-align: top;\n",
       "    }\n",
       "\n",
       "    .dataframe thead th {\n",
       "        text-align: right;\n",
       "    }\n",
       "</style>\n",
       "<table border=\"1\" class=\"dataframe\">\n",
       "  <thead>\n",
       "    <tr style=\"text-align: right;\">\n",
       "      <th></th>\n",
       "      <th>user_id</th>\n",
       "    </tr>\n",
       "    <tr>\n",
       "      <th>group</th>\n",
       "      <th></th>\n",
       "    </tr>\n",
       "  </thead>\n",
       "  <tbody>\n",
       "    <tr>\n",
       "      <th>A</th>\n",
       "      <td>503</td>\n",
       "    </tr>\n",
       "    <tr>\n",
       "      <th>B</th>\n",
       "      <td>586</td>\n",
       "    </tr>\n",
       "  </tbody>\n",
       "</table>\n",
       "</div>"
      ],
      "text/plain": [
       "       user_id\n",
       "group         \n",
       "A          503\n",
       "B          586"
      ]
     },
     "execution_count": 14,
     "metadata": {},
     "output_type": "execute_result"
    }
   ],
   "source": [
    "#проверим количество пользователей в каждой группе\n",
    "orders.groupby('group').agg({'user_id':'nunique'})"
   ]
  },
  {
   "cell_type": "code",
   "execution_count": 15,
   "metadata": {
    "scrolled": true
   },
   "outputs": [
    {
     "data": {
      "text/plain": [
       "58"
      ]
     },
     "execution_count": 15,
     "metadata": {},
     "output_type": "execute_result"
    }
   ],
   "source": [
    "#проверим, есть ли пользователи, попавшие в обе группы\n",
    "user_a = orders[orders['group'] == 'A']\n",
    "user_b = orders[orders['group'] == 'B']['user_id']\n",
    "user_both = user_a.query('user_id in @user_b')\n",
    "user_both['user_id'].nunique()"
   ]
  },
  {
   "cell_type": "markdown",
   "metadata": {},
   "source": [
    "Количество пользователей в группе В на 16,5% больше, чем в группе А. Также есть 58 пользователей, попавших в обе группы. Скорее всего при сборе данных произошла ошибка. Посмотрим на датасет о визитах, перед тем как принять решение об удалении данных."
   ]
  },
  {
   "cell_type": "code",
   "execution_count": 16,
   "metadata": {
    "scrolled": false
   },
   "outputs": [
    {
     "data": {
      "image/png": "[encoded data removed]",
      "text/plain": [
       "<Figure size 400x400 with 1 Axes>"
      ]
     },
     "metadata": {},
     "output_type": "display_data"
    }
   ],
   "source": [
    "#посторим гистограмму для столбца 'revenue'\n",
    "orders['revenue'].hist(figsize=(4,4))\n",
    "plt.xlabel('Доход')\n",
    "plt.ylabel('Количество транзакций')\n",
    "plt.title('Гистограмма столбца revenue')\n",
    "plt.show()"
   ]
  },
  {
   "cell_type": "markdown",
   "metadata": {},
   "source": [
    "Распределение не похоже на нормальное, однако аномальные значения не видны на графике.Проверим данные на выбросы, построив диаграмму размаха."
   ]
  },
  {
   "cell_type": "code",
   "execution_count": 17,
   "metadata": {
    "scrolled": false
   },
   "outputs": [
    {
     "data": {
      "image/png": "[encoded data removed]",
      "text/plain": [
       "<Figure size 400x400 with 1 Axes>"
      ]
     },
     "metadata": {},
     "output_type": "display_data"
    }
   ],
   "source": [
    "#построим диаграмму размаха\n",
    "orders.boxplot(column=['revenue'], figsize=(4,4))\n",
    "plt.ylim(0, 50000)\n",
    "plt.ylabel('Доход')\n",
    "plt.title('Диаграмма размаха столбца revenue')\n",
    "plt.show()"
   ]
  },
  {
   "cell_type": "markdown",
   "metadata": {},
   "source": [
    "На графике видны выбросы - заказы больше 20тыс., необходимо понять, какие значения являются аномальными и такие аномальные значения нужно будет удалить, чтобы они не повлияли на результаты анализа. Удалим выбросы позже, на этапе анализа."
   ]
  },
  {
   "cell_type": "code",
   "execution_count": 42,
   "metadata": {},
   "outputs": [
    {
     "data": {
      "image/png": "[encoded data removed]",
      "text/plain": [
       "<Figure size 400x400 with 1 Axes>"
      ]
     },
     "metadata": {},
     "output_type": "display_data"
    }
   ],
   "source": [
    "#количество заказов по пользователям\n",
    "orders_nmb = orders.groupby('user_id', as_index=False).agg({'order_id': 'nunique'})\n",
    "orders_nmb['order_id'].hist(figsize=(4,4))\n",
    "plt.xlabel('Количество заказов')\n",
    "plt.ylabel('Количество пользователей')\n",
    "plt.title('Гистограмма количества заказов на пользователя')\n",
    "plt.show()"
   ]
  },
  {
   "cell_type": "markdown",
   "metadata": {},
   "source": [
    "Большая часть пользователей сделали только один заказ, однако есть пользователи, которые сделали 5 и даже 11 заказов. Такие пользователи могут повлиять на результаты анализа. Определим границы аномалий и отсеим аномальных пользователей на этапе анализа данных."
   ]
  },
  {
   "cell_type": "markdown",
   "metadata": {},
   "source": [
    "#### Данные о визитах"
   ]
  },
  {
   "cell_type": "code",
   "execution_count": 19,
   "metadata": {},
   "outputs": [],
   "source": [
    "#загрузим данные о визитах\n",
    "try:\n",
    "    visits = pd.read_csv('C:/Users/Yulia/Desktop/Yandex Practicum/Проекты/7 - АВ тест/visitors.csv')\n",
    "except:\n",
    "    print('Ошибка при загрузке файла')"
   ]
  },
  {
   "cell_type": "code",
   "execution_count": 20,
   "metadata": {},
   "outputs": [
    {
     "data": {
      "text/html": [
       "<div>\n",
       "<style scoped>\n",
       "    .dataframe tbody tr th:only-of-type {\n",
       "        vertical-align: middle;\n",
       "    }\n",
       "\n",
       "    .dataframe tbody tr th {\n",
       "        vertical-align: top;\n",
       "    }\n",
       "\n",
       "    .dataframe thead th {\n",
       "        text-align: right;\n",
       "    }\n",
       "</style>\n",
       "<table border=\"1\" class=\"dataframe\">\n",
       "  <thead>\n",
       "    <tr style=\"text-align: right;\">\n",
       "      <th></th>\n",
       "      <th>date</th>\n",
       "      <th>group</th>\n",
       "      <th>visitors</th>\n",
       "    </tr>\n",
       "  </thead>\n",
       "  <tbody>\n",
       "    <tr>\n",
       "      <th>0</th>\n",
       "      <td>2019-08-01</td>\n",
       "      <td>A</td>\n",
       "      <td>719</td>\n",
       "    </tr>\n",
       "    <tr>\n",
       "      <th>1</th>\n",
       "      <td>2019-08-02</td>\n",
       "      <td>A</td>\n",
       "      <td>619</td>\n",
       "    </tr>\n",
       "    <tr>\n",
       "      <th>2</th>\n",
       "      <td>2019-08-03</td>\n",
       "      <td>A</td>\n",
       "      <td>507</td>\n",
       "    </tr>\n",
       "    <tr>\n",
       "      <th>3</th>\n",
       "      <td>2019-08-04</td>\n",
       "      <td>A</td>\n",
       "      <td>717</td>\n",
       "    </tr>\n",
       "    <tr>\n",
       "      <th>4</th>\n",
       "      <td>2019-08-05</td>\n",
       "      <td>A</td>\n",
       "      <td>756</td>\n",
       "    </tr>\n",
       "    <tr>\n",
       "      <th>5</th>\n",
       "      <td>2019-08-06</td>\n",
       "      <td>A</td>\n",
       "      <td>667</td>\n",
       "    </tr>\n",
       "    <tr>\n",
       "      <th>6</th>\n",
       "      <td>2019-08-07</td>\n",
       "      <td>A</td>\n",
       "      <td>644</td>\n",
       "    </tr>\n",
       "    <tr>\n",
       "      <th>7</th>\n",
       "      <td>2019-08-08</td>\n",
       "      <td>A</td>\n",
       "      <td>610</td>\n",
       "    </tr>\n",
       "    <tr>\n",
       "      <th>8</th>\n",
       "      <td>2019-08-09</td>\n",
       "      <td>A</td>\n",
       "      <td>617</td>\n",
       "    </tr>\n",
       "    <tr>\n",
       "      <th>9</th>\n",
       "      <td>2019-08-10</td>\n",
       "      <td>A</td>\n",
       "      <td>406</td>\n",
       "    </tr>\n",
       "  </tbody>\n",
       "</table>\n",
       "</div>"
      ],
      "text/plain": [
       "         date group  visitors\n",
       "0  2019-08-01     A       719\n",
       "1  2019-08-02     A       619\n",
       "2  2019-08-03     A       507\n",
       "3  2019-08-04     A       717\n",
       "4  2019-08-05     A       756\n",
       "5  2019-08-06     A       667\n",
       "6  2019-08-07     A       644\n",
       "7  2019-08-08     A       610\n",
       "8  2019-08-09     A       617\n",
       "9  2019-08-10     A       406"
      ]
     },
     "execution_count": 20,
     "metadata": {},
     "output_type": "execute_result"
    }
   ],
   "source": [
    "#изучим данные\n",
    "visits.head(10)"
   ]
  },
  {
   "cell_type": "code",
   "execution_count": 21,
   "metadata": {},
   "outputs": [
    {
     "name": "stdout",
     "output_type": "stream",
     "text": [
      "<class 'pandas.core.frame.DataFrame'>\n",
      "RangeIndex: 62 entries, 0 to 61\n",
      "Data columns (total 3 columns):\n",
      " #   Column    Non-Null Count  Dtype \n",
      "---  ------    --------------  ----- \n",
      " 0   date      62 non-null     object\n",
      " 1   group     62 non-null     object\n",
      " 2   visitors  62 non-null     int64 \n",
      "dtypes: int64(1), object(2)\n",
      "memory usage: 1.6+ KB\n"
     ]
    }
   ],
   "source": [
    "#посмотрим общую информацию по данным\n",
    "visits.info()"
   ]
  },
  {
   "cell_type": "code",
   "execution_count": 22,
   "metadata": {},
   "outputs": [],
   "source": [
    "#переведем столбец 'date' в формат datetime\n",
    "visits['date'] = visits['date'].map(lambda x: dt.datetime.strptime(x, '%Y-%m-%d'))"
   ]
  },
  {
   "cell_type": "code",
   "execution_count": 23,
   "metadata": {},
   "outputs": [
    {
     "data": {
      "text/html": [
       "<div>\n",
       "<style scoped>\n",
       "    .dataframe tbody tr th:only-of-type {\n",
       "        vertical-align: middle;\n",
       "    }\n",
       "\n",
       "    .dataframe tbody tr th {\n",
       "        vertical-align: top;\n",
       "    }\n",
       "\n",
       "    .dataframe thead tr th {\n",
       "        text-align: left;\n",
       "    }\n",
       "\n",
       "    .dataframe thead tr:last-of-type th {\n",
       "        text-align: right;\n",
       "    }\n",
       "</style>\n",
       "<table border=\"1\" class=\"dataframe\">\n",
       "  <thead>\n",
       "    <tr>\n",
       "      <th></th>\n",
       "      <th colspan=\"2\" halign=\"left\">date</th>\n",
       "    </tr>\n",
       "    <tr>\n",
       "      <th></th>\n",
       "      <th>min</th>\n",
       "      <th>max</th>\n",
       "    </tr>\n",
       "    <tr>\n",
       "      <th>group</th>\n",
       "      <th></th>\n",
       "      <th></th>\n",
       "    </tr>\n",
       "  </thead>\n",
       "  <tbody>\n",
       "    <tr>\n",
       "      <th>A</th>\n",
       "      <td>2019-08-01</td>\n",
       "      <td>2019-08-31</td>\n",
       "    </tr>\n",
       "    <tr>\n",
       "      <th>B</th>\n",
       "      <td>2019-08-01</td>\n",
       "      <td>2019-08-31</td>\n",
       "    </tr>\n",
       "  </tbody>\n",
       "</table>\n",
       "</div>"
      ],
      "text/plain": [
       "            date           \n",
       "             min        max\n",
       "group                      \n",
       "A     2019-08-01 2019-08-31\n",
       "B     2019-08-01 2019-08-31"
      ]
     },
     "execution_count": 23,
     "metadata": {},
     "output_type": "execute_result"
    }
   ],
   "source": [
    "#проверим даты эксперимента\n",
    "visits.groupby('group').agg({'date': ['min', 'max']})"
   ]
  },
  {
   "cell_type": "code",
   "execution_count": 45,
   "metadata": {},
   "outputs": [
    {
     "data": {
      "image/png": "[encoded data removed]",
      "text/plain": [
       "<Figure size 400x400 with 1 Axes>"
      ]
     },
     "metadata": {},
     "output_type": "display_data"
    }
   ],
   "source": [
    "#посторим гистограмму для столбца 'visitors'\n",
    "sum_visitors = visits.groupby('date').agg({'visitors': 'sum'})\n",
    "sum_visitors.hist(figsize=(4,4))\n",
    "plt.xlabel('Количество визитов')\n",
    "plt.ylabel('Частота')\n",
    "plt.title('Гистограмма количества визитов в день')\n",
    "plt.show()"
   ]
  },
  {
   "cell_type": "markdown",
   "metadata": {},
   "source": [
    "Количество визитов в день колеблется от ~780 до 1500. В целом, никаких аномалий в данных не видно."
   ]
  },
  {
   "cell_type": "markdown",
   "metadata": {},
   "source": [
    "**Вывод:** В ходе изучения и подготовки данных были сделаны следующие шаги: \n",
    " - загружены датасеты /datasets/orders.csv и /datasets/visitors.csv\n",
    " - пропусков в данных не оказалось\n",
    " - названия столбцов были переименованы и приведены к нижнему регистру\n",
    " - данные столбцов с информацией о дате и времени были приведены к формату datetime\n",
    " - данные были проверены на наличие дубликатов - таковых в данных не оказалось\n",
    " - проверены даты эксперимента - данные есть за период с 01.08.2019 до 31.08.2019\n",
    " - количество пользователей в группе В на 16,5% больше, чем в группе А. Также есть 58 пользователей, попавших в обе группы. Скорее всего при сборе данных произошла ошибка. Так как в датасете о визитах данные о пользователях агрегированы, было принято решение не удалять данные об этих 58 пользователях из датасета о заказах, чтобы не исказить значения последующих расчетов.\n",
    " - были обнаружены аномальные значения в стоимости заказов и количестве заказов на пользователя - такие аномалии необходимо будет удалить на этапе анализа."
   ]
  },
  {
   "cell_type": "markdown",
   "metadata": {},
   "source": [
    "### 3.2 График кумулятивной выручки по группам"
   ]
  },
  {
   "cell_type": "code",
   "execution_count": 25,
   "metadata": {},
   "outputs": [
    {
     "data": {
      "image/png": "[encoded data removed]",
      "text/plain": [
       "<Figure size 640x480 with 1 Axes>"
      ]
     },
     "metadata": {},
     "output_type": "display_data"
    }
   ],
   "source": [
    "#соберем кумулятивные данные\n",
    "\n",
    "#создаем массив уникальных пар значений дат и групп теста\n",
    "dates_groups = orders[['date','group']].drop_duplicates()\n",
    "\n",
    "#агрегируем значения по заказам\n",
    "orders_aggregated = dates_groups.apply(lambda x: orders[np.logical_and(orders['date'] <= x['date'], orders['group'] == x['group'])].agg({'date' : 'max', 'group' : 'max', 'order_id' : 'nunique', 'user_id' : 'nunique', 'revenue' : 'sum'}), axis=1).sort_values(by=['date','group'])\n",
    "\n",
    "#агрегируем значения по визитам\n",
    "visits_aggregated = dates_groups.apply(lambda x: visits[np.logical_and(visits['date'] <= x['date'], visits['group'] == x['group'])].agg({'date' : 'max', 'group' : 'max', 'visitors' : 'sum'}), axis=1).sort_values(by=['date','group'])\n",
    "\n",
    "#объединяем кумулятивные данные  \n",
    "cumulative_data = orders_aggregated.merge(visits_aggregated, left_on=['date', 'group'], right_on=['date', 'group'])\n",
    "cumulative_data.columns = ['date', 'group', 'orders', 'buyers', 'revenue', 'visitors']\n",
    "\n",
    "#датафрейм с кумулятивным количеством заказов и кумулятивной выручкой по дням в группе А\n",
    "cumulative_revenue_a = cumulative_data[cumulative_data['group']=='A'][['date','revenue', 'orders']]\n",
    "\n",
    "#датафрейм с кумулятивным количеством заказов и кумулятивной выручкой по дням в группе B\n",
    "cumulative_revenue_b = cumulative_data[cumulative_data['group']=='B'][['date','revenue', 'orders']]\n",
    "\n",
    "#строим график выручки группы А\n",
    "plt.plot(cumulative_revenue_a['date'], cumulative_revenue_a['revenue'], label='A')\n",
    "\n",
    "#строим график выручки группы B\n",
    "plt.plot(cumulative_revenue_b['date'], cumulative_revenue_b['revenue'], label='B')\n",
    "\n",
    "plt.title('График кумулятивной выручки по группам')\n",
    "plt.grid()\n",
    "plt.xlabel('День')\n",
    "plt.ylabel('Сумма')\n",
    "plt.xticks(rotation = 60)\n",
    "plt.legend()\n",
    "plt.show()"
   ]
  },
  {
   "cell_type": "markdown",
   "metadata": {},
   "source": [
    "**Вывод:** Графики выручки обеих групп стабильно растут. На графике видно, что выручка группы В значительно выше, чем у группы А. Однако, можно также заметить очень резкий рост графика В 18ого-19ого августа, что говорит либо о большом увеличении заказов, либо о присутствии очень дорогих заказов. Скорее всего речь об аномальных значениях, которые были обнаружены на этапе предобработки данных. Перед тем как делать вывод об успехе группы В, нужно будет убедиться, что аномалии не влияют на рассчеты. "
   ]
  },
  {
   "cell_type": "markdown",
   "metadata": {},
   "source": [
    "### 3.3 График кумулятивного среднего чека по группам"
   ]
  },
  {
   "cell_type": "code",
   "execution_count": 26,
   "metadata": {},
   "outputs": [
    {
     "data": {
      "image/png": "[encoded data removed]",
      "text/plain": [
       "<Figure size 640x480 with 1 Axes>"
      ]
     },
     "metadata": {},
     "output_type": "display_data"
    }
   ],
   "source": [
    "#строим график среднего чека группы А\n",
    "plt.plot(cumulative_revenue_a['date'], cumulative_revenue_a['revenue']/cumulative_revenue_a['orders'], label='A')\n",
    "#строим график среднего чека группы B\n",
    "plt.plot(cumulative_revenue_b['date'], cumulative_revenue_b['revenue']/cumulative_revenue_b['orders'], label='B')\n",
    "\n",
    "plt.title('График кумулятивного среднего чека по группам')\n",
    "plt.grid()\n",
    "plt.xlabel('День')\n",
    "plt.ylabel('Сумма')\n",
    "plt.xticks(rotation = 60)\n",
    "plt.legend()\n",
    "plt.show()"
   ]
  },
  {
   "cell_type": "markdown",
   "metadata": {},
   "source": [
    "**Вывод:** На графике снова видны резкие скачки, что сигнализирует о выбросах в данных. Средний чек группы А более менее выравнивается после 13ого августа. У среднего чека группы В снова наблюдается очень резкий рост 18ого-19ого - скорее всего так повлияли на график какие-то крупные заказы, после этого график более менее стабилизируется, но заметно его падение. Несмотря на то, что по графику средний чет группы В гораздо выше чека группы А, какие то выводы делать рано, так как на значения очевидно сильно влияют выбросы в данных."
   ]
  },
  {
   "cell_type": "markdown",
   "metadata": {},
   "source": [
    "### 3.4 График относительного изменения кумулятивного среднего чека группы B к группе A"
   ]
  },
  {
   "cell_type": "code",
   "execution_count": 27,
   "metadata": {},
   "outputs": [
    {
     "data": {
      "image/png": "[encoded data removed]",
      "text/plain": [
       "<Figure size 640x480 with 1 Axes>"
      ]
     },
     "metadata": {},
     "output_type": "display_data"
    }
   ],
   "source": [
    "#собираем данные в одном датафрейме\n",
    "merged_cumulative_revenue = cumulative_revenue_a.merge(cumulative_revenue_b, left_on='date', right_on='date', how='left', suffixes=['A', 'B'])\n",
    "\n",
    "#cтроим отношение средних чеков\n",
    "plt.plot(merged_cumulative_revenue['date'], (merged_cumulative_revenue['revenueB']/merged_cumulative_revenue['ordersB'])/(merged_cumulative_revenue['revenueA']/merged_cumulative_revenue['ordersA'])-1)\n",
    "\n",
    "#добавляем ось X\n",
    "plt.axhline(y=0, color='black', linestyle='--')\n",
    "\n",
    "plt.title('График относительного изменения кумулятивного среднего чека группы B к группе A')\n",
    "plt.grid()\n",
    "plt.xlabel('День')\n",
    "plt.ylabel('Относительное изменение')\n",
    "plt.xticks(rotation = 60)\n",
    "plt.show()"
   ]
  },
  {
   "cell_type": "markdown",
   "metadata": {},
   "source": [
    "**Вывод:** На графике снова наблюдаются резкие скачки, что объясняется выбросами в данных. Группа В снова лучше группы А - самая большая разница наблюдается 18ого-19ого августа, дни в которые в группе В появились крупные заказы. Группа А опережает группу В 13ого августа - день, в который мы видим резкий рост среднего чека группы А на предыдущем графике. "
   ]
  },
  {
   "cell_type": "markdown",
   "metadata": {},
   "source": [
    "### 3.5 График кумулятивного среднего количества заказов на посетителя по группам"
   ]
  },
  {
   "cell_type": "code",
   "execution_count": 28,
   "metadata": {},
   "outputs": [
    {
     "data": {
      "image/png": "[encoded data removed]",
      "text/plain": [
       "<Figure size 640x480 with 1 Axes>"
      ]
     },
     "metadata": {},
     "output_type": "display_data"
    }
   ],
   "source": [
    "#считаем кумулятивное среднее значение заказов\n",
    "cumulative_data['orders_avg'] = cumulative_data['orders']/cumulative_data['visitors']\n",
    "\n",
    "#отделяем данные по группе A\n",
    "cumulative_data_a = cumulative_data[cumulative_data['group']=='A']\n",
    "\n",
    "#отделяем данные по группе B\n",
    "cumulative_data_b = cumulative_data[cumulative_data['group']=='B']\n",
    "\n",
    "#строим графики\n",
    "plt.plot(cumulative_data_a['date'], cumulative_data_a['orders_avg'], label='A')\n",
    "plt.plot(cumulative_data_b['date'], cumulative_data_b['orders_avg'], label='B')\n",
    "plt.legend()\n",
    "plt.title('График кумулятивного среднего количества заказов на посетителя по группам')\n",
    "plt.grid()\n",
    "plt.xlabel('День')\n",
    "plt.ylabel('Среднее количество заказов')\n",
    "plt.xticks(rotation = 60)\n",
    "plt.axis([dt.datetime(2019, 8, 1), dt.datetime(2019, 8, 31), 0.01, 0.05])\n",
    "plt.show()\n"
   ]
  },
  {
   "cell_type": "markdown",
   "metadata": {},
   "source": [
    "**Вывод:** В начале теста снова наблюдаем колебания среднего количество заказов для обеих групп. В первые дни группа А имела более высокое количество заказов, однако после 5ого числа группа В выходит вперед. После 17ого числа графики обеих групп выравниваются и группа В имеет стабильно более высокое среднее количество заказов."
   ]
  },
  {
   "cell_type": "markdown",
   "metadata": {},
   "source": [
    "### 3.6 График относительного изменения кумулятивного среднего количества заказов на посетителя группы B к группе A"
   ]
  },
  {
   "cell_type": "code",
   "execution_count": 29,
   "metadata": {},
   "outputs": [
    {
     "data": {
      "image/png": "[encoded data removed]",
      "text/plain": [
       "<Figure size 640x480 with 1 Axes>"
      ]
     },
     "metadata": {},
     "output_type": "display_data"
    }
   ],
   "source": [
    "#собираем данные в одном датафрейме\n",
    "merged_сumulative_orders_avg = cumulative_data_a[['date','orders_avg']].merge(cumulative_data_b[['date','orders_avg']], left_on='date', right_on='date', how='left', suffixes=['A', 'B'])\n",
    "\n",
    "#строим график\n",
    "plt.plot(merged_сumulative_orders_avg['date'], merged_сumulative_orders_avg['orders_avgB']/merged_сumulative_orders_avg['orders_avgA']-1)\n",
    "plt.title('График относительного изменения кумулятивного среднего количества заказов на посетителя группы B к группе A')\n",
    "plt.grid()\n",
    "plt.xlabel('День')\n",
    "plt.ylabel('Относительное изменение')\n",
    "plt.xticks(rotation = 60)\n",
    "plt.axhline(y=0, color='black', linestyle='--')\n",
    "plt.axis([dt.datetime(2019, 8, 1), dt.datetime(2019, 8, 31), -0.5, 0.5])\n",
    "plt.show()"
   ]
  },
  {
   "cell_type": "markdown",
   "metadata": {},
   "source": [
    "**Вывод:** В первые дни теста среднее количество заказов группы А превышало значения группы В, но после 5ого числа группа В вырывается вперед и стабильно имеет более высокое значение заказов, чем группа А, однако заметны небольшие колебания графика на протяжении всего периода проведения теста."
   ]
  },
  {
   "cell_type": "markdown",
   "metadata": {},
   "source": [
    "### 3.7 Точечный график количества заказов по пользователям"
   ]
  },
  {
   "cell_type": "code",
   "execution_count": 30,
   "metadata": {},
   "outputs": [
    {
     "data": {
      "image/png": "[encoded data removed]",
      "text/plain": [
       "<Figure size 640x480 with 1 Axes>"
      ]
     },
     "metadata": {},
     "output_type": "display_data"
    }
   ],
   "source": [
    "#строим график\n",
    "x_values = pd.Series(range(0,len(orders_nmb)))\n",
    "plt.scatter(x_values, orders_nmb['order_id']) \n",
    "plt.title('Точечный график количества заказов по пользователям')\n",
    "plt.xlabel('Количество наблюдений')\n",
    "plt.ylabel('Количество заказов')\n",
    "plt.show()"
   ]
  },
  {
   "cell_type": "markdown",
   "metadata": {},
   "source": [
    "**Вывод:** Большая часть пользователей сделали только один заказ, однако доля пользователей, сделавших 2 заказа, тоже значительна. Также есть пользователи, которые сделали больше 10 заказов. Такие пользователи могут сильно повлиять на результаты анализа."
   ]
  },
  {
   "cell_type": "markdown",
   "metadata": {},
   "source": [
    " ### 3.8 95-й и 99-й перцентили количества заказов на пользователя"
   ]
  },
  {
   "cell_type": "code",
   "execution_count": 31,
   "metadata": {},
   "outputs": [
    {
     "name": "stdout",
     "output_type": "stream",
     "text": [
      "[2. 2. 4.]\n"
     ]
    }
   ],
   "source": [
    "#посчитаем перцентили количества заказов\n",
    "print(np.percentile(orders_nmb['order_id'], [95, 97, 99]))"
   ]
  },
  {
   "cell_type": "markdown",
   "metadata": {},
   "source": [
    "**Вывод:** Не более 3% пользователей делали больше 2х заказов и не более 1% пользователя делали больше 4х заказов. Выберем 2 заказа на пользователя за верхную границу и отсеим аномальных пользователей по ней. "
   ]
  },
  {
   "cell_type": "markdown",
   "metadata": {},
   "source": [
    "### 3.9 Точечный график стоимостей заказов"
   ]
  },
  {
   "cell_type": "code",
   "execution_count": 32,
   "metadata": {},
   "outputs": [
    {
     "data": {
      "image/png": "[encoded data removed]",
      "text/plain": [
       "<Figure size 640x480 with 1 Axes>"
      ]
     },
     "metadata": {},
     "output_type": "display_data"
    }
   ],
   "source": [
    "#построим точечный график\n",
    "x_values = pd.Series(range(0,len(orders['revenue'])))\n",
    "plt.scatter(x_values, orders['revenue'])\n",
    "plt.ylim(0,70000)\n",
    "plt.title('Точечный график стоимостей заказов')\n",
    "plt.xlabel('Количество наблюдений')\n",
    "plt.ylabel('Сумма заказа')\n",
    "plt.show()"
   ]
  },
  {
   "cell_type": "markdown",
   "metadata": {},
   "source": [
    "**Вывод:** На графике видно, что большая часть заказов стоит менее 10тыс., однако есть значительное количество более дорогих заказов. Такие выбросы могут повлиять на результаты теста. Чтобы понять, что можно взять на границу аномальных значений, посчитаем выборочные перцентили стоимости заказов."
   ]
  },
  {
   "cell_type": "markdown",
   "metadata": {},
   "source": [
    "### 3.10 95-й и 99-й перцентили стоимости заказов"
   ]
  },
  {
   "cell_type": "code",
   "execution_count": 33,
   "metadata": {},
   "outputs": [
    {
     "name": "stdout",
     "output_type": "stream",
     "text": [
      "[28000.  35485.  58233.2]\n"
     ]
    }
   ],
   "source": [
    "#посчитаем 95-й и 99-й перцентили стоимости заказов\n",
    "print(np.percentile(orders['revenue'], [95, 97, 99]))"
   ]
  },
  {
   "cell_type": "markdown",
   "metadata": {},
   "source": [
    "**Вывод:** Не более 5% заказов дороже 28тыс, не более 3% заказов дороже 35485 и не более 1% дороже 58233. Возьмем за верхную границу аномальных значений 97ой перцентиль и отсеим заказы дороже 35500. "
   ]
  },
  {
   "cell_type": "markdown",
   "metadata": {},
   "source": [
    "### 3.11 Статистическая значимость различий в среднем количестве заказов на посетителя между группами по «сырым» данным"
   ]
  },
  {
   "cell_type": "markdown",
   "metadata": {},
   "source": [
    "Для определения статистической значимости различий применим непараметрический тест Уилкоксона-Манна-Уитни. Этот тест работает с рангами, никак не учитывая сами значения. Поэтому к нему прибегают тогда, когда работа с самими значениями невозможна из-за выбросов, сильно сдвигающих параметрические результаты, что и является нашим случаем. \n",
    "\n",
    "Сформулируем гипотезы:\n",
    " - Нулевая: различий в среднем количестве заказов между группами нет\n",
    " - Альтернативная: различия в среднем между группами есть \n",
    " \n",
    "Зададим критический уровень статистической значимости в 5%"
   ]
  },
  {
   "cell_type": "code",
   "execution_count": 34,
   "metadata": {},
   "outputs": [
    {
     "name": "stdout",
     "output_type": "stream",
     "text": [
      "p-значение:  0.017\n",
      "Отвергаем нулевую гипотезу: разница статистически значима\n",
      "Относительный прирост среднего числа заказов группы B: 0.138\n"
     ]
    }
   ],
   "source": [
    "#сделаем срезы данных о визитах по группам\n",
    "daily_data_a = visits[visits['group'] == 'A']['visitors']\n",
    "daily_data_b = visits[visits['group'] == 'B']['visitors']\n",
    "\n",
    "#для пользователей, которые заказывали хотя бы 1 раз, укажем число совершённых заказов\n",
    "orders_by_users_a = orders[orders['group'] == 'A'].groupby('user_id', as_index=False).agg({'order_id': pd.Series.nunique})\n",
    "orders_by_users_a.columns = ['user_id', 'orders']\n",
    "\n",
    "orders_by_users_b = orders[orders['group'] == 'B'].groupby('user_id', as_index=False).agg({'order_id': pd.Series.nunique})\n",
    "orders_by_users_b.columns = ['user_id', 'orders'] \n",
    "\n",
    "#oбъявим переменные sample_a и sample_b, в которых пользователям из разных групп будет соответствовать количество заказов\n",
    "sample_a = pd.concat([orders_by_users_a['orders'],pd.Series(0, index=np.arange(daily_data_a.sum() - len(orders_by_users_a['orders'])), name='orders')],axis=0)\n",
    "\n",
    "sample_b = pd.concat([orders_by_users_b['orders'],pd.Series(0, index=np.arange(daily_data_b.sum() - len(orders_by_users_b['orders'])), name='orders')],axis=0)\n",
    "\n",
    "#зададим критический уровень статистической значимости\n",
    "alpha = 0.05 \n",
    "\n",
    "#применим критерий\n",
    "results_orders = stats.mannwhitneyu(sample_a, sample_b)\n",
    "print('p-значение: ', \"{0:.3f}\".format(results_orders.pvalue))\n",
    "\n",
    "if results_orders.pvalue < alpha:\n",
    "    print('Отвергаем нулевую гипотезу: разница статистически значима')\n",
    "else:\n",
    "    print('Не получилось отвергнуть нулевую гипотезу, вывод о различии сделать нельзя')\n",
    "\n",
    "#найдём относительное различие в среднем числе заказов\n",
    "print('Относительный прирост среднего числа заказов группы B:',\"{0:.3f}\".format(sample_b.mean() / sample_a.mean() - 1))"
   ]
  },
  {
   "cell_type": "markdown",
   "metadata": {},
   "source": [
    "**Вывод:** По сырым данным различия в среднем числе заказов для групп А и В есть. Относительный прирост среднего числа заказов группы В к среднему группы А равен 13,8%. "
   ]
  },
  {
   "cell_type": "markdown",
   "metadata": {},
   "source": [
    "### 3.12 Статистическая значимость различий в среднем чеке заказа между группами по «сырым» данным"
   ]
  },
  {
   "cell_type": "markdown",
   "metadata": {},
   "source": [
    "Чтобы рассчитать статистическую значимость различий в среднем чеке снова применим непараметрический тест Уилкоксона-Манна-Уитни.\n",
    "\n",
    "- Нулевая гипотеза: различий в среднем чеке между группами нет\n",
    "- Альтернативная гипотеза: различия в среднем чеке между группами есть\n",
    "\n",
    "Зададим критический уровень статистической значимости в 5%"
   ]
  },
  {
   "cell_type": "code",
   "execution_count": 35,
   "metadata": {},
   "outputs": [
    {
     "name": "stdout",
     "output_type": "stream",
     "text": [
      "p-значение:  0.729\n",
      "Не получилось отвергнуть нулевую гипотезу, вывод о различии сделать нельзя\n",
      "Относительное различие в среднем чеке между группами: 0.259\n"
     ]
    }
   ],
   "source": [
    "#применим непараметрический тест Уилкоксона-Манна-Уитни\n",
    "alpha = 0.05\n",
    "results_revenue = stats.mannwhitneyu(orders[orders['group']=='A']['revenue'], orders[orders['group']=='B']['revenue'])\n",
    "print('p-значение: ', \"{0:.3f}\".format(results_revenue.pvalue))\n",
    "\n",
    "if results_revenue.pvalue < alpha:\n",
    "    print('Отвергаем нулевую гипотезу: разница статистически значима')\n",
    "else:\n",
    "    print('Не получилось отвергнуть нулевую гипотезу, вывод о различии сделать нельзя')\n",
    "    \n",
    "#найдём относительное различие в среднем чеке между группами\n",
    "print('Относительное различие в среднем чеке между группами:','{0:.3f}'.format(orders[orders['group']=='B']['revenue'].mean()/orders[orders['group']=='A']['revenue'].mean()-1)) "
   ]
  },
  {
   "cell_type": "markdown",
   "metadata": {},
   "source": [
    "**Вывод:** р-значение значительно больше 0,05, поэтому не получится отвергнуть нулевую гипотезу и считать, что различия в среднем чеке есть. При этом относительое различие среднего чека группы В к группе А довольно большое и равно 25,9%. "
   ]
  },
  {
   "cell_type": "markdown",
   "metadata": {},
   "source": [
    "### 3.13 Статистическая значимость различий в среднем количестве заказов на посетителя между группами по «очищенным» данным "
   ]
  },
  {
   "cell_type": "markdown",
   "metadata": {},
   "source": [
    "На этапе изучения данных на наличие выбросов, мы решили взять 2 заказа на пользователя за верхную границу для определения аномальных пользователей и 35500 за верхную границу для определения аномальных заказов, тем самым мы отсеим 3% пользователей с большим числом заказов и 3% дорогих заказов."
   ]
  },
  {
   "cell_type": "code",
   "execution_count": 36,
   "metadata": {},
   "outputs": [
    {
     "name": "stdout",
     "output_type": "stream",
     "text": [
      "Количество аномальных пользователей: 51\n"
     ]
    }
   ],
   "source": [
    "#cделаем срез пользователей с числом заказов больше 2\n",
    "users_with_many_orders = pd.concat(\n",
    "    [orders_by_users_a[orders_by_users_a['orders'] > 2]['user_id'],\n",
    "    orders_by_users_b[orders_by_users_b['orders'] > 2]['user_id']\n",
    "    ],axis=0,)\n",
    "#cделаем срез пользователей, совершивших заказы дороже 35500\n",
    "users_with_expensive_orders = orders[orders['revenue'] > 35500]['user_id']\n",
    "\n",
    "#oбъединим их\n",
    "abnormal_users = (pd.concat([users_with_many_orders, users_with_expensive_orders], axis=0)\n",
    "    .drop_duplicates()\n",
    "    .sort_values())\n",
    "\n",
    "#узнаем, сколько всего аномальных пользователей \n",
    "print('Количество аномальных пользователей:',abnormal_users.shape[0])"
   ]
  },
  {
   "cell_type": "code",
   "execution_count": 37,
   "metadata": {},
   "outputs": [],
   "source": [
    "#подготовим выборки количества заказов по пользователям по группам теста\n",
    "sample_a_filtered = pd.concat([orders_by_users_a[np.logical_not(orders_by_users_a['user_id'].isin(abnormal_users))]['orders'],\n",
    "        pd.Series(0, index=np.arange(daily_data_a.sum() - len(orders_by_users_a['orders'])),\n",
    "        name='orders',),],axis=0,)\n",
    "\n",
    "sample_b_filtered = pd.concat([orders_by_users_b[np.logical_not(orders_by_users_b['user_id'].isin(abnormal_users))]['orders'],\n",
    "        pd.Series(0, index=np.arange(daily_data_b.sum() - len(orders_by_users_b['orders'])),\n",
    "        name='orders',),],axis=0,)"
   ]
  },
  {
   "cell_type": "markdown",
   "metadata": {},
   "source": [
    "Применим статистический критерий Манна-Уитни к полученным выборкам.\n",
    "\n",
    "Сформулируем гипотезы:\n",
    "- Нулевая: различий в среднем количестве заказов между группами нет\n",
    "- Альтернативная: различия в среднем между группами есть\n",
    "\n",
    "Зададим критический уровень статистической значимости в 5%"
   ]
  },
  {
   "cell_type": "code",
   "execution_count": 38,
   "metadata": {},
   "outputs": [
    {
     "name": "stdout",
     "output_type": "stream",
     "text": [
      "p-значение:  0.010\n",
      "Отвергаем нулевую гипотезу: разница статистически значима\n",
      "Относительный прирост среднего числа заказов группы B: 0.179\n"
     ]
    }
   ],
   "source": [
    "#применим критерий\n",
    "alpha = 0.05 \n",
    "\n",
    "results_orders_filtered = stats.mannwhitneyu(sample_a_filtered, sample_b_filtered)\n",
    "print('p-значение: ', \"{0:.3f}\".format(results_orders_filtered.pvalue))\n",
    "\n",
    "if results_orders_filtered.pvalue < alpha:\n",
    "    print('Отвергаем нулевую гипотезу: разница статистически значима')\n",
    "else:\n",
    "    print('Не получилось отвергнуть нулевую гипотезу, вывод о различии сделать нельзя')\n",
    "    \n",
    "#найдём относительное различие в среднем числе заказов\n",
    "print('Относительный прирост среднего числа заказов группы B:',\"{0:.3f}\".format(sample_b_filtered.mean() / sample_a_filtered.mean() - 1))"
   ]
  },
  {
   "cell_type": "markdown",
   "metadata": {},
   "source": [
    "**Вывод:** Как и по сырым данным, разница между средним количеством заказов в группа есть, поэтому нулевую гипотезу отвергаем. По очищенным данным относительный прирост среднего числа заказов в группе В к группе А увеличился и составляет 17,9%. "
   ]
  },
  {
   "cell_type": "markdown",
   "metadata": {},
   "source": [
    "### 3.14 Статистическая значимость различий в среднем чеке заказа между группами по «очищенным» данным"
   ]
  },
  {
   "cell_type": "markdown",
   "metadata": {},
   "source": [
    "Cнова применим непараметрический тест Уилкоксона-Манна-Уитни.\n",
    "\n",
    " - Нулевая гипотеза: различий в среднем чеке между группами нет\n",
    " - Альтернативная гипотеза: различия в среднем чеке между группами есть\n",
    "\n",
    "Зададим критический уровень статистической значимости в 5%"
   ]
  },
  {
   "cell_type": "code",
   "execution_count": 39,
   "metadata": {},
   "outputs": [
    {
     "name": "stdout",
     "output_type": "stream",
     "text": [
      "p-значение:  0.878\n",
      "Не получилось отвергнуть нулевую гипотезу, вывод о различии сделать нельзя\n",
      "Относительное различие в среднем чеке между группами: 0.020\n"
     ]
    }
   ],
   "source": [
    "alpha = 0.05 \n",
    "\n",
    "results_revenue_filtered = stats.mannwhitneyu(orders[np.logical_and(orders['group'] == 'A', \n",
    "                            np.logical_not(orders['user_id'].isin(abnormal_users)),)]['revenue'],\n",
    "                            orders[np.logical_and(orders['group'] == 'B',\n",
    "                            np.logical_not(orders['user_id'].isin(abnormal_users)),)]['revenue'],)\n",
    "\n",
    "print('p-значение: ', \"{0:.3f}\".format(results_revenue_filtered.pvalue))\n",
    "\n",
    "if results_revenue_filtered.pvalue < alpha:\n",
    "    print('Отвергаем нулевую гипотезу: разница статистически значима')\n",
    "else:\n",
    "    print('Не получилось отвергнуть нулевую гипотезу, вывод о различии сделать нельзя')\n",
    "    \n",
    "#найдём относительное различие в среднем чеке между группами\n",
    "print('Относительное различие в среднем чеке между группами:', \"{0:.3f}\".format(orders[\n",
    "            np.logical_and(orders['group'] == 'B',np.logical_not(orders['user_id'].isin(abnormal_users)),)]['revenue'].mean()\n",
    "        / orders[np.logical_and(orders['group'] == 'A',np.logical_not(orders['user_id'].isin(abnormal_users)),)]['revenue'].mean() - 1))\n"
   ]
  },
  {
   "cell_type": "markdown",
   "metadata": {},
   "source": [
    "**Вывод:** Как и по сырым данным, по очищенным данным не удалось отвергнуть нулевую гипотезу - статистически значимого различия в среднем чеке между группами нет. При этом относительное различие в среднем чеке по очищенным данным стало составлять всего 2%. "
   ]
  },
  {
   "cell_type": "markdown",
   "metadata": {},
   "source": [
    "## 4. Выводы и рекомендации "
   ]
  },
  {
   "cell_type": "markdown",
   "metadata": {},
   "source": [
    "**Задача:** анализ и приоритизация списка 9ти гипотез, разработанных с целью увеличения выручки интернет магазина, запуск А/В теста и анализ его результатов\n",
    "\n",
    "В ходе исследования были сделаны следующие шаги:\n",
    "1. Был изучен список 9ти гипотез, проведена приоритизация гипотез с помощью фреймворков ICE и RICE. \n",
    "\n",
    "Топ-3 самых перспективных гипотез по фреймворку ICE:\n",
    " - Номер 8: Запустить акцию, дающую скидку на товар в день рождения\n",
    " - Номер 0: Добавить два новых канала привлечения трафика, что позволит привлекать на 30% больше пользователей\n",
    " - Номер 7: Добавить форму подписки на все основные страницы, чтобы собрать базу клиентов для email-рассылок\n",
    " \n",
    "Топ-4 самых перспективных гипотез по фреймворку RICE:\n",
    " - Номер 7: Добавить форму подписки на все основные страницы, чтобы собрать базу клиентов для email-рассылок\n",
    " - Номер 2: Добавить блоки рекомендаций товаров на сайт интернет магазина, чтобы повысить конверсию и средний чек заказа\n",
    " - Номер 0: Добавить два новых канала привлечения трафика, что позволит привлекать на 30% больше пользователей\n",
    " - Номер 6: Показать на главной странице баннеры с актуальными акциями и распродажами, чтобы увеличить конверсию\n",
    "\n",
    "По результатам анализа первой к проверке рекомендована гипотеза номер 7 c максимальный баллом по охвату пользователей - добавить форму подписки на все основные страницы, чтобы собрать базу клиентов для email-рассылок. \n",
    "\n",
    "2. Были изученны предоставленные датасеты, произведена предобработка данных. В процессе изучения данных было выявлено следующее:\n",
    " - пропусков/дубликатов в данных не оказалось\n",
    " - проверены даты эксперимента - данные есть за период с 01.08.2019 до 31.08.2019\n",
    " - количество пользователей в группе В на 16,5% больше, чем в группе А. Также есть 58 пользователей, попавших в обе группы. Скорее всего при сборе данных произошла ошибка. Так как в датасете о визитах данные о пользователях агрегированы, было принято решение не удалять данные об этих 58 пользователях из датасета о заказах, чтобы не исказить значения последующих расчетов.\n",
    " - были обнаружены аномальные значения в стоимости заказов и количестве заказов на пользователя \n",
    " \n",
    " \n",
    "3. Были построены следующие графики: \n",
    " - График кумулятивной выручки по группам : графики выручки обеих групп стабильно растут. Выручка группы В значительно выше группы А, но на графике можно заметить наличие аномальных значений \n",
    " - График кумулятивного среднего чека по группам: по графику средний чет группы В гораздо выше чека группы А, но также видны резкие скачки графиков, поэтому точных выводов сделать нельзя\n",
    " - График относительного изменения кумулятивного среднего чека группы B к группе A: группа В снова лучше группы А, но снова наблюдаются резкие скачки \n",
    " - График кумулятивного среднего количества заказов на посетителя по группам: в начале теста наблюдаютя колебания. После 17ого числа графики обеих групп выравниваются и группа В имеет стабильно более высокое среднее количество заказов\n",
    " - График относительного изменения кумулятивного среднего количества заказов на посетителя группы B к группе A: после 5ого числа группа В вырывается вперед и стабильно имеет более высокое значение заказов, чем группа А\n",
    " - Точечный график количества заказов по пользователям: Большая часть пользователей сделали только один заказ, однако доля пользователей, сделавших 2 заказа, тоже значительна. Также есть пользователи, которые сделали больше 10 заказов\n",
    " - Точечный график стоимостей заказов:  На графике видно, что большая часть заказов стоит менее 10тыс., однако есть значительное количество более дорогих заказов\n",
    " \n",
    " \n",
    "4. Рассчитана статистическая значимость различий в среднем количестве заказов на посетителя и различий в среднем чеке заказа между группами по «сырым» данным: \n",
    "\n",
    "Для определения статистической значимости различий был применен непараметрический тест Уилкоксона-Манна-Уитни. Критический уровень статистической значимости был задан в 5%.\n",
    "\n",
    "Были сформулированы гипотезы о различии в среднем количестве заказов на посетителя: \n",
    "- Нулевая: различий в среднем количестве заказов между группами нет\n",
    "- Альтернативная: различия в среднем между группами есть\n",
    "\n",
    "По сырым данным различия в среднем числе заказов для групп А и В есть - нулевая гипотеза была отвергнута. Относительный прирост среднего числа заказов группы В к среднему группы А равен 13,8%.\n",
    "\n",
    "Были сформулированы гипотезы о различий в среднем чеке заказа между группами:\n",
    "- Нулевая гипотеза: различий в среднем чеке между группами нет\n",
    "- Альтернативная гипотеза: различия в среднем чеке между группами есть\n",
    "\n",
    "По результатам теста, не получилось отвергнуть нулевую гипотезу и считать, что различия в среднем чеке есть. При этом относительое различие среднего чека группы В к группе А довольно большое и равно 25,9%.\n",
    "\n",
    "5. Рассчитана статистическая значимость различий в среднем количестве заказов на посетителя и различий в среднем чеке заказа между группами по «очищенным» данным:\n",
    "\n",
    "В результате расчета 95-ого и 99-ого перцентилей количества заказов на пользователя и стоимости заказа, было принято решение взять 2 заказа на пользователя за верхную границу для определения аномальных пользователей и 35500 за верхную границу для определения аномальных заказов, тем самым мы отсеим 3% пользователей с большим числом заказов и 3% дорогих заказов. Количество найденных аномальных пользователей составило 51. \n",
    "\n",
    "Для определения статистической значимости различий был снова применен непараметрический тест Уилкоксона-Манна-Уитни с критический уровенем статистической значимости в 5%.\n",
    "\n",
    "Были сформулированы гипотезы о различии в среднем количестве заказов на посетителя: \n",
    "- Нулевая: различий в среднем количестве заказов между группами нет\n",
    "- Альтернативная: различия в среднем между группами есть\n",
    "\n",
    "Как и по сырым данным, разница между средним количеством заказов в группах есть, поэтому нулевую гипотезу отвергаем. По очищенным данным относительный прирост среднего числа заказов в группе В к группе А увеличился и составляет 17,9%.\n",
    "\n",
    "Были сформулированы гипотезы о различий в среднем чеке заказа между группами:\n",
    "- Нулевая гипотеза: различий в среднем чеке между группами нет\n",
    "- Альтернативная гипотеза: различия в среднем чеке между группами есть\n",
    "\n",
    "Как и по сырым данным, по очищенным данным не удалось отвергнуть нулевую гипотезу - статистически значимого различия в среднем чеке между группами нет. При этом относительное различие в среднем чеке по очищенным данным стало составлять всего 2%.\n",
    "\n",
    "**Рекомендации:** По результатам проведенного анализа было принято решение остановить тест, признать его успешным и зафиксировать победу группы В. Не смотря на то, что различий в среднем чеке между группами нет, наблюдается статистически значимое различие в количесте среднего числа заказов и довольно высокий относительный прирост среднего числа заказов в группе В по сравнению с группой А - 17,9% (по очищенным данным). Увеличение числа заказов, даже при сохранении среднего чека, приведут к увеличению выручки интернет магазина. Рекомендуется применить изменения, которые были совершены для группы В, на всех пользователей. "
   ]
  }
 ],
 "metadata": {
  "ExecuteTimeLog": [
   {
    "duration": 477,
    "start_time": "2023-02-14T10:55:09.045Z"
   },
   {
    "duration": 14,
    "start_time": "2023-02-14T10:56:15.127Z"
   },
   {
    "duration": 8,
    "start_time": "2023-02-14T10:56:25.894Z"
   },
   {
    "duration": 11,
    "start_time": "2023-02-14T11:01:46.391Z"
   },
   {
    "duration": 11,
    "start_time": "2023-02-14T11:10:05.336Z"
   },
   {
    "duration": 64,
    "start_time": "2023-02-14T11:11:19.941Z"
   },
   {
    "duration": 8,
    "start_time": "2023-02-14T11:11:35.700Z"
   },
   {
    "duration": 3,
    "start_time": "2023-02-14T11:11:43.808Z"
   },
   {
    "duration": 1492,
    "start_time": "2023-02-14T11:14:04.011Z"
   },
   {
    "duration": 13,
    "start_time": "2023-02-14T11:14:21.693Z"
   },
   {
    "duration": 11,
    "start_time": "2023-02-14T11:14:50.722Z"
   },
   {
    "duration": 12,
    "start_time": "2023-02-14T11:14:55.690Z"
   },
   {
    "duration": 2,
    "start_time": "2023-02-14T11:19:01.030Z"
   },
   {
    "duration": 13,
    "start_time": "2023-02-14T11:21:35.980Z"
   },
   {
    "duration": 8,
    "start_time": "2023-02-14T13:45:33.227Z"
   },
   {
    "duration": 46,
    "start_time": "2023-02-14T13:46:43.100Z"
   },
   {
    "duration": 505,
    "start_time": "2023-02-14T13:47:01.568Z"
   },
   {
    "duration": 18,
    "start_time": "2023-02-14T13:47:02.074Z"
   },
   {
    "duration": 25,
    "start_time": "2023-02-14T13:47:02.095Z"
   },
   {
    "duration": 13,
    "start_time": "2023-02-14T13:47:02.124Z"
   },
   {
    "duration": 30,
    "start_time": "2023-02-14T13:47:02.139Z"
   },
   {
    "duration": 19,
    "start_time": "2023-02-14T13:47:02.171Z"
   },
   {
    "duration": 81,
    "start_time": "2023-02-14T13:47:02.193Z"
   },
   {
    "duration": 11,
    "start_time": "2023-02-14T13:47:02.276Z"
   },
   {
    "duration": 10,
    "start_time": "2023-02-14T13:48:33.311Z"
   },
   {
    "duration": 15,
    "start_time": "2023-02-14T13:51:55.455Z"
   },
   {
    "duration": 11,
    "start_time": "2023-02-14T13:52:10.941Z"
   },
   {
    "duration": 3,
    "start_time": "2023-02-14T13:52:21.580Z"
   },
   {
    "duration": 477,
    "start_time": "2023-02-14T13:55:41.247Z"
   },
   {
    "duration": 23,
    "start_time": "2023-02-14T13:56:18.001Z"
   },
   {
    "duration": 14,
    "start_time": "2023-02-14T13:57:23.540Z"
   },
   {
    "duration": 12,
    "start_time": "2023-02-14T13:58:27.021Z"
   },
   {
    "duration": 13,
    "start_time": "2023-02-14T13:59:19.017Z"
   },
   {
    "duration": 445,
    "start_time": "2023-02-14T14:00:01.166Z"
   },
   {
    "duration": 15,
    "start_time": "2023-02-14T14:00:01.613Z"
   },
   {
    "duration": 114,
    "start_time": "2023-02-14T14:00:01.630Z"
   },
   {
    "duration": 33,
    "start_time": "2023-02-14T14:00:01.746Z"
   },
   {
    "duration": 42,
    "start_time": "2023-02-14T14:00:01.781Z"
   },
   {
    "duration": 36,
    "start_time": "2023-02-14T14:00:01.824Z"
   },
   {
    "duration": 52,
    "start_time": "2023-02-14T14:00:01.862Z"
   },
   {
    "duration": 19,
    "start_time": "2023-02-14T14:00:01.915Z"
   },
   {
    "duration": 18,
    "start_time": "2023-02-14T14:00:01.936Z"
   },
   {
    "duration": 21,
    "start_time": "2023-02-14T14:00:01.956Z"
   },
   {
    "duration": 27,
    "start_time": "2023-02-14T14:00:01.979Z"
   },
   {
    "duration": 13,
    "start_time": "2023-02-14T14:00:11.003Z"
   },
   {
    "duration": 497,
    "start_time": "2023-02-14T14:00:28.199Z"
   },
   {
    "duration": 434,
    "start_time": "2023-02-14T14:00:42.445Z"
   },
   {
    "duration": 401,
    "start_time": "2023-02-14T14:00:51.320Z"
   },
   {
    "duration": 14,
    "start_time": "2023-02-14T14:00:51.722Z"
   },
   {
    "duration": 11,
    "start_time": "2023-02-14T14:00:51.738Z"
   },
   {
    "duration": 6,
    "start_time": "2023-02-14T14:00:51.751Z"
   },
   {
    "duration": 24,
    "start_time": "2023-02-14T14:00:51.758Z"
   },
   {
    "duration": 14,
    "start_time": "2023-02-14T14:00:51.784Z"
   },
   {
    "duration": 37,
    "start_time": "2023-02-14T14:00:51.800Z"
   },
   {
    "duration": 8,
    "start_time": "2023-02-14T14:00:51.839Z"
   },
   {
    "duration": 16,
    "start_time": "2023-02-14T14:00:51.849Z"
   },
   {
    "duration": 19,
    "start_time": "2023-02-14T14:00:51.868Z"
   },
   {
    "duration": 24,
    "start_time": "2023-02-14T14:00:51.888Z"
   },
   {
    "duration": 553,
    "start_time": "2023-02-14T14:01:03.818Z"
   },
   {
    "duration": 485,
    "start_time": "2023-02-14T14:01:15.274Z"
   },
   {
    "duration": 457,
    "start_time": "2023-02-14T14:03:49.494Z"
   },
   {
    "duration": 13,
    "start_time": "2023-02-14T14:03:49.953Z"
   },
   {
    "duration": 14,
    "start_time": "2023-02-14T14:03:49.968Z"
   },
   {
    "duration": 10,
    "start_time": "2023-02-14T14:03:49.984Z"
   },
   {
    "duration": 15,
    "start_time": "2023-02-14T14:03:49.996Z"
   },
   {
    "duration": 20,
    "start_time": "2023-02-14T14:03:50.013Z"
   },
   {
    "duration": 41,
    "start_time": "2023-02-14T14:03:50.035Z"
   },
   {
    "duration": 8,
    "start_time": "2023-02-14T14:03:50.077Z"
   },
   {
    "duration": 13,
    "start_time": "2023-02-14T14:03:50.086Z"
   },
   {
    "duration": 19,
    "start_time": "2023-02-14T14:03:50.100Z"
   },
   {
    "duration": 20,
    "start_time": "2023-02-14T14:03:50.121Z"
   },
   {
    "duration": 6,
    "start_time": "2023-02-14T14:05:28.432Z"
   },
   {
    "duration": 4,
    "start_time": "2023-02-14T14:05:49.705Z"
   },
   {
    "duration": 4,
    "start_time": "2023-02-14T14:06:00.879Z"
   },
   {
    "duration": 8,
    "start_time": "2023-02-14T14:12:10.133Z"
   },
   {
    "duration": 6,
    "start_time": "2023-02-14T14:12:29.979Z"
   },
   {
    "duration": 9,
    "start_time": "2023-02-14T14:22:34.856Z"
   },
   {
    "duration": 62,
    "start_time": "2023-02-14T14:32:27.815Z"
   },
   {
    "duration": 9,
    "start_time": "2023-02-14T14:33:25.799Z"
   },
   {
    "duration": 7,
    "start_time": "2023-02-14T14:33:32.674Z"
   },
   {
    "duration": 10,
    "start_time": "2023-02-14T14:33:45.189Z"
   },
   {
    "duration": 7,
    "start_time": "2023-02-14T14:33:57.055Z"
   },
   {
    "duration": 9,
    "start_time": "2023-02-14T14:34:07.961Z"
   },
   {
    "duration": 7,
    "start_time": "2023-02-14T14:34:15.319Z"
   },
   {
    "duration": 10,
    "start_time": "2023-02-14T14:34:20.343Z"
   },
   {
    "duration": 4,
    "start_time": "2023-02-14T14:36:42.155Z"
   },
   {
    "duration": 5,
    "start_time": "2023-02-14T14:37:41.563Z"
   },
   {
    "duration": 7,
    "start_time": "2023-02-14T14:38:30.597Z"
   },
   {
    "duration": 5,
    "start_time": "2023-02-14T14:40:54.344Z"
   },
   {
    "duration": 6,
    "start_time": "2023-02-14T14:41:04.693Z"
   },
   {
    "duration": 8,
    "start_time": "2023-02-14T14:41:17.624Z"
   },
   {
    "duration": 101,
    "start_time": "2023-02-14T14:54:00.988Z"
   },
   {
    "duration": 8,
    "start_time": "2023-02-14T14:54:32.799Z"
   },
   {
    "duration": 7,
    "start_time": "2023-02-14T14:54:51.563Z"
   },
   {
    "duration": 6,
    "start_time": "2023-02-14T14:56:37.373Z"
   },
   {
    "duration": 8,
    "start_time": "2023-02-14T14:56:56.642Z"
   },
   {
    "duration": 8,
    "start_time": "2023-02-14T15:23:49.340Z"
   },
   {
    "duration": 7,
    "start_time": "2023-02-14T15:23:56.215Z"
   },
   {
    "duration": 6,
    "start_time": "2023-02-14T15:24:30.032Z"
   },
   {
    "duration": 9,
    "start_time": "2023-02-14T15:30:22.246Z"
   },
   {
    "duration": 888,
    "start_time": "2023-02-14T15:30:36.801Z"
   },
   {
    "duration": 12,
    "start_time": "2023-02-14T15:30:37.691Z"
   },
   {
    "duration": 11,
    "start_time": "2023-02-14T15:30:37.704Z"
   },
   {
    "duration": 12,
    "start_time": "2023-02-14T15:30:37.717Z"
   },
   {
    "duration": 16,
    "start_time": "2023-02-14T15:30:37.731Z"
   },
   {
    "duration": 13,
    "start_time": "2023-02-14T15:30:37.749Z"
   },
   {
    "duration": 42,
    "start_time": "2023-02-14T15:30:37.764Z"
   },
   {
    "duration": 8,
    "start_time": "2023-02-14T15:30:37.808Z"
   },
   {
    "duration": 24,
    "start_time": "2023-02-14T15:30:37.818Z"
   },
   {
    "duration": 8,
    "start_time": "2023-02-14T15:30:37.845Z"
   },
   {
    "duration": 18,
    "start_time": "2023-02-14T15:30:37.854Z"
   },
   {
    "duration": 11,
    "start_time": "2023-02-14T15:30:37.873Z"
   },
   {
    "duration": 7,
    "start_time": "2023-02-14T15:30:37.886Z"
   },
   {
    "duration": 9,
    "start_time": "2023-02-14T15:30:37.894Z"
   },
   {
    "duration": 16,
    "start_time": "2023-02-14T15:30:37.905Z"
   },
   {
    "duration": 11,
    "start_time": "2023-02-14T15:30:37.923Z"
   },
   {
    "duration": 84,
    "start_time": "2023-02-14T15:30:37.936Z"
   },
   {
    "duration": 135,
    "start_time": "2023-02-14T15:30:55.468Z"
   },
   {
    "duration": 118,
    "start_time": "2023-02-14T15:31:06.900Z"
   },
   {
    "duration": 130,
    "start_time": "2023-02-14T15:31:11.400Z"
   },
   {
    "duration": 115,
    "start_time": "2023-02-14T15:31:18.629Z"
   },
   {
    "duration": 184,
    "start_time": "2023-02-14T15:33:31.201Z"
   },
   {
    "duration": 131,
    "start_time": "2023-02-14T15:33:44.387Z"
   },
   {
    "duration": 127,
    "start_time": "2023-02-14T15:33:54.391Z"
   },
   {
    "duration": 8,
    "start_time": "2023-02-14T15:35:14.868Z"
   },
   {
    "duration": 133,
    "start_time": "2023-02-14T15:36:26.991Z"
   },
   {
    "duration": 10,
    "start_time": "2023-02-14T15:40:24.631Z"
   },
   {
    "duration": 5,
    "start_time": "2023-02-14T15:40:59.942Z"
   },
   {
    "duration": 6,
    "start_time": "2023-02-14T15:43:06.365Z"
   },
   {
    "duration": 225,
    "start_time": "2023-02-14T15:44:33.991Z"
   },
   {
    "duration": 230,
    "start_time": "2023-02-14T15:44:43.193Z"
   },
   {
    "duration": 118,
    "start_time": "2023-02-14T15:44:50.899Z"
   },
   {
    "duration": 8,
    "start_time": "2023-02-14T15:48:16.385Z"
   },
   {
    "duration": 8,
    "start_time": "2023-02-14T15:48:44.660Z"
   },
   {
    "duration": 5,
    "start_time": "2023-02-14T15:48:52.329Z"
   },
   {
    "duration": 8,
    "start_time": "2023-02-14T15:50:11.349Z"
   },
   {
    "duration": 14,
    "start_time": "2023-02-14T15:56:35.819Z"
   },
   {
    "duration": 1874,
    "start_time": "2023-02-14T15:58:28.181Z"
   },
   {
    "duration": 12,
    "start_time": "2023-02-14T15:59:15.224Z"
   },
   {
    "duration": 216,
    "start_time": "2023-02-14T15:59:22.857Z"
   },
   {
    "duration": 253,
    "start_time": "2023-02-14T15:59:54.065Z"
   },
   {
    "duration": 11,
    "start_time": "2023-02-14T16:02:55.717Z"
   },
   {
    "duration": 102,
    "start_time": "2023-02-14T16:03:46.451Z"
   },
   {
    "duration": 97,
    "start_time": "2023-02-14T16:03:56.719Z"
   },
   {
    "duration": 117,
    "start_time": "2023-02-14T16:22:16.874Z"
   },
   {
    "duration": 9,
    "start_time": "2023-02-14T16:26:31.344Z"
   },
   {
    "duration": 117,
    "start_time": "2023-02-14T16:27:04.278Z"
   },
   {
    "duration": 8,
    "start_time": "2023-02-14T16:58:50.849Z"
   },
   {
    "duration": 8,
    "start_time": "2023-02-14T16:58:57.679Z"
   },
   {
    "duration": 6,
    "start_time": "2023-02-14T17:00:42.427Z"
   },
   {
    "duration": 3,
    "start_time": "2023-02-14T17:05:37.846Z"
   },
   {
    "duration": 944,
    "start_time": "2023-02-15T16:33:57.938Z"
   },
   {
    "duration": 12,
    "start_time": "2023-02-15T16:33:58.884Z"
   },
   {
    "duration": 23,
    "start_time": "2023-02-15T16:33:58.897Z"
   },
   {
    "duration": 17,
    "start_time": "2023-02-15T16:33:58.923Z"
   },
   {
    "duration": 19,
    "start_time": "2023-02-15T16:33:58.942Z"
   },
   {
    "duration": 17,
    "start_time": "2023-02-15T16:33:58.963Z"
   },
   {
    "duration": 93,
    "start_time": "2023-02-15T16:33:58.982Z"
   },
   {
    "duration": 10,
    "start_time": "2023-02-15T16:33:59.076Z"
   },
   {
    "duration": 14,
    "start_time": "2023-02-15T16:33:59.087Z"
   },
   {
    "duration": 5,
    "start_time": "2023-02-15T16:33:59.104Z"
   },
   {
    "duration": 20,
    "start_time": "2023-02-15T16:33:59.111Z"
   },
   {
    "duration": 5,
    "start_time": "2023-02-15T16:33:59.133Z"
   },
   {
    "duration": 13,
    "start_time": "2023-02-15T16:33:59.140Z"
   },
   {
    "duration": 10,
    "start_time": "2023-02-15T16:33:59.155Z"
   },
   {
    "duration": 11,
    "start_time": "2023-02-15T16:33:59.167Z"
   },
   {
    "duration": 13,
    "start_time": "2023-02-15T16:33:59.181Z"
   },
   {
    "duration": 167,
    "start_time": "2023-02-15T16:33:59.196Z"
   },
   {
    "duration": 140,
    "start_time": "2023-02-15T16:33:59.365Z"
   },
   {
    "duration": 120,
    "start_time": "2023-02-15T16:33:59.506Z"
   },
   {
    "duration": 11,
    "start_time": "2023-02-15T16:37:50.875Z"
   },
   {
    "duration": 9,
    "start_time": "2023-02-15T16:38:01.046Z"
   },
   {
    "duration": 70,
    "start_time": "2023-02-15T16:42:39.286Z"
   },
   {
    "duration": 76,
    "start_time": "2023-02-15T16:43:23.665Z"
   },
   {
    "duration": 10,
    "start_time": "2023-02-15T16:43:37.000Z"
   },
   {
    "duration": 11,
    "start_time": "2023-02-15T16:44:35.018Z"
   },
   {
    "duration": 5,
    "start_time": "2023-02-15T16:46:02.487Z"
   },
   {
    "duration": 15,
    "start_time": "2023-02-15T16:46:10.947Z"
   },
   {
    "duration": 5,
    "start_time": "2023-02-15T16:46:24.610Z"
   },
   {
    "duration": 4,
    "start_time": "2023-02-15T16:46:36.334Z"
   },
   {
    "duration": 10,
    "start_time": "2023-02-15T16:49:11.343Z"
   },
   {
    "duration": 12,
    "start_time": "2023-02-15T16:50:39.723Z"
   },
   {
    "duration": 14,
    "start_time": "2023-02-15T16:52:45.078Z"
   },
   {
    "duration": 13,
    "start_time": "2023-02-15T16:53:45.188Z"
   },
   {
    "duration": 11,
    "start_time": "2023-02-15T16:55:01.270Z"
   },
   {
    "duration": 123,
    "start_time": "2023-02-15T16:56:46.793Z"
   },
   {
    "duration": 76,
    "start_time": "2023-02-15T16:59:12.905Z"
   },
   {
    "duration": 156,
    "start_time": "2023-02-15T16:59:23.269Z"
   },
   {
    "duration": 140,
    "start_time": "2023-02-15T17:05:08.720Z"
   },
   {
    "duration": 5,
    "start_time": "2023-02-15T17:05:18.428Z"
   },
   {
    "duration": 10,
    "start_time": "2023-02-15T17:05:47.611Z"
   },
   {
    "duration": 167,
    "start_time": "2023-02-15T17:06:29.864Z"
   },
   {
    "duration": 96,
    "start_time": "2023-02-15T17:08:08.699Z"
   },
   {
    "duration": 13,
    "start_time": "2023-02-15T17:08:29.520Z"
   },
   {
    "duration": 12,
    "start_time": "2023-02-15T17:49:44.846Z"
   },
   {
    "duration": 28,
    "start_time": "2023-02-15T19:04:53.903Z"
   },
   {
    "duration": 27,
    "start_time": "2023-02-15T19:05:33.949Z"
   },
   {
    "duration": 193,
    "start_time": "2023-02-15T19:05:45.410Z"
   },
   {
    "duration": 267,
    "start_time": "2023-02-15T19:07:29.294Z"
   },
   {
    "duration": 274,
    "start_time": "2023-02-15T19:09:38.023Z"
   },
   {
    "duration": 476,
    "start_time": "2023-02-15T19:12:16.748Z"
   },
   {
    "duration": 424,
    "start_time": "2023-02-15T19:14:25.506Z"
   },
   {
    "duration": 427,
    "start_time": "2023-02-15T19:18:36.662Z"
   },
   {
    "duration": 454,
    "start_time": "2023-02-15T19:18:45.310Z"
   },
   {
    "duration": 400,
    "start_time": "2023-02-15T19:52:02.393Z"
   },
   {
    "duration": 470,
    "start_time": "2023-02-15T19:53:19.670Z"
   },
   {
    "duration": 413,
    "start_time": "2023-02-15T19:54:21.003Z"
   },
   {
    "duration": 447,
    "start_time": "2023-02-15T19:54:34.691Z"
   },
   {
    "duration": 389,
    "start_time": "2023-02-15T19:54:59.886Z"
   },
   {
    "duration": 363,
    "start_time": "2023-02-15T19:55:19.225Z"
   },
   {
    "duration": 418,
    "start_time": "2023-02-15T19:56:28.505Z"
   },
   {
    "duration": 206,
    "start_time": "2023-02-15T20:08:00.954Z"
   },
   {
    "duration": 184,
    "start_time": "2023-02-15T20:08:44.896Z"
   },
   {
    "duration": 12,
    "start_time": "2023-02-15T20:20:46.323Z"
   },
   {
    "duration": 327,
    "start_time": "2023-02-15T20:22:06.822Z"
   },
   {
    "duration": 336,
    "start_time": "2023-02-15T20:27:08.438Z"
   },
   {
    "duration": 336,
    "start_time": "2023-02-15T20:27:16.730Z"
   },
   {
    "duration": 849,
    "start_time": "2023-02-16T14:42:14.006Z"
   },
   {
    "duration": 11,
    "start_time": "2023-02-16T14:42:14.857Z"
   },
   {
    "duration": 12,
    "start_time": "2023-02-16T14:42:14.870Z"
   },
   {
    "duration": 3,
    "start_time": "2023-02-16T14:42:14.886Z"
   },
   {
    "duration": 15,
    "start_time": "2023-02-16T14:42:14.891Z"
   },
   {
    "duration": 14,
    "start_time": "2023-02-16T14:42:14.908Z"
   },
   {
    "duration": 99,
    "start_time": "2023-02-16T14:42:14.937Z"
   },
   {
    "duration": 8,
    "start_time": "2023-02-16T14:42:15.037Z"
   },
   {
    "duration": 15,
    "start_time": "2023-02-16T14:42:15.047Z"
   },
   {
    "duration": 12,
    "start_time": "2023-02-16T14:42:15.066Z"
   },
   {
    "duration": 21,
    "start_time": "2023-02-16T14:42:15.080Z"
   },
   {
    "duration": 18,
    "start_time": "2023-02-16T14:42:15.103Z"
   },
   {
    "duration": 15,
    "start_time": "2023-02-16T14:42:15.123Z"
   },
   {
    "duration": 10,
    "start_time": "2023-02-16T14:42:15.140Z"
   },
   {
    "duration": 10,
    "start_time": "2023-02-16T14:42:15.152Z"
   },
   {
    "duration": 164,
    "start_time": "2023-02-16T14:42:15.163Z"
   },
   {
    "duration": 124,
    "start_time": "2023-02-16T14:42:15.328Z"
   },
   {
    "duration": 104,
    "start_time": "2023-02-16T14:42:15.453Z"
   },
   {
    "duration": 64,
    "start_time": "2023-02-16T14:42:15.560Z"
   },
   {
    "duration": 9,
    "start_time": "2023-02-16T14:42:15.626Z"
   },
   {
    "duration": 12,
    "start_time": "2023-02-16T14:42:15.637Z"
   },
   {
    "duration": 8,
    "start_time": "2023-02-16T14:42:15.651Z"
   },
   {
    "duration": 13,
    "start_time": "2023-02-16T14:42:15.661Z"
   },
   {
    "duration": 138,
    "start_time": "2023-02-16T14:42:15.675Z"
   },
   {
    "duration": 649,
    "start_time": "2023-02-16T14:42:15.815Z"
   },
   {
    "duration": 205,
    "start_time": "2023-02-16T14:42:16.465Z"
   },
   {
    "duration": 332,
    "start_time": "2023-02-16T14:42:16.671Z"
   },
   {
    "duration": 264,
    "start_time": "2023-02-16T14:49:16.223Z"
   },
   {
    "duration": 312,
    "start_time": "2023-02-16T14:50:48.329Z"
   },
   {
    "duration": 210,
    "start_time": "2023-02-16T14:51:29.306Z"
   },
   {
    "duration": 217,
    "start_time": "2023-02-16T14:52:36.105Z"
   },
   {
    "duration": 216,
    "start_time": "2023-02-16T14:52:58.314Z"
   },
   {
    "duration": 217,
    "start_time": "2023-02-16T14:56:08.487Z"
   },
   {
    "duration": 282,
    "start_time": "2023-02-16T15:05:12.148Z"
   },
   {
    "duration": 186,
    "start_time": "2023-02-16T15:08:06.486Z"
   },
   {
    "duration": 195,
    "start_time": "2023-02-16T15:08:42.812Z"
   },
   {
    "duration": 195,
    "start_time": "2023-02-16T15:08:48.696Z"
   },
   {
    "duration": 198,
    "start_time": "2023-02-16T15:08:56.763Z"
   },
   {
    "duration": 183,
    "start_time": "2023-02-16T15:09:02.197Z"
   },
   {
    "duration": 213,
    "start_time": "2023-02-16T15:09:11.950Z"
   },
   {
    "duration": 229,
    "start_time": "2023-02-16T15:10:56.159Z"
   },
   {
    "duration": 189,
    "start_time": "2023-02-16T15:11:02.301Z"
   },
   {
    "duration": 213,
    "start_time": "2023-02-16T15:20:31.395Z"
   },
   {
    "duration": 236,
    "start_time": "2023-02-16T15:23:10.216Z"
   },
   {
    "duration": 288,
    "start_time": "2023-02-16T15:23:31.770Z"
   },
   {
    "duration": 235,
    "start_time": "2023-02-16T15:23:56.548Z"
   },
   {
    "duration": 201,
    "start_time": "2023-02-16T15:24:27.894Z"
   },
   {
    "duration": 281,
    "start_time": "2023-02-16T15:30:35.594Z"
   },
   {
    "duration": 19,
    "start_time": "2023-02-16T15:31:19.459Z"
   },
   {
    "duration": 735,
    "start_time": "2023-02-16T15:32:38.180Z"
   },
   {
    "duration": 14,
    "start_time": "2023-02-16T15:32:38.917Z"
   },
   {
    "duration": 20,
    "start_time": "2023-02-16T15:32:38.933Z"
   },
   {
    "duration": 25,
    "start_time": "2023-02-16T15:32:38.956Z"
   },
   {
    "duration": 14,
    "start_time": "2023-02-16T15:32:38.984Z"
   },
   {
    "duration": 12,
    "start_time": "2023-02-16T15:32:38.999Z"
   },
   {
    "duration": 62,
    "start_time": "2023-02-16T15:32:39.012Z"
   },
   {
    "duration": 9,
    "start_time": "2023-02-16T15:32:39.076Z"
   },
   {
    "duration": 15,
    "start_time": "2023-02-16T15:32:39.087Z"
   },
   {
    "duration": 5,
    "start_time": "2023-02-16T15:32:39.105Z"
   },
   {
    "duration": 13,
    "start_time": "2023-02-16T15:32:39.112Z"
   },
   {
    "duration": 24,
    "start_time": "2023-02-16T15:32:39.127Z"
   },
   {
    "duration": 34,
    "start_time": "2023-02-16T15:32:39.152Z"
   },
   {
    "duration": 11,
    "start_time": "2023-02-16T15:32:39.188Z"
   },
   {
    "duration": 11,
    "start_time": "2023-02-16T15:32:39.200Z"
   },
   {
    "duration": 159,
    "start_time": "2023-02-16T15:32:39.213Z"
   },
   {
    "duration": 123,
    "start_time": "2023-02-16T15:32:39.377Z"
   },
   {
    "duration": 118,
    "start_time": "2023-02-16T15:32:39.502Z"
   },
   {
    "duration": 22,
    "start_time": "2023-02-16T15:32:39.622Z"
   },
   {
    "duration": 33,
    "start_time": "2023-02-16T15:32:39.647Z"
   },
   {
    "duration": 16,
    "start_time": "2023-02-16T15:32:39.681Z"
   },
   {
    "duration": 9,
    "start_time": "2023-02-16T15:32:39.698Z"
   },
   {
    "duration": 16,
    "start_time": "2023-02-16T15:32:39.709Z"
   },
   {
    "duration": 148,
    "start_time": "2023-02-16T15:32:39.727Z"
   },
   {
    "duration": 636,
    "start_time": "2023-02-16T15:32:39.876Z"
   },
   {
    "duration": 269,
    "start_time": "2023-02-16T15:32:40.513Z"
   },
   {
    "duration": 312,
    "start_time": "2023-02-16T15:32:40.784Z"
   },
   {
    "duration": 234,
    "start_time": "2023-02-16T15:32:41.099Z"
   },
   {
    "duration": 89,
    "start_time": "2023-02-16T15:32:41.335Z"
   },
   {
    "duration": 11,
    "start_time": "2023-02-16T15:33:08.995Z"
   },
   {
    "duration": 367,
    "start_time": "2023-02-16T15:34:07.867Z"
   },
   {
    "duration": 384,
    "start_time": "2023-02-16T15:34:44.800Z"
   },
   {
    "duration": 317,
    "start_time": "2023-02-16T15:36:10.870Z"
   },
   {
    "duration": 331,
    "start_time": "2023-02-16T15:36:37.203Z"
   },
   {
    "duration": 311,
    "start_time": "2023-02-16T15:36:52.818Z"
   },
   {
    "duration": 282,
    "start_time": "2023-02-16T15:37:54.774Z"
   },
   {
    "duration": 372,
    "start_time": "2023-02-16T15:38:09.485Z"
   },
   {
    "duration": 1790,
    "start_time": "2023-02-16T15:46:08.567Z"
   },
   {
    "duration": 146,
    "start_time": "2023-02-16T15:47:05.748Z"
   },
   {
    "duration": 127,
    "start_time": "2023-02-16T15:51:19.729Z"
   },
   {
    "duration": 8,
    "start_time": "2023-02-16T15:57:35.463Z"
   },
   {
    "duration": 11,
    "start_time": "2023-02-16T15:57:42.634Z"
   },
   {
    "duration": 105,
    "start_time": "2023-02-16T16:04:31.406Z"
   },
   {
    "duration": 129,
    "start_time": "2023-02-16T16:04:38.387Z"
   },
   {
    "duration": 98,
    "start_time": "2023-02-16T16:05:18.378Z"
   },
   {
    "duration": 105,
    "start_time": "2023-02-16T16:05:31.384Z"
   },
   {
    "duration": 112,
    "start_time": "2023-02-16T16:05:40.508Z"
   },
   {
    "duration": 143,
    "start_time": "2023-02-16T16:07:00.979Z"
   },
   {
    "duration": 144,
    "start_time": "2023-02-16T16:07:37.491Z"
   },
   {
    "duration": 174,
    "start_time": "2023-02-16T16:08:55.375Z"
   },
   {
    "duration": 282,
    "start_time": "2023-02-16T16:09:09.184Z"
   },
   {
    "duration": 4,
    "start_time": "2023-02-16T16:17:01.582Z"
   },
   {
    "duration": 736,
    "start_time": "2023-02-16T19:03:51.201Z"
   },
   {
    "duration": 25,
    "start_time": "2023-02-16T19:03:51.941Z"
   },
   {
    "duration": 33,
    "start_time": "2023-02-16T19:03:51.971Z"
   },
   {
    "duration": 3,
    "start_time": "2023-02-16T19:03:52.007Z"
   },
   {
    "duration": 17,
    "start_time": "2023-02-16T19:03:52.012Z"
   },
   {
    "duration": 48,
    "start_time": "2023-02-16T19:03:52.030Z"
   },
   {
    "duration": 55,
    "start_time": "2023-02-16T19:03:52.080Z"
   },
   {
    "duration": 25,
    "start_time": "2023-02-16T19:03:52.137Z"
   },
   {
    "duration": 33,
    "start_time": "2023-02-16T19:03:52.178Z"
   },
   {
    "duration": 4,
    "start_time": "2023-02-16T19:03:52.213Z"
   },
   {
    "duration": 25,
    "start_time": "2023-02-16T19:03:52.218Z"
   },
   {
    "duration": 54,
    "start_time": "2023-02-16T19:03:52.251Z"
   },
   {
    "duration": 10,
    "start_time": "2023-02-16T19:03:52.308Z"
   },
   {
    "duration": 21,
    "start_time": "2023-02-16T19:03:52.320Z"
   },
   {
    "duration": 54,
    "start_time": "2023-02-16T19:03:52.344Z"
   },
   {
    "duration": 204,
    "start_time": "2023-02-16T19:03:52.400Z"
   },
   {
    "duration": 106,
    "start_time": "2023-02-16T19:03:52.608Z"
   },
   {
    "duration": 148,
    "start_time": "2023-02-16T19:03:52.716Z"
   },
   {
    "duration": 32,
    "start_time": "2023-02-16T19:03:52.871Z"
   },
   {
    "duration": 15,
    "start_time": "2023-02-16T19:03:52.904Z"
   },
   {
    "duration": 25,
    "start_time": "2023-02-16T19:03:52.921Z"
   },
   {
    "duration": 62,
    "start_time": "2023-02-16T19:03:52.948Z"
   },
   {
    "duration": 21,
    "start_time": "2023-02-16T19:03:53.012Z"
   },
   {
    "duration": 240,
    "start_time": "2023-02-16T19:03:53.045Z"
   },
   {
    "duration": 661,
    "start_time": "2023-02-16T19:03:53.286Z"
   },
   {
    "duration": 240,
    "start_time": "2023-02-16T19:03:53.955Z"
   },
   {
    "duration": 301,
    "start_time": "2023-02-16T19:03:54.197Z"
   },
   {
    "duration": 245,
    "start_time": "2023-02-16T19:03:54.502Z"
   },
   {
    "duration": 359,
    "start_time": "2023-02-16T19:03:54.751Z"
   },
   {
    "duration": 143,
    "start_time": "2023-02-16T19:03:55.116Z"
   },
   {
    "duration": 9,
    "start_time": "2023-02-16T19:03:55.260Z"
   },
   {
    "duration": 181,
    "start_time": "2023-02-16T19:03:55.271Z"
   },
   {
    "duration": 3,
    "start_time": "2023-02-16T19:03:55.454Z"
   },
   {
    "duration": 10,
    "start_time": "2023-02-16T19:04:33.379Z"
   },
   {
    "duration": 5,
    "start_time": "2023-02-16T19:09:52.187Z"
   },
   {
    "duration": 5,
    "start_time": "2023-02-16T19:10:21.622Z"
   },
   {
    "duration": 12,
    "start_time": "2023-02-16T19:10:26.457Z"
   },
   {
    "duration": 5,
    "start_time": "2023-02-16T19:11:00.621Z"
   },
   {
    "duration": 13,
    "start_time": "2023-02-16T20:05:51.811Z"
   },
   {
    "duration": 14,
    "start_time": "2023-02-16T20:16:45.483Z"
   },
   {
    "duration": 80,
    "start_time": "2023-02-16T20:18:32.011Z"
   },
   {
    "duration": 109,
    "start_time": "2023-02-16T20:18:46.687Z"
   },
   {
    "duration": 19,
    "start_time": "2023-02-16T20:26:37.375Z"
   },
   {
    "duration": 86,
    "start_time": "2023-02-16T20:29:24.216Z"
   },
   {
    "duration": 172,
    "start_time": "2023-02-16T20:29:35.228Z"
   },
   {
    "duration": 7,
    "start_time": "2023-02-16T20:31:10.478Z"
   },
   {
    "duration": 5,
    "start_time": "2023-02-16T20:31:20.819Z"
   },
   {
    "duration": 154,
    "start_time": "2023-02-16T20:32:41.385Z"
   },
   {
    "duration": 20,
    "start_time": "2023-02-16T20:33:20.821Z"
   },
   {
    "duration": 10,
    "start_time": "2023-02-16T20:33:34.610Z"
   },
   {
    "duration": 167,
    "start_time": "2023-02-16T20:33:45.110Z"
   },
   {
    "duration": 11,
    "start_time": "2023-02-16T20:34:03.535Z"
   },
   {
    "duration": 13,
    "start_time": "2023-02-16T20:34:12.572Z"
   },
   {
    "duration": 238,
    "start_time": "2023-02-16T20:39:31.085Z"
   },
   {
    "duration": 8,
    "start_time": "2023-02-16T20:39:51.687Z"
   },
   {
    "duration": 18,
    "start_time": "2023-02-16T20:40:48.640Z"
   },
   {
    "duration": 177,
    "start_time": "2023-02-16T20:41:07.191Z"
   },
   {
    "duration": 181,
    "start_time": "2023-02-16T20:42:04.686Z"
   },
   {
    "duration": 11,
    "start_time": "2023-02-16T20:42:26.400Z"
   },
   {
    "duration": 13,
    "start_time": "2023-02-16T20:42:33.736Z"
   },
   {
    "duration": 17,
    "start_time": "2023-02-16T20:44:09.725Z"
   },
   {
    "duration": 11,
    "start_time": "2023-02-16T20:44:43.901Z"
   },
   {
    "duration": 7,
    "start_time": "2023-02-16T20:44:49.628Z"
   },
   {
    "duration": 35,
    "start_time": "2023-02-16T20:47:44.735Z"
   },
   {
    "duration": 7,
    "start_time": "2023-02-16T20:48:11.899Z"
   },
   {
    "duration": 13,
    "start_time": "2023-02-16T20:48:17.286Z"
   },
   {
    "duration": 167,
    "start_time": "2023-02-16T20:48:21.075Z"
   },
   {
    "duration": 9,
    "start_time": "2023-02-16T20:48:23.275Z"
   },
   {
    "duration": 13,
    "start_time": "2023-02-16T20:48:59.518Z"
   },
   {
    "duration": 158,
    "start_time": "2023-02-16T20:49:17.389Z"
   },
   {
    "duration": 233,
    "start_time": "2023-02-16T20:49:40.218Z"
   },
   {
    "duration": 15,
    "start_time": "2023-02-16T20:49:43.975Z"
   },
   {
    "duration": 12,
    "start_time": "2023-02-16T20:52:19.589Z"
   },
   {
    "duration": 605,
    "start_time": "2023-02-16T20:52:57.985Z"
   },
   {
    "duration": 23,
    "start_time": "2023-02-16T20:53:08.487Z"
   },
   {
    "duration": 190,
    "start_time": "2023-02-16T20:53:41.803Z"
   },
   {
    "duration": 214,
    "start_time": "2023-02-16T20:54:10.984Z"
   },
   {
    "duration": 180,
    "start_time": "2023-02-16T21:11:00.266Z"
   },
   {
    "duration": 121,
    "start_time": "2023-02-16T21:11:17.367Z"
   },
   {
    "duration": 176,
    "start_time": "2023-02-16T21:11:39.201Z"
   },
   {
    "duration": 154,
    "start_time": "2023-02-16T21:12:43.163Z"
   },
   {
    "duration": 172,
    "start_time": "2023-02-16T21:13:16.281Z"
   },
   {
    "duration": 1416,
    "start_time": "2023-02-17T10:49:05.739Z"
   },
   {
    "duration": 13,
    "start_time": "2023-02-17T10:49:07.157Z"
   },
   {
    "duration": 14,
    "start_time": "2023-02-17T10:49:07.172Z"
   },
   {
    "duration": 27,
    "start_time": "2023-02-17T10:49:07.188Z"
   },
   {
    "duration": 28,
    "start_time": "2023-02-17T10:49:07.216Z"
   },
   {
    "duration": 19,
    "start_time": "2023-02-17T10:49:07.245Z"
   },
   {
    "duration": 108,
    "start_time": "2023-02-17T10:49:07.266Z"
   },
   {
    "duration": 9,
    "start_time": "2023-02-17T10:49:07.376Z"
   },
   {
    "duration": 30,
    "start_time": "2023-02-17T10:49:07.387Z"
   },
   {
    "duration": 8,
    "start_time": "2023-02-17T10:49:07.420Z"
   },
   {
    "duration": 27,
    "start_time": "2023-02-17T10:49:07.430Z"
   },
   {
    "duration": 56,
    "start_time": "2023-02-17T10:49:07.459Z"
   },
   {
    "duration": 32,
    "start_time": "2023-02-17T10:49:07.517Z"
   },
   {
    "duration": 31,
    "start_time": "2023-02-17T10:49:07.550Z"
   },
   {
    "duration": 38,
    "start_time": "2023-02-17T10:49:07.582Z"
   },
   {
    "duration": 158,
    "start_time": "2023-02-17T10:49:07.621Z"
   },
   {
    "duration": 89,
    "start_time": "2023-02-17T10:49:07.781Z"
   },
   {
    "duration": 110,
    "start_time": "2023-02-17T10:49:07.872Z"
   },
   {
    "duration": 76,
    "start_time": "2023-02-17T10:49:07.984Z"
   },
   {
    "duration": 8,
    "start_time": "2023-02-17T10:49:08.061Z"
   },
   {
    "duration": 42,
    "start_time": "2023-02-17T10:49:08.070Z"
   },
   {
    "duration": 21,
    "start_time": "2023-02-17T10:49:08.113Z"
   },
   {
    "duration": 29,
    "start_time": "2023-02-17T10:49:08.136Z"
   },
   {
    "duration": 136,
    "start_time": "2023-02-17T10:49:08.167Z"
   },
   {
    "duration": 538,
    "start_time": "2023-02-17T10:49:08.305Z"
   },
   {
    "duration": 189,
    "start_time": "2023-02-17T10:49:08.844Z"
   },
   {
    "duration": 367,
    "start_time": "2023-02-17T10:49:09.035Z"
   },
   {
    "duration": 212,
    "start_time": "2023-02-17T10:49:09.406Z"
   },
   {
    "duration": 365,
    "start_time": "2023-02-17T10:49:09.620Z"
   },
   {
    "duration": 134,
    "start_time": "2023-02-17T10:49:09.990Z"
   },
   {
    "duration": 3,
    "start_time": "2023-02-17T10:49:10.126Z"
   },
   {
    "duration": 147,
    "start_time": "2023-02-17T10:49:10.131Z"
   },
   {
    "duration": 4,
    "start_time": "2023-02-17T10:49:10.280Z"
   },
   {
    "duration": 228,
    "start_time": "2023-02-17T10:49:10.285Z"
   },
   {
    "duration": 161,
    "start_time": "2023-02-17T10:49:10.515Z"
   },
   {
    "duration": 127,
    "start_time": "2023-02-17T10:49:10.678Z"
   },
   {
    "duration": 0,
    "start_time": "2023-02-17T10:49:10.807Z"
   },
   {
    "duration": 32,
    "start_time": "2023-02-17T10:50:07.916Z"
   },
   {
    "duration": 152,
    "start_time": "2023-02-17T10:50:22.733Z"
   },
   {
    "duration": 170,
    "start_time": "2023-02-17T10:58:02.884Z"
   },
   {
    "duration": 17,
    "start_time": "2023-02-17T10:58:47.188Z"
   },
   {
    "duration": 11,
    "start_time": "2023-02-17T11:00:07.122Z"
   },
   {
    "duration": 4,
    "start_time": "2023-02-17T11:15:29.486Z"
   },
   {
    "duration": 4,
    "start_time": "2023-02-17T11:15:57.599Z"
   },
   {
    "duration": 78,
    "start_time": "2023-02-17T11:23:22.745Z"
   },
   {
    "duration": 68,
    "start_time": "2023-02-17T11:23:34.284Z"
   },
   {
    "duration": 89,
    "start_time": "2023-02-17T11:23:43.555Z"
   },
   {
    "duration": 97,
    "start_time": "2023-02-17T11:24:38.412Z"
   },
   {
    "duration": 83,
    "start_time": "2023-02-17T11:26:00.468Z"
   },
   {
    "duration": 117,
    "start_time": "2023-02-17T11:26:37.105Z"
   },
   {
    "duration": 16,
    "start_time": "2023-02-17T11:28:57.561Z"
   },
   {
    "duration": 13,
    "start_time": "2023-02-17T11:29:19.943Z"
   },
   {
    "duration": 13,
    "start_time": "2023-02-17T11:29:35.005Z"
   },
   {
    "duration": 84,
    "start_time": "2023-02-17T11:31:23.623Z"
   },
   {
    "duration": 10,
    "start_time": "2023-02-17T11:31:34.297Z"
   },
   {
    "duration": 10,
    "start_time": "2023-02-17T11:37:25.047Z"
   },
   {
    "duration": 32,
    "start_time": "2023-02-17T11:41:20.473Z"
   },
   {
    "duration": 15,
    "start_time": "2023-02-17T11:54:35.661Z"
   },
   {
    "duration": 1159,
    "start_time": "2023-02-17T13:58:08.712Z"
   },
   {
    "duration": 12,
    "start_time": "2023-02-17T13:58:09.872Z"
   },
   {
    "duration": 11,
    "start_time": "2023-02-17T13:58:09.886Z"
   },
   {
    "duration": 5,
    "start_time": "2023-02-17T13:58:09.899Z"
   },
   {
    "duration": 16,
    "start_time": "2023-02-17T13:58:09.906Z"
   },
   {
    "duration": 12,
    "start_time": "2023-02-17T13:58:09.924Z"
   },
   {
    "duration": 32,
    "start_time": "2023-02-17T13:58:09.953Z"
   },
   {
    "duration": 9,
    "start_time": "2023-02-17T13:58:09.986Z"
   },
   {
    "duration": 13,
    "start_time": "2023-02-17T13:58:09.996Z"
   },
   {
    "duration": 8,
    "start_time": "2023-02-17T13:58:10.012Z"
   },
   {
    "duration": 15,
    "start_time": "2023-02-17T13:58:10.021Z"
   },
   {
    "duration": 19,
    "start_time": "2023-02-17T13:58:10.038Z"
   },
   {
    "duration": 11,
    "start_time": "2023-02-17T13:58:10.058Z"
   },
   {
    "duration": 8,
    "start_time": "2023-02-17T13:58:10.071Z"
   },
   {
    "duration": 8,
    "start_time": "2023-02-17T13:58:10.081Z"
   },
   {
    "duration": 146,
    "start_time": "2023-02-17T13:58:10.091Z"
   },
   {
    "duration": 95,
    "start_time": "2023-02-17T13:58:10.239Z"
   },
   {
    "duration": 124,
    "start_time": "2023-02-17T13:58:10.336Z"
   },
   {
    "duration": 14,
    "start_time": "2023-02-17T13:58:10.462Z"
   },
   {
    "duration": 8,
    "start_time": "2023-02-17T13:58:10.478Z"
   },
   {
    "duration": 16,
    "start_time": "2023-02-17T13:58:10.487Z"
   },
   {
    "duration": 8,
    "start_time": "2023-02-17T13:58:10.504Z"
   },
   {
    "duration": 13,
    "start_time": "2023-02-17T13:58:10.513Z"
   },
   {
    "duration": 149,
    "start_time": "2023-02-17T13:58:10.528Z"
   },
   {
    "duration": 573,
    "start_time": "2023-02-17T13:58:10.680Z"
   },
   {
    "duration": 211,
    "start_time": "2023-02-17T13:58:11.255Z"
   },
   {
    "duration": 339,
    "start_time": "2023-02-17T13:58:11.468Z"
   },
   {
    "duration": 245,
    "start_time": "2023-02-17T13:58:11.811Z"
   },
   {
    "duration": 427,
    "start_time": "2023-02-17T13:58:12.058Z"
   },
   {
    "duration": 156,
    "start_time": "2023-02-17T13:58:12.487Z"
   },
   {
    "duration": 9,
    "start_time": "2023-02-17T13:58:12.644Z"
   },
   {
    "duration": 220,
    "start_time": "2023-02-17T13:58:12.655Z"
   },
   {
    "duration": 5,
    "start_time": "2023-02-17T13:58:12.877Z"
   },
   {
    "duration": 196,
    "start_time": "2023-02-17T13:58:12.884Z"
   },
   {
    "duration": 13,
    "start_time": "2023-02-17T13:58:13.082Z"
   },
   {
    "duration": 9,
    "start_time": "2023-02-17T13:58:13.097Z"
   },
   {
    "duration": 11,
    "start_time": "2023-02-17T13:58:13.107Z"
   },
   {
    "duration": 53,
    "start_time": "2023-02-17T13:58:13.119Z"
   },
   {
    "duration": 15,
    "start_time": "2023-02-17T13:58:13.174Z"
   }
  ],
  "kernelspec": {
   "display_name": "Python 3 (ipykernel)",
   "language": "python",
   "name": "python3"
  },
  "language_info": {
   "codemirror_mode": {
    "name": "ipython",
    "version": 3
   },
   "file_extension": ".py",
   "mimetype": "text/x-python",
   "name": "python",
   "nbconvert_exporter": "python",
   "pygments_lexer": "ipython3",
   "version": "3.9.13"
  },
  "toc": {
   "base_numbering": 1,
   "nav_menu": {},
   "number_sections": true,
   "sideBar": true,
   "skip_h1_title": true,
   "title_cell": "Table of Contents",
   "title_sidebar": "Contents",
   "toc_cell": false,
   "toc_position": {},
   "toc_section_display": true,
   "toc_window_display": false
  }
 },
 "nbformat": 4,
 "nbformat_minor": 2
}
